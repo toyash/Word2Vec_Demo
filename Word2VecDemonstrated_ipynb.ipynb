{
  "nbformat": 4,
  "nbformat_minor": 0,
  "metadata": {
    "colab": {
      "name": "Word2VecDemonstrated.ipynb.ipynb",
      "provenance": [],
      "collapsed_sections": [],
      "authorship_tag": "ABX9TyMzoznUAnGY4wfjbyEe1O9V",
      "include_colab_link": true
    },
    "kernelspec": {
      "name": "python3",
      "display_name": "Python 3"
    },
    "accelerator": "GPU"
  },
  "cells": [
    {
      "cell_type": "markdown",
      "metadata": {
        "id": "view-in-github",
        "colab_type": "text"
      },
      "source": [
        "<a href=\"https://colab.research.google.com/github/toyash/Word2Vec_Demo/blob/master/Word2VecDemonstrated_ipynb.ipynb\" target=\"_parent\"><img src=\"https://colab.research.google.com/assets/colab-badge.svg\" alt=\"Open In Colab\"/></a>"
      ]
    },
    {
      "cell_type": "code",
      "metadata": {
        "id": "uCMm-1zByIQS",
        "colab_type": "code",
        "colab": {}
      },
      "source": [
        ""
      ],
      "execution_count": 0,
      "outputs": []
    },
    {
      "cell_type": "markdown",
      "metadata": {
        "id": "Dnp9TBn1yJ3n",
        "colab_type": "text"
      },
      "source": [
        "# Creating word vectors with **Word2Vec**\n",
        "\n",
        "We are creating word vectors"
      ]
    },
    {
      "cell_type": "markdown",
      "metadata": {
        "id": "4ZaRCDb7zJx2",
        "colab_type": "text"
      },
      "source": [
        "**Load Dependencies**"
      ]
    },
    {
      "cell_type": "code",
      "metadata": {
        "id": "QE3XJYPSySiv",
        "colab_type": "code",
        "colab": {}
      },
      "source": [
        "import nltk\n",
        "from nltk import word_tokenize, sent_tokenize\n",
        "import gensim\n",
        "from gensim.models.word2vec import Word2Vec\n",
        "from sklearn.manifold import TSNE\n",
        "import pandas as pd\n",
        "from bokeh.io import output_notebook\n",
        "from bokeh.plotting import show, figure\n",
        "%matplotlib inline"
      ],
      "execution_count": 0,
      "outputs": []
    },
    {
      "cell_type": "code",
      "metadata": {
        "id": "699UFyZ8yjPi",
        "colab_type": "code",
        "colab": {
          "base_uri": "https://localhost:8080/",
          "height": 69
        },
        "outputId": "b0c036f4-7293-4e0d-ba40-2d761ef2cc24"
      },
      "source": [
        "nltk.download('punkt')"
      ],
      "execution_count": 3,
      "outputs": [
        {
          "output_type": "stream",
          "text": [
            "[nltk_data] Downloading package punkt to /root/nltk_data...\n",
            "[nltk_data]   Unzipping tokenizers/punkt.zip.\n"
          ],
          "name": "stdout"
        },
        {
          "output_type": "execute_result",
          "data": {
            "text/plain": [
              "True"
            ]
          },
          "metadata": {
            "tags": []
          },
          "execution_count": 3
        }
      ]
    },
    {
      "cell_type": "code",
      "metadata": {
        "id": "IrHXTfZTzWQV",
        "colab_type": "code",
        "colab": {
          "base_uri": "https://localhost:8080/",
          "height": 69
        },
        "outputId": "88eb8ed2-92e6-4224-cf70-bdc13aa8aeca"
      },
      "source": [
        "nltk.download('gutenberg')"
      ],
      "execution_count": 4,
      "outputs": [
        {
          "output_type": "stream",
          "text": [
            "[nltk_data] Downloading package gutenberg to /root/nltk_data...\n",
            "[nltk_data]   Unzipping corpora/gutenberg.zip.\n"
          ],
          "name": "stdout"
        },
        {
          "output_type": "execute_result",
          "data": {
            "text/plain": [
              "True"
            ]
          },
          "metadata": {
            "tags": []
          },
          "execution_count": 4
        }
      ]
    },
    {
      "cell_type": "code",
      "metadata": {
        "id": "hhkptaIQzbfy",
        "colab_type": "code",
        "colab": {}
      },
      "source": [
        "from nltk.corpus import gutenberg"
      ],
      "execution_count": 0,
      "outputs": []
    },
    {
      "cell_type": "code",
      "metadata": {
        "id": "0gfIi01dzguT",
        "colab_type": "code",
        "colab": {
          "base_uri": "https://localhost:8080/",
          "height": 328
        },
        "outputId": "51af84c8-6296-420d-a30a-2838f61c2ab9"
      },
      "source": [
        "gutenberg.fileids()"
      ],
      "execution_count": 6,
      "outputs": [
        {
          "output_type": "execute_result",
          "data": {
            "text/plain": [
              "['austen-emma.txt',\n",
              " 'austen-persuasion.txt',\n",
              " 'austen-sense.txt',\n",
              " 'bible-kjv.txt',\n",
              " 'blake-poems.txt',\n",
              " 'bryant-stories.txt',\n",
              " 'burgess-busterbrown.txt',\n",
              " 'carroll-alice.txt',\n",
              " 'chesterton-ball.txt',\n",
              " 'chesterton-brown.txt',\n",
              " 'chesterton-thursday.txt',\n",
              " 'edgeworth-parents.txt',\n",
              " 'melville-moby_dick.txt',\n",
              " 'milton-paradise.txt',\n",
              " 'shakespeare-caesar.txt',\n",
              " 'shakespeare-hamlet.txt',\n",
              " 'shakespeare-macbeth.txt',\n",
              " 'whitman-leaves.txt']"
            ]
          },
          "metadata": {
            "tags": []
          },
          "execution_count": 6
        }
      ]
    },
    {
      "cell_type": "code",
      "metadata": {
        "id": "ar5WWvuPzi6j",
        "colab_type": "code",
        "colab": {
          "base_uri": "https://localhost:8080/",
          "height": 35
        },
        "outputId": "6c1a439b-6681-4c49-fe83-68defd90d4b3"
      },
      "source": [
        "len(gutenberg.fileids())"
      ],
      "execution_count": 7,
      "outputs": [
        {
          "output_type": "execute_result",
          "data": {
            "text/plain": [
              "18"
            ]
          },
          "metadata": {
            "tags": []
          },
          "execution_count": 7
        }
      ]
    },
    {
      "cell_type": "markdown",
      "metadata": {
        "id": "Dsm0dPbfzvtk",
        "colab_type": "text"
      },
      "source": [
        ""
      ]
    },
    {
      "cell_type": "markdown",
      "metadata": {
        "id": "1IJb63ux0BOa",
        "colab_type": "text"
      },
      "source": [
        "### Tokenize Text"
      ]
    },
    {
      "cell_type": "code",
      "metadata": {
        "id": "H8NNN9vD0DDw",
        "colab_type": "code",
        "colab": {}
      },
      "source": [
        "gberg_sent_tokens = sent_tokenize(gutenberg.raw())"
      ],
      "execution_count": 0,
      "outputs": []
    },
    {
      "cell_type": "code",
      "metadata": {
        "id": "4DCgRvX-0M_P",
        "colab_type": "code",
        "colab": {
          "base_uri": "https://localhost:8080/",
          "height": 124
        },
        "outputId": "2b7e3555-fe00-43f6-acbf-10a04efb63c8"
      },
      "source": [
        "gberg_sent_tokens[0:5]"
      ],
      "execution_count": 9,
      "outputs": [
        {
          "output_type": "execute_result",
          "data": {
            "text/plain": [
              "['[Emma by Jane Austen 1816]\\n\\nVOLUME I\\n\\nCHAPTER I\\n\\n\\nEmma Woodhouse, handsome, clever, and rich, with a comfortable home\\nand happy disposition, seemed to unite some of the best blessings\\nof existence; and had lived nearly twenty-one years in the world\\nwith very little to distress or vex her.',\n",
              " \"She was the youngest of the two daughters of a most affectionate,\\nindulgent father; and had, in consequence of her sister's marriage,\\nbeen mistress of his house from a very early period.\",\n",
              " 'Her mother\\nhad died too long ago for her to have more than an indistinct\\nremembrance of her caresses; and her place had been supplied\\nby an excellent woman as governess, who had fallen little short\\nof a mother in affection.',\n",
              " \"Sixteen years had Miss Taylor been in Mr. Woodhouse's family,\\nless as a governess than a friend, very fond of both daughters,\\nbut particularly of Emma.\",\n",
              " 'Between _them_ it was more the intimacy\\nof sisters.']"
            ]
          },
          "metadata": {
            "tags": []
          },
          "execution_count": 9
        }
      ]
    },
    {
      "cell_type": "code",
      "metadata": {
        "id": "JASr32Xf0R7u",
        "colab_type": "code",
        "colab": {
          "base_uri": "https://localhost:8080/",
          "height": 55
        },
        "outputId": "2a76516a-85c2-4773-abf4-7e1055bfb5c4"
      },
      "source": [
        "gberg_sent_tokens[1]"
      ],
      "execution_count": 10,
      "outputs": [
        {
          "output_type": "execute_result",
          "data": {
            "text/plain": [
              "\"She was the youngest of the two daughters of a most affectionate,\\nindulgent father; and had, in consequence of her sister's marriage,\\nbeen mistress of his house from a very early period.\""
            ]
          },
          "metadata": {
            "tags": []
          },
          "execution_count": 10
        }
      ]
    },
    {
      "cell_type": "code",
      "metadata": {
        "id": "78i31xMs0crX",
        "colab_type": "code",
        "colab": {
          "base_uri": "https://localhost:8080/",
          "height": 674
        },
        "outputId": "70b6d33f-aa94-4342-fd73-0d565f14a5aa"
      },
      "source": [
        "word_tokenize(gberg_sent_tokens[1])"
      ],
      "execution_count": 11,
      "outputs": [
        {
          "output_type": "execute_result",
          "data": {
            "text/plain": [
              "['She',\n",
              " 'was',\n",
              " 'the',\n",
              " 'youngest',\n",
              " 'of',\n",
              " 'the',\n",
              " 'two',\n",
              " 'daughters',\n",
              " 'of',\n",
              " 'a',\n",
              " 'most',\n",
              " 'affectionate',\n",
              " ',',\n",
              " 'indulgent',\n",
              " 'father',\n",
              " ';',\n",
              " 'and',\n",
              " 'had',\n",
              " ',',\n",
              " 'in',\n",
              " 'consequence',\n",
              " 'of',\n",
              " 'her',\n",
              " 'sister',\n",
              " \"'s\",\n",
              " 'marriage',\n",
              " ',',\n",
              " 'been',\n",
              " 'mistress',\n",
              " 'of',\n",
              " 'his',\n",
              " 'house',\n",
              " 'from',\n",
              " 'a',\n",
              " 'very',\n",
              " 'early',\n",
              " 'period',\n",
              " '.']"
            ]
          },
          "metadata": {
            "tags": []
          },
          "execution_count": 11
        }
      ]
    },
    {
      "cell_type": "code",
      "metadata": {
        "id": "fkMyUvWO0i1t",
        "colab_type": "code",
        "colab": {
          "base_uri": "https://localhost:8080/",
          "height": 35
        },
        "outputId": "9c85a89f-9c51-4f8b-957a-fd7bdb4b1411"
      },
      "source": [
        "word_tokenize(gberg_sent_tokens[1])[14]"
      ],
      "execution_count": 12,
      "outputs": [
        {
          "output_type": "execute_result",
          "data": {
            "text/plain": [
              "'father'"
            ]
          },
          "metadata": {
            "tags": []
          },
          "execution_count": 12
        }
      ]
    },
    {
      "cell_type": "code",
      "metadata": {
        "id": "Vedao2np0qjU",
        "colab_type": "code",
        "colab": {}
      },
      "source": [
        "gberg_sents = gutenberg.sents()"
      ],
      "execution_count": 0,
      "outputs": []
    },
    {
      "cell_type": "code",
      "metadata": {
        "id": "w2Wi2IMr0_tZ",
        "colab_type": "code",
        "colab": {
          "base_uri": "https://localhost:8080/",
          "height": 1000
        },
        "outputId": "a9f4cbab-7894-4ab7-f4a2-de6772cddd21"
      },
      "source": [
        "gberg_sents[0:5]"
      ],
      "execution_count": 14,
      "outputs": [
        {
          "output_type": "execute_result",
          "data": {
            "text/plain": [
              "[['[', 'Emma', 'by', 'Jane', 'Austen', '1816', ']'],\n",
              " ['VOLUME', 'I'],\n",
              " ['CHAPTER', 'I'],\n",
              " ['Emma',\n",
              "  'Woodhouse',\n",
              "  ',',\n",
              "  'handsome',\n",
              "  ',',\n",
              "  'clever',\n",
              "  ',',\n",
              "  'and',\n",
              "  'rich',\n",
              "  ',',\n",
              "  'with',\n",
              "  'a',\n",
              "  'comfortable',\n",
              "  'home',\n",
              "  'and',\n",
              "  'happy',\n",
              "  'disposition',\n",
              "  ',',\n",
              "  'seemed',\n",
              "  'to',\n",
              "  'unite',\n",
              "  'some',\n",
              "  'of',\n",
              "  'the',\n",
              "  'best',\n",
              "  'blessings',\n",
              "  'of',\n",
              "  'existence',\n",
              "  ';',\n",
              "  'and',\n",
              "  'had',\n",
              "  'lived',\n",
              "  'nearly',\n",
              "  'twenty',\n",
              "  '-',\n",
              "  'one',\n",
              "  'years',\n",
              "  'in',\n",
              "  'the',\n",
              "  'world',\n",
              "  'with',\n",
              "  'very',\n",
              "  'little',\n",
              "  'to',\n",
              "  'distress',\n",
              "  'or',\n",
              "  'vex',\n",
              "  'her',\n",
              "  '.'],\n",
              " ['She',\n",
              "  'was',\n",
              "  'the',\n",
              "  'youngest',\n",
              "  'of',\n",
              "  'the',\n",
              "  'two',\n",
              "  'daughters',\n",
              "  'of',\n",
              "  'a',\n",
              "  'most',\n",
              "  'affectionate',\n",
              "  ',',\n",
              "  'indulgent',\n",
              "  'father',\n",
              "  ';',\n",
              "  'and',\n",
              "  'had',\n",
              "  ',',\n",
              "  'in',\n",
              "  'consequence',\n",
              "  'of',\n",
              "  'her',\n",
              "  'sister',\n",
              "  \"'\",\n",
              "  's',\n",
              "  'marriage',\n",
              "  ',',\n",
              "  'been',\n",
              "  'mistress',\n",
              "  'of',\n",
              "  'his',\n",
              "  'house',\n",
              "  'from',\n",
              "  'a',\n",
              "  'very',\n",
              "  'early',\n",
              "  'period',\n",
              "  '.']]"
            ]
          },
          "metadata": {
            "tags": []
          },
          "execution_count": 14
        }
      ]
    },
    {
      "cell_type": "code",
      "metadata": {
        "id": "BQTzP_Vq1DKJ",
        "colab_type": "code",
        "colab": {
          "base_uri": "https://localhost:8080/",
          "height": 691
        },
        "outputId": "27e322b5-02d8-4df9-d7f2-ab143e4bd67d"
      },
      "source": [
        "gberg_sents[4]"
      ],
      "execution_count": 15,
      "outputs": [
        {
          "output_type": "execute_result",
          "data": {
            "text/plain": [
              "['She',\n",
              " 'was',\n",
              " 'the',\n",
              " 'youngest',\n",
              " 'of',\n",
              " 'the',\n",
              " 'two',\n",
              " 'daughters',\n",
              " 'of',\n",
              " 'a',\n",
              " 'most',\n",
              " 'affectionate',\n",
              " ',',\n",
              " 'indulgent',\n",
              " 'father',\n",
              " ';',\n",
              " 'and',\n",
              " 'had',\n",
              " ',',\n",
              " 'in',\n",
              " 'consequence',\n",
              " 'of',\n",
              " 'her',\n",
              " 'sister',\n",
              " \"'\",\n",
              " 's',\n",
              " 'marriage',\n",
              " ',',\n",
              " 'been',\n",
              " 'mistress',\n",
              " 'of',\n",
              " 'his',\n",
              " 'house',\n",
              " 'from',\n",
              " 'a',\n",
              " 'very',\n",
              " 'early',\n",
              " 'period',\n",
              " '.']"
            ]
          },
          "metadata": {
            "tags": []
          },
          "execution_count": 15
        }
      ]
    },
    {
      "cell_type": "code",
      "metadata": {
        "id": "VK80h6EE1T3f",
        "colab_type": "code",
        "colab": {
          "base_uri": "https://localhost:8080/",
          "height": 35
        },
        "outputId": "d6bc4b7f-3211-4438-d484-6588558269ca"
      },
      "source": [
        "gutenberg.words()"
      ],
      "execution_count": 16,
      "outputs": [
        {
          "output_type": "execute_result",
          "data": {
            "text/plain": [
              "['[', 'Emma', 'by', 'Jane', 'Austen', '1816', ']', ...]"
            ]
          },
          "metadata": {
            "tags": []
          },
          "execution_count": 16
        }
      ]
    },
    {
      "cell_type": "code",
      "metadata": {
        "id": "jEQ5l0D11fZO",
        "colab_type": "code",
        "colab": {
          "base_uri": "https://localhost:8080/",
          "height": 35
        },
        "outputId": "fa89d2c7-37a2-446b-9400-7ce4e4d72bab"
      },
      "source": [
        "len(gutenberg.words())"
      ],
      "execution_count": 17,
      "outputs": [
        {
          "output_type": "execute_result",
          "data": {
            "text/plain": [
              "2621613"
            ]
          },
          "metadata": {
            "tags": []
          },
          "execution_count": 17
        }
      ]
    },
    {
      "cell_type": "code",
      "metadata": {
        "id": "ltdheOKe1maM",
        "colab_type": "code",
        "colab": {}
      },
      "source": [
        "model = Word2Vec(sentences = gberg_sents, size=64, sg=1, window = 10, min_count=5, seed=42, workers=8)"
      ],
      "execution_count": 0,
      "outputs": []
    },
    {
      "cell_type": "code",
      "metadata": {
        "id": "3cUW6h-K2M_Q",
        "colab_type": "code",
        "colab": {
          "base_uri": "https://localhost:8080/",
          "height": 72
        },
        "outputId": "3cd672b5-9e6e-4a4f-ac42-b38175175c4a"
      },
      "source": [
        "model.save(\"raw_gutenberg_model.w2v\")"
      ],
      "execution_count": 19,
      "outputs": [
        {
          "output_type": "stream",
          "text": [
            "/usr/local/lib/python3.6/dist-packages/smart_open/smart_open_lib.py:402: UserWarning: This function is deprecated, use smart_open.open instead. See the migration notes for details: https://github.com/RaRe-Technologies/smart_open/blob/master/README.rst#migrating-to-the-new-open-function\n",
            "  'See the migration notes for details: %s' % _MIGRATION_NOTES_URL\n"
          ],
          "name": "stderr"
        }
      ]
    },
    {
      "cell_type": "markdown",
      "metadata": {
        "id": "sG5KpxfY2pZU",
        "colab_type": "text"
      },
      "source": [
        "## Explore model"
      ]
    },
    {
      "cell_type": "code",
      "metadata": {
        "id": "9bRIg6982rQt",
        "colab_type": "code",
        "colab": {
          "base_uri": "https://localhost:8080/",
          "height": 72
        },
        "outputId": "de4170fb-c05f-46db-e38d-24abd43de57b"
      },
      "source": [
        "model = gensim.models.Word2Vec.load(\"raw_gutenberg_model.w2v\")"
      ],
      "execution_count": 20,
      "outputs": [
        {
          "output_type": "stream",
          "text": [
            "/usr/local/lib/python3.6/dist-packages/smart_open/smart_open_lib.py:402: UserWarning: This function is deprecated, use smart_open.open instead. See the migration notes for details: https://github.com/RaRe-Technologies/smart_open/blob/master/README.rst#migrating-to-the-new-open-function\n",
            "  'See the migration notes for details: %s' % _MIGRATION_NOTES_URL\n"
          ],
          "name": "stderr"
        }
      ]
    },
    {
      "cell_type": "code",
      "metadata": {
        "id": "RMUAHvwK22zG",
        "colab_type": "code",
        "colab": {
          "base_uri": "https://localhost:8080/",
          "height": 296
        },
        "outputId": "379a73a3-71fe-434d-c272-b8efbfe9aa83"
      },
      "source": [
        "model['dog']"
      ],
      "execution_count": 21,
      "outputs": [
        {
          "output_type": "stream",
          "text": [
            "/usr/local/lib/python3.6/dist-packages/ipykernel_launcher.py:1: DeprecationWarning: Call to deprecated `__getitem__` (Method will be removed in 4.0.0, use self.wv.__getitem__() instead).\n",
            "  \"\"\"Entry point for launching an IPython kernel.\n"
          ],
          "name": "stderr"
        },
        {
          "output_type": "execute_result",
          "data": {
            "text/plain": [
              "array([-0.29642972, -0.07936059, -0.1287618 ,  0.21172729, -0.19232777,\n",
              "       -0.18497287,  0.2275823 , -0.2926514 ,  0.5269483 , -0.43820634,\n",
              "       -0.03761466, -0.49549043,  0.31846973, -0.18216667,  0.17878388,\n",
              "       -0.22103451,  0.38121003,  0.26378047,  0.14982732, -0.2780911 ,\n",
              "        0.21388912,  0.01967121,  0.30030048,  0.48910722, -0.20159012,\n",
              "        0.23091213, -0.13946883, -0.19260414,  0.1785338 ,  0.50791794,\n",
              "        0.23347566,  0.48286647, -0.21142827, -0.6997253 ,  0.10607659,\n",
              "        0.06323872, -0.34133247,  0.70448124, -0.0989847 ,  0.20916772,\n",
              "        0.10235769,  0.08658602, -0.11270791,  0.2961648 , -0.3935607 ,\n",
              "       -0.04554257, -0.05740123,  0.12175927,  0.18874593,  0.11106529,\n",
              "       -0.20587072, -0.21976155,  0.23609792, -0.2886361 ,  0.07448921,\n",
              "       -0.35358086, -0.19093193, -0.13343664, -0.29690862, -0.68790627,\n",
              "       -0.16218519,  0.23055716, -0.09225639, -0.40457293], dtype=float32)"
            ]
          },
          "metadata": {
            "tags": []
          },
          "execution_count": 21
        }
      ]
    },
    {
      "cell_type": "code",
      "metadata": {
        "id": "NQmb7NcN26Vl",
        "colab_type": "code",
        "colab": {
          "base_uri": "https://localhost:8080/",
          "height": 89
        },
        "outputId": "62a77332-7c36-42df-ee1a-80c33d90a2bd"
      },
      "source": [
        "len(model['dog'])"
      ],
      "execution_count": 22,
      "outputs": [
        {
          "output_type": "stream",
          "text": [
            "/usr/local/lib/python3.6/dist-packages/ipykernel_launcher.py:1: DeprecationWarning: Call to deprecated `__getitem__` (Method will be removed in 4.0.0, use self.wv.__getitem__() instead).\n",
            "  \"\"\"Entry point for launching an IPython kernel.\n"
          ],
          "name": "stderr"
        },
        {
          "output_type": "execute_result",
          "data": {
            "text/plain": [
              "64"
            ]
          },
          "metadata": {
            "tags": []
          },
          "execution_count": 22
        }
      ]
    },
    {
      "cell_type": "code",
      "metadata": {
        "id": "g_9fctKL2_PU",
        "colab_type": "code",
        "colab": {
          "base_uri": "https://localhost:8080/",
          "height": 279
        },
        "outputId": "23b5d8a8-89e1-4043-91fd-67fdcf2272bb"
      },
      "source": [
        "model.most_similar('dog')"
      ],
      "execution_count": 23,
      "outputs": [
        {
          "output_type": "stream",
          "text": [
            "/usr/local/lib/python3.6/dist-packages/ipykernel_launcher.py:1: DeprecationWarning: Call to deprecated `most_similar` (Method will be removed in 4.0.0, use self.wv.most_similar() instead).\n",
            "  \"\"\"Entry point for launching an IPython kernel.\n",
            "/usr/local/lib/python3.6/dist-packages/gensim/matutils.py:737: FutureWarning: Conversion of the second argument of issubdtype from `int` to `np.signedinteger` is deprecated. In future, it will be treated as `np.int64 == np.dtype(int).type`.\n",
            "  if np.issubdtype(vec.dtype, np.int):\n"
          ],
          "name": "stderr"
        },
        {
          "output_type": "execute_result",
          "data": {
            "text/plain": [
              "[('puppy', 0.826796293258667),\n",
              " ('cage', 0.7722885012626648),\n",
              " ('sweeper', 0.7707191705703735),\n",
              " ('thief', 0.760360836982727),\n",
              " ('pig', 0.7537423968315125),\n",
              " ('pet', 0.7484516501426697),\n",
              " ('cow', 0.7423561215400696),\n",
              " ('broth', 0.7382271885871887),\n",
              " ('shell', 0.7377527952194214),\n",
              " ('string', 0.7375942468643188)]"
            ]
          },
          "metadata": {
            "tags": []
          },
          "execution_count": 23
        }
      ]
    },
    {
      "cell_type": "code",
      "metadata": {
        "id": "V6BUCMjf3DT8",
        "colab_type": "code",
        "colab": {
          "base_uri": "https://localhost:8080/",
          "height": 279
        },
        "outputId": "217b1bd6-d89f-4694-963d-8a7ddd2e1285"
      },
      "source": [
        "model.most_similar('Paris')"
      ],
      "execution_count": 25,
      "outputs": [
        {
          "output_type": "stream",
          "text": [
            "/usr/local/lib/python3.6/dist-packages/ipykernel_launcher.py:1: DeprecationWarning: Call to deprecated `most_similar` (Method will be removed in 4.0.0, use self.wv.most_similar() instead).\n",
            "  \"\"\"Entry point for launching an IPython kernel.\n",
            "/usr/local/lib/python3.6/dist-packages/gensim/matutils.py:737: FutureWarning: Conversion of the second argument of issubdtype from `int` to `np.signedinteger` is deprecated. In future, it will be treated as `np.int64 == np.dtype(int).type`.\n",
            "  if np.issubdtype(vec.dtype, np.int):\n"
          ],
          "name": "stderr"
        },
        {
          "output_type": "execute_result",
          "data": {
            "text/plain": [
              "[('France', 0.8147110342979431),\n",
              " ('station', 0.8071305751800537),\n",
              " ('Downs', 0.7893259525299072),\n",
              " ('Margate', 0.7890139222145081),\n",
              " ('Anarchist', 0.7859553098678589),\n",
              " ('lunatic', 0.7801159620285034),\n",
              " ('statement', 0.779580295085907),\n",
              " ('Malvoli', 0.7786455154418945),\n",
              " ('asylum', 0.7779222726821899),\n",
              " ('thinkers', 0.7748328447341919)]"
            ]
          },
          "metadata": {
            "tags": []
          },
          "execution_count": 25
        }
      ]
    },
    {
      "cell_type": "code",
      "metadata": {
        "id": "g7iZrL503ISr",
        "colab_type": "code",
        "colab": {
          "base_uri": "https://localhost:8080/",
          "height": 279
        },
        "outputId": "41b1848f-029a-4d4f-aa01-9d6daab4da87"
      },
      "source": [
        "model.most_similar('think')"
      ],
      "execution_count": 26,
      "outputs": [
        {
          "output_type": "stream",
          "text": [
            "/usr/local/lib/python3.6/dist-packages/ipykernel_launcher.py:1: DeprecationWarning: Call to deprecated `most_similar` (Method will be removed in 4.0.0, use self.wv.most_similar() instead).\n",
            "  \"\"\"Entry point for launching an IPython kernel.\n",
            "/usr/local/lib/python3.6/dist-packages/gensim/matutils.py:737: FutureWarning: Conversion of the second argument of issubdtype from `int` to `np.signedinteger` is deprecated. In future, it will be treated as `np.int64 == np.dtype(int).type`.\n",
            "  if np.issubdtype(vec.dtype, np.int):\n"
          ],
          "name": "stderr"
        },
        {
          "output_type": "execute_result",
          "data": {
            "text/plain": [
              "[('suppose', 0.8737061023712158),\n",
              " ('manage', 0.843187689781189),\n",
              " ('contradict', 0.8381267786026001),\n",
              " ('know', 0.8288850784301758),\n",
              " ('downright', 0.8215805888175964),\n",
              " ('NOW', 0.8190113306045532),\n",
              " ('_you_', 0.8173509836196899),\n",
              " ('pretend', 0.8130552172660828),\n",
              " ('Mamma', 0.8053466081619263),\n",
              " ('_that_', 0.8015843629837036)]"
            ]
          },
          "metadata": {
            "tags": []
          },
          "execution_count": 26
        }
      ]
    },
    {
      "cell_type": "code",
      "metadata": {
        "id": "yY9quSaf3Rec",
        "colab_type": "code",
        "colab": {
          "base_uri": "https://localhost:8080/",
          "height": 279
        },
        "outputId": "a8623708-599b-4c20-e314-c07d7a16d66b"
      },
      "source": [
        "model.most_similar('father')"
      ],
      "execution_count": 27,
      "outputs": [
        {
          "output_type": "stream",
          "text": [
            "/usr/local/lib/python3.6/dist-packages/ipykernel_launcher.py:1: DeprecationWarning: Call to deprecated `most_similar` (Method will be removed in 4.0.0, use self.wv.most_similar() instead).\n",
            "  \"\"\"Entry point for launching an IPython kernel.\n",
            "/usr/local/lib/python3.6/dist-packages/gensim/matutils.py:737: FutureWarning: Conversion of the second argument of issubdtype from `int` to `np.signedinteger` is deprecated. In future, it will be treated as `np.int64 == np.dtype(int).type`.\n",
            "  if np.issubdtype(vec.dtype, np.int):\n"
          ],
          "name": "stderr"
        },
        {
          "output_type": "execute_result",
          "data": {
            "text/plain": [
              "[('mother', 0.8676742315292358),\n",
              " ('brother', 0.8409769535064697),\n",
              " ('sister', 0.8111708164215088),\n",
              " ('Amnon', 0.7764604091644287),\n",
              " ('daughter', 0.7763310670852661),\n",
              " ('wife', 0.759376049041748),\n",
              " ('uncle', 0.7412054538726807),\n",
              " ('servant', 0.7398891448974609),\n",
              " ('master', 0.7370883226394653),\n",
              " ('bondwoman', 0.7329305410385132)]"
            ]
          },
          "metadata": {
            "tags": []
          },
          "execution_count": 27
        }
      ]
    },
    {
      "cell_type": "code",
      "metadata": {
        "id": "l2Cb-gt23VBB",
        "colab_type": "code",
        "colab": {
          "base_uri": "https://localhost:8080/",
          "height": 158
        },
        "outputId": "f143bbef-6d36-47f6-afff-abedbd8df19d"
      },
      "source": [
        "model.doesnt_match(\"mother father brother lion daughter cat\".split())"
      ],
      "execution_count": 29,
      "outputs": [
        {
          "output_type": "stream",
          "text": [
            "/usr/local/lib/python3.6/dist-packages/ipykernel_launcher.py:1: DeprecationWarning: Call to deprecated `doesnt_match` (Method will be removed in 4.0.0, use self.wv.doesnt_match() instead).\n",
            "  \"\"\"Entry point for launching an IPython kernel.\n",
            "/usr/local/lib/python3.6/dist-packages/gensim/models/keyedvectors.py:895: FutureWarning: arrays to stack must be passed as a \"sequence\" type such as list or tuple. Support for non-sequence iterables such as generators is deprecated as of NumPy 1.16 and will raise an error in the future.\n",
            "  vectors = vstack(self.word_vec(word, use_norm=True) for word in used_words).astype(REAL)\n",
            "/usr/local/lib/python3.6/dist-packages/gensim/matutils.py:737: FutureWarning: Conversion of the second argument of issubdtype from `int` to `np.signedinteger` is deprecated. In future, it will be treated as `np.int64 == np.dtype(int).type`.\n",
            "  if np.issubdtype(vec.dtype, np.int):\n"
          ],
          "name": "stderr"
        },
        {
          "output_type": "execute_result",
          "data": {
            "text/plain": [
              "'cat'"
            ]
          },
          "metadata": {
            "tags": []
          },
          "execution_count": 29
        }
      ]
    },
    {
      "cell_type": "code",
      "metadata": {
        "id": "GU8AU79s3f9g",
        "colab_type": "code",
        "colab": {
          "base_uri": "https://localhost:8080/",
          "height": 279
        },
        "outputId": "180abab9-a8b4-4129-f4b9-159e06139b77"
      },
      "source": [
        "model.most_similar(positive=['father','woman'], negative=['man'])"
      ],
      "execution_count": 31,
      "outputs": [
        {
          "output_type": "stream",
          "text": [
            "/usr/local/lib/python3.6/dist-packages/ipykernel_launcher.py:1: DeprecationWarning: Call to deprecated `most_similar` (Method will be removed in 4.0.0, use self.wv.most_similar() instead).\n",
            "  \"\"\"Entry point for launching an IPython kernel.\n",
            "/usr/local/lib/python3.6/dist-packages/gensim/matutils.py:737: FutureWarning: Conversion of the second argument of issubdtype from `int` to `np.signedinteger` is deprecated. In future, it will be treated as `np.int64 == np.dtype(int).type`.\n",
            "  if np.issubdtype(vec.dtype, np.int):\n"
          ],
          "name": "stderr"
        },
        {
          "output_type": "execute_result",
          "data": {
            "text/plain": [
              "[('sister', 0.7933083772659302),\n",
              " ('mother', 0.7742550373077393),\n",
              " ('daughter', 0.7623262405395508),\n",
              " ('wife', 0.7448264956474304),\n",
              " ('husband', 0.7316716909408569),\n",
              " ('Sarah', 0.7174670696258545),\n",
              " ('brother', 0.7151768803596497),\n",
              " ('Sarai', 0.71296226978302),\n",
              " ('daughters', 0.7027421593666077),\n",
              " ('youngest', 0.6962735652923584)]"
            ]
          },
          "metadata": {
            "tags": []
          },
          "execution_count": 31
        }
      ]
    },
    {
      "cell_type": "code",
      "metadata": {
        "id": "yrCEdp7032wu",
        "colab_type": "code",
        "colab": {
          "base_uri": "https://localhost:8080/",
          "height": 279
        },
        "outputId": "733bb0e1-3f23-4ae8-afbd-848b7b49e234"
      },
      "source": [
        "model.most_similar(positive=['son','woman'], negative=['man'])"
      ],
      "execution_count": 32,
      "outputs": [
        {
          "output_type": "stream",
          "text": [
            "/usr/local/lib/python3.6/dist-packages/ipykernel_launcher.py:1: DeprecationWarning: Call to deprecated `most_similar` (Method will be removed in 4.0.0, use self.wv.most_similar() instead).\n",
            "  \"\"\"Entry point for launching an IPython kernel.\n",
            "/usr/local/lib/python3.6/dist-packages/gensim/matutils.py:737: FutureWarning: Conversion of the second argument of issubdtype from `int` to `np.signedinteger` is deprecated. In future, it will be treated as `np.int64 == np.dtype(int).type`.\n",
            "  if np.issubdtype(vec.dtype, np.int):\n"
          ],
          "name": "stderr"
        },
        {
          "output_type": "execute_result",
          "data": {
            "text/plain": [
              "[('Sarai', 0.7384370565414429),\n",
              " ('Leah', 0.7364017963409424),\n",
              " ('Sarah', 0.7270215749740601),\n",
              " ('Bethuel', 0.7246225476264954),\n",
              " ('conceived', 0.7183775305747986),\n",
              " ('Hagar', 0.7176195383071899),\n",
              " ('daughter', 0.7124007940292358),\n",
              " ('Abram', 0.7023553848266602),\n",
              " ('Rachel', 0.701185941696167),\n",
              " ('Nahor', 0.7002677321434021)]"
            ]
          },
          "metadata": {
            "tags": []
          },
          "execution_count": 32
        }
      ]
    },
    {
      "cell_type": "code",
      "metadata": {
        "id": "3w48iVhO4Exl",
        "colab_type": "code",
        "colab": {
          "base_uri": "https://localhost:8080/",
          "height": 279
        },
        "outputId": "ba5bdfc2-0e78-4157-af78-e62c2dcda8d6"
      },
      "source": [
        "model.most_similar(positive=['husband','woman'], negative=['man'])"
      ],
      "execution_count": 33,
      "outputs": [
        {
          "output_type": "stream",
          "text": [
            "/usr/local/lib/python3.6/dist-packages/ipykernel_launcher.py:1: DeprecationWarning: Call to deprecated `most_similar` (Method will be removed in 4.0.0, use self.wv.most_similar() instead).\n",
            "  \"\"\"Entry point for launching an IPython kernel.\n",
            "/usr/local/lib/python3.6/dist-packages/gensim/matutils.py:737: FutureWarning: Conversion of the second argument of issubdtype from `int` to `np.signedinteger` is deprecated. In future, it will be treated as `np.int64 == np.dtype(int).type`.\n",
            "  if np.issubdtype(vec.dtype, np.int):\n"
          ],
          "name": "stderr"
        },
        {
          "output_type": "execute_result",
          "data": {
            "text/plain": [
              "[('wife', 0.7267780303955078),\n",
              " ('sister', 0.7105981111526489),\n",
              " ('conceived', 0.6915595531463623),\n",
              " ('mother', 0.6650253534317017),\n",
              " ('daughter', 0.6625202894210815),\n",
              " ('child', 0.645909309387207),\n",
              " ('widow', 0.6417427659034729),\n",
              " ('nurse', 0.6325699090957642),\n",
              " ('maid', 0.6325352787971497),\n",
              " ('daughters', 0.6164043545722961)]"
            ]
          },
          "metadata": {
            "tags": []
          },
          "execution_count": 33
        }
      ]
    },
    {
      "cell_type": "code",
      "metadata": {
        "id": "7FyaEfhn4Go9",
        "colab_type": "code",
        "colab": {
          "base_uri": "https://localhost:8080/",
          "height": 625
        },
        "outputId": "5987a027-f116-42f9-a825-643117302f61"
      },
      "source": [
        "model.most_similar(positive=['king','woman'], negative=['man'], topn=30)"
      ],
      "execution_count": 35,
      "outputs": [
        {
          "output_type": "stream",
          "text": [
            "/usr/local/lib/python3.6/dist-packages/ipykernel_launcher.py:1: DeprecationWarning: Call to deprecated `most_similar` (Method will be removed in 4.0.0, use self.wv.most_similar() instead).\n",
            "  \"\"\"Entry point for launching an IPython kernel.\n",
            "/usr/local/lib/python3.6/dist-packages/gensim/matutils.py:737: FutureWarning: Conversion of the second argument of issubdtype from `int` to `np.signedinteger` is deprecated. In future, it will be treated as `np.int64 == np.dtype(int).type`.\n",
            "  if np.issubdtype(vec.dtype, np.int):\n"
          ],
          "name": "stderr"
        },
        {
          "output_type": "execute_result",
          "data": {
            "text/plain": [
              "[('Rachel', 0.7353808879852295),\n",
              " ('Sarah', 0.7352821826934814),\n",
              " ('Laban', 0.7002245187759399),\n",
              " ('Sarai', 0.6984153389930725),\n",
              " ('Pharaoh', 0.6911200284957886),\n",
              " ('Bethuel', 0.6875131130218506),\n",
              " ('Solomon', 0.6872724294662476),\n",
              " ('Leah', 0.6844809055328369),\n",
              " ('Abram', 0.6770251393318176),\n",
              " ('Judah', 0.6732800602912903),\n",
              " ('Hagar', 0.6727722883224487),\n",
              " ('princes', 0.670455813407898),\n",
              " ('Padanaram', 0.6636796593666077),\n",
              " ('daughter', 0.6624693870544434),\n",
              " ('Rebekah', 0.6564892530441284),\n",
              " ('birthright', 0.6555999517440796),\n",
              " ('Ephron', 0.6551341414451599),\n",
              " ('queen', 0.6546604037284851),\n",
              " ('Bilhah', 0.6537714600563049),\n",
              " ('Shechem', 0.6525983810424805),\n",
              " ('Esau', 0.6517279148101807),\n",
              " ('Hamor', 0.6498576402664185),\n",
              " ('Abimelech', 0.6432329416275024),\n",
              " ('David', 0.642397403717041),\n",
              " ('Uriah', 0.6397308707237244),\n",
              " ('tribute', 0.6388210654258728),\n",
              " ('Onan', 0.6377532482147217),\n",
              " ('Heth', 0.6345499753952026),\n",
              " ('Zilpah', 0.6329516172409058),\n",
              " ('Hittite', 0.632408618927002)]"
            ]
          },
          "metadata": {
            "tags": []
          },
          "execution_count": 35
        }
      ]
    },
    {
      "cell_type": "code",
      "metadata": {
        "id": "42qh39lo4PMU",
        "colab_type": "code",
        "colab": {}
      },
      "source": [
        ""
      ],
      "execution_count": 0,
      "outputs": []
    },
    {
      "cell_type": "markdown",
      "metadata": {
        "id": "d3CMiR8O4pb5",
        "colab_type": "text"
      },
      "source": [
        "#### Reduce word vector dimensionality with t-SNE"
      ]
    },
    {
      "cell_type": "code",
      "metadata": {
        "id": "0KXMWHCL4rkQ",
        "colab_type": "code",
        "colab": {
          "base_uri": "https://localhost:8080/",
          "height": 35
        },
        "outputId": "b8f1839e-76ec-4476-d84b-723af5c5e6b8"
      },
      "source": [
        "len(model.wv.vocab)"
      ],
      "execution_count": 37,
      "outputs": [
        {
          "output_type": "execute_result",
          "data": {
            "text/plain": [
              "17011"
            ]
          },
          "metadata": {
            "tags": []
          },
          "execution_count": 37
        }
      ]
    },
    {
      "cell_type": "code",
      "metadata": {
        "id": "ldRAM2Bp44XQ",
        "colab_type": "code",
        "colab": {
          "base_uri": "https://localhost:8080/",
          "height": 72
        },
        "outputId": "7575f1b4-edf7-4725-df57-ef93ad913bfb"
      },
      "source": [
        "X = model[model.wv.vocab]"
      ],
      "execution_count": 39,
      "outputs": [
        {
          "output_type": "stream",
          "text": [
            "/usr/local/lib/python3.6/dist-packages/ipykernel_launcher.py:1: DeprecationWarning: Call to deprecated `__getitem__` (Method will be removed in 4.0.0, use self.wv.__getitem__() instead).\n",
            "  \"\"\"Entry point for launching an IPython kernel.\n"
          ],
          "name": "stderr"
        }
      ]
    },
    {
      "cell_type": "code",
      "metadata": {
        "id": "LsG8urrF4-sn",
        "colab_type": "code",
        "colab": {
          "base_uri": "https://localhost:8080/",
          "height": 242
        },
        "outputId": "519f52bf-112f-4d7a-bc09-0b4bb1c9e855"
      },
      "source": [
        "X"
      ],
      "execution_count": 40,
      "outputs": [
        {
          "output_type": "execute_result",
          "data": {
            "text/plain": [
              "array([[-0.40651512, -0.39976594,  0.03789219, ...,  0.49722236,\n",
              "        -0.43545255,  0.54765373],\n",
              "       [ 0.6002105 ,  0.3990143 , -0.5873531 , ...,  0.52680564,\n",
              "        -0.38564783, -0.1924245 ],\n",
              "       [-0.30730286,  0.01173665,  0.17167199, ...,  0.5054364 ,\n",
              "         0.16251543,  0.04343181],\n",
              "       ...,\n",
              "       [-0.03407511,  0.04648143, -0.16798066, ...,  0.19012408,\n",
              "        -0.04413865, -0.11634219],\n",
              "       [-0.18029097, -0.1206729 , -0.23818523, ...,  0.09178869,\n",
              "         0.06132615,  0.00526786],\n",
              "       [-0.19755861, -0.09179241, -0.02985656, ...,  0.20987262,\n",
              "        -0.1305693 ,  0.05264789]], dtype=float32)"
            ]
          },
          "metadata": {
            "tags": []
          },
          "execution_count": 40
        }
      ]
    },
    {
      "cell_type": "code",
      "metadata": {
        "id": "_5i2Sejs5ELP",
        "colab_type": "code",
        "colab": {
          "base_uri": "https://localhost:8080/",
          "height": 1000
        },
        "outputId": "d5520e53-72d2-473b-d2e7-7c048bdba5be"
      },
      "source": [
        "model.wv.vocab"
      ],
      "execution_count": 41,
      "outputs": [
        {
          "output_type": "execute_result",
          "data": {
            "text/plain": [
              "{'[': <gensim.models.keyedvectors.Vocab at 0x7f1bb005f8d0>,\n",
              " 'Emma': <gensim.models.keyedvectors.Vocab at 0x7f1bb006d748>,\n",
              " 'by': <gensim.models.keyedvectors.Vocab at 0x7f1bb006d860>,\n",
              " 'Jane': <gensim.models.keyedvectors.Vocab at 0x7f1bb006d780>,\n",
              " ']': <gensim.models.keyedvectors.Vocab at 0x7f1bb006d7f0>,\n",
              " 'I': <gensim.models.keyedvectors.Vocab at 0x7f1bb006d7b8>,\n",
              " 'CHAPTER': <gensim.models.keyedvectors.Vocab at 0x7f1bb006d6a0>,\n",
              " 'Woodhouse': <gensim.models.keyedvectors.Vocab at 0x7f1bb006d978>,\n",
              " ',': <gensim.models.keyedvectors.Vocab at 0x7f1bb006db38>,\n",
              " 'handsome': <gensim.models.keyedvectors.Vocab at 0x7f1bb006d9b0>,\n",
              " 'clever': <gensim.models.keyedvectors.Vocab at 0x7f1bb006d8d0>,\n",
              " 'and': <gensim.models.keyedvectors.Vocab at 0x7f1bb006d898>,\n",
              " 'rich': <gensim.models.keyedvectors.Vocab at 0x7f1bb006da90>,\n",
              " 'with': <gensim.models.keyedvectors.Vocab at 0x7f1bb006da58>,\n",
              " 'a': <gensim.models.keyedvectors.Vocab at 0x7f1bb006db70>,\n",
              " 'comfortable': <gensim.models.keyedvectors.Vocab at 0x7f1bb006d9e8>,\n",
              " 'home': <gensim.models.keyedvectors.Vocab at 0x7f1bb006dc50>,\n",
              " 'happy': <gensim.models.keyedvectors.Vocab at 0x7f1bb006dcc0>,\n",
              " 'disposition': <gensim.models.keyedvectors.Vocab at 0x7f1bb006dcf8>,\n",
              " 'seemed': <gensim.models.keyedvectors.Vocab at 0x7f1bb006dd68>,\n",
              " 'to': <gensim.models.keyedvectors.Vocab at 0x7f1bb006dbe0>,\n",
              " 'unite': <gensim.models.keyedvectors.Vocab at 0x7f1bb006dda0>,\n",
              " 'some': <gensim.models.keyedvectors.Vocab at 0x7f1bb006de10>,\n",
              " 'of': <gensim.models.keyedvectors.Vocab at 0x7f1bb006df98>,\n",
              " 'the': <gensim.models.keyedvectors.Vocab at 0x7f1bb006dac8>,\n",
              " 'best': <gensim.models.keyedvectors.Vocab at 0x7f1bb006dfd0>,\n",
              " 'blessings': <gensim.models.keyedvectors.Vocab at 0x7f1bb006de80>,\n",
              " 'existence': <gensim.models.keyedvectors.Vocab at 0x7f1bb006df28>,\n",
              " ';': <gensim.models.keyedvectors.Vocab at 0x7f1bb0a474a8>,\n",
              " 'had': <gensim.models.keyedvectors.Vocab at 0x7f1bb0a479b0>,\n",
              " 'lived': <gensim.models.keyedvectors.Vocab at 0x7f1bb0a47cf8>,\n",
              " 'nearly': <gensim.models.keyedvectors.Vocab at 0x7f1bb0a47b00>,\n",
              " 'twenty': <gensim.models.keyedvectors.Vocab at 0x7f1bb0a47ef0>,\n",
              " '-': <gensim.models.keyedvectors.Vocab at 0x7f1bb0a47cc0>,\n",
              " 'one': <gensim.models.keyedvectors.Vocab at 0x7f1bb0a47e80>,\n",
              " 'years': <gensim.models.keyedvectors.Vocab at 0x7f1bb0a47f28>,\n",
              " 'in': <gensim.models.keyedvectors.Vocab at 0x7f1bb0a47668>,\n",
              " 'world': <gensim.models.keyedvectors.Vocab at 0x7f1bb0a475f8>,\n",
              " 'very': <gensim.models.keyedvectors.Vocab at 0x7f1bb0a47400>,\n",
              " 'little': <gensim.models.keyedvectors.Vocab at 0x7f1bb0a47550>,\n",
              " 'distress': <gensim.models.keyedvectors.Vocab at 0x7f1bb0a470b8>,\n",
              " 'or': <gensim.models.keyedvectors.Vocab at 0x7f1bb0a47940>,\n",
              " 'vex': <gensim.models.keyedvectors.Vocab at 0x7f1bb0a479e8>,\n",
              " 'her': <gensim.models.keyedvectors.Vocab at 0x7f1bb0a47ba8>,\n",
              " '.': <gensim.models.keyedvectors.Vocab at 0x7f1bb0a471d0>,\n",
              " 'She': <gensim.models.keyedvectors.Vocab at 0x7f1bb0a47ac8>,\n",
              " 'was': <gensim.models.keyedvectors.Vocab at 0x7f1bb0a47630>,\n",
              " 'youngest': <gensim.models.keyedvectors.Vocab at 0x7f1bb0a47b38>,\n",
              " 'two': <gensim.models.keyedvectors.Vocab at 0x7f1bb01ec940>,\n",
              " 'daughters': <gensim.models.keyedvectors.Vocab at 0x7f1bb01ec0b8>,\n",
              " 'most': <gensim.models.keyedvectors.Vocab at 0x7f1bb01ec6a0>,\n",
              " 'affectionate': <gensim.models.keyedvectors.Vocab at 0x7f1bb01ec780>,\n",
              " 'indulgent': <gensim.models.keyedvectors.Vocab at 0x7f1bb01ecac8>,\n",
              " 'father': <gensim.models.keyedvectors.Vocab at 0x7f1bb01ec2b0>,\n",
              " 'consequence': <gensim.models.keyedvectors.Vocab at 0x7f1bb01ec898>,\n",
              " 'sister': <gensim.models.keyedvectors.Vocab at 0x7f1bb01ec978>,\n",
              " \"'\": <gensim.models.keyedvectors.Vocab at 0x7f1bb01eca90>,\n",
              " 's': <gensim.models.keyedvectors.Vocab at 0x7f1bb01ec048>,\n",
              " 'marriage': <gensim.models.keyedvectors.Vocab at 0x7f1bb01ec8d0>,\n",
              " 'been': <gensim.models.keyedvectors.Vocab at 0x7f1bb01ec860>,\n",
              " 'mistress': <gensim.models.keyedvectors.Vocab at 0x7f1bb01ec4a8>,\n",
              " 'his': <gensim.models.keyedvectors.Vocab at 0x7f1bb01ecd30>,\n",
              " 'house': <gensim.models.keyedvectors.Vocab at 0x7f1bb01ec160>,\n",
              " 'from': <gensim.models.keyedvectors.Vocab at 0x7f1bb01ec080>,\n",
              " 'early': <gensim.models.keyedvectors.Vocab at 0x7f1bb01ec5c0>,\n",
              " 'period': <gensim.models.keyedvectors.Vocab at 0x7f1bb01ec208>,\n",
              " 'Her': <gensim.models.keyedvectors.Vocab at 0x7f1bb01ecb38>,\n",
              " 'mother': <gensim.models.keyedvectors.Vocab at 0x7f1bb01ec358>,\n",
              " 'died': <gensim.models.keyedvectors.Vocab at 0x7f1bb01ec668>,\n",
              " 'too': <gensim.models.keyedvectors.Vocab at 0x7f1bb01ec390>,\n",
              " 'long': <gensim.models.keyedvectors.Vocab at 0x7f1bb01ecb70>,\n",
              " 'ago': <gensim.models.keyedvectors.Vocab at 0x7f1bb01ec278>,\n",
              " 'for': <gensim.models.keyedvectors.Vocab at 0x7f1bb01ec710>,\n",
              " 'have': <gensim.models.keyedvectors.Vocab at 0x7f1bb01ece48>,\n",
              " 'more': <gensim.models.keyedvectors.Vocab at 0x7f1bb01ec630>,\n",
              " 'than': <gensim.models.keyedvectors.Vocab at 0x7f1bb01ece80>,\n",
              " 'an': <gensim.models.keyedvectors.Vocab at 0x7f1bb0ae70b8>,\n",
              " 'remembrance': <gensim.models.keyedvectors.Vocab at 0x7f1bb0ae7898>,\n",
              " 'caresses': <gensim.models.keyedvectors.Vocab at 0x7f1bb0ae7550>,\n",
              " 'place': <gensim.models.keyedvectors.Vocab at 0x7f1bb0ae7278>,\n",
              " 'supplied': <gensim.models.keyedvectors.Vocab at 0x7f1bb0ae7cc0>,\n",
              " 'excellent': <gensim.models.keyedvectors.Vocab at 0x7f1bb0ae7f28>,\n",
              " 'woman': <gensim.models.keyedvectors.Vocab at 0x7f1bb0ae7ba8>,\n",
              " 'as': <gensim.models.keyedvectors.Vocab at 0x7f1bb0ae7d30>,\n",
              " 'governess': <gensim.models.keyedvectors.Vocab at 0x7f1bb0ae7860>,\n",
              " 'who': <gensim.models.keyedvectors.Vocab at 0x7f1bb0ae72e8>,\n",
              " 'fallen': <gensim.models.keyedvectors.Vocab at 0x7f1bb0ae74e0>,\n",
              " 'short': <gensim.models.keyedvectors.Vocab at 0x7f1bb0ae7dd8>,\n",
              " 'affection': <gensim.models.keyedvectors.Vocab at 0x7f1bb0ae7be0>,\n",
              " 'Sixteen': <gensim.models.keyedvectors.Vocab at 0x7f1bb0ae7c88>,\n",
              " 'Miss': <gensim.models.keyedvectors.Vocab at 0x7f1bb0ae7e10>,\n",
              " 'Taylor': <gensim.models.keyedvectors.Vocab at 0x7f1bb02dd780>,\n",
              " 'Mr': <gensim.models.keyedvectors.Vocab at 0x7f1bb02dddd8>,\n",
              " 'family': <gensim.models.keyedvectors.Vocab at 0x7f1bb02dd240>,\n",
              " 'less': <gensim.models.keyedvectors.Vocab at 0x7f1bb02dd550>,\n",
              " 'friend': <gensim.models.keyedvectors.Vocab at 0x7f1bb02dda58>,\n",
              " 'fond': <gensim.models.keyedvectors.Vocab at 0x7f1bb02dde80>,\n",
              " 'both': <gensim.models.keyedvectors.Vocab at 0x7f1bb02dd668>,\n",
              " 'but': <gensim.models.keyedvectors.Vocab at 0x7f1bb02dda90>,\n",
              " 'particularly': <gensim.models.keyedvectors.Vocab at 0x7f1bb02ddcf8>,\n",
              " 'Between': <gensim.models.keyedvectors.Vocab at 0x7f1bb02ddd68>,\n",
              " 'it': <gensim.models.keyedvectors.Vocab at 0x7f1bb02ddf28>,\n",
              " 'intimacy': <gensim.models.keyedvectors.Vocab at 0x7f1bb02dda20>,\n",
              " 'sisters': <gensim.models.keyedvectors.Vocab at 0x7f1bb0a429b0>,\n",
              " 'Even': <gensim.models.keyedvectors.Vocab at 0x7f1bb0a42358>,\n",
              " 'before': <gensim.models.keyedvectors.Vocab at 0x7f1bb0a42c88>,\n",
              " 'ceased': <gensim.models.keyedvectors.Vocab at 0x7f1bb0a42e80>,\n",
              " 'hold': <gensim.models.keyedvectors.Vocab at 0x7f1bb0a42f98>,\n",
              " 'office': <gensim.models.keyedvectors.Vocab at 0x7f1bb0a42ba8>,\n",
              " 'mildness': <gensim.models.keyedvectors.Vocab at 0x7f1bb0a42ac8>,\n",
              " 'temper': <gensim.models.keyedvectors.Vocab at 0x7f1bb0a42b38>,\n",
              " 'hardly': <gensim.models.keyedvectors.Vocab at 0x7f1bb0a42940>,\n",
              " 'allowed': <gensim.models.keyedvectors.Vocab at 0x7f1bb0a42e48>,\n",
              " 'impose': <gensim.models.keyedvectors.Vocab at 0x7f1bb0a426a0>,\n",
              " 'any': <gensim.models.keyedvectors.Vocab at 0x7f1bb0a42390>,\n",
              " 'restraint': <gensim.models.keyedvectors.Vocab at 0x7f1bb0a42cf8>,\n",
              " 'shadow': <gensim.models.keyedvectors.Vocab at 0x7f1bb0a424e0>,\n",
              " 'authority': <gensim.models.keyedvectors.Vocab at 0x7f1bb0a427b8>,\n",
              " 'being': <gensim.models.keyedvectors.Vocab at 0x7f1bb0a42668>,\n",
              " 'now': <gensim.models.keyedvectors.Vocab at 0x7f1bb0a42b70>,\n",
              " 'passed': <gensim.models.keyedvectors.Vocab at 0x7f1bb0a420f0>,\n",
              " 'away': <gensim.models.keyedvectors.Vocab at 0x7f1bb0a42438>,\n",
              " 'they': <gensim.models.keyedvectors.Vocab at 0x7f1bb0a42a90>,\n",
              " 'living': <gensim.models.keyedvectors.Vocab at 0x7f1bb0a422b0>,\n",
              " 'together': <gensim.models.keyedvectors.Vocab at 0x7f1bb0a428d0>,\n",
              " 'mutually': <gensim.models.keyedvectors.Vocab at 0x7f1bb0a42400>,\n",
              " 'attached': <gensim.models.keyedvectors.Vocab at 0x7f1bb0a42d30>,\n",
              " 'doing': <gensim.models.keyedvectors.Vocab at 0x7f1bb0a42f28>,\n",
              " 'just': <gensim.models.keyedvectors.Vocab at 0x7f1bb0a42908>,\n",
              " 'what': <gensim.models.keyedvectors.Vocab at 0x7f1bb0a42cc0>,\n",
              " 'she': <gensim.models.keyedvectors.Vocab at 0x7f1bb0a426d8>,\n",
              " 'liked': <gensim.models.keyedvectors.Vocab at 0x7f1bb039f828>,\n",
              " 'highly': <gensim.models.keyedvectors.Vocab at 0x7f1bb039f710>,\n",
              " 'judgment': <gensim.models.keyedvectors.Vocab at 0x7f1bb039fc50>,\n",
              " 'directed': <gensim.models.keyedvectors.Vocab at 0x7f1bb039fd30>,\n",
              " 'chiefly': <gensim.models.keyedvectors.Vocab at 0x7f1bb039f2e8>,\n",
              " 'own': <gensim.models.keyedvectors.Vocab at 0x7f1bb039f9e8>,\n",
              " 'The': <gensim.models.keyedvectors.Vocab at 0x7f1bb039ffd0>,\n",
              " 'real': <gensim.models.keyedvectors.Vocab at 0x7f1bb039f080>,\n",
              " 'evils': <gensim.models.keyedvectors.Vocab at 0x7f1bb039f1d0>,\n",
              " 'indeed': <gensim.models.keyedvectors.Vocab at 0x7f1bb039fa58>,\n",
              " 'situation': <gensim.models.keyedvectors.Vocab at 0x7f1bb039fb38>,\n",
              " 'were': <gensim.models.keyedvectors.Vocab at 0x7f1bb039f128>,\n",
              " 'power': <gensim.models.keyedvectors.Vocab at 0x7f1bb039f5f8>,\n",
              " 'having': <gensim.models.keyedvectors.Vocab at 0x7f1bb039f908>,\n",
              " 'rather': <gensim.models.keyedvectors.Vocab at 0x7f1bb039fe10>,\n",
              " 'much': <gensim.models.keyedvectors.Vocab at 0x7f1bb039f278>,\n",
              " 'way': <gensim.models.keyedvectors.Vocab at 0x7f1bb039f7f0>,\n",
              " 'think': <gensim.models.keyedvectors.Vocab at 0x7f1bb039fa20>,\n",
              " 'well': <gensim.models.keyedvectors.Vocab at 0x7f1bb039f6a0>,\n",
              " 'herself': <gensim.models.keyedvectors.Vocab at 0x7f1bb039f588>,\n",
              " 'these': <gensim.models.keyedvectors.Vocab at 0x7f1bb039f668>,\n",
              " 'which': <gensim.models.keyedvectors.Vocab at 0x7f1bb039fc18>,\n",
              " 'threatened': <gensim.models.keyedvectors.Vocab at 0x7f1bb039f8d0>,\n",
              " 'alloy': <gensim.models.keyedvectors.Vocab at 0x7f1bb039f0b8>,\n",
              " 'many': <gensim.models.keyedvectors.Vocab at 0x7f1bb039f320>,\n",
              " 'enjoyments': <gensim.models.keyedvectors.Vocab at 0x7f1bb039f550>,\n",
              " 'danger': <gensim.models.keyedvectors.Vocab at 0x7f1bb039f5c0>,\n",
              " 'however': <gensim.models.keyedvectors.Vocab at 0x7f1bb039f400>,\n",
              " 'at': <gensim.models.keyedvectors.Vocab at 0x7f1bb039f780>,\n",
              " 'present': <gensim.models.keyedvectors.Vocab at 0x7f1bb039f358>,\n",
              " 'so': <gensim.models.keyedvectors.Vocab at 0x7f1bb039f160>,\n",
              " 'unperceived': <gensim.models.keyedvectors.Vocab at 0x7f1bb039f518>,\n",
              " 'that': <gensim.models.keyedvectors.Vocab at 0x7f1bb039f630>,\n",
              " 'did': <gensim.models.keyedvectors.Vocab at 0x7f1bb039f978>,\n",
              " 'not': <gensim.models.keyedvectors.Vocab at 0x7f1bb039f7b8>,\n",
              " 'means': <gensim.models.keyedvectors.Vocab at 0x7f1bb039fe48>,\n",
              " 'rank': <gensim.models.keyedvectors.Vocab at 0x7f1bb039fbe0>,\n",
              " 'misfortunes': <gensim.models.keyedvectors.Vocab at 0x7f1bb039f2b0>,\n",
              " 'Sorrow': <gensim.models.keyedvectors.Vocab at 0x7f1bb039f208>,\n",
              " 'came': <gensim.models.keyedvectors.Vocab at 0x7f1bb04c9080>,\n",
              " '--': <gensim.models.keyedvectors.Vocab at 0x7f1bb04c9278>,\n",
              " 'gentle': <gensim.models.keyedvectors.Vocab at 0x7f1bb04c9ba8>,\n",
              " 'sorrow': <gensim.models.keyedvectors.Vocab at 0x7f1bb04c9240>,\n",
              " 'all': <gensim.models.keyedvectors.Vocab at 0x7f1bb04c92e8>,\n",
              " 'shape': <gensim.models.keyedvectors.Vocab at 0x7f1bb04c9c18>,\n",
              " 'disagreeable': <gensim.models.keyedvectors.Vocab at 0x7f1bb04c9780>,\n",
              " 'consciousness': <gensim.models.keyedvectors.Vocab at 0x7f1bb04c9128>,\n",
              " '.--': <gensim.models.keyedvectors.Vocab at 0x7f1bb04c9e48>,\n",
              " 'married': <gensim.models.keyedvectors.Vocab at 0x7f1bb04c9048>,\n",
              " 'It': <gensim.models.keyedvectors.Vocab at 0x7f1bb04c9e80>,\n",
              " 'loss': <gensim.models.keyedvectors.Vocab at 0x7f1bb04c9c88>,\n",
              " 'first': <gensim.models.keyedvectors.Vocab at 0x7f1bb04c9748>,\n",
              " 'brought': <gensim.models.keyedvectors.Vocab at 0x7f1bb04c9d30>,\n",
              " 'grief': <gensim.models.keyedvectors.Vocab at 0x7f1bb04c91d0>,\n",
              " 'on': <gensim.models.keyedvectors.Vocab at 0x7f1bb04c9b38>,\n",
              " 'wedding': <gensim.models.keyedvectors.Vocab at 0x7f1bb04c9358>,\n",
              " 'day': <gensim.models.keyedvectors.Vocab at 0x7f1bb04c9da0>,\n",
              " 'this': <gensim.models.keyedvectors.Vocab at 0x7f1bb04c9668>,\n",
              " 'beloved': <gensim.models.keyedvectors.Vocab at 0x7f1bb04c9940>,\n",
              " 'sat': <gensim.models.keyedvectors.Vocab at 0x7f1bb04c9cc0>,\n",
              " 'mournful': <gensim.models.keyedvectors.Vocab at 0x7f1bb04c9160>,\n",
              " 'thought': <gensim.models.keyedvectors.Vocab at 0x7f1bb04c9fd0>,\n",
              " 'continuance': <gensim.models.keyedvectors.Vocab at 0x7f1bb04c97b8>,\n",
              " 'over': <gensim.models.keyedvectors.Vocab at 0x7f1bb04c9518>,\n",
              " 'bride': <gensim.models.keyedvectors.Vocab at 0x7f1bb04c9cf8>,\n",
              " 'people': <gensim.models.keyedvectors.Vocab at 0x7f1bb04c9a58>,\n",
              " 'gone': <gensim.models.keyedvectors.Vocab at 0x7f1bb04c9320>,\n",
              " 'left': <gensim.models.keyedvectors.Vocab at 0x7f1bb04c90f0>,\n",
              " 'dine': <gensim.models.keyedvectors.Vocab at 0x7f1bb04c9400>,\n",
              " 'no': <gensim.models.keyedvectors.Vocab at 0x7f1bb04c96a0>,\n",
              " 'prospect': <gensim.models.keyedvectors.Vocab at 0x7f1bb04c99b0>,\n",
              " 'third': <gensim.models.keyedvectors.Vocab at 0x7f1bb04c99e8>,\n",
              " 'cheer': <gensim.models.keyedvectors.Vocab at 0x7f1bb04c9ef0>,\n",
              " 'evening': <gensim.models.keyedvectors.Vocab at 0x7f1bb04c94a8>,\n",
              " 'composed': <gensim.models.keyedvectors.Vocab at 0x7f1bb04c97f0>,\n",
              " 'himself': <gensim.models.keyedvectors.Vocab at 0x7f1bb0216f98>,\n",
              " 'sleep': <gensim.models.keyedvectors.Vocab at 0x7f1bb0216320>,\n",
              " 'after': <gensim.models.keyedvectors.Vocab at 0x7f1bb0216e80>,\n",
              " 'dinner': <gensim.models.keyedvectors.Vocab at 0x7f1bb02163c8>,\n",
              " 'usual': <gensim.models.keyedvectors.Vocab at 0x7f1bb0216c88>,\n",
              " 'then': <gensim.models.keyedvectors.Vocab at 0x7f1bb0216ef0>,\n",
              " 'only': <gensim.models.keyedvectors.Vocab at 0x7f1bb0216860>,\n",
              " 'sit': <gensim.models.keyedvectors.Vocab at 0x7f1bb0216b00>,\n",
              " 'lost': <gensim.models.keyedvectors.Vocab at 0x7f1bb0216518>,\n",
              " 'event': <gensim.models.keyedvectors.Vocab at 0x7f1bb0216b38>,\n",
              " 'every': <gensim.models.keyedvectors.Vocab at 0x7f1bb0216cc0>,\n",
              " 'promise': <gensim.models.keyedvectors.Vocab at 0x7f1bb02169e8>,\n",
              " 'happiness': <gensim.models.keyedvectors.Vocab at 0x7f1bb0216f28>,\n",
              " 'Weston': <gensim.models.keyedvectors.Vocab at 0x7f1bb0216668>,\n",
              " 'man': <gensim.models.keyedvectors.Vocab at 0x7f1bb0216940>,\n",
              " 'unexceptionable': <gensim.models.keyedvectors.Vocab at 0x7f1bb02162e8>,\n",
              " 'character': <gensim.models.keyedvectors.Vocab at 0x7f1bb02168d0>,\n",
              " 'easy': <gensim.models.keyedvectors.Vocab at 0x7f1bb02160b8>,\n",
              " 'fortune': <gensim.models.keyedvectors.Vocab at 0x7f1bb0216208>,\n",
              " 'suitable': <gensim.models.keyedvectors.Vocab at 0x7f1bb02161d0>,\n",
              " 'age': <gensim.models.keyedvectors.Vocab at 0x7f1bb0216390>,\n",
              " 'pleasant': <gensim.models.keyedvectors.Vocab at 0x7f1bb02165c0>,\n",
              " 'manners': <gensim.models.keyedvectors.Vocab at 0x7f1bb0216dd8>,\n",
              " 'there': <gensim.models.keyedvectors.Vocab at 0x7f1bb0216438>,\n",
              " 'satisfaction': <gensim.models.keyedvectors.Vocab at 0x7f1bb0216898>,\n",
              " 'considering': <gensim.models.keyedvectors.Vocab at 0x7f1bb0216be0>,\n",
              " 'self': <gensim.models.keyedvectors.Vocab at 0x7f1bb02162b0>,\n",
              " 'denying': <gensim.models.keyedvectors.Vocab at 0x7f1bb02164e0>,\n",
              " 'generous': <gensim.models.keyedvectors.Vocab at 0x7f1bb0216748>,\n",
              " 'friendship': <gensim.models.keyedvectors.Vocab at 0x7f1bb0216198>,\n",
              " 'always': <gensim.models.keyedvectors.Vocab at 0x7f1bb02169b0>,\n",
              " 'wished': <gensim.models.keyedvectors.Vocab at 0x7f1bb0216470>,\n",
              " 'promoted': <gensim.models.keyedvectors.Vocab at 0x7f1bb0216048>,\n",
              " 'match': <gensim.models.keyedvectors.Vocab at 0x7f1bb0216eb8>,\n",
              " 'black': <gensim.models.keyedvectors.Vocab at 0x7f1bb0216a20>,\n",
              " 'morning': <gensim.models.keyedvectors.Vocab at 0x7f1bb02160f0>,\n",
              " 'work': <gensim.models.keyedvectors.Vocab at 0x7f1bb0216fd0>,\n",
              " 'want': <gensim.models.keyedvectors.Vocab at 0x7f1bb0314160>,\n",
              " 'would': <gensim.models.keyedvectors.Vocab at 0x7f1bb0314d30>,\n",
              " 'be': <gensim.models.keyedvectors.Vocab at 0x7f1bb0314470>,\n",
              " 'felt': <gensim.models.keyedvectors.Vocab at 0x7f1bb03149e8>,\n",
              " 'hour': <gensim.models.keyedvectors.Vocab at 0x7f1bb03148d0>,\n",
              " 'recalled': <gensim.models.keyedvectors.Vocab at 0x7f1bb0314908>,\n",
              " 'past': <gensim.models.keyedvectors.Vocab at 0x7f1bb0314128>,\n",
              " 'kindness': <gensim.models.keyedvectors.Vocab at 0x7f1bb0314048>,\n",
              " 'sixteen': <gensim.models.keyedvectors.Vocab at 0x7f1bb0314828>,\n",
              " 'how': <gensim.models.keyedvectors.Vocab at 0x7f1bb0314a20>,\n",
              " 'taught': <gensim.models.keyedvectors.Vocab at 0x7f1bb03144a8>,\n",
              " 'played': <gensim.models.keyedvectors.Vocab at 0x7f1bb03147b8>,\n",
              " 'five': <gensim.models.keyedvectors.Vocab at 0x7f1bb0314400>,\n",
              " 'old': <gensim.models.keyedvectors.Vocab at 0x7f1bb0314e48>,\n",
              " 'devoted': <gensim.models.keyedvectors.Vocab at 0x7f1bb03142b0>,\n",
              " 'powers': <gensim.models.keyedvectors.Vocab at 0x7f1bb0314c88>,\n",
              " 'attach': <gensim.models.keyedvectors.Vocab at 0x7f1bb0314278>,\n",
              " 'amuse': <gensim.models.keyedvectors.Vocab at 0x7f1bb0314550>,\n",
              " 'health': <gensim.models.keyedvectors.Vocab at 0x7f1bb03145f8>,\n",
              " 'nursed': <gensim.models.keyedvectors.Vocab at 0x7f1bb0314cf8>,\n",
              " 'through': <gensim.models.keyedvectors.Vocab at 0x7f1bb0314b70>,\n",
              " 'various': <gensim.models.keyedvectors.Vocab at 0x7f1bb03144e0>,\n",
              " 'childhood': <gensim.models.keyedvectors.Vocab at 0x7f1bb0314320>,\n",
              " 'A': <gensim.models.keyedvectors.Vocab at 0x7f1bb0314a58>,\n",
              " 'large': <gensim.models.keyedvectors.Vocab at 0x7f1bb0314a90>,\n",
              " 'debt': <gensim.models.keyedvectors.Vocab at 0x7f1bb0314198>,\n",
              " 'gratitude': <gensim.models.keyedvectors.Vocab at 0x7f1bb0314710>,\n",
              " 'owing': <gensim.models.keyedvectors.Vocab at 0x7f1bb03143c8>,\n",
              " 'here': <gensim.models.keyedvectors.Vocab at 0x7f1bb03145c0>,\n",
              " 'intercourse': <gensim.models.keyedvectors.Vocab at 0x7f1bb0314358>,\n",
              " 'last': <gensim.models.keyedvectors.Vocab at 0x7f1bb0314ba8>,\n",
              " 'seven': <gensim.models.keyedvectors.Vocab at 0x7f1bb0314748>,\n",
              " 'equal': <gensim.models.keyedvectors.Vocab at 0x7f1bb03147f0>,\n",
              " 'footing': <gensim.models.keyedvectors.Vocab at 0x7f1bb03142e8>,\n",
              " 'perfect': <gensim.models.keyedvectors.Vocab at 0x7f1bb0314fd0>,\n",
              " 'unreserve': <gensim.models.keyedvectors.Vocab at 0x7f1bb02c9080>,\n",
              " 'soon': <gensim.models.keyedvectors.Vocab at 0x7f1bb02c9278>,\n",
              " 'followed': <gensim.models.keyedvectors.Vocab at 0x7f1bb02c9e48>,\n",
              " 'Isabella': <gensim.models.keyedvectors.Vocab at 0x7f1bb02c9a20>,\n",
              " 'their': <gensim.models.keyedvectors.Vocab at 0x7f1bb02c9668>,\n",
              " 'each': <gensim.models.keyedvectors.Vocab at 0x7f1bb02c9cc0>,\n",
              " 'other': <gensim.models.keyedvectors.Vocab at 0x7f1bb02c9390>,\n",
              " 'yet': <gensim.models.keyedvectors.Vocab at 0x7f1bb02c9518>,\n",
              " 'dearer': <gensim.models.keyedvectors.Vocab at 0x7f1bb02aa1d0>,\n",
              " 'recollection': <gensim.models.keyedvectors.Vocab at 0x7f1bb02aa8d0>,\n",
              " 'companion': <gensim.models.keyedvectors.Vocab at 0x7f1bb02aa160>,\n",
              " 'such': <gensim.models.keyedvectors.Vocab at 0x7f1bb02aaf28>,\n",
              " 'few': <gensim.models.keyedvectors.Vocab at 0x7f1bb02aa7f0>,\n",
              " 'possessed': <gensim.models.keyedvectors.Vocab at 0x7f1bb02aa080>,\n",
              " ':': <gensim.models.keyedvectors.Vocab at 0x7f1bb02aafd0>,\n",
              " 'intelligent': <gensim.models.keyedvectors.Vocab at 0x7f1bb02aadd8>,\n",
              " 'informed': <gensim.models.keyedvectors.Vocab at 0x7f1bb02aa2b0>,\n",
              " 'useful': <gensim.models.keyedvectors.Vocab at 0x7f1bb02aa4e0>,\n",
              " 'knowing': <gensim.models.keyedvectors.Vocab at 0x7f1bb02aa358>,\n",
              " 'ways': <gensim.models.keyedvectors.Vocab at 0x7f1bb02aa198>,\n",
              " 'interested': <gensim.models.keyedvectors.Vocab at 0x7f1bb02aa208>,\n",
              " 'its': <gensim.models.keyedvectors.Vocab at 0x7f1bb02aa0b8>,\n",
              " 'concerns': <gensim.models.keyedvectors.Vocab at 0x7f1baf034c18>,\n",
              " 'peculiarly': <gensim.models.keyedvectors.Vocab at 0x7f1baf034b38>,\n",
              " 'pleasure': <gensim.models.keyedvectors.Vocab at 0x7f1baf034978>,\n",
              " 'scheme': <gensim.models.keyedvectors.Vocab at 0x7f1baf034a20>,\n",
              " 'hers': <gensim.models.keyedvectors.Vocab at 0x7f1baf034908>,\n",
              " 'whom': <gensim.models.keyedvectors.Vocab at 0x7f1baf034748>,\n",
              " 'could': <gensim.models.keyedvectors.Vocab at 0x7f1baf03add8>,\n",
              " 'speak': <gensim.models.keyedvectors.Vocab at 0x7f1baf03a5f8>,\n",
              " 'arose': <gensim.models.keyedvectors.Vocab at 0x7f1baf03a630>,\n",
              " 'never': <gensim.models.keyedvectors.Vocab at 0x7f1baf03aef0>,\n",
              " 'find': <gensim.models.keyedvectors.Vocab at 0x7f1baf03a7b8>,\n",
              " 'fault': <gensim.models.keyedvectors.Vocab at 0x7f1bb02d4278>,\n",
              " 'How': <gensim.models.keyedvectors.Vocab at 0x7f1bb02d46d8>,\n",
              " 'bear': <gensim.models.keyedvectors.Vocab at 0x7f1bb02d4a58>,\n",
              " 'change': <gensim.models.keyedvectors.Vocab at 0x7f1bb02d42e8>,\n",
              " '?--': <gensim.models.keyedvectors.Vocab at 0x7f1bb02d4828>,\n",
              " 'true': <gensim.models.keyedvectors.Vocab at 0x7f1bb02d4ef0>,\n",
              " 'going': <gensim.models.keyedvectors.Vocab at 0x7f1baff6e940>,\n",
              " 'half': <gensim.models.keyedvectors.Vocab at 0x7f1baf01ba20>,\n",
              " 'mile': <gensim.models.keyedvectors.Vocab at 0x7f1baf01b6d8>,\n",
              " 'them': <gensim.models.keyedvectors.Vocab at 0x7f1baf01b908>,\n",
              " 'aware': <gensim.models.keyedvectors.Vocab at 0x7f1bb0ad89e8>,\n",
              " 'great': <gensim.models.keyedvectors.Vocab at 0x7f1bb0ad8e48>,\n",
              " 'must': <gensim.models.keyedvectors.Vocab at 0x7f1bb0ad8ba8>,\n",
              " 'difference': <gensim.models.keyedvectors.Vocab at 0x7f1bb0ad81d0>,\n",
              " 'between': <gensim.models.keyedvectors.Vocab at 0x7f1bb0ad8438>,\n",
              " 'Mrs': <gensim.models.keyedvectors.Vocab at 0x7f1bb0ad89b0>,\n",
              " 'advantages': <gensim.models.keyedvectors.Vocab at 0x7f1bb0ad8d68>,\n",
              " 'natural': <gensim.models.keyedvectors.Vocab at 0x7f1bb0ad8eb8>,\n",
              " 'domestic': <gensim.models.keyedvectors.Vocab at 0x7f1bb0ad8320>,\n",
              " 'suffering': <gensim.models.keyedvectors.Vocab at 0x7f1bb0ad8c50>,\n",
              " 'intellectual': <gensim.models.keyedvectors.Vocab at 0x7f1bb0262080>,\n",
              " 'solitude': <gensim.models.keyedvectors.Vocab at 0x7f1bb0262c50>,\n",
              " 'dearly': <gensim.models.keyedvectors.Vocab at 0x7f1bb0262160>,\n",
              " 'loved': <gensim.models.keyedvectors.Vocab at 0x7f1bb0262588>,\n",
              " 'he': <gensim.models.keyedvectors.Vocab at 0x7f1bb0262128>,\n",
              " 'He': <gensim.models.keyedvectors.Vocab at 0x7f1bb0262f28>,\n",
              " 'meet': <gensim.models.keyedvectors.Vocab at 0x7f1bb02625c0>,\n",
              " 'conversation': <gensim.models.keyedvectors.Vocab at 0x7f1bb0262518>,\n",
              " 'rational': <gensim.models.keyedvectors.Vocab at 0x7f1bb0262208>,\n",
              " 'playful': <gensim.models.keyedvectors.Vocab at 0x7f1bb0262198>,\n",
              " 'evil': <gensim.models.keyedvectors.Vocab at 0x7f1bb0262a90>,\n",
              " 'actual': <gensim.models.keyedvectors.Vocab at 0x7f1bb0262be0>,\n",
              " 'disparity': <gensim.models.keyedvectors.Vocab at 0x7f1bb0262b70>,\n",
              " 'ages': <gensim.models.keyedvectors.Vocab at 0x7f1bb0262898>,\n",
              " '(': <gensim.models.keyedvectors.Vocab at 0x7f1baf02fb00>,\n",
              " ')': <gensim.models.keyedvectors.Vocab at 0x7f1baf02fb70>,\n",
              " 'increased': <gensim.models.keyedvectors.Vocab at 0x7f1baf02fa58>,\n",
              " 'constitution': <gensim.models.keyedvectors.Vocab at 0x7f1baf02fb38>,\n",
              " 'habits': <gensim.models.keyedvectors.Vocab at 0x7f1baf02f8d0>,\n",
              " 'life': <gensim.models.keyedvectors.Vocab at 0x7f1bb04c8828>,\n",
              " 'without': <gensim.models.keyedvectors.Vocab at 0x7f1bb04c8fd0>,\n",
              " 'activity': <gensim.models.keyedvectors.Vocab at 0x7f1bb04c88d0>,\n",
              " 'mind': <gensim.models.keyedvectors.Vocab at 0x7f1bb04c8d68>,\n",
              " 'body': <gensim.models.keyedvectors.Vocab at 0x7f1bb04c8438>,\n",
              " 'older': <gensim.models.keyedvectors.Vocab at 0x7f1bb04c8b38>,\n",
              " 'though': <gensim.models.keyedvectors.Vocab at 0x7f1bb04c82b0>,\n",
              " 'everywhere': <gensim.models.keyedvectors.Vocab at 0x7f1bb04c89b0>,\n",
              " 'friendliness': <gensim.models.keyedvectors.Vocab at 0x7f1bb04c8358>,\n",
              " 'heart': <gensim.models.keyedvectors.Vocab at 0x7f1bb04c8668>,\n",
              " 'amiable': <gensim.models.keyedvectors.Vocab at 0x7f1bb04c8780>,\n",
              " 'talents': <gensim.models.keyedvectors.Vocab at 0x7f1bb04c8ba8>,\n",
              " 'recommended': <gensim.models.keyedvectors.Vocab at 0x7f1bb04c8710>,\n",
              " 'him': <gensim.models.keyedvectors.Vocab at 0x7f1bb04c8ac8>,\n",
              " 'time': <gensim.models.keyedvectors.Vocab at 0x7f1bb04c8320>,\n",
              " 'comparatively': <gensim.models.keyedvectors.Vocab at 0x7f1bb04c8400>,\n",
              " 'removed': <gensim.models.keyedvectors.Vocab at 0x7f1bb04c8b00>,\n",
              " 'matrimony': <gensim.models.keyedvectors.Vocab at 0x7f1bb04c8a58>,\n",
              " 'settled': <gensim.models.keyedvectors.Vocab at 0x7f1bb04c8630>,\n",
              " 'London': <gensim.models.keyedvectors.Vocab at 0x7f1bb04c84e0>,\n",
              " 'miles': <gensim.models.keyedvectors.Vocab at 0x7f1bb04c8940>,\n",
              " 'off': <gensim.models.keyedvectors.Vocab at 0x7f1bb04c8a20>,\n",
              " 'beyond': <gensim.models.keyedvectors.Vocab at 0x7f1bb04c8f28>,\n",
              " 'daily': <gensim.models.keyedvectors.Vocab at 0x7f1bb04c87f0>,\n",
              " 'reach': <gensim.models.keyedvectors.Vocab at 0x7f1bb04c8e80>,\n",
              " 'October': <gensim.models.keyedvectors.Vocab at 0x7f1bb04c8048>,\n",
              " 'November': <gensim.models.keyedvectors.Vocab at 0x7f1bb04c85c0>,\n",
              " 'struggled': <gensim.models.keyedvectors.Vocab at 0x7f1bb04c8748>,\n",
              " 'Hartfield': <gensim.models.keyedvectors.Vocab at 0x7f1bb04c84a8>,\n",
              " 'Christmas': <gensim.models.keyedvectors.Vocab at 0x7f1bb04c8198>,\n",
              " 'next': <gensim.models.keyedvectors.Vocab at 0x7f1bb04c8978>,\n",
              " 'visit': <gensim.models.keyedvectors.Vocab at 0x7f1bb04c80f0>,\n",
              " 'husband': <gensim.models.keyedvectors.Vocab at 0x7f1bb04c8da0>,\n",
              " 'children': <gensim.models.keyedvectors.Vocab at 0x7f1bb04c8080>,\n",
              " 'fill': <gensim.models.keyedvectors.Vocab at 0x7f1bb04c81d0>,\n",
              " 'give': <gensim.models.keyedvectors.Vocab at 0x7f1bb04c8c88>,\n",
              " 'society': <gensim.models.keyedvectors.Vocab at 0x7f1bb04c80b8>,\n",
              " 'again': <gensim.models.keyedvectors.Vocab at 0x7f1bb03380b8>,\n",
              " 'Highbury': <gensim.models.keyedvectors.Vocab at 0x7f1bb0338240>,\n",
              " 'populous': <gensim.models.keyedvectors.Vocab at 0x7f1bb0338828>,\n",
              " 'village': <gensim.models.keyedvectors.Vocab at 0x7f1bb0338c18>,\n",
              " 'almost': <gensim.models.keyedvectors.Vocab at 0x7f1bb0338160>,\n",
              " 'town': <gensim.models.keyedvectors.Vocab at 0x7f1bb03387b8>,\n",
              " 'spite': <gensim.models.keyedvectors.Vocab at 0x7f1bb03382b0>,\n",
              " 'separate': <gensim.models.keyedvectors.Vocab at 0x7f1bb0338438>,\n",
              " 'lawn': <gensim.models.keyedvectors.Vocab at 0x7f1bb0338d30>,\n",
              " 'shrubberies': <gensim.models.keyedvectors.Vocab at 0x7f1bb0338080>,\n",
              " 'name': <gensim.models.keyedvectors.Vocab at 0x7f1bb03383c8>,\n",
              " 'really': <gensim.models.keyedvectors.Vocab at 0x7f1bb03380f0>,\n",
              " 'belong': <gensim.models.keyedvectors.Vocab at 0x7f1bb0338710>,\n",
              " 'afforded': <gensim.models.keyedvectors.Vocab at 0x7f1bb03386d8>,\n",
              " 'equals': <gensim.models.keyedvectors.Vocab at 0x7f1bb0338320>,\n",
              " 'All': <gensim.models.keyedvectors.Vocab at 0x7f1bb03384e0>,\n",
              " 'looked': <gensim.models.keyedvectors.Vocab at 0x7f1bb03382e8>,\n",
              " 'up': <gensim.models.keyedvectors.Vocab at 0x7f1bb0338400>,\n",
              " 'acquaintance': <gensim.models.keyedvectors.Vocab at 0x7f1bb0338898>,\n",
              " 'universally': <gensim.models.keyedvectors.Vocab at 0x7f1bb0338390>,\n",
              " 'civil': <gensim.models.keyedvectors.Vocab at 0x7f1bb0338fd0>,\n",
              " 'among': <gensim.models.keyedvectors.Vocab at 0x7f1bb0338860>,\n",
              " 'accepted': <gensim.models.keyedvectors.Vocab at 0x7f1bb0338e10>,\n",
              " 'even': <gensim.models.keyedvectors.Vocab at 0x7f1bb0338978>,\n",
              " 'melancholy': <gensim.models.keyedvectors.Vocab at 0x7f1bb0338f60>,\n",
              " 'sigh': <gensim.models.keyedvectors.Vocab at 0x7f1bb0338e80>,\n",
              " 'wish': <gensim.models.keyedvectors.Vocab at 0x7f1bb0338668>,\n",
              " 'impossible': <gensim.models.keyedvectors.Vocab at 0x7f1bb0338208>,\n",
              " 'things': <gensim.models.keyedvectors.Vocab at 0x7f1bb03381d0>,\n",
              " 'till': <gensim.models.keyedvectors.Vocab at 0x7f1bb0338a58>,\n",
              " 'awoke': <gensim.models.keyedvectors.Vocab at 0x7f1bb03388d0>,\n",
              " 'made': <gensim.models.keyedvectors.Vocab at 0x7f1bb0338908>,\n",
              " 'necessary': <gensim.models.keyedvectors.Vocab at 0x7f1bb0338c88>,\n",
              " 'cheerful': <gensim.models.keyedvectors.Vocab at 0x7f1bb0338b00>,\n",
              " 'His': <gensim.models.keyedvectors.Vocab at 0x7f1bb0338198>,\n",
              " 'spirits': <gensim.models.keyedvectors.Vocab at 0x7f1bb0338ac8>,\n",
              " 'required': <gensim.models.keyedvectors.Vocab at 0x7f1bb0338b38>,\n",
              " 'support': <gensim.models.keyedvectors.Vocab at 0x7f1bb0338d68>,\n",
              " 'nervous': <gensim.models.keyedvectors.Vocab at 0x7f1bb03386a0>,\n",
              " 'easily': <gensim.models.keyedvectors.Vocab at 0x7f1bb03385c0>,\n",
              " 'depressed': <gensim.models.keyedvectors.Vocab at 0x7f1bb0338f28>,\n",
              " 'used': <gensim.models.keyedvectors.Vocab at 0x7f1bb0338b70>,\n",
              " 'hating': <gensim.models.keyedvectors.Vocab at 0x7f1baf044940>,\n",
              " 'part': <gensim.models.keyedvectors.Vocab at 0x7f1baf0445f8>,\n",
              " 'kind': <gensim.models.keyedvectors.Vocab at 0x7f1baf044ef0>,\n",
              " 'origin': <gensim.models.keyedvectors.Vocab at 0x7f1baf044d30>,\n",
              " 'reconciled': <gensim.models.keyedvectors.Vocab at 0x7f1baf044a90>,\n",
              " 'daughter': <gensim.models.keyedvectors.Vocab at 0x7f1baf044c88>,\n",
              " 'marrying': <gensim.models.keyedvectors.Vocab at 0x7f1baf044e48>,\n",
              " 'nor': <gensim.models.keyedvectors.Vocab at 0x7f1baf044a58>,\n",
              " 'ever': <gensim.models.keyedvectors.Vocab at 0x7f1baf044080>,\n",
              " 'compassion': <gensim.models.keyedvectors.Vocab at 0x7f1bb02edac8>,\n",
              " 'entirely': <gensim.models.keyedvectors.Vocab at 0x7f1bb02ed358>,\n",
              " 'when': <gensim.models.keyedvectors.Vocab at 0x7f1bb02ed780>,\n",
              " 'obliged': <gensim.models.keyedvectors.Vocab at 0x7f1bb02ed9e8>,\n",
              " 'selfishness': <gensim.models.keyedvectors.Vocab at 0x7f1bb02ed9b0>,\n",
              " 'able': <gensim.models.keyedvectors.Vocab at 0x7f1bb02ed208>,\n",
              " 'suppose': <gensim.models.keyedvectors.Vocab at 0x7f1bb02ed2e8>,\n",
              " 'feel': <gensim.models.keyedvectors.Vocab at 0x7f1bb02ed908>,\n",
              " 'differently': <gensim.models.keyedvectors.Vocab at 0x7f1bb02ed3c8>,\n",
              " 'disposed': <gensim.models.keyedvectors.Vocab at 0x7f1bb02ed7f0>,\n",
              " 'done': <gensim.models.keyedvectors.Vocab at 0x7f1bb02ed1d0>,\n",
              " 'sad': <gensim.models.keyedvectors.Vocab at 0x7f1bb0adb2b0>,\n",
              " 'thing': <gensim.models.keyedvectors.Vocab at 0x7f1bb0adbe48>,\n",
              " 'deal': <gensim.models.keyedvectors.Vocab at 0x7f1bb0adbc50>,\n",
              " 'happier': <gensim.models.keyedvectors.Vocab at 0x7f1bb0adb780>,\n",
              " 'if': <gensim.models.keyedvectors.Vocab at 0x7f1bb0adba58>,\n",
              " 'spent': <gensim.models.keyedvectors.Vocab at 0x7f1bb0adb6a0>,\n",
              " 'rest': <gensim.models.keyedvectors.Vocab at 0x7f1bb0adb470>,\n",
              " 'smiled': <gensim.models.keyedvectors.Vocab at 0x7f1bb0adbba8>,\n",
              " 'cheerfully': <gensim.models.keyedvectors.Vocab at 0x7f1bb0adb898>,\n",
              " 'keep': <gensim.models.keyedvectors.Vocab at 0x7f1bb0adb748>,\n",
              " 'thoughts': <gensim.models.keyedvectors.Vocab at 0x7f1bb0adb908>,\n",
              " 'tea': <gensim.models.keyedvectors.Vocab at 0x7f1baf02e7b8>,\n",
              " 'say': <gensim.models.keyedvectors.Vocab at 0x7f1baf02e320>,\n",
              " 'exactly': <gensim.models.keyedvectors.Vocab at 0x7f1baf02e278>,\n",
              " 'said': <gensim.models.keyedvectors.Vocab at 0x7f1baf02ed30>,\n",
              " '\"': <gensim.models.keyedvectors.Vocab at 0x7f1baf02e710>,\n",
              " 'Poor': <gensim.models.keyedvectors.Vocab at 0x7f1baf02ec88>,\n",
              " '!--': <gensim.models.keyedvectors.Vocab at 0x7f1bb0504630>,\n",
              " 'What': <gensim.models.keyedvectors.Vocab at 0x7f1bb05040f0>,\n",
              " 'pity': <gensim.models.keyedvectors.Vocab at 0x7f1bb0504cf8>,\n",
              " 'is': <gensim.models.keyedvectors.Vocab at 0x7f1bb05044e0>,\n",
              " '!\"': <gensim.models.keyedvectors.Vocab at 0x7f1bb0504278>,\n",
              " 'cannot': <gensim.models.keyedvectors.Vocab at 0x7f1bb0504da0>,\n",
              " 'agree': <gensim.models.keyedvectors.Vocab at 0x7f1bb0504128>,\n",
              " 'you': <gensim.models.keyedvectors.Vocab at 0x7f1bb0504fd0>,\n",
              " 'papa': <gensim.models.keyedvectors.Vocab at 0x7f1bb0504c50>,\n",
              " 'know': <gensim.models.keyedvectors.Vocab at 0x7f1bb0504160>,\n",
              " 'good': <gensim.models.keyedvectors.Vocab at 0x7f1bb0504d68>,\n",
              " 'humoured': <gensim.models.keyedvectors.Vocab at 0x7f1bb05045c0>,\n",
              " 'thoroughly': <gensim.models.keyedvectors.Vocab at 0x7f1bb0504f28>,\n",
              " 'deserves': <gensim.models.keyedvectors.Vocab at 0x7f1bb0504c88>,\n",
              " 'wife': <gensim.models.keyedvectors.Vocab at 0x7f1bb0504748>,\n",
              " ';--': <gensim.models.keyedvectors.Vocab at 0x7f1bb05040b8>,\n",
              " 'live': <gensim.models.keyedvectors.Vocab at 0x7f1bb0504c18>,\n",
              " 'us': <gensim.models.keyedvectors.Vocab at 0x7f1bb05049e8>,\n",
              " 'my': <gensim.models.keyedvectors.Vocab at 0x7f1bb0504208>,\n",
              " 'odd': <gensim.models.keyedvectors.Vocab at 0x7f1bb05042b0>,\n",
              " 'humours': <gensim.models.keyedvectors.Vocab at 0x7f1bb0504f60>,\n",
              " 'might': <gensim.models.keyedvectors.Vocab at 0x7f1bb0504e10>,\n",
              " '?\"': <gensim.models.keyedvectors.Vocab at 0x7f1bb0504d30>,\n",
              " 'But': <gensim.models.keyedvectors.Vocab at 0x7f1bb0504b00>,\n",
              " 'where': <gensim.models.keyedvectors.Vocab at 0x7f1bb05046d8>,\n",
              " 'advantage': <gensim.models.keyedvectors.Vocab at 0x7f1bb0504eb8>,\n",
              " '?': <gensim.models.keyedvectors.Vocab at 0x7f1bb0504860>,\n",
              " 'This': <gensim.models.keyedvectors.Vocab at 0x7f1bb0504358>,\n",
              " 'three': <gensim.models.keyedvectors.Vocab at 0x7f1bb0504e80>,\n",
              " 'times': <gensim.models.keyedvectors.Vocab at 0x7f1bb0afee80>,\n",
              " 'And': <gensim.models.keyedvectors.Vocab at 0x7f1bb0afeb38>,\n",
              " 'dear': <gensim.models.keyedvectors.Vocab at 0x7f1bb0afe8d0>,\n",
              " '.\"': <gensim.models.keyedvectors.Vocab at 0x7f1bb0afef60>,\n",
              " 'often': <gensim.models.keyedvectors.Vocab at 0x7f1bb0afe358>,\n",
              " 'we': <gensim.models.keyedvectors.Vocab at 0x7f1bb0afe5f8>,\n",
              " 'shall': <gensim.models.keyedvectors.Vocab at 0x7f1bb0afe898>,\n",
              " 'see': <gensim.models.keyedvectors.Vocab at 0x7f1bb0afe160>,\n",
              " 'coming': <gensim.models.keyedvectors.Vocab at 0x7f1bb0afe9e8>,\n",
              " 'We': <gensim.models.keyedvectors.Vocab at 0x7f1bb02a4780>,\n",
              " 'meeting': <gensim.models.keyedvectors.Vocab at 0x7f1bb02a45f8>,\n",
              " '!': <gensim.models.keyedvectors.Vocab at 0x7f1bb02a4fd0>,\n",
              " 'begin': <gensim.models.keyedvectors.Vocab at 0x7f1bb02a45c0>,\n",
              " 'go': <gensim.models.keyedvectors.Vocab at 0x7f1bb02a4e10>,\n",
              " 'pay': <gensim.models.keyedvectors.Vocab at 0x7f1bb02a4dd8>,\n",
              " 'My': <gensim.models.keyedvectors.Vocab at 0x7f1bb02a4860>,\n",
              " 'am': <gensim.models.keyedvectors.Vocab at 0x7f1bb02a4da0>,\n",
              " 'get': <gensim.models.keyedvectors.Vocab at 0x7f1bb02a4a58>,\n",
              " 'far': <gensim.models.keyedvectors.Vocab at 0x7f1bb02a43c8>,\n",
              " 'Randalls': <gensim.models.keyedvectors.Vocab at 0x7f1bb02a4e80>,\n",
              " 'distance': <gensim.models.keyedvectors.Vocab at 0x7f1bb02a42e8>,\n",
              " 'walk': <gensim.models.keyedvectors.Vocab at 0x7f1bb021c5c0>,\n",
              " 'No': <gensim.models.keyedvectors.Vocab at 0x7f1bb021c320>,\n",
              " 'nobody': <gensim.models.keyedvectors.Vocab at 0x7f1bb021c710>,\n",
              " 'your': <gensim.models.keyedvectors.Vocab at 0x7f1bb021cc50>,\n",
              " 'walking': <gensim.models.keyedvectors.Vocab at 0x7f1bb021c588>,\n",
              " 'carriage': <gensim.models.keyedvectors.Vocab at 0x7f1bb021ce48>,\n",
              " 'sure': <gensim.models.keyedvectors.Vocab at 0x7f1bb021c748>,\n",
              " 'James': <gensim.models.keyedvectors.Vocab at 0x7f1bb021ca90>,\n",
              " 'will': <gensim.models.keyedvectors.Vocab at 0x7f1bb021cf60>,\n",
              " 'like': <gensim.models.keyedvectors.Vocab at 0x7f1bb021cd68>,\n",
              " 'put': <gensim.models.keyedvectors.Vocab at 0x7f1bb021c6d8>,\n",
              " 'horses': <gensim.models.keyedvectors.Vocab at 0x7f1bb021c128>,\n",
              " 'are': <gensim.models.keyedvectors.Vocab at 0x7f1bb022d828>,\n",
              " 'poor': <gensim.models.keyedvectors.Vocab at 0x7f1bb022d438>,\n",
              " 'while': <gensim.models.keyedvectors.Vocab at 0x7f1bb022d0b8>,\n",
              " 'paying': <gensim.models.keyedvectors.Vocab at 0x7f1bb022d7b8>,\n",
              " 'our': <gensim.models.keyedvectors.Vocab at 0x7f1bb022d908>,\n",
              " 'They': <gensim.models.keyedvectors.Vocab at 0x7f1bb022d1d0>,\n",
              " 'into': <gensim.models.keyedvectors.Vocab at 0x7f1bb022d278>,\n",
              " 'stable': <gensim.models.keyedvectors.Vocab at 0x7f1bb022d8d0>,\n",
              " 'You': <gensim.models.keyedvectors.Vocab at 0x7f1bb022d400>,\n",
              " 'already': <gensim.models.keyedvectors.Vocab at 0x7f1bb022dba8>,\n",
              " 'talked': <gensim.models.keyedvectors.Vocab at 0x7f1bb022db70>,\n",
              " 'night': <gensim.models.keyedvectors.Vocab at 0x7f1bb022df60>,\n",
              " 'may': <gensim.models.keyedvectors.Vocab at 0x7f1bb022d9e8>,\n",
              " 'because': <gensim.models.keyedvectors.Vocab at 0x7f1bb022d2b0>,\n",
              " 'doubt': <gensim.models.keyedvectors.Vocab at 0x7f1bb022df98>,\n",
              " 'whether': <gensim.models.keyedvectors.Vocab at 0x7f1bb022d780>,\n",
              " 'take': <gensim.models.keyedvectors.Vocab at 0x7f1bb022dd30>,\n",
              " 'anywhere': <gensim.models.keyedvectors.Vocab at 0x7f1bb022de80>,\n",
              " 'else': <gensim.models.keyedvectors.Vocab at 0x7f1bb022def0>,\n",
              " 'That': <gensim.models.keyedvectors.Vocab at 0x7f1bb022dac8>,\n",
              " 'got': <gensim.models.keyedvectors.Vocab at 0x7f1bb022d6d8>,\n",
              " 'Hannah': <gensim.models.keyedvectors.Vocab at 0x7f1bb022d4a8>,\n",
              " 'Nobody': <gensim.models.keyedvectors.Vocab at 0x7f1bb022dc50>,\n",
              " 'mentioned': <gensim.models.keyedvectors.Vocab at 0x7f1bb022d470>,\n",
              " 'glad': <gensim.models.keyedvectors.Vocab at 0x7f1bb022d320>,\n",
              " 'lucky': <gensim.models.keyedvectors.Vocab at 0x7f1bb022da90>,\n",
              " 'slighted': <gensim.models.keyedvectors.Vocab at 0x7f1bb022db00>,\n",
              " 'upon': <gensim.models.keyedvectors.Vocab at 0x7f1bb022dfd0>,\n",
              " 'account': <gensim.models.keyedvectors.Vocab at 0x7f1bb022da20>,\n",
              " 'make': <gensim.models.keyedvectors.Vocab at 0x7f1bb0adccc0>,\n",
              " 'servant': <gensim.models.keyedvectors.Vocab at 0x7f1bb0adc400>,\n",
              " 'pretty': <gensim.models.keyedvectors.Vocab at 0x7f1bb0adc940>,\n",
              " 'spoken': <gensim.models.keyedvectors.Vocab at 0x7f1bb0adca20>,\n",
              " 'girl': <gensim.models.keyedvectors.Vocab at 0x7f1bb0adc358>,\n",
              " 'opinion': <gensim.models.keyedvectors.Vocab at 0x7f1bb0adc048>,\n",
              " 'Whenever': <gensim.models.keyedvectors.Vocab at 0x7f1bb0adc240>,\n",
              " 'asks': <gensim.models.keyedvectors.Vocab at 0x7f1bb021b748>,\n",
              " 'me': <gensim.models.keyedvectors.Vocab at 0x7f1bb021ba58>,\n",
              " 'do': <gensim.models.keyedvectors.Vocab at 0x7f1bb021ba20>,\n",
              " 'manner': <gensim.models.keyedvectors.Vocab at 0x7f1bb021b908>,\n",
              " 'needlework': <gensim.models.keyedvectors.Vocab at 0x7f1bb021bbe0>,\n",
              " 'observe': <gensim.models.keyedvectors.Vocab at 0x7f1bb021b358>,\n",
              " 'turns': <gensim.models.keyedvectors.Vocab at 0x7f1bb021b7f0>,\n",
              " 'lock': <gensim.models.keyedvectors.Vocab at 0x7f1bb021b0f0>,\n",
              " 'door': <gensim.models.keyedvectors.Vocab at 0x7f1bb021b860>,\n",
              " 'right': <gensim.models.keyedvectors.Vocab at 0x7f1bb0252d68>,\n",
              " 'comfort': <gensim.models.keyedvectors.Vocab at 0x7f1bb0252080>,\n",
              " 'somebody': <gensim.models.keyedvectors.Vocab at 0x7f1bb0252208>,\n",
              " 'about': <gensim.models.keyedvectors.Vocab at 0x7f1bb0252400>,\n",
              " 'goes': <gensim.models.keyedvectors.Vocab at 0x7f1bb0252a90>,\n",
              " 'hearing': <gensim.models.keyedvectors.Vocab at 0x7f1bb0252b38>,\n",
              " 'tell': <gensim.models.keyedvectors.Vocab at 0x7f1bb02525f8>,\n",
              " 'spared': <gensim.models.keyedvectors.Vocab at 0x7f1bb02526a0>,\n",
              " 'exertions': <gensim.models.keyedvectors.Vocab at 0x7f1bb0252d30>,\n",
              " 'maintain': <gensim.models.keyedvectors.Vocab at 0x7f1bb0252198>,\n",
              " 'flow': <gensim.models.keyedvectors.Vocab at 0x7f1bb0252cc0>,\n",
              " 'ideas': <gensim.models.keyedvectors.Vocab at 0x7f1bb0252f98>,\n",
              " 'hoped': <gensim.models.keyedvectors.Vocab at 0x7f1bb0310be0>,\n",
              " 'help': <gensim.models.keyedvectors.Vocab at 0x7f1bb03106d8>,\n",
              " 'tolerably': <gensim.models.keyedvectors.Vocab at 0x7f1bb0310f98>,\n",
              " 'attacked': <gensim.models.keyedvectors.Vocab at 0x7f1bb0310390>,\n",
              " 'regrets': <gensim.models.keyedvectors.Vocab at 0x7f1bb03107f0>,\n",
              " 'table': <gensim.models.keyedvectors.Vocab at 0x7f1bb0310320>,\n",
              " 'placed': <gensim.models.keyedvectors.Vocab at 0x7f1bb0310ac8>,\n",
              " 'visitor': <gensim.models.keyedvectors.Vocab at 0x7f1bb03106a0>,\n",
              " 'immediately': <gensim.models.keyedvectors.Vocab at 0x7f1bb0310eb8>,\n",
              " 'afterwards': <gensim.models.keyedvectors.Vocab at 0x7f1bb0310978>,\n",
              " 'walked': <gensim.models.keyedvectors.Vocab at 0x7f1bb0310e10>,\n",
              " 'unnecessary': <gensim.models.keyedvectors.Vocab at 0x7f1bb0310278>,\n",
              " 'Knightley': <gensim.models.keyedvectors.Vocab at 0x7f1bb03100b8>,\n",
              " 'sensible': <gensim.models.keyedvectors.Vocab at 0x7f1bb0310dd8>,\n",
              " 'eight': <gensim.models.keyedvectors.Vocab at 0x7f1bb0310c50>,\n",
              " 'thirty': <gensim.models.keyedvectors.Vocab at 0x7f1bb03104e0>,\n",
              " 'intimate': <gensim.models.keyedvectors.Vocab at 0x7f1bb0310940>,\n",
              " 'connected': <gensim.models.keyedvectors.Vocab at 0x7f1bb0310780>,\n",
              " 'elder': <gensim.models.keyedvectors.Vocab at 0x7f1bb0310e80>,\n",
              " 'brother': <gensim.models.keyedvectors.Vocab at 0x7f1bb0310c88>,\n",
              " 'frequent': <gensim.models.keyedvectors.Vocab at 0x7f1bb0310710>,\n",
              " 'welcome': <gensim.models.keyedvectors.Vocab at 0x7f1bb0310518>,\n",
              " 'directly': <gensim.models.keyedvectors.Vocab at 0x7f1bb0310048>,\n",
              " 'mutual': <gensim.models.keyedvectors.Vocab at 0x7f1bb0310358>,\n",
              " 'connexions': <gensim.models.keyedvectors.Vocab at 0x7f1bb0310d30>,\n",
              " 'returned': <gensim.models.keyedvectors.Vocab at 0x7f1bb03108d0>,\n",
              " 'late': <gensim.models.keyedvectors.Vocab at 0x7f1bb0310f28>,\n",
              " 'days': <gensim.models.keyedvectors.Vocab at 0x7f1bb0310a58>,\n",
              " 'absence': <gensim.models.keyedvectors.Vocab at 0x7f1bb0310208>,\n",
              " 'Brunswick': <gensim.models.keyedvectors.Vocab at 0x7f1bb0310b00>,\n",
              " 'Square': <gensim.models.keyedvectors.Vocab at 0x7f1bb0310240>,\n",
              " 'circumstance': <gensim.models.keyedvectors.Vocab at 0x7f1bb03104a8>,\n",
              " 'animated': <gensim.models.keyedvectors.Vocab at 0x7f1bb0310668>,\n",
              " 'inquiries': <gensim.models.keyedvectors.Vocab at 0x7f1bb0310b38>,\n",
              " 'answered': <gensim.models.keyedvectors.Vocab at 0x7f1bb0310080>,\n",
              " 'When': <gensim.models.keyedvectors.Vocab at 0x7f1bb0310d68>,\n",
              " 'gratefully': <gensim.models.keyedvectors.Vocab at 0x7f1bb0310128>,\n",
              " 'observed': <gensim.models.keyedvectors.Vocab at 0x7f1bb0310a90>,\n",
              " 'come': <gensim.models.keyedvectors.Vocab at 0x7f1bb0310cc0>,\n",
              " 'out': <gensim.models.keyedvectors.Vocab at 0x7f1bb0310748>,\n",
              " 'call': <gensim.models.keyedvectors.Vocab at 0x7f1bb0310400>,\n",
              " 'afraid': <gensim.models.keyedvectors.Vocab at 0x7f1bb0310908>,\n",
              " 'shocking': <gensim.models.keyedvectors.Vocab at 0x7f1bb02b0ac8>,\n",
              " 'Not': <gensim.models.keyedvectors.Vocab at 0x7f1bb02b0710>,\n",
              " 'sir': <gensim.models.keyedvectors.Vocab at 0x7f1bb02b0f60>,\n",
              " 'beautiful': <gensim.models.keyedvectors.Vocab at 0x7f1bb02b0ef0>,\n",
              " 'moonlight': <gensim.models.keyedvectors.Vocab at 0x7f1bb02b0c50>,\n",
              " 'mild': <gensim.models.keyedvectors.Vocab at 0x7f1bb02b04a8>,\n",
              " 'draw': <gensim.models.keyedvectors.Vocab at 0x7f1bb02b0d68>,\n",
              " 'back': <gensim.models.keyedvectors.Vocab at 0x7f1bb02b0da0>,\n",
              " 'fire': <gensim.models.keyedvectors.Vocab at 0x7f1bb02b03c8>,\n",
              " 'found': <gensim.models.keyedvectors.Vocab at 0x7f1bb02b0898>,\n",
              " 'damp': <gensim.models.keyedvectors.Vocab at 0x7f1bb02b0278>,\n",
              " 'dirty': <gensim.models.keyedvectors.Vocab at 0x7f1bb02b0d30>,\n",
              " 'catch': <gensim.models.keyedvectors.Vocab at 0x7f1bb02b0438>,\n",
              " 'cold': <gensim.models.keyedvectors.Vocab at 0x7f1bb0133ef0>,\n",
              " 'Look': <gensim.models.keyedvectors.Vocab at 0x7f1bb01334a8>,\n",
              " 'shoes': <gensim.models.keyedvectors.Vocab at 0x7f1bb025ca58>,\n",
              " 'Well': <gensim.models.keyedvectors.Vocab at 0x7f1bb025c2e8>,\n",
              " 'quite': <gensim.models.keyedvectors.Vocab at 0x7f1bb025c7b8>,\n",
              " 'surprising': <gensim.models.keyedvectors.Vocab at 0x7f1bb025cc18>,\n",
              " 'vast': <gensim.models.keyedvectors.Vocab at 0x7f1bb025cbe0>,\n",
              " 'rain': <gensim.models.keyedvectors.Vocab at 0x7f1bb025c400>,\n",
              " 'rained': <gensim.models.keyedvectors.Vocab at 0x7f1bb025c4a8>,\n",
              " 'dreadfully': <gensim.models.keyedvectors.Vocab at 0x7f1bb025c438>,\n",
              " 'hard': <gensim.models.keyedvectors.Vocab at 0x7f1bb025c0b8>,\n",
              " 'breakfast': <gensim.models.keyedvectors.Vocab at 0x7f1bb025c828>,\n",
              " 'wanted': <gensim.models.keyedvectors.Vocab at 0x7f1bb025c8d0>,\n",
              " 'By': <gensim.models.keyedvectors.Vocab at 0x7f1bb025c978>,\n",
              " 'bye': <gensim.models.keyedvectors.Vocab at 0x7f1bb0aec2e8>,\n",
              " 'joy': <gensim.models.keyedvectors.Vocab at 0x7f1bb0aec080>,\n",
              " 'Being': <gensim.models.keyedvectors.Vocab at 0x7f1bb0aec1d0>,\n",
              " 'sort': <gensim.models.keyedvectors.Vocab at 0x7f1bb0aec9b0>,\n",
              " 'feeling': <gensim.models.keyedvectors.Vocab at 0x7f1bb0aec400>,\n",
              " 'hurry': <gensim.models.keyedvectors.Vocab at 0x7f1bb0aec358>,\n",
              " 'congratulations': <gensim.models.keyedvectors.Vocab at 0x7f1bb0aece80>,\n",
              " 'hope': <gensim.models.keyedvectors.Vocab at 0x7f1bb0aeca20>,\n",
              " 'went': <gensim.models.keyedvectors.Vocab at 0x7f1bb0aecd30>,\n",
              " 'behave': <gensim.models.keyedvectors.Vocab at 0x7f1bb0aecef0>,\n",
              " 'Who': <gensim.models.keyedvectors.Vocab at 0x7f1bb0aec470>,\n",
              " 'cried': <gensim.models.keyedvectors.Vocab at 0x7f1bb02d97b8>,\n",
              " 'Ah': <gensim.models.keyedvectors.Vocab at 0x7f1bb02d9eb8>,\n",
              " 'Tis': <gensim.models.keyedvectors.Vocab at 0x7f1bb02d9a90>,\n",
              " 'business': <gensim.models.keyedvectors.Vocab at 0x7f1bb02d9860>,\n",
              " 'please': <gensim.models.keyedvectors.Vocab at 0x7f1bb02d9ba8>,\n",
              " 'possibly': <gensim.models.keyedvectors.Vocab at 0x7f1bb02d9048>,\n",
              " '`': <gensim.models.keyedvectors.Vocab at 0x7f1bb02d9438>,\n",
              " \".'\": <gensim.models.keyedvectors.Vocab at 0x7f1bb02d9278>,\n",
              " 'regard': <gensim.models.keyedvectors.Vocab at 0x7f1bb02d93c8>,\n",
              " 'comes': <gensim.models.keyedvectors.Vocab at 0x7f1bb02d9668>,\n",
              " 'question': <gensim.models.keyedvectors.Vocab at 0x7f1bb02d9198>,\n",
              " 'dependence': <gensim.models.keyedvectors.Vocab at 0x7f1bb02d9208>,\n",
              " 'independence': <gensim.models.keyedvectors.Vocab at 0x7f1bb02d9f60>,\n",
              " 'At': <gensim.models.keyedvectors.Vocab at 0x7f1bb02d91d0>,\n",
              " 'rate': <gensim.models.keyedvectors.Vocab at 0x7f1bb02d9a58>,\n",
              " 'better': <gensim.models.keyedvectors.Vocab at 0x7f1bb0303c18>,\n",
              " '_one_': <gensim.models.keyedvectors.Vocab at 0x7f1bb03034a8>,\n",
              " 'those': <gensim.models.keyedvectors.Vocab at 0x7f1bb0303240>,\n",
              " 'fanciful': <gensim.models.keyedvectors.Vocab at 0x7f1bb0303e48>,\n",
              " 'troublesome': <gensim.models.keyedvectors.Vocab at 0x7f1bb0303630>,\n",
              " 'creature': <gensim.models.keyedvectors.Vocab at 0x7f1bb0303588>,\n",
              " 'playfully': <gensim.models.keyedvectors.Vocab at 0x7f1bb03032e8>,\n",
              " 'head': <gensim.models.keyedvectors.Vocab at 0x7f1bb0303320>,\n",
              " 'certainly': <gensim.models.keyedvectors.Vocab at 0x7f1bb0303cf8>,\n",
              " 'believe': <gensim.models.keyedvectors.Vocab at 0x7f1bb0303d30>,\n",
              " ',\"': <gensim.models.keyedvectors.Vocab at 0x7f1bb03030f0>,\n",
              " 'sometimes': <gensim.models.keyedvectors.Vocab at 0x7f1bb0303278>,\n",
              " 'dearest': <gensim.models.keyedvectors.Vocab at 0x7f1bb0303cc0>,\n",
              " 'mean': <gensim.models.keyedvectors.Vocab at 0x7f1bb0303128>,\n",
              " '_you_': <gensim.models.keyedvectors.Vocab at 0x7f1bb0303908>,\n",
              " 'horrible': <gensim.models.keyedvectors.Vocab at 0x7f1bb0303898>,\n",
              " 'idea': <gensim.models.keyedvectors.Vocab at 0x7f1baf0350b8>,\n",
              " 'Oh': <gensim.models.keyedvectors.Vocab at 0x7f1baf035780>,\n",
              " 'meant': <gensim.models.keyedvectors.Vocab at 0x7f1baf0354e0>,\n",
              " 'myself': <gensim.models.keyedvectors.Vocab at 0x7f1baf035208>,\n",
              " 'loves': <gensim.models.keyedvectors.Vocab at 0x7f1baf035da0>,\n",
              " 'joke': <gensim.models.keyedvectors.Vocab at 0x7f1baf035c88>,\n",
              " 'another': <gensim.models.keyedvectors.Vocab at 0x7f1baf035ac8>,\n",
              " 'fact': <gensim.models.keyedvectors.Vocab at 0x7f1baf0352e8>,\n",
              " 'faults': <gensim.models.keyedvectors.Vocab at 0x7f1baf035978>,\n",
              " 'told': <gensim.models.keyedvectors.Vocab at 0x7f1bb02079e8>,\n",
              " 'agreeable': <gensim.models.keyedvectors.Vocab at 0x7f1bb0207160>,\n",
              " 'knew': <gensim.models.keyedvectors.Vocab at 0x7f1bb0207c88>,\n",
              " 'suspect': <gensim.models.keyedvectors.Vocab at 0x7f1bb0207d30>,\n",
              " 'knows': <gensim.models.keyedvectors.Vocab at 0x7f1bb02074e0>,\n",
              " 'flatter': <gensim.models.keyedvectors.Vocab at 0x7f1bb0207550>,\n",
              " 'reflection': <gensim.models.keyedvectors.Vocab at 0x7f1bb02070b8>,\n",
              " 'has': <gensim.models.keyedvectors.Vocab at 0x7f1bb0207668>,\n",
              " 'persons': <gensim.models.keyedvectors.Vocab at 0x7f1bb0207780>,\n",
              " 'chances': <gensim.models.keyedvectors.Vocab at 0x7f1bb0207e80>,\n",
              " 'willing': <gensim.models.keyedvectors.Vocab at 0x7f1bb0207fd0>,\n",
              " 'let': <gensim.models.keyedvectors.Vocab at 0x7f1bb0207b70>,\n",
              " 'pass': <gensim.models.keyedvectors.Vocab at 0x7f1bb0207f60>,\n",
              " '--\"': <gensim.models.keyedvectors.Vocab at 0x7f1bb0207400>,\n",
              " 'hear': <gensim.models.keyedvectors.Vocab at 0x7f1bb02078d0>,\n",
              " 'behaved': <gensim.models.keyedvectors.Vocab at 0x7f1bb0207710>,\n",
              " 'charmingly': <gensim.models.keyedvectors.Vocab at 0x7f1bb02077b8>,\n",
              " 'Every': <gensim.models.keyedvectors.Vocab at 0x7f1bb0207a58>,\n",
              " 'punctual': <gensim.models.keyedvectors.Vocab at 0x7f1bb0207e48>,\n",
              " 'looks': <gensim.models.keyedvectors.Vocab at 0x7f1bb02079b0>,\n",
              " 'tear': <gensim.models.keyedvectors.Vocab at 0x7f1bb0207eb8>,\n",
              " 'face': <gensim.models.keyedvectors.Vocab at 0x7f1bb0207c18>,\n",
              " 'seen': <gensim.models.keyedvectors.Vocab at 0x7f1bb02072b0>,\n",
              " 'apart': <gensim.models.keyedvectors.Vocab at 0x7f1bb0207390>,\n",
              " 'Dear': <gensim.models.keyedvectors.Vocab at 0x7f1bb0207278>,\n",
              " 'bears': <gensim.models.keyedvectors.Vocab at 0x7f1bb0207940>,\n",
              " 'sorry': <gensim.models.keyedvectors.Vocab at 0x7f1bb0207320>,\n",
              " 'lose': <gensim.models.keyedvectors.Vocab at 0x7f1bb0207cf8>,\n",
              " 'miss': <gensim.models.keyedvectors.Vocab at 0x7f1bb0207da0>,\n",
              " 'thinks': <gensim.models.keyedvectors.Vocab at 0x7f1bb0207438>,\n",
              " 'turned': <gensim.models.keyedvectors.Vocab at 0x7f1bb0207080>,\n",
              " 'divided': <gensim.models.keyedvectors.Vocab at 0x7f1bb02075c0>,\n",
              " 'tears': <gensim.models.keyedvectors.Vocab at 0x7f1bb0207f98>,\n",
              " 'smiles': <gensim.models.keyedvectors.Vocab at 0x7f1bb0207048>,\n",
              " 'should': <gensim.models.keyedvectors.Vocab at 0x7f1bb02076d8>,\n",
              " 'acceptable': <gensim.models.keyedvectors.Vocab at 0x7f1bb0207c50>,\n",
              " 'important': <gensim.models.keyedvectors.Vocab at 0x7f1bb0207d68>,\n",
              " 'secure': <gensim.models.keyedvectors.Vocab at 0x7f1bb02075f8>,\n",
              " 'provision': <gensim.models.keyedvectors.Vocab at 0x7f1bb0207470>,\n",
              " 'therefore': <gensim.models.keyedvectors.Vocab at 0x7f1bb0a517f0>,\n",
              " 'allow': <gensim.models.keyedvectors.Vocab at 0x7f1bb0a51940>,\n",
              " 'pain': <gensim.models.keyedvectors.Vocab at 0x7f1bb0a51438>,\n",
              " 'happily': <gensim.models.keyedvectors.Vocab at 0x7f1bb0a51cc0>,\n",
              " 'forgotten': <gensim.models.keyedvectors.Vocab at 0x7f1bb0a51320>,\n",
              " 'matter': <gensim.models.keyedvectors.Vocab at 0x7f1bb0a51b00>,\n",
              " 'considerable': <gensim.models.keyedvectors.Vocab at 0x7f1bb0a51e10>,\n",
              " 'four': <gensim.models.keyedvectors.Vocab at 0x7f1bb0a51a90>,\n",
              " 'proved': <gensim.models.keyedvectors.Vocab at 0x7f1bb0a51470>,\n",
              " 'marry': <gensim.models.keyedvectors.Vocab at 0x7f1bb0a51588>,\n",
              " 'shook': <gensim.models.keyedvectors.Vocab at 0x7f1bb0a51e48>,\n",
              " 'fondly': <gensim.models.keyedvectors.Vocab at 0x7f1bb0a51ba8>,\n",
              " 'replied': <gensim.models.keyedvectors.Vocab at 0x7f1bb0a51908>,\n",
              " 'matches': <gensim.models.keyedvectors.Vocab at 0x7f1bb0a51b70>,\n",
              " 'foretell': <gensim.models.keyedvectors.Vocab at 0x7f1bb0a51358>,\n",
              " 'whatever': <gensim.models.keyedvectors.Vocab at 0x7f1bb0a51128>,\n",
              " 'Pray': <gensim.models.keyedvectors.Vocab at 0x7f1bb0a51ac8>,\n",
              " 'none': <gensim.models.keyedvectors.Vocab at 0x7f1bb0a51518>,\n",
              " 'greatest': <gensim.models.keyedvectors.Vocab at 0x7f1bb0a51dd8>,\n",
              " 'amusement': <gensim.models.keyedvectors.Vocab at 0x7f1bb0a51278>,\n",
              " 'success': <gensim.models.keyedvectors.Vocab at 0x7f1bb0a516d8>,\n",
              " 'widower': <gensim.models.keyedvectors.Vocab at 0x7f1bb0a51da0>,\n",
              " 'perfectly': <gensim.models.keyedvectors.Vocab at 0x7f1bb0a51d68>,\n",
              " 'constantly': <gensim.models.keyedvectors.Vocab at 0x7f1bb0a68e48>,\n",
              " 'occupied': <gensim.models.keyedvectors.Vocab at 0x7f1bb0a68ef0>,\n",
              " 'either': <gensim.models.keyedvectors.Vocab at 0x7f1bb0a68908>,\n",
              " 'friends': <gensim.models.keyedvectors.Vocab at 0x7f1bb0a686d8>,\n",
              " 'wherever': <gensim.models.keyedvectors.Vocab at 0x7f1bb0a68b00>,\n",
              " 'need': <gensim.models.keyedvectors.Vocab at 0x7f1bb0a68518>,\n",
              " 'spend': <gensim.models.keyedvectors.Vocab at 0x7f1bb0a689b0>,\n",
              " 'single': <gensim.models.keyedvectors.Vocab at 0x7f1bb0a68f98>,\n",
              " 'year': <gensim.models.keyedvectors.Vocab at 0x7f1bb0a68eb8>,\n",
              " 'alone': <gensim.models.keyedvectors.Vocab at 0x7f1bb0a68978>,\n",
              " 'Some': <gensim.models.keyedvectors.Vocab at 0x7f1bb0a68668>,\n",
              " 'others': <gensim.models.keyedvectors.Vocab at 0x7f1bb0a68c88>,\n",
              " 'son': <gensim.models.keyedvectors.Vocab at 0x7f1bb0a687f0>,\n",
              " 'uncle': <gensim.models.keyedvectors.Vocab at 0x7f1bb0a68fd0>,\n",
              " 'letting': <gensim.models.keyedvectors.Vocab at 0x7f1bb0a68630>,\n",
              " 'solemn': <gensim.models.keyedvectors.Vocab at 0x7f1bb0a68860>,\n",
              " 'nonsense': <gensim.models.keyedvectors.Vocab at 0x7f1bb0a68f28>,\n",
              " 'subject': <gensim.models.keyedvectors.Vocab at 0x7f1bb0a685f8>,\n",
              " 'believed': <gensim.models.keyedvectors.Vocab at 0x7f1bb0a68240>,\n",
              " 'Ever': <gensim.models.keyedvectors.Vocab at 0x7f1bb0a68780>,\n",
              " 'since': <gensim.models.keyedvectors.Vocab at 0x7f1bb0a68940>,\n",
              " 'met': <gensim.models.keyedvectors.Vocab at 0x7f1bb0a68198>,\n",
              " 'Broadway': <gensim.models.keyedvectors.Vocab at 0x7f1bb0a686a0>,\n",
              " 'Lane': <gensim.models.keyedvectors.Vocab at 0x7f1bb0a68b70>,\n",
              " 'began': <gensim.models.keyedvectors.Vocab at 0x7f1bb032ef98>,\n",
              " 'darted': <gensim.models.keyedvectors.Vocab at 0x7f1bb032e7f0>,\n",
              " 'gallantry': <gensim.models.keyedvectors.Vocab at 0x7f1bb032e898>,\n",
              " 'borrowed': <gensim.models.keyedvectors.Vocab at 0x7f1bb032e400>,\n",
              " 'Farmer': <gensim.models.keyedvectors.Vocab at 0x7f1bb032edd8>,\n",
              " 'planned': <gensim.models.keyedvectors.Vocab at 0x7f1bb032ea20>,\n",
              " 'blessed': <gensim.models.keyedvectors.Vocab at 0x7f1bb032e390>,\n",
              " 'instance': <gensim.models.keyedvectors.Vocab at 0x7f1bb032eda0>,\n",
              " 'leave': <gensim.models.keyedvectors.Vocab at 0x7f1bb032e6a0>,\n",
              " 'making': <gensim.models.keyedvectors.Vocab at 0x7f1bb032ef28>,\n",
              " 'understand': <gensim.models.keyedvectors.Vocab at 0x7f1bb032e128>,\n",
              " ',\\'\"': <gensim.models.keyedvectors.Vocab at 0x7f1bb032e7b8>,\n",
              " 'supposes': <gensim.models.keyedvectors.Vocab at 0x7f1bb032e6d8>,\n",
              " 'endeavour': <gensim.models.keyedvectors.Vocab at 0x7f1bb032eeb8>,\n",
              " 'Your': <gensim.models.keyedvectors.Vocab at 0x7f1bb032e438>,\n",
              " 'properly': <gensim.models.keyedvectors.Vocab at 0x7f1bb032efd0>,\n",
              " 'delicately': <gensim.models.keyedvectors.Vocab at 0x7f1bb032ef60>,\n",
              " 'endeavouring': <gensim.models.keyedvectors.Vocab at 0x7f1bb032e160>,\n",
              " 'bring': <gensim.models.keyedvectors.Vocab at 0x7f1bb032e0b8>,\n",
              " 'worthy': <gensim.models.keyedvectors.Vocab at 0x7f1bb032e518>,\n",
              " 'employment': <gensim.models.keyedvectors.Vocab at 0x7f1bb032ea58>,\n",
              " 'young': <gensim.models.keyedvectors.Vocab at 0x7f1bb032ed68>,\n",
              " 'lady': <gensim.models.keyedvectors.Vocab at 0x7f1bb032e780>,\n",
              " 'imagine': <gensim.models.keyedvectors.Vocab at 0x7f1bb032e320>,\n",
              " 'planning': <gensim.models.keyedvectors.Vocab at 0x7f1bb032eba8>,\n",
              " 'saying': <gensim.models.keyedvectors.Vocab at 0x7f1bb032eb00>,\n",
              " 'yourself': <gensim.models.keyedvectors.Vocab at 0x7f1bb032ee80>,\n",
              " 'idle': <gensim.models.keyedvectors.Vocab at 0x7f1bb032e2e8>,\n",
              " \",'\": <gensim.models.keyedvectors.Vocab at 0x7f1bb032e1d0>,\n",
              " 'why': <gensim.models.keyedvectors.Vocab at 0x7f1bb032e588>,\n",
              " 'talk': <gensim.models.keyedvectors.Vocab at 0x7f1bb032e2b0>,\n",
              " 'Where': <gensim.models.keyedvectors.Vocab at 0x7f1bb032e908>,\n",
              " 'merit': <gensim.models.keyedvectors.Vocab at 0x7f1bb032e860>,\n",
              " 'proud': <gensim.models.keyedvectors.Vocab at 0x7f1bb032eef0>,\n",
              " 'guess': <gensim.models.keyedvectors.Vocab at 0x7f1bb032e278>,\n",
              " '_that_': <gensim.models.keyedvectors.Vocab at 0x7f1bb032e668>,\n",
              " 'can': <gensim.models.keyedvectors.Vocab at 0x7f1bb032ecf8>,\n",
              " 'known': <gensim.models.keyedvectors.Vocab at 0x7f1bb032eb70>,\n",
              " 'triumph': <gensim.models.keyedvectors.Vocab at 0x7f1bb032ea90>,\n",
              " 'cleverer': <gensim.models.keyedvectors.Vocab at 0x7f1bb032ecc0>,\n",
              " 'depend': <gensim.models.keyedvectors.Vocab at 0x7f1bb032e550>,\n",
              " 'merely': <gensim.models.keyedvectors.Vocab at 0x7f1bb034f470>,\n",
              " 'luck': <gensim.models.keyedvectors.Vocab at 0x7f1bb034feb8>,\n",
              " 'There': <gensim.models.keyedvectors.Vocab at 0x7f1bb034f6a0>,\n",
              " 'talent': <gensim.models.keyedvectors.Vocab at 0x7f1bb034f0b8>,\n",
              " 'word': <gensim.models.keyedvectors.Vocab at 0x7f1bb034fcf8>,\n",
              " 'quarrel': <gensim.models.keyedvectors.Vocab at 0x7f1bb034fd68>,\n",
              " 'claim': <gensim.models.keyedvectors.Vocab at 0x7f1bb034fc18>,\n",
              " 'drawn': <gensim.models.keyedvectors.Vocab at 0x7f1bb034fa58>,\n",
              " 'pictures': <gensim.models.keyedvectors.Vocab at 0x7f1bb034fda0>,\n",
              " 'something': <gensim.models.keyedvectors.Vocab at 0x7f1bb034f9e8>,\n",
              " 'nothing': <gensim.models.keyedvectors.Vocab at 0x7f1bb034f5f8>,\n",
              " 'If': <gensim.models.keyedvectors.Vocab at 0x7f1bb034f160>,\n",
              " 'visits': <gensim.models.keyedvectors.Vocab at 0x7f1bb034fd30>,\n",
              " 'given': <gensim.models.keyedvectors.Vocab at 0x7f1bb034f7b8>,\n",
              " 'smoothed': <gensim.models.keyedvectors.Vocab at 0x7f1bb034fcc0>,\n",
              " 'matters': <gensim.models.keyedvectors.Vocab at 0x7f1bb034fbe0>,\n",
              " 'enough': <gensim.models.keyedvectors.Vocab at 0x7f1bb034f7f0>,\n",
              " 'comprehend': <gensim.models.keyedvectors.Vocab at 0x7f1bb034fc50>,\n",
              " 'open': <gensim.models.keyedvectors.Vocab at 0x7f1bb034f208>,\n",
              " 'hearted': <gensim.models.keyedvectors.Vocab at 0x7f1bb034f668>,\n",
              " 'unaffected': <gensim.models.keyedvectors.Vocab at 0x7f1bb034f128>,\n",
              " 'safely': <gensim.models.keyedvectors.Vocab at 0x7f1bb034fe80>,\n",
              " 'manage': <gensim.models.keyedvectors.Vocab at 0x7f1bb034ffd0>,\n",
              " 'likely': <gensim.models.keyedvectors.Vocab at 0x7f1bb034f6d8>,\n",
              " 'harm': <gensim.models.keyedvectors.Vocab at 0x7f1bb034ff60>,\n",
              " 'interference': <gensim.models.keyedvectors.Vocab at 0x7f1bb034f390>,\n",
              " 'rejoined': <gensim.models.keyedvectors.Vocab at 0x7f1bb110de80>,\n",
              " 'understanding': <gensim.models.keyedvectors.Vocab at 0x7f1bb110dda0>,\n",
              " 'pray': <gensim.models.keyedvectors.Vocab at 0x7f1bb110de48>,\n",
              " 'silly': <gensim.models.keyedvectors.Vocab at 0x7f1bb110df60>,\n",
              " 'break': <gensim.models.keyedvectors.Vocab at 0x7f1bb02284e0>,\n",
              " 'circle': <gensim.models.keyedvectors.Vocab at 0x7f1bb0228208>,\n",
              " 'grievously': <gensim.models.keyedvectors.Vocab at 0x7f1bb0228f60>,\n",
              " 'Only': <gensim.models.keyedvectors.Vocab at 0x7f1bb0228ba8>,\n",
              " 'Elton': <gensim.models.keyedvectors.Vocab at 0x7f1bb0228d30>,\n",
              " ',--': <gensim.models.keyedvectors.Vocab at 0x7f1bb02288d0>,\n",
              " 'look': <gensim.models.keyedvectors.Vocab at 0x7f1bb0228c18>,\n",
              " 'whole': <gensim.models.keyedvectors.Vocab at 0x7f1bb0228da0>,\n",
              " 'fitted': <gensim.models.keyedvectors.Vocab at 0x7f1bb0228470>,\n",
              " 'comfortably': <gensim.models.keyedvectors.Vocab at 0x7f1bb02284a8>,\n",
              " 'shame': <gensim.models.keyedvectors.Vocab at 0x7f1bb0228080>,\n",
              " 'longer': <gensim.models.keyedvectors.Vocab at 0x7f1bb02287b8>,\n",
              " 'joining': <gensim.models.keyedvectors.Vocab at 0x7f1bb02280f0>,\n",
              " 'hands': <gensim.models.keyedvectors.Vocab at 0x7f1bb0228a20>,\n",
              " 'same': <gensim.models.keyedvectors.Vocab at 0x7f1bb0228b00>,\n",
              " 'service': <gensim.models.keyedvectors.Vocab at 0x7f1bb0228ef0>,\n",
              " 'shew': <gensim.models.keyedvectors.Vocab at 0x7f1bb0228828>,\n",
              " 'attention': <gensim.models.keyedvectors.Vocab at 0x7f1bb0228f28>,\n",
              " 'ask': <gensim.models.keyedvectors.Vocab at 0x7f1bb0228e80>,\n",
              " 'dare': <gensim.models.keyedvectors.Vocab at 0x7f1bb0228dd8>,\n",
              " 'With': <gensim.models.keyedvectors.Vocab at 0x7f1bb0228eb8>,\n",
              " 'laughing': <gensim.models.keyedvectors.Vocab at 0x7f1bb0228668>,\n",
              " 'fish': <gensim.models.keyedvectors.Vocab at 0x7f1bb0228198>,\n",
              " 'chicken': <gensim.models.keyedvectors.Vocab at 0x7f1bb0228978>,\n",
              " 'chuse': <gensim.models.keyedvectors.Vocab at 0x7f1bb0228cf8>,\n",
              " 'Depend': <gensim.models.keyedvectors.Vocab at 0x7f1bb0228c88>,\n",
              " 'six': <gensim.models.keyedvectors.Vocab at 0x7f1bb0228160>,\n",
              " 'care': <gensim.models.keyedvectors.Vocab at 0x7f1bb0228fd0>,\n",
              " 'II': <gensim.models.keyedvectors.Vocab at 0x7f1bb0228780>,\n",
              " 'native': <gensim.models.keyedvectors.Vocab at 0x7f1bb0a7e4a8>,\n",
              " 'born': <gensim.models.keyedvectors.Vocab at 0x7f1bb0a7e6d8>,\n",
              " 'respectable': <gensim.models.keyedvectors.Vocab at 0x7f1bb0a7e390>,\n",
              " 'generations': <gensim.models.keyedvectors.Vocab at 0x7f1bb0a7ecc0>,\n",
              " 'rising': <gensim.models.keyedvectors.Vocab at 0x7f1bb0a7ee80>,\n",
              " 'gentility': <gensim.models.keyedvectors.Vocab at 0x7f1bb0a7eb00>,\n",
              " 'property': <gensim.models.keyedvectors.Vocab at 0x7f1bb0a7e048>,\n",
              " 'received': <gensim.models.keyedvectors.Vocab at 0x7f1bb0a7e2b0>,\n",
              " 'education': <gensim.models.keyedvectors.Vocab at 0x7f1bb0a7e3c8>,\n",
              " 'succeeding': <gensim.models.keyedvectors.Vocab at 0x7f1bb0a7e710>,\n",
              " 'small': <gensim.models.keyedvectors.Vocab at 0x7f1bb0a7ed30>,\n",
              " 'become': <gensim.models.keyedvectors.Vocab at 0x7f1bb0a7ee10>,\n",
              " 'indisposed': <gensim.models.keyedvectors.Vocab at 0x7f1bb0a7ef28>,\n",
              " 'homely': <gensim.models.keyedvectors.Vocab at 0x7f1bb0a7e128>,\n",
              " 'pursuits': <gensim.models.keyedvectors.Vocab at 0x7f1bb0a7e208>,\n",
              " 'brothers': <gensim.models.keyedvectors.Vocab at 0x7f1bb0a7ef98>,\n",
              " 'engaged': <gensim.models.keyedvectors.Vocab at 0x7f1bb0a7eda0>,\n",
              " 'satisfied': <gensim.models.keyedvectors.Vocab at 0x7f1bb0a7eb70>,\n",
              " 'active': <gensim.models.keyedvectors.Vocab at 0x7f1bb0a7e748>,\n",
              " 'social': <gensim.models.keyedvectors.Vocab at 0x7f1bb0a7e2e8>,\n",
              " 'entering': <gensim.models.keyedvectors.Vocab at 0x7f1bb0a7efd0>,\n",
              " 'militia': <gensim.models.keyedvectors.Vocab at 0x7f1bb0a7ec88>,\n",
              " 'county': <gensim.models.keyedvectors.Vocab at 0x7f1bb0a7e898>,\n",
              " 'embodied': <gensim.models.keyedvectors.Vocab at 0x7f1bb0a7e908>,\n",
              " 'Captain': <gensim.models.keyedvectors.Vocab at 0x7f1bb05af400>,\n",
              " 'general': <gensim.models.keyedvectors.Vocab at 0x7f1bb05afb38>,\n",
              " 'favourite': <gensim.models.keyedvectors.Vocab at 0x7f1bb05afc18>,\n",
              " 'military': <gensim.models.keyedvectors.Vocab at 0x7f1bb05afda0>,\n",
              " 'introduced': <gensim.models.keyedvectors.Vocab at 0x7f1bb05aff60>,\n",
              " 'Churchill': <gensim.models.keyedvectors.Vocab at 0x7f1bb05afc88>,\n",
              " 'Yorkshire': <gensim.models.keyedvectors.Vocab at 0x7f1bb05af198>,\n",
              " 'fell': <gensim.models.keyedvectors.Vocab at 0x7f1bb05afe80>,\n",
              " 'love': <gensim.models.keyedvectors.Vocab at 0x7f1bb05af160>,\n",
              " 'surprized': <gensim.models.keyedvectors.Vocab at 0x7f1bb05af390>,\n",
              " 'except': <gensim.models.keyedvectors.Vocab at 0x7f1bb05af9e8>,\n",
              " 'full': <gensim.models.keyedvectors.Vocab at 0x7f1bb05af588>,\n",
              " 'pride': <gensim.models.keyedvectors.Vocab at 0x7f1bb05af128>,\n",
              " 'importance': <gensim.models.keyedvectors.Vocab at 0x7f1bb05afcf8>,\n",
              " 'connexion': <gensim.models.keyedvectors.Vocab at 0x7f1bb05af710>,\n",
              " 'offend': <gensim.models.keyedvectors.Vocab at 0x7f1bb05af048>,\n",
              " 'command': <gensim.models.keyedvectors.Vocab at 0x7f1bb05af8d0>,\n",
              " 'bore': <gensim.models.keyedvectors.Vocab at 0x7f1bb05af6d8>,\n",
              " 'proportion': <gensim.models.keyedvectors.Vocab at 0x7f1bb05af320>,\n",
              " 'estate': <gensim.models.keyedvectors.Vocab at 0x7f1bb05afc50>,\n",
              " 'took': <gensim.models.keyedvectors.Vocab at 0x7f1bb05afac8>,\n",
              " 'infinite': <gensim.models.keyedvectors.Vocab at 0x7f1bb05af518>,\n",
              " 'mortification': <gensim.models.keyedvectors.Vocab at 0x7f1bb05af4e0>,\n",
              " 'threw': <gensim.models.keyedvectors.Vocab at 0x7f1bb05af5f8>,\n",
              " 'due': <gensim.models.keyedvectors.Vocab at 0x7f1bb05af7b8>,\n",
              " 'decorum': <gensim.models.keyedvectors.Vocab at 0x7f1bb05af940>,\n",
              " 'unsuitable': <gensim.models.keyedvectors.Vocab at 0x7f1bb05afb00>,\n",
              " 'produce': <gensim.models.keyedvectors.Vocab at 0x7f1bb05af898>,\n",
              " 'ought': <gensim.models.keyedvectors.Vocab at 0x7f1bb05af978>,\n",
              " 'whose': <gensim.models.keyedvectors.Vocab at 0x7f1bb05afeb8>,\n",
              " 'warm': <gensim.models.keyedvectors.Vocab at 0x7f1bb05aff28>,\n",
              " 'sweet': <gensim.models.keyedvectors.Vocab at 0x7f1bb05af668>,\n",
              " 'return': <gensim.models.keyedvectors.Vocab at 0x7f1bb05afbe0>,\n",
              " 'goodness': <gensim.models.keyedvectors.Vocab at 0x7f1bb05af780>,\n",
              " 'spirit': <gensim.models.keyedvectors.Vocab at 0x7f1bb05afe48>,\n",
              " 'resolution': <gensim.models.keyedvectors.Vocab at 0x7f1bb05af9b0>,\n",
              " 'pursue': <gensim.models.keyedvectors.Vocab at 0x7f1bb05afa58>,\n",
              " 'refrain': <gensim.models.keyedvectors.Vocab at 0x7f1bb05af2e8>,\n",
              " 'unreasonable': <gensim.models.keyedvectors.Vocab at 0x7f1bb05af1d0>,\n",
              " 'anger': <gensim.models.keyedvectors.Vocab at 0x7f1bb05afb70>,\n",
              " 'missing': <gensim.models.keyedvectors.Vocab at 0x7f1bb05af0f0>,\n",
              " 'former': <gensim.models.keyedvectors.Vocab at 0x7f1bb05afcc0>,\n",
              " 'income': <gensim.models.keyedvectors.Vocab at 0x7f1bb05af6a0>,\n",
              " 'still': <gensim.models.keyedvectors.Vocab at 0x7f1bb03dfe10>,\n",
              " 'comparison': <gensim.models.keyedvectors.Vocab at 0x7f1bb03dffd0>,\n",
              " 'Enscombe': <gensim.models.keyedvectors.Vocab at 0x7f1bb03dfb38>,\n",
              " 'cease': <gensim.models.keyedvectors.Vocab at 0x7f1bb03df630>,\n",
              " 'once': <gensim.models.keyedvectors.Vocab at 0x7f1bb03df550>,\n",
              " 'considered': <gensim.models.keyedvectors.Vocab at 0x7f1bb03df2b0>,\n",
              " 'especially': <gensim.models.keyedvectors.Vocab at 0x7f1bb03dfeb8>,\n",
              " 'Churchills': <gensim.models.keyedvectors.Vocab at 0x7f1bb03dfc18>,\n",
              " 'amazing': <gensim.models.keyedvectors.Vocab at 0x7f1bb03df4e0>,\n",
              " 'worst': <gensim.models.keyedvectors.Vocab at 0x7f1bb03dfa58>,\n",
              " 'bargain': <gensim.models.keyedvectors.Vocab at 0x7f1bb03df780>,\n",
              " 'poorer': <gensim.models.keyedvectors.Vocab at 0x7f1bb03df4a8>,\n",
              " 'child': <gensim.models.keyedvectors.Vocab at 0x7f1bb03df8d0>,\n",
              " 'From': <gensim.models.keyedvectors.Vocab at 0x7f1bb03dfcc0>,\n",
              " 'expense': <gensim.models.keyedvectors.Vocab at 0x7f1bb03dff98>,\n",
              " 'relieved': <gensim.models.keyedvectors.Vocab at 0x7f1bb03dfb70>,\n",
              " 'boy': <gensim.models.keyedvectors.Vocab at 0x7f1bb03df080>,\n",
              " 'additional': <gensim.models.keyedvectors.Vocab at 0x7f1bb03df940>,\n",
              " 'softening': <gensim.models.keyedvectors.Vocab at 0x7f1bb03dfe48>,\n",
              " 'lingering': <gensim.models.keyedvectors.Vocab at 0x7f1bb03dfc50>,\n",
              " 'illness': <gensim.models.keyedvectors.Vocab at 0x7f1bb03df978>,\n",
              " 'reconciliation': <gensim.models.keyedvectors.Vocab at 0x7f1bb03df6a0>,\n",
              " 'kindred': <gensim.models.keyedvectors.Vocab at 0x7f1bb03df470>,\n",
              " 'offered': <gensim.models.keyedvectors.Vocab at 0x7f1bb03df710>,\n",
              " 'charge': <gensim.models.keyedvectors.Vocab at 0x7f1bb03df400>,\n",
              " 'Frank': <gensim.models.keyedvectors.Vocab at 0x7f1bb03df358>,\n",
              " 'decease': <gensim.models.keyedvectors.Vocab at 0x7f1bb03dfba8>,\n",
              " 'scruples': <gensim.models.keyedvectors.Vocab at 0x7f1bb03dfac8>,\n",
              " 'reluctance': <gensim.models.keyedvectors.Vocab at 0x7f1bb03df198>,\n",
              " 'supposed': <gensim.models.keyedvectors.Vocab at 0x7f1bb03dfd30>,\n",
              " 'overcome': <gensim.models.keyedvectors.Vocab at 0x7f1bb03df048>,\n",
              " 'considerations': <gensim.models.keyedvectors.Vocab at 0x7f1bb03df320>,\n",
              " 'wealth': <gensim.models.keyedvectors.Vocab at 0x7f1bb03df5c0>,\n",
              " 'seek': <gensim.models.keyedvectors.Vocab at 0x7f1bb03df908>,\n",
              " 'improve': <gensim.models.keyedvectors.Vocab at 0x7f1bb03df1d0>,\n",
              " 'complete': <gensim.models.keyedvectors.Vocab at 0x7f1bb03dff28>,\n",
              " 'became': <gensim.models.keyedvectors.Vocab at 0x7f1bb03df7b8>,\n",
              " 'desirable': <gensim.models.keyedvectors.Vocab at 0x7f1bb03df6d8>,\n",
              " 'quitted': <gensim.models.keyedvectors.Vocab at 0x7f1bb03dfcf8>,\n",
              " 'trade': <gensim.models.keyedvectors.Vocab at 0x7f1bb0344ac8>,\n",
              " 'established': <gensim.models.keyedvectors.Vocab at 0x7f1bb0344828>,\n",
              " 'favourable': <gensim.models.keyedvectors.Vocab at 0x7f1bb0344c50>,\n",
              " ...}"
            ]
          },
          "metadata": {
            "tags": []
          },
          "execution_count": 41
        }
      ]
    },
    {
      "cell_type": "code",
      "metadata": {
        "id": "2lorKTqi5LM2",
        "colab_type": "code",
        "colab": {}
      },
      "source": [
        "tsne = TSNE(n_components=2, n_iter=1000)"
      ],
      "execution_count": 0,
      "outputs": []
    },
    {
      "cell_type": "code",
      "metadata": {
        "id": "bPr-ES9e5cus",
        "colab_type": "code",
        "colab": {}
      },
      "source": [
        "X_2d = tsne.fit_transform(X)"
      ],
      "execution_count": 0,
      "outputs": []
    },
    {
      "cell_type": "code",
      "metadata": {
        "id": "9qRqkylN5m3j",
        "colab_type": "code",
        "colab": {}
      },
      "source": [
        "coords_df = pd.DataFrame(X_2d, columns=['x','y'])"
      ],
      "execution_count": 0,
      "outputs": []
    },
    {
      "cell_type": "code",
      "metadata": {
        "id": "elA0c0PB9L3L",
        "colab_type": "code",
        "colab": {}
      },
      "source": [
        "coords_df['token'] = model.wv.vocab.keys()"
      ],
      "execution_count": 0,
      "outputs": []
    },
    {
      "cell_type": "code",
      "metadata": {
        "id": "6nBb5BrF9Va1",
        "colab_type": "code",
        "colab": {
          "base_uri": "https://localhost:8080/",
          "height": 198
        },
        "outputId": "e4eafae4-a405-491b-f54e-bd8a804ceab4"
      },
      "source": [
        "coords_df.head()"
      ],
      "execution_count": 46,
      "outputs": [
        {
          "output_type": "execute_result",
          "data": {
            "text/html": [
              "<div>\n",
              "<style scoped>\n",
              "    .dataframe tbody tr th:only-of-type {\n",
              "        vertical-align: middle;\n",
              "    }\n",
              "\n",
              "    .dataframe tbody tr th {\n",
              "        vertical-align: top;\n",
              "    }\n",
              "\n",
              "    .dataframe thead th {\n",
              "        text-align: right;\n",
              "    }\n",
              "</style>\n",
              "<table border=\"1\" class=\"dataframe\">\n",
              "  <thead>\n",
              "    <tr style=\"text-align: right;\">\n",
              "      <th></th>\n",
              "      <th>x</th>\n",
              "      <th>y</th>\n",
              "      <th>token</th>\n",
              "    </tr>\n",
              "  </thead>\n",
              "  <tbody>\n",
              "    <tr>\n",
              "      <th>0</th>\n",
              "      <td>49.865784</td>\n",
              "      <td>27.223450</td>\n",
              "      <td>[</td>\n",
              "    </tr>\n",
              "    <tr>\n",
              "      <th>1</th>\n",
              "      <td>-0.689195</td>\n",
              "      <td>63.096714</td>\n",
              "      <td>Emma</td>\n",
              "    </tr>\n",
              "    <tr>\n",
              "      <th>2</th>\n",
              "      <td>-31.938572</td>\n",
              "      <td>25.525629</td>\n",
              "      <td>by</td>\n",
              "    </tr>\n",
              "    <tr>\n",
              "      <th>3</th>\n",
              "      <td>-5.006139</td>\n",
              "      <td>63.469112</td>\n",
              "      <td>Jane</td>\n",
              "    </tr>\n",
              "    <tr>\n",
              "      <th>4</th>\n",
              "      <td>49.802631</td>\n",
              "      <td>27.214870</td>\n",
              "      <td>]</td>\n",
              "    </tr>\n",
              "  </tbody>\n",
              "</table>\n",
              "</div>"
            ],
            "text/plain": [
              "           x          y token\n",
              "0  49.865784  27.223450     [\n",
              "1  -0.689195  63.096714  Emma\n",
              "2 -31.938572  25.525629    by\n",
              "3  -5.006139  63.469112  Jane\n",
              "4  49.802631  27.214870     ]"
            ]
          },
          "metadata": {
            "tags": []
          },
          "execution_count": 46
        }
      ]
    },
    {
      "cell_type": "code",
      "metadata": {
        "id": "rt7avsHY9Y8-",
        "colab_type": "code",
        "colab": {}
      },
      "source": [
        "coords_df.to_csv('raw_gutenberg_tsne.csv', index=False)"
      ],
      "execution_count": 0,
      "outputs": []
    },
    {
      "cell_type": "markdown",
      "metadata": {
        "id": "hdtbGJeU-EVw",
        "colab_type": "text"
      },
      "source": [
        "### Visualize 2D representatio of word vectors"
      ]
    },
    {
      "cell_type": "code",
      "metadata": {
        "id": "NFZjCR11-IvR",
        "colab_type": "code",
        "colab": {}
      },
      "source": [
        "coords_df = pd.read_csv('raw_gutenberg_tsne.csv')"
      ],
      "execution_count": 0,
      "outputs": []
    },
    {
      "cell_type": "code",
      "metadata": {
        "id": "-vWKEvuA-Urg",
        "colab_type": "code",
        "colab": {
          "base_uri": "https://localhost:8080/",
          "height": 198
        },
        "outputId": "c368fe55-ec8a-46ec-af3c-18cef332b932"
      },
      "source": [
        "coords_df.head()"
      ],
      "execution_count": 49,
      "outputs": [
        {
          "output_type": "execute_result",
          "data": {
            "text/html": [
              "<div>\n",
              "<style scoped>\n",
              "    .dataframe tbody tr th:only-of-type {\n",
              "        vertical-align: middle;\n",
              "    }\n",
              "\n",
              "    .dataframe tbody tr th {\n",
              "        vertical-align: top;\n",
              "    }\n",
              "\n",
              "    .dataframe thead th {\n",
              "        text-align: right;\n",
              "    }\n",
              "</style>\n",
              "<table border=\"1\" class=\"dataframe\">\n",
              "  <thead>\n",
              "    <tr style=\"text-align: right;\">\n",
              "      <th></th>\n",
              "      <th>x</th>\n",
              "      <th>y</th>\n",
              "      <th>token</th>\n",
              "    </tr>\n",
              "  </thead>\n",
              "  <tbody>\n",
              "    <tr>\n",
              "      <th>0</th>\n",
              "      <td>49.865784</td>\n",
              "      <td>27.223450</td>\n",
              "      <td>[</td>\n",
              "    </tr>\n",
              "    <tr>\n",
              "      <th>1</th>\n",
              "      <td>-0.689195</td>\n",
              "      <td>63.096714</td>\n",
              "      <td>Emma</td>\n",
              "    </tr>\n",
              "    <tr>\n",
              "      <th>2</th>\n",
              "      <td>-31.938572</td>\n",
              "      <td>25.525629</td>\n",
              "      <td>by</td>\n",
              "    </tr>\n",
              "    <tr>\n",
              "      <th>3</th>\n",
              "      <td>-5.006139</td>\n",
              "      <td>63.469112</td>\n",
              "      <td>Jane</td>\n",
              "    </tr>\n",
              "    <tr>\n",
              "      <th>4</th>\n",
              "      <td>49.802630</td>\n",
              "      <td>27.214870</td>\n",
              "      <td>]</td>\n",
              "    </tr>\n",
              "  </tbody>\n",
              "</table>\n",
              "</div>"
            ],
            "text/plain": [
              "           x          y token\n",
              "0  49.865784  27.223450     [\n",
              "1  -0.689195  63.096714  Emma\n",
              "2 -31.938572  25.525629    by\n",
              "3  -5.006139  63.469112  Jane\n",
              "4  49.802630  27.214870     ]"
            ]
          },
          "metadata": {
            "tags": []
          },
          "execution_count": 49
        }
      ]
    },
    {
      "cell_type": "code",
      "metadata": {
        "id": "VwDfNJQT-YH3",
        "colab_type": "code",
        "colab": {
          "base_uri": "https://localhost:8080/",
          "height": 497
        },
        "outputId": "5803f15a-db80-46aa-f3c0-a5967e26e2ce"
      },
      "source": [
        "_ = coords_df.plot.scatter('x', 'y',figsize = (8,8), marker='.',s=10, alpha=0.2)"
      ],
      "execution_count": 50,
      "outputs": [
        {
          "output_type": "display_data",
          "data": {
            "image/png": "[encoded data removed]",
            "text/plain": [
              "<Figure size 576x576 with 1 Axes>"
            ]
          },
          "metadata": {
            "tags": []
          }
        }
      ]
    },
    {
      "cell_type": "code",
      "metadata": {
        "id": "MiTekHAF-1qI",
        "colab_type": "code",
        "colab": {}
      },
      "source": [
        "output_notebook()"
      ],
      "execution_count": 0,
      "outputs": []
    },
    {
      "cell_type": "code",
      "metadata": {
        "id": "gEgY-dou_CPz",
        "colab_type": "code",
        "colab": {}
      },
      "source": [
        "subset_df = coords_df.sample(n=5000)"
      ],
      "execution_count": 0,
      "outputs": []
    },
    {
      "cell_type": "code",
      "metadata": {
        "id": "cy6X5aAT_HST",
        "colab_type": "code",
        "colab": {}
      },
      "source": [
        "p = figure(plot_width=600, plot_height=600)\n",
        "_ = p.text(x=subset_df.x, y = subset_df.y, text = subset_df.token)"
      ],
      "execution_count": 0,
      "outputs": []
    },
    {
      "cell_type": "code",
      "metadata": {
        "id": "OKiinjvp_aA6",
        "colab_type": "code",
        "colab": {
          "base_uri": "https://localhost:8080/",
          "height": 617
        },
        "outputId": "6b64bbaf-1ead-40ec-d384-4fa10d4f0be0"
      },
      "source": [
        "show(p)"
      ],
      "execution_count": 57,
      "outputs": [
        {
          "output_type": "display_data",
          "data": {
            "application/javascript": [
              "\n",
              "(function(root) {\n",
              "  function now() {\n",
              "    return new Date();\n",
              "  }\n",
              "\n",
              "  var force = true;\n",
              "\n",
              "  if (typeof root._bokeh_onload_callbacks === \"undefined\" || force === true) {\n",
              "    root._bokeh_onload_callbacks = [];\n",
              "    root._bokeh_is_loading = undefined;\n",
              "  }\n",
              "\n",
              "  var JS_MIME_TYPE = 'application/javascript';\n",
              "  var HTML_MIME_TYPE = 'text/html';\n",
              "  var EXEC_MIME_TYPE = 'application/vnd.bokehjs_exec.v0+json';\n",
              "  var CLASS_NAME = 'output_bokeh rendered_html';\n",
              "\n",
              "  /**\n",
              "   * Render data to the DOM node\n",
              "   */\n",
              "  function render(props, node) {\n",
              "    var script = document.createElement(\"script\");\n",
              "    node.appendChild(script);\n",
              "  }\n",
              "\n",
              "  /**\n",
              "   * Handle when an output is cleared or removed\n",
              "   */\n",
              "  function handleClearOutput(event, handle) {\n",
              "    var cell = handle.cell;\n",
              "\n",
              "    var id = cell.output_area._bokeh_element_id;\n",
              "    var server_id = cell.output_area._bokeh_server_id;\n",
              "    // Clean up Bokeh references\n",
              "    if (id != null && id in Bokeh.index) {\n",
              "      Bokeh.index[id].model.document.clear();\n",
              "      delete Bokeh.index[id];\n",
              "    }\n",
              "\n",
              "    if (server_id !== undefined) {\n",
              "      // Clean up Bokeh references\n",
              "      var cmd = \"from bokeh.io.state import curstate; print(curstate().uuid_to_server['\" + server_id + \"'].get_sessions()[0].document.roots[0]._id)\";\n",
              "      cell.notebook.kernel.execute(cmd, {\n",
              "        iopub: {\n",
              "          output: function(msg) {\n",
              "            var id = msg.content.text.trim();\n",
              "            if (id in Bokeh.index) {\n",
              "              Bokeh.index[id].model.document.clear();\n",
              "              delete Bokeh.index[id];\n",
              "            }\n",
              "          }\n",
              "        }\n",
              "      });\n",
              "      // Destroy server and session\n",
              "      var cmd = \"import bokeh.io.notebook as ion; ion.destroy_server('\" + server_id + \"')\";\n",
              "      cell.notebook.kernel.execute(cmd);\n",
              "    }\n",
              "  }\n",
              "\n",
              "  /**\n",
              "   * Handle when a new output is added\n",
              "   */\n",
              "  function handleAddOutput(event, handle) {\n",
              "    var output_area = handle.output_area;\n",
              "    var output = handle.output;\n",
              "\n",
              "    // limit handleAddOutput to display_data with EXEC_MIME_TYPE content only\n",
              "    if ((output.output_type != \"display_data\") || (!output.data.hasOwnProperty(EXEC_MIME_TYPE))) {\n",
              "      return\n",
              "    }\n",
              "\n",
              "    var toinsert = output_area.element.find(\".\" + CLASS_NAME.split(' ')[0]);\n",
              "\n",
              "    if (output.metadata[EXEC_MIME_TYPE][\"id\"] !== undefined) {\n",
              "      toinsert[toinsert.length - 1].firstChild.textContent = output.data[JS_MIME_TYPE];\n",
              "      // store reference to embed id on output_area\n",
              "      output_area._bokeh_element_id = output.metadata[EXEC_MIME_TYPE][\"id\"];\n",
              "    }\n",
              "    if (output.metadata[EXEC_MIME_TYPE][\"server_id\"] !== undefined) {\n",
              "      var bk_div = document.createElement(\"div\");\n",
              "      bk_div.innerHTML = output.data[HTML_MIME_TYPE];\n",
              "      var script_attrs = bk_div.children[0].attributes;\n",
              "      for (var i = 0; i < script_attrs.length; i++) {\n",
              "        toinsert[toinsert.length - 1].firstChild.setAttribute(script_attrs[i].name, script_attrs[i].value);\n",
              "      }\n",
              "      // store reference to server id on output_area\n",
              "      output_area._bokeh_server_id = output.metadata[EXEC_MIME_TYPE][\"server_id\"];\n",
              "    }\n",
              "  }\n",
              "\n",
              "  function register_renderer(events, OutputArea) {\n",
              "\n",
              "    function append_mime(data, metadata, element) {\n",
              "      // create a DOM node to render to\n",
              "      var toinsert = this.create_output_subarea(\n",
              "        metadata,\n",
              "        CLASS_NAME,\n",
              "        EXEC_MIME_TYPE\n",
              "      );\n",
              "      this.keyboard_manager.register_events(toinsert);\n",
              "      // Render to node\n",
              "      var props = {data: data, metadata: metadata[EXEC_MIME_TYPE]};\n",
              "      render(props, toinsert[toinsert.length - 1]);\n",
              "      element.append(toinsert);\n",
              "      return toinsert\n",
              "    }\n",
              "\n",
              "    /* Handle when an output is cleared or removed */\n",
              "    events.on('clear_output.CodeCell', handleClearOutput);\n",
              "    events.on('delete.Cell', handleClearOutput);\n",
              "\n",
              "    /* Handle when a new output is added */\n",
              "    events.on('output_added.OutputArea', handleAddOutput);\n",
              "\n",
              "    /**\n",
              "     * Register the mime type and append_mime function with output_area\n",
              "     */\n",
              "    OutputArea.prototype.register_mime_type(EXEC_MIME_TYPE, append_mime, {\n",
              "      /* Is output safe? */\n",
              "      safe: true,\n",
              "      /* Index of renderer in `output_area.display_order` */\n",
              "      index: 0\n",
              "    });\n",
              "  }\n",
              "\n",
              "  // register the mime type if in Jupyter Notebook environment and previously unregistered\n",
              "  if (root.Jupyter !== undefined) {\n",
              "    var events = require('base/js/events');\n",
              "    var OutputArea = require('notebook/js/outputarea').OutputArea;\n",
              "\n",
              "    if (OutputArea.prototype.mime_types().indexOf(EXEC_MIME_TYPE) == -1) {\n",
              "      register_renderer(events, OutputArea);\n",
              "    }\n",
              "  }\n",
              "\n",
              "  \n",
              "  if (typeof (root._bokeh_timeout) === \"undefined\" || force === true) {\n",
              "    root._bokeh_timeout = Date.now() + 5000;\n",
              "    root._bokeh_failed_load = false;\n",
              "  }\n",
              "\n",
              "  var NB_LOAD_WARNING = {'data': {'text/html':\n",
              "     \"<div style='background-color: #fdd'>\\n\"+\n",
              "     \"<p>\\n\"+\n",
              "     \"BokehJS does not appear to have successfully loaded. If loading BokehJS from CDN, this \\n\"+\n",
              "     \"may be due to a slow or bad network connection. Possible fixes:\\n\"+\n",
              "     \"</p>\\n\"+\n",
              "     \"<ul>\\n\"+\n",
              "     \"<li>re-rerun `output_notebook()` to attempt to load from CDN again, or</li>\\n\"+\n",
              "     \"<li>use INLINE resources instead, as so:</li>\\n\"+\n",
              "     \"</ul>\\n\"+\n",
              "     \"<code>\\n\"+\n",
              "     \"from bokeh.resources import INLINE\\n\"+\n",
              "     \"output_notebook(resources=INLINE)\\n\"+\n",
              "     \"</code>\\n\"+\n",
              "     \"</div>\"}};\n",
              "\n",
              "  function display_loaded() {\n",
              "    var el = document.getElementById(null);\n",
              "    if (el != null) {\n",
              "      el.textContent = \"BokehJS is loading...\";\n",
              "    }\n",
              "    if (root.Bokeh !== undefined) {\n",
              "      if (el != null) {\n",
              "        el.textContent = \"BokehJS \" + root.Bokeh.version + \" successfully loaded.\";\n",
              "      }\n",
              "    } else if (Date.now() < root._bokeh_timeout) {\n",
              "      setTimeout(display_loaded, 100)\n",
              "    }\n",
              "  }\n",
              "\n",
              "\n",
              "  function run_callbacks() {\n",
              "    try {\n",
              "      root._bokeh_onload_callbacks.forEach(function(callback) {\n",
              "        if (callback != null)\n",
              "          callback();\n",
              "      });\n",
              "    } finally {\n",
              "      delete root._bokeh_onload_callbacks\n",
              "    }\n",
              "    console.debug(\"Bokeh: all callbacks have finished\");\n",
              "  }\n",
              "\n",
              "  function load_libs(css_urls, js_urls, callback) {\n",
              "    if (css_urls == null) css_urls = [];\n",
              "    if (js_urls == null) js_urls = [];\n",
              "\n",
              "    root._bokeh_onload_callbacks.push(callback);\n",
              "    if (root._bokeh_is_loading > 0) {\n",
              "      console.debug(\"Bokeh: BokehJS is being loaded, scheduling callback at\", now());\n",
              "      return null;\n",
              "    }\n",
              "    if (js_urls == null || js_urls.length === 0) {\n",
              "      run_callbacks();\n",
              "      return null;\n",
              "    }\n",
              "    console.debug(\"Bokeh: BokehJS not loaded, scheduling load and callback at\", now());\n",
              "    root._bokeh_is_loading = css_urls.length + js_urls.length;\n",
              "\n",
              "    function on_load() {\n",
              "      root._bokeh_is_loading--;\n",
              "      if (root._bokeh_is_loading === 0) {\n",
              "        console.debug(\"Bokeh: all BokehJS libraries/stylesheets loaded\");\n",
              "        run_callbacks()\n",
              "      }\n",
              "    }\n",
              "\n",
              "    function on_error() {\n",
              "      console.error(\"failed to load \" + url);\n",
              "    }\n",
              "\n",
              "    for (var i = 0; i < css_urls.length; i++) {\n",
              "      var url = css_urls[i];\n",
              "      const element = document.createElement(\"link\");\n",
              "      element.onload = on_load;\n",
              "      element.onerror = on_error;\n",
              "      element.rel = \"stylesheet\";\n",
              "      element.type = \"text/css\";\n",
              "      element.href = url;\n",
              "      console.debug(\"Bokeh: injecting link tag for BokehJS stylesheet: \", url);\n",
              "      document.body.appendChild(element);\n",
              "    }\n",
              "\n",
              "    for (var i = 0; i < js_urls.length; i++) {\n",
              "      var url = js_urls[i];\n",
              "      var element = document.createElement('script');\n",
              "      element.onload = on_load;\n",
              "      element.onerror = on_error;\n",
              "      element.async = false;\n",
              "      element.src = url;\n",
              "      console.debug(\"Bokeh: injecting script tag for BokehJS library: \", url);\n",
              "      document.head.appendChild(element);\n",
              "    }\n",
              "  };\n",
              "\n",
              "  function inject_raw_css(css) {\n",
              "    const element = document.createElement(\"style\");\n",
              "    element.appendChild(document.createTextNode(css));\n",
              "    document.body.appendChild(element);\n",
              "  }\n",
              "\n",
              "  \n",
              "  var js_urls = [\"https://cdn.pydata.org/bokeh/release/bokeh-1.4.0.min.js\", \"https://cdn.pydata.org/bokeh/release/bokeh-widgets-1.4.0.min.js\", \"https://cdn.pydata.org/bokeh/release/bokeh-tables-1.4.0.min.js\", \"https://cdn.pydata.org/bokeh/release/bokeh-gl-1.4.0.min.js\"];\n",
              "  var css_urls = [];\n",
              "  \n",
              "\n",
              "  var inline_js = [\n",
              "    function(Bokeh) {\n",
              "      Bokeh.set_log_level(\"info\");\n",
              "    },\n",
              "    function(Bokeh) {\n",
              "    \n",
              "    \n",
              "    }\n",
              "  ];\n",
              "\n",
              "  function run_inline_js() {\n",
              "    \n",
              "    if (root.Bokeh !== undefined || force === true) {\n",
              "      \n",
              "    for (var i = 0; i < inline_js.length; i++) {\n",
              "      inline_js[i].call(root, root.Bokeh);\n",
              "    }\n",
              "    } else if (Date.now() < root._bokeh_timeout) {\n",
              "      setTimeout(run_inline_js, 100);\n",
              "    } else if (!root._bokeh_failed_load) {\n",
              "      console.log(\"Bokeh: BokehJS failed to load within specified timeout.\");\n",
              "      root._bokeh_failed_load = true;\n",
              "    } else if (force !== true) {\n",
              "      var cell = $(document.getElementById(null)).parents('.cell').data().cell;\n",
              "      cell.output_area.append_execute_result(NB_LOAD_WARNING)\n",
              "    }\n",
              "\n",
              "  }\n",
              "\n",
              "  if (root._bokeh_is_loading === 0) {\n",
              "    console.debug(\"Bokeh: BokehJS loaded, going straight to plotting\");\n",
              "    run_inline_js();\n",
              "  } else {\n",
              "    load_libs(css_urls, js_urls, function() {\n",
              "      console.debug(\"Bokeh: BokehJS plotting callback run at\", now());\n",
              "      run_inline_js();\n",
              "    });\n",
              "  }\n",
              "}(window));"
            ],
            "application/vnd.bokehjs_load.v0+json": "\n(function(root) {\n  function now() {\n    return new Date();\n  }\n\n  var force = true;\n\n  if (typeof root._bokeh_onload_callbacks === \"undefined\" || force === true) {\n    root._bokeh_onload_callbacks = [];\n    root._bokeh_is_loading = undefined;\n  }\n\n  \n\n  \n  if (typeof (root._bokeh_timeout) === \"undefined\" || force === true) {\n    root._bokeh_timeout = Date.now() + 5000;\n    root._bokeh_failed_load = false;\n  }\n\n  var NB_LOAD_WARNING = {'data': {'text/html':\n     \"<div style='background-color: #fdd'>\\n\"+\n     \"<p>\\n\"+\n     \"BokehJS does not appear to have successfully loaded. If loading BokehJS from CDN, this \\n\"+\n     \"may be due to a slow or bad network connection. Possible fixes:\\n\"+\n     \"</p>\\n\"+\n     \"<ul>\\n\"+\n     \"<li>re-rerun `output_notebook()` to attempt to load from CDN again, or</li>\\n\"+\n     \"<li>use INLINE resources instead, as so:</li>\\n\"+\n     \"</ul>\\n\"+\n     \"<code>\\n\"+\n     \"from bokeh.resources import INLINE\\n\"+\n     \"output_notebook(resources=INLINE)\\n\"+\n     \"</code>\\n\"+\n     \"</div>\"}};\n\n  function display_loaded() {\n    var el = document.getElementById(null);\n    if (el != null) {\n      el.textContent = \"BokehJS is loading...\";\n    }\n    if (root.Bokeh !== undefined) {\n      if (el != null) {\n        el.textContent = \"BokehJS \" + root.Bokeh.version + \" successfully loaded.\";\n      }\n    } else if (Date.now() < root._bokeh_timeout) {\n      setTimeout(display_loaded, 100)\n    }\n  }\n\n\n  function run_callbacks() {\n    try {\n      root._bokeh_onload_callbacks.forEach(function(callback) {\n        if (callback != null)\n          callback();\n      });\n    } finally {\n      delete root._bokeh_onload_callbacks\n    }\n    console.debug(\"Bokeh: all callbacks have finished\");\n  }\n\n  function load_libs(css_urls, js_urls, callback) {\n    if (css_urls == null) css_urls = [];\n    if (js_urls == null) js_urls = [];\n\n    root._bokeh_onload_callbacks.push(callback);\n    if (root._bokeh_is_loading > 0) {\n      console.debug(\"Bokeh: BokehJS is being loaded, scheduling callback at\", now());\n      return null;\n    }\n    if (js_urls == null || js_urls.length === 0) {\n      run_callbacks();\n      return null;\n    }\n    console.debug(\"Bokeh: BokehJS not loaded, scheduling load and callback at\", now());\n    root._bokeh_is_loading = css_urls.length + js_urls.length;\n\n    function on_load() {\n      root._bokeh_is_loading--;\n      if (root._bokeh_is_loading === 0) {\n        console.debug(\"Bokeh: all BokehJS libraries/stylesheets loaded\");\n        run_callbacks()\n      }\n    }\n\n    function on_error() {\n      console.error(\"failed to load \" + url);\n    }\n\n    for (var i = 0; i < css_urls.length; i++) {\n      var url = css_urls[i];\n      const element = document.createElement(\"link\");\n      element.onload = on_load;\n      element.onerror = on_error;\n      element.rel = \"stylesheet\";\n      element.type = \"text/css\";\n      element.href = url;\n      console.debug(\"Bokeh: injecting link tag for BokehJS stylesheet: \", url);\n      document.body.appendChild(element);\n    }\n\n    for (var i = 0; i < js_urls.length; i++) {\n      var url = js_urls[i];\n      var element = document.createElement('script');\n      element.onload = on_load;\n      element.onerror = on_error;\n      element.async = false;\n      element.src = url;\n      console.debug(\"Bokeh: injecting script tag for BokehJS library: \", url);\n      document.head.appendChild(element);\n    }\n  };\n\n  function inject_raw_css(css) {\n    const element = document.createElement(\"style\");\n    element.appendChild(document.createTextNode(css));\n    document.body.appendChild(element);\n  }\n\n  \n  var js_urls = [\"https://cdn.pydata.org/bokeh/release/bokeh-1.4.0.min.js\", \"https://cdn.pydata.org/bokeh/release/bokeh-widgets-1.4.0.min.js\", \"https://cdn.pydata.org/bokeh/release/bokeh-tables-1.4.0.min.js\", \"https://cdn.pydata.org/bokeh/release/bokeh-gl-1.4.0.min.js\"];\n  var css_urls = [];\n  \n\n  var inline_js = [\n    function(Bokeh) {\n      Bokeh.set_log_level(\"info\");\n    },\n    function(Bokeh) {\n    \n    \n    }\n  ];\n\n  function run_inline_js() {\n    \n    if (root.Bokeh !== undefined || force === true) {\n      \n    for (var i = 0; i < inline_js.length; i++) {\n      inline_js[i].call(root, root.Bokeh);\n    }\n    } else if (Date.now() < root._bokeh_timeout) {\n      setTimeout(run_inline_js, 100);\n    } else if (!root._bokeh_failed_load) {\n      console.log(\"Bokeh: BokehJS failed to load within specified timeout.\");\n      root._bokeh_failed_load = true;\n    } else if (force !== true) {\n      var cell = $(document.getElementById(null)).parents('.cell').data().cell;\n      cell.output_area.append_execute_result(NB_LOAD_WARNING)\n    }\n\n  }\n\n  if (root._bokeh_is_loading === 0) {\n    console.debug(\"Bokeh: BokehJS loaded, going straight to plotting\");\n    run_inline_js();\n  } else {\n    load_libs(css_urls, js_urls, function() {\n      console.debug(\"Bokeh: BokehJS plotting callback run at\", now());\n      run_inline_js();\n    });\n  }\n}(window));"
          },
          "metadata": {
            "tags": []
          }
        },
        {
          "output_type": "display_data",
          "data": {
            "text/html": [
              "\n",
              "\n",
              "\n",
              "\n",
              "\n",
              "\n",
              "  <div class=\"bk-root\" id=\"1a620df4-4453-4525-b682-250ed783ff9e\" data-root-id=\"1033\"></div>\n"
            ]
          },
          "metadata": {
            "tags": []
          }
        },
        {
          "output_type": "display_data",
          "data": {
            "application/javascript": [
              "(function(root) {\n",
              "  function embed_document(root) {\n",
              "    \n",
              "  var docs_json = {\"2ab750ae-a2e4-4339-bbb0-38d849ff8525\":{\"roots\":{\"references\":[{\"attributes\":{\"below\":[{\"id\":\"1042\",\"type\":\"LinearAxis\"}],\"center\":[{\"id\":\"1046\",\"type\":\"Grid\"},{\"id\":\"1051\",\"type\":\"Grid\"}],\"left\":[{\"id\":\"1047\",\"type\":\"LinearAxis\"}],\"renderers\":[{\"id\":\"1068\",\"type\":\"GlyphRenderer\"}],\"title\":{\"id\":\"1071\",\"type\":\"Title\"},\"toolbar\":{\"id\":\"1058\",\"type\":\"Toolbar\"},\"x_range\":{\"id\":\"1034\",\"type\":\"DataRange1d\"},\"x_scale\":{\"id\":\"1038\",\"type\":\"LinearScale\"},\"y_range\":{\"id\":\"1036\",\"type\":\"DataRange1d\"},\"y_scale\":{\"id\":\"1040\",\"type\":\"LinearScale\"}},\"id\":\"1033\",\"subtype\":\"Figure\",\"type\":\"Plot\"},{\"attributes\":{},\"id\":\"1074\",\"type\":\"BasicTickFormatter\"},{\"attributes\":{},\"id\":\"1043\",\"type\":\"BasicTicker\"},{\"attributes\":{\"formatter\":{\"id\":\"1072\",\"type\":\"BasicTickFormatter\"},\"ticker\":{\"id\":\"1048\",\"type\":\"BasicTicker\"}},\"id\":\"1047\",\"type\":\"LinearAxis\"},{\"attributes\":{\"active_drag\":\"auto\",\"active_inspect\":\"auto\",\"active_multi\":null,\"active_scroll\":\"auto\",\"active_tap\":\"auto\",\"tools\":[{\"id\":\"1052\",\"type\":\"PanTool\"},{\"id\":\"1053\",\"type\":\"WheelZoomTool\"},{\"id\":\"1054\",\"type\":\"BoxZoomTool\"},{\"id\":\"1055\",\"type\":\"SaveTool\"},{\"id\":\"1056\",\"type\":\"ResetTool\"},{\"id\":\"1057\",\"type\":\"HelpTool\"}]},\"id\":\"1058\",\"type\":\"Toolbar\"},{\"attributes\":{\"callback\":null},\"id\":\"1036\",\"type\":\"DataRange1d\"},{\"attributes\":{\"overlay\":{\"id\":\"1076\",\"type\":\"BoxAnnotation\"}},\"id\":\"1054\",\"type\":\"BoxZoomTool\"},{\"attributes\":{},\"id\":\"1077\",\"type\":\"Selection\"},{\"attributes\":{\"dimension\":1,\"ticker\":{\"id\":\"1048\",\"type\":\"BasicTicker\"}},\"id\":\"1051\",\"type\":\"Grid\"},{\"attributes\":{\"text\":\"\"},\"id\":\"1071\",\"type\":\"Title\"},{\"attributes\":{},\"id\":\"1053\",\"type\":\"WheelZoomTool\"},{\"attributes\":{\"data_source\":{\"id\":\"1065\",\"type\":\"ColumnDataSource\"},\"glyph\":{\"id\":\"1066\",\"type\":\"Text\"},\"hover_glyph\":null,\"muted_glyph\":null,\"nonselection_glyph\":{\"id\":\"1067\",\"type\":\"Text\"},\"selection_glyph\":null,\"view\":{\"id\":\"1069\",\"type\":\"CDSView\"}},\"id\":\"1068\",\"type\":\"GlyphRenderer\"},{\"attributes\":{},\"id\":\"1052\",\"type\":\"PanTool\"},{\"attributes\":{\"text_alpha\":{\"value\":0.1},\"text_color\":{\"value\":\"black\"},\"x\":{\"field\":\"x\"},\"y\":{\"field\":\"y\"}},\"id\":\"1067\",\"type\":\"Text\"},{\"attributes\":{},\"id\":\"1055\",\"type\":\"SaveTool\"},{\"attributes\":{\"callback\":null},\"id\":\"1034\",\"type\":\"DataRange1d\"},{\"attributes\":{\"source\":{\"id\":\"1065\",\"type\":\"ColumnDataSource\"}},\"id\":\"1069\",\"type\":\"CDSView\"},{\"attributes\":{\"text_color\":{\"value\":\"black\"},\"x\":{\"field\":\"x\"},\"y\":{\"field\":\"y\"}},\"id\":\"1066\",\"type\":\"Text\"},{\"attributes\":{},\"id\":\"1056\",\"type\":\"ResetTool\"},{\"attributes\":{\"formatter\":{\"id\":\"1074\",\"type\":\"BasicTickFormatter\"},\"ticker\":{\"id\":\"1043\",\"type\":\"BasicTicker\"}},\"id\":\"1042\",\"type\":\"LinearAxis\"},{\"attributes\":{},\"id\":\"1078\",\"type\":\"UnionRenderers\"},{\"attributes\":{\"ticker\":{\"id\":\"1043\",\"type\":\"BasicTicker\"}},\"id\":\"1046\",\"type\":\"Grid\"},{\"attributes\":{\"callback\":null,\"data\":{\"text\":[\"lambs\",\"uniting\",\"Elishama\",\"naming\",\"Urim\",\"hesitation\",\"bard\",\"noisome\",\"Nathan\",\"pianoforte\",\"faintest\",\"People\",\"consists\",\"RORY\",\"floundering\",\"'.\",\"Frog\",\"befall\",\"overlooking\",\"neuer\",\"Joses\",\"sieve\",\"lack\",\"Honors\",\"Ashdod\",\"atom\",\"full\",\"rarely\",\"rivers\",\"child\",\"frankly\",\"region\",\"soothing\",\"Thy\",\"still\",\"unkindness\",\"mayest\",\"worked\",\"sacrifices\",\"continuous\",\"confidence\",\"Polonius\",\"intending\",\"punishment\",\"pulses\",\"sailing\",\"gratified\",\"disapprobation\",\"Zebul\",\"same\",\"diminished\",\"Heart\",\"thorough\",\"Jonadab\",\"extracted\",\"snail\",\"collect\",\"wildness\",\"furious\",\"shyness\",\"chisel\",\"briskly\",\"articulation\",\"Boulnois\",\"endures\",\"mastery\",\"flour\",\"charms\",\"latitude\",\"attire\",\"wagons\",\"assuming\",\"Name\",\"modern\",\"cornets\",\"grains\",\"swagger\",\"hypocrisy\",\"Azekah\",\"scent\",\"sunburnt\",\"amazingly\",\"youthful\",\"overheard\",\"unexpected\",\"screamed\",\"course\",\"fatality\",\"soothe\",\"midday\",\"burns\",\"span\",\"ass\",\"northern\",\"effuse\",\"eagles\",\"Bertha\",\"rested\",\"pistol\",\"Jay\",\"maid\",\"goods\",\"is\",\"tattooing\",\"vapours\",\"beasts\",\"Fir\",\"thunderbolt\",\"necks\",\"ceases\",\"Uzzi\",\"spiracle\",\"Eliashib\",\"ministering\",\"powerful\",\"peals\",\"marks\",\"significant\",\"colour\",\"bounty\",\"picking\",\"lift\",\"Tall\",\"glimmer\",\"valued\",\"Drake\",\"leaders\",\"couple\",\"inward\",\"momentary\",\"Whale\",\"aunt\",\"Seventh\",\"distant\",\"nursery\",\"headed\",\"mammy\",\"denoted\",\"Ophe\",\"fame\",\"sprang\",\"helping\",\"111\",\"covers\",\"Sufficient\",\"Everybody\",\"referred\",\"imagines\",\"back\",\"problem\",\"Grope\",\"Mother\",\"reproaching\",\"glistering\",\"over\",\"perpetual\",\"Damascus\",\"lung\",\"lessening\",\"methought\",\"Accept\",\"tempered\",\"chestnut\",\"unhappy\",\"Rabbit\",\"spaces\",\"uncommonly\",\"Any\",\"none\",\"Would\",\"staff\",\"disastrous\",\"whipped\",\"SHIP\",\"bewail\",\"baptize\",\"expedient\",\"Gilboa\",\"gnawing\",\"divers\",\"work\",\"Sabbath\",\"tapping\",\"reliance\",\"dispute\",\"Ebedmelech\",\"awaked\",\"whether\",\"realize\",\"Yes\",\"circle\",\"heifer\",\"Whales\",\"arrogant\",\"devout\",\"gazed\",\"forward\",\"gnaw\",\"forehead\",\"persecutor\",\"quietude\",\"arches\",\"polite\",\"ridicule\",\"Clitus\",\"haughty\",\"bandaged\",\"square\",\"geological\",\"unwise\",\"Antonio\",\"snare\",\"slept\",\"streams\",\"unleavened\",\"or\",\"dismay\",\"pane\",\"been\",\"East\",\"chips\",\"fatlings\",\"guess\",\"feare\",\"walk\",\"cheered\",\"Won\",\"iniquity\",\"easier\",\"Without\",\"twice\",\"rogue\",\"ensured\",\"disciples\",\"excepting\",\"wondrous\",\"cock\",\"moody\",\"grasp\",\"sky\",\"department\",\"puffs\",\"blunders\",\"rocking\",\"chase\",\"scissors\",\"surely\",\"000\",\"Seven\",\"cuts\",\"attend\",\"Thames\",\"classification\",\"move\",\"phase\",\"affection\",\"gale\",\"lilac\",\"longer\",\"fret\",\"impertinence\",\"Friend\",\"uneasy\",\"grim\",\"confide\",\"shuddered\",\"AS\",\"grain\",\"arising\",\"Looks\",\"Church\",\"mentioned\",\"Korah\",\"invitation\",\"logical\",\"Piercefield\",\"You\",\"chastening\",\"cask\",\"toe\",\"produced\",\"goings\",\"hero\",\"riddles\",\"spoiling\",\"edifying\",\"captive\",\"31\",\"declined\",\"methinks\",\"alway\",\"Java\",\"come\",\"knowes\",\"armour\",\"Jehoahaz\",\"vnder\",\"surfaces\",\"tackles\",\"evidence\",\"88\",\"intense\",\"shapes\",\"delightful\",\"grandfather\",\"chaise\",\"pursued\",\"die\",\"beak\",\"Broke\",\"dreaded\",\"quick\",\"most\",\"chapiter\",\"year\",\"Elliot\",\"Tarshish\",\"Certainly\",\"memorial\",\"slippery\",\"stalwart\",\"VIII\",\"laburnum\",\"77\",\"occupying\",\"pondered\",\"deeps\",\"towed\",\"dwarfish\",\"preparing\",\"forbade\",\"aspire\",\"sombre\",\"parallelogram\",\"Guildensterne\",\"Satan\",\"blown\",\"drivers\",\"weakly\",\"Mercy\",\"between\",\"probable\",\"matrix\",\"arms\",\"husbands\",\"Japhia\",\"creamy\",\"treatment\",\"approach\",\"Hawkins\",\"robes\",\"vertical\",\"Hearts\",\"plunging\",\"sawest\",\"Post\",\"Several\",\"gentleman\",\"warrior\",\"transfigured\",\"speakes\",\"change\",\"Pardon\",\"show\",\"plaster\",\"hangings\",\"talkers\",\"plead\",\"clean\",\"descending\",\"chances\",\"communing\",\"HAVE\",\"adjoining\",\"Hostesse\",\"caress\",\"wroth\",\"murmuring\",\"zones\",\"tents\",\"benediction\",\"greatly\",\"necessary\",\"civility\",\"croquet\",\"spouts\",\"fatherless\",\"number\",\"ceiling\",\"renounce\",\"defrauded\",\"murdering\",\"aged\",\"glancing\",\"vigilance\",\"Hadarezer\",\"vibration\",\"wherein\",\"indefatigable\",\"Alligator\",\"inhabitants\",\"savour\",\"capitals\",\"wherever\",\"weapons\",\"parody\",\"interminable\",\"nimbus\",\"fullest\",\"capture\",\"coax\",\"hired\",\"laboured\",\"ma\",\"arise\",\"energetic\",\"limits\",\"based\",\"ours\",\"arming\",\"Cray\",\"prejudice\",\"sufficient\",\"cells\",\"traveller\",\"smash\",\"eddies\",\"opponent\",\"passionate\",\"nephew\",\"garlands\",\"deceiving\",\"substances\",\"furniture\",\"churchyard\",\"vivacity\",\"Mogul\",\"Freely\",\"pins\",\"I\",\"Westgate\",\"bracelets\",\"Answerest\",\"skull\",\"shadow\",\"comparison\",\"Gate\",\"queens\",\"gets\",\"wisdom\",\"shilling\",\"climes\",\"distress\",\"ornaments\",\"taken\",\"foorth\",\"uncertain\",\"\\\"*\",\"tallying\",\"manage\",\"fleece\",\"bearing\",\"hue\",\"effect\",\"Fanny\",\"envelope\",\"throws\",\"swimming\",\"nicest\",\"attending\",\"chief\",\"contents\",\"deep\",\"destitute\",\"Elisha\",\"Zoar\",\"clover\",\"breaches\",\"honor\",\"exist\",\"cubits\",\"serene\",\"wield\",\"stops\",\"toiled\",\"brindled\",\"French\",\"truer\",\"Edom\",\"specimen\",\"seruice\",\"sighted\",\"opinion\",\"Wherefore\",\"Temple\",\"Honest\",\"throbs\",\"drained\",\"discussion\",\"devotion\",\"flannel\",\"mildness\",\"buffet\",\"radiant\",\"Bad\",\"kneel\",\"corner\",\"postman\",\"connecting\",\"tattooed\",\"What\",\"Latin\",\"Too\",\"crimes\",\"farther\",\"taxed\",\"imagination\",\"House\",\"repel\",\"longing\",\"luckily\",\"they\",\"proverbs\",\"recompense\",\"vice\",\"cloven\",\"sendest\",\"mouth\",\"Carolinas\",\"denote\",\"endangered\",\"JESUS\",\"fertile\",\"Forest\",\"buildings\",\"grove\",\"shut\",\"earnestness\",\"verified\",\"amplest\",\"Pioneers\",\"downwards\",\"feeding\",\"Yarman\",\"lives\",\"ewe\",\"fortify\",\"debris\",\"Maidens\",\"shine\",\"steeds\",\"commonplace\",\"fishing\",\"departure\",\"sparrows\",\"tugged\",\"Devonshire\",\"include\",\"Hermon\",\"limbs\",\"Idea\",\"dispatch\",\"Him\",\"slack\",\"Philistines\",\"repast\",\"Eustache\",\"thistles\",\"shock\",\"customers\",\"Shebaniah\",\"Loud\",\"Creator\",\"drunkenness\",\"Araunah\",\"depressing\",\"Gath\",\"persevered\",\"exercised\",\"propitious\",\"godmother\",\"loosened\",\"pardoned\",\"calculated\",\"Around\",\"customs\",\"blessing\",\"remission\",\"contrive\",\"seating\",\"introduce\",\"clerk\",\"deserve\",\"bee\",\"sparingly\",\"track\",\"Zadok\",\":--\",\"Scott\",\"name\",\"fathom\",\"Seest\",\"sketches\",\"JOHN\",\"beforetime\",\"sepulchre\",\"dearth\",\"Jabeshgilead\",\"talk\",\"Charge\",\"succeeded\",\"residing\",\"Benjamin\",\"declare\",\"transient\",\"hieroglyphics\",\"inventions\",\"Cap\",\"featured\",\"Shedeur\",\"withdraw\",\"Bar\",\"prepossession\",\"politely\",\"layer\",\"was\",\"vacancy\",\"Camden\",\"flock\",\"Hirsch\",\"wheel\",\"sluggard\",\"builded\",\"collection\",\"comic\",\"Grandfather\",\"Harbor\",\"benevolent\",\"amusements\",\"blew\",\"confronted\",\"American\",\"heroick\",\"Woodpecker\",\"Edomite\",\"lanterns\",\"inlaid\",\"Sunday\",\"passengers\",\"supposes\",\"involuntary\",\"shaven\",\"wakes\",\"striding\",\"Conduit\",\"sayes\",\"accidents\",\"Gottlieb\",\"reigns\",\"Given\",\"helmeted\",\"prayeth\",\"Somehow\",\"tickled\",\"aquiline\",\"hated\",\"hoofs\",\"cleansing\",\"curricle\",\"Carbuncle\",\"quill\",\"hips\",\"prodigy\",\"happiest\",\"barn\",\"keels\",\"Aquila\",\"bone\",\"crust\",\"furrows\",\"Know\",\"murder\",\"fatted\",\"copies\",\"ray\",\"Which\",\"clearing\",\"dictionary\",\"exists\",\"Clifton\",\"headlong\",\"recommended\",\"June\",\"circles\",\"conjectured\",\"repeatedly\",\"housekeeping\",\"tasks\",\"proceeds\",\"harp\",\"declines\",\"diligent\",\"tube\",\"Octauius\",\"sleepless\",\"condescending\",\"expanse\",\"ranged\",\"highth\",\"cleanness\",\"wrapped\",\"stiffnecked\",\"drinking\",\"slide\",\"forbids\",\"butler\",\"fences\",\"currents\",\"replenished\",\"correctly\",\"Choice\",\"blaze\",\"consider\",\"continueth\",\"activity\",\"grown\",\"approval\",\"death\",\"exchange\",\"Thomas\",\"ambassadors\",\"wax\",\"statues\",\"merited\",\"paternal\",\"enough\",\"remembrances\",\"cats\",\"interesting\",\"loudest\",\"confound\",\"circumstance\",\"nigger\",\"Eat\",\"cocked\",\"rumble\",\"coldly\",\"freed\",\"parts\",\"Between\",\"unsuspicious\",\"essentially\",\"Gaius\",\"sensibility\",\"whims\",\"breake\",\"compassed\",\"Good\",\"Asher\",\"Ancient\",\"ethereal\",\"suggest\",\"ironical\",\"projecting\",\"degrading\",\"shade\",\"Bates\",\"hatred\",\"requires\",\"domain\",\"purged\",\"Sarah\",\"timbrels\",\"seasons\",\"snow\",\"empire\",\"kinsman\",\"curly\",\"visibly\",\"encamp\",\"footpath\",\"Diuell\",\"deserving\",\"gaue\",\"wanton\",\"productive\",\"pike\",\"gravel\",\"relish\",\"run\",\"loft\",\"parcels\",\"Ant\",\"unconscious\",\"almond\",\"charade\",\"however\",\"procure\",\"mysteriously\",\"damsel\",\"anew\",\"Our\",\"farthing\",\"Louis\",\"workmanship\",\"Awake\",\"Number\",\"Carpenter\",\"Jemima\",\"Abednego\",\"Living\",\"pealing\",\"sackcloth\",\"adulteries\",\"12\",\"Dubosc\",\"selected\",\"Beat\",\"Suddenly\",\"continent\",\"Ezekiel\",\"honestly\",\"stalked\",\"advise\",\"shelter\",\"squaw\",\"irons\",\"hers\",\"omnibus\",\"handed\",\"quality\",\"farmhouse\",\"skies\",\"robe\",\"Qu\",\"exclude\",\"event\",\"deal\",\"pagans\",\"ferocity\",\"witty\",\"59\",\"engaged\",\"hats\",\"hours\",\"commanded\",\"Judaea\",\"Ram\",\"ago\",\"fitly\",\"outer\",\"sickening\",\"virgin\",\"bald\",\"fringes\",\"innumerable\",\"And\",\"wavering\",\"wrest\",\"thereto\",\"Southern\",\"way\",\"camp\",\"Immortal\",\"despised\",\"Calais\",\"Forth\",\"churches\",\"hawthorn\",\"occupation\",\"Swiftly\",\"inspection\",\"occupations\",\"saidst\",\"cheating\",\"seated\",\"gleams\",\"expectation\",\"Mamma\",\"reads\",\"adopt\",\"marching\",\"varieties\",\"associations\",\"Kingston\",\"unquestionable\",\"corridor\",\"Her\",\"specialist\",\"Abihu\",\"instrument\",\"dawning\",\"modes\",\"lower\",\"Gent\",\"Vpon\",\"animals\",\"suggestion\",\"Ornan\",\"mixture\",\"arguments\",\"hoe\",\"fades\",\"nominally\",\"amiable\",\"needles\",\"peeped\",\"shutters\",\"Christians\",\"bestowed\",\"practices\",\"144\",\"wife\",\"wilder\",\"invariably\",\"outlived\",\"far\",\"chapter\",\"uplifted\",\"Driven\",\"dazzle\",\"burn\",\"crucifix\",\"emerged\",\"Power\",\"seat\",\"punch\",\"Maurice\",\"forasmuch\",\"inexpressible\",\"hammock\",\"chariot\",\"worshipped\",\"ground\",\"thankful\",\"Build\",\"foresight\",\"petty\",\"bustle\",\"paralytic\",\"Sorrow\",\"ride\",\"turning\",\"heron\",\"Directly\",\"steadfast\",\"flowed\",\"giving\",\"click\",\"Levite\",\"Although\",\"Bethel\",\"crimson\",\"brittle\",\"ash\",\"twixt\",\"jagged\",\"cloak\",\"Brun\",\"lo\",\"highway\",\"Vashti\",\"presently\",\"muzzles\",\"clothing\",\"stated\",\"foundations\",\"exposed\",\"waist\",\"Sey\",\"aliue\",\"apologetic\",\"lurks\",\"puffing\",\"languish\",\"bathe\",\"timber\",\"hasty\",\"strangers\",\"LONG\",\"preserveth\",\"sheweth\",\"inexperience\",\"Easy\",\"relics\",\"heading\",\"briers\",\"persecuted\",\"Babylon\",\"disputing\",\"recurring\",\"crazy\",\"waste\",\"immediately\",\"Sixteen\",\"Shapes\",\"liberty\",\"Saints\",\"Busy\",\"gallantry\",\"beauteous\",\"dromedary\",\"Cowdray\",\"vistas\",\"filled\",\"Pipe\",\"intensity\",\"brink\",\"mistakes\",\"chart\",\"cooler\",\"idols\",\"Rebellious\",\")\",\"beget\",\"Fomorians\",\"poked\",\"yelled\",\"subordinate\",\"foolish\",\"keyhole\",\"146\",\"prospects\",\"containing\",\"Mapple\",\"parcel\",\"rapturous\",\"Meantime\",\"killed\",\"Ramothgilead\",\"excite\",\"Cape\",\"Theresa\",\"maintained\",\"chicken\",\"delusion\",\"partnership\",\"examples\",\"affections\",\"pack\",\"unbroken\",\"Arabians\",\"singularly\",\"Moloch\",\"miss\",\"conveyed\",\"class\",\"sojourn\",\"Allenham\",\"suburbs\",\"stems\",\"redemption\",\"murther\",\"Chicago\",\"pleasantly\",\"Cod\",\"wells\",\"rogues\",\"aloud\",\"buckler\",\"merciful\",\"admirable\",\"flowering\",\"connexions\",\"Jehu\",\"popularly\",\"remaining\",\"spectators\",\"irritable\",\"battering\",\"bare\",\"tubs\",\"et\",\"examination\",\"restaurant\",\"steadiness\",\"souls\",\"pan\",\"SCENE\",\"depends\",\"enveloping\",\"Whereon\",\"Edomites\",\"solidly\",\"fairer\",\"Paris\",\"Worse\",\"Command\",\"returns\",\"thunder\",\"soundings\",\"helpe\",\"Reuben\",\"adultery\",\"Treasure\",\"elm\",\"engraved\",\"faultless\",\"ponder\",\"mansion\",\"receding\",\"cliff\",\"torrents\",\"inside\",\"recollect\",\"Listen\",\"nighest\",\"sword\",\"bench\",\"City\",\"MY\",\"lame\",\"Cousin\",\"folds\",\"Duncan\",\"hoppity\",\"governess\",\"Jabesh\",\"exciting\",\"rous\",\"Carolina\",\"crest\",\"Pelatiah\",\"prouder\",\"Thou\",\"Dagon\",\"flickering\",\"Ephah\",\"oftentimes\",\"burnished\",\"lap\",\"clime\",\"delicacies\",\"allowances\",\"Gihon\",\"aught\",\"deplore\",\"bounteous\",\"wool\",\"eyed\",\"Salt\",\"proclamation\",\"explore\",\"retreats\",\"heeles\",\"vanity\",\"ripening\",\"universe\",\"counterpane\",\"hearts\",\"Follow\",\"foretell\",\"forgotten\",\"India\",\"perched\",\"representation\",\"sobriety\",\"Short\",\"thorns\",\"ten\",\"ghosts\",\"summers\",\"greeting\",\"Chaldeans\",\"skeletons\",\"obedient\",\"betwixt\",\"set\",\"puff\",\"gruffly\",\"scuttle\",\"settlements\",\"V\",\"observed\",\"invented\",\"aspect\",\"discovering\",\"raise\",\"oft\",\"girt\",\"stuff\",\"Heir\",\"avenue\",\"mockers\",\"duel\",\"Ephesus\",\"sarcastically\",\"protection\",\"Sonne\",\"wistfully\",\"neat\",\"Us\",\"crosses\",\"poise\",\"victories\",\"ones\",\"sale\",\"suggestions\",\"talking\",\"Archers\",\"bend\",\"medium\",\"Sennacherib\",\"barbaric\",\"25\",\"petition\",\"Pedahzur\",\"wilt\",\"prou\",\"bursting\",\"including\",\"comest\",\"mahogany\",\"Best\",\"elasticity\",\"invested\",\"formally\",\"dizzy\",\"Fill\",\"Ebed\",\"\\\"'\",\"skeleton\",\"holes\",\"ensign\",\"attorney\",\"GUTENBERG\",\"introduction\",\"flocks\",\"often\",\"summary\",\"snap\",\"score\",\"crude\",\"Rimmon\",\"scant\",\"Malvoli\",\"unavoidable\",\"scruple\",\"sociable\",\"render\",\"vineyards\",\"rugged\",\"confounded\",\"almost\",\"shrink\",\"point\",\"61\",\"storied\",\"straitly\",\"stopt\",\"theirs\",\"bonnets\",\"hoping\",\"concert\",\"firewood\",\"Hosanna\",\"Happily\",\"verses\",\"bulls\",\"sparkling\",\"carpenters\",\"beauties\",\"also\",\"Destroy\",\"Ethiopian\",\"peaked\",\"thrilling\",\".]\",\"Brought\",\"intrusion\",\"Maon\",\"admiral\",\"splintered\",\"Caes\",\"telleth\",\"Pahathmoab\",\"Choose\",\"Turn\",\"sagacity\",\"glowing\",\"Howbeit\",\"stair\",\"Baal\",\"misled\",\"shields\",\"Kishon\",\"Sail\",\"paw\",\"Deere\",\"pitying\",\"lecture\",\"Table\",\"flatteries\",\"lithe\",\"requiring\",\"plans\",\"miserably\",\"impression\",\"damn\",\"fed\",\"haunted\",\"sufficiency\",\"invisible\",\"hasn\",\"divisions\",\"loyalty\",\"gallows\",\"finger\",\"humane\",\"stripes\",\"throats\",\"syllables\",\"approbation\",\"carts\",\"_not_\",\"neighbors\",\"Campbell\",\"Argob\",\"snake\",\"blending\",\"fibre\",\"ensigns\",\"inference\",\"carnage\",\"philosophers\",\"half\",\"dying\",\"superiour\",\"Coffin\",\"graciousness\",\"integrity\",\"Iudgement\",\"Rivers\",\"snapping\",\"owners\",\"need\",\"unequal\",\"Perfect\",\"fourscore\",\"peremptory\",\"Sarai\",\"crisis\",\"del\",\"Dashwoods\",\"original\",\"heavenly\",\"disappointments\",\"clay\",\"fathers\",\"impotent\",\"sat\",\"conceivable\",\"Nebuchadnezzar\",\"majestic\",\"knop\",\"plate\",\"Macd\",\"remark\",\"grin\",\"spouting\",\"remembereth\",\"coat\",\"just\",\"musing\",\"howl\",\"adoption\",\"forebodings\",\"signs\",\"Belshazzar\",\"gems\",\"amidst\",\"caps\",\"Joppa\",\"Joktan\",\"banquet\",\"unlucky\",\"indifferently\",\"pour\",\"Faith\",\"stink\",\"abject\",\"descent\",\"meek\",\"ogre\",\"GOOD\",\"search\",\"stairs\",\"baser\",\"doleful\",\"Horatio\",\"the\",\"girdle\",\"scorning\",\"enjoy\",\"ward\",\"strewn\",\"laugh\",\"sounding\",\"casting\",\"Nebo\",\"bullock\",\"Syrians\",\"excepted\",\"reapers\",\"match\",\"stiff\",\"Samuel\",\"hew\",\"footmen\",\"conscious\",\"busily\",\"fruits\",\"Robert\",\"noiseless\",\"smashed\",\"Arkansas\",\"deeds\",\"chased\",\"matters\",\"hoarse\",\"familiarity\",\"wooden\",\"line\",\"succeeding\",\"Vane\",\"abhorrence\",\"symphonies\",\"sacrificeth\",\"onyx\",\"Six\",\"marking\",\"reporter\",\"wearily\",\"requisite\",\"reel\",\"beaux\",\"brilliancy\",\"commandment\",\"narrow\",\"quitting\",\"accordance\",\"Forget\",\"maternal\",\"Rephaiah\",\"hills\",\"campaign\",\"melon\",\"sleepers\",\"Hath\",\"horizontally\",\"elbows\",\"matter\",\"limited\",\"ambassador\",\"Congress\",\"sights\",\"dunce\",\"Haile\",\"Musgroves\",\"bloom\",\"reprobate\",\"humiliation\",\"pronounced\",\"Shittim\",\"Dathan\",\"meditated\",\"idol\",\"drown\",\"letters\",\"Boy\",\"Ishi\",\"source\",\"traffick\",\"directions\",\"robbery\",\"Sea\",\"Reddy\",\"brasen\",\"sycomore\",\"scorched\",\"lords\",\"dreamers\",\"his\",\"matches\",\"minute\",\"gaunt\",\"accident\",\"absorbing\",\"changed\",\"Usher\",\"martyr\",\"reckless\",\"Hallo\",\"Shew\",\"narration\",\"exulting\",\"phantoms\",\"thinkest\",\"community\",\"timely\",\"conspiracy\",\"Rahab\",\"shaggy\",\"success\",\"risking\",\"justly\",\"liest\",\"eighteen\",\"passes\",\"captain\",\"staggered\",\"field\",\"Ghost\",\"LITTLE\",\"le\",\"bade\",\"yesternight\",\"expectations\",\"unite\",\"noyse\",\"plagued\",\"severely\",\"Straits\",\"Rejoice\",\"uncertainty\",\"fiends\",\"Javan\",\"Strength\",\"speaking\",\"own\",\"Seyton\",\"131\",\"stable\",\"'--\",\"excusable\",\"Spouter\",\"persuaded\",\"fearfully\",\"ore\",\"contrasting\",\"struck\",\"Were\",\"stablished\",\"sweet\",\"complained\",\"shell\",\"Jeconiah\",\"freight\",\"situations\",\"dipping\",\"disturbance\",\"blamed\",\"canst\",\"favoured\",\"days\",\"continually\",\"sharing\",\"Mind\",\"Food\",\"words\",\"injustice\",\"arrogance\",\"stood\",\"indignantly\",\"asunder\",\"nasty\",\"lawn\",\"champions\",\"civilly\",\"Pendragon\",\"breast\",\"donations\",\"deceitfully\",\"ejaculated\",\"rotten\",\"Ataroth\",\"clenched\",\"warrant\",\"shivered\",\"8\",\"orchard\",\"Kish\",\"dear\",\"blackberries\",\"familiarly\",\"beams\",\"penitent\",\"knitted\",\"ease\",\"constraint\",\"lays\",\"included\",\"Hands\",\"performance\",\"gossip\",\"spokes\",\"despatch\",\"slumbering\",\"gotten\",\"cedars\",\"mens\",\"Manoah\",\"steamers\",\"observing\",\"swinging\",\"depart\",\"Hivites\",\"symbol\",\"Ahira\",\"ninth\",\"virtue\",\"resorted\",\"damnation\",\"overhead\",\"slander\",\"unprepared\",\"practised\",\"powder\",\"clusters\",\"appearance\",\"shrill\",\"anticipation\",\"airs\",\"Margate\",\"Illinois\",\"purposely\",\"guinea\",\"Eastern\",\"chocolate\",\"starved\",\"pot\",\"grudge\",\"posture\",\"tackle\",\"themselves\",\"Christian\",\"climb\",\"Judges\",\"din\",\";\\\"\",\"garret\",\"gong\",\"modest\",\"afternoons\",\"wreathen\",\"Mahanaim\",\"wayes\",\"reflect\",\"bad\",\"angelick\",\"Evening\",\"Glamis\",\"shorter\",\"surprise\",\"inn\",\"Age\",\"tall\",\"tilted\",\"improvements\",\"organ\",\"embraces\",\"oppressors\",\"shield\",\"Whereupon\",\"perpendicular\",\"melancholy\",\"judgments\",\"exquisite\",\"Hear\",\"Pompey\",\"wild\",\"penny\",\"doom\",\"plausible\",\"divide\",\"certificate\",\"ancestors\",\"nor\",\"consult\",\"Bill\",\"Pretty\",\"Sole\",\"capitol\",\"statements\",\"feathered\",\"Amid\",\"Ratcliffe\",\"uttermost\",\"stem\",\"Ziph\",\"warmly\",\"contrast\",\"engage\",\"means\",\"schoolboy\",\"saucy\",\"Catholics\",\"ex\",\"Lebanon\",\"caught\",\"Missouri\",\"stealth\",\"dew\",\"persecutions\",\"genial\",\"adamantine\",\"Then\",\"topmost\",\"gradually\",\"oddly\",\"slipped\",\"Also\",\"clung\",\"Zin\",\"kill\",\"brutes\",\"Creature\",\"Helez\",\"learn\",\"prone\",\"knots\",\"bribe\",\"stream\",\"trifling\",\"advocate\",\"Among\",\"Immer\",\"girls\",\"leavened\",\"multiform\",\"quickly\",\"Sing\",\"abounded\",\"falsehood\",\"private\",\"fantastic\",\"Macedonia\",\"lily\",\"foes\",\"concluded\",\"release\",\"deliverance\",\"critters\",\"pois\",\"safer\",\"fourteen\",\"escorted\",\"permit\",\"scenery\",\"needlework\",\"handsome\",\"jelly\",\"Fairfax\",\"Terah\",\"Gay\",\"modified\",\"sternly\",\"ropes\",\"Har\",\"condemning\",\"drawing\",\"Achilles\",\"mee\",\"nearer\",\"unused\",\"chaises\",\"attack\",\"breath\",\"positively\",\"Magog\",\"excuses\",\"paws\",\"squares\",\"crieth\",\"doore\",\"inviting\",\"_was_\",\"named\",\"walled\",\"richer\",\"vapoury\",\"wharf\",\"combined\",\"85\",\"commended\",\"guineas\",\"Tortoise\",\"sentiment\",\"yarn\",\"gourd\",\"misfortunes\",\"cathedrals\",\"engrossed\",\"Act\",\"mere\",\"abominable\",\"van\",\"troubled\",\"woody\",\"painfully\",\"profoundest\",\"Luz\",\"meetings\",\"hear\",\"school\",\"Art\",\"madnesse\",\"pictures\",\"aint\",\"flip\",\"doctor\",\"origin\",\"Speak\",\"haue\",\"thin\",\"two\",\"imitated\",\"parables\",\"kind\",\"haire\",\"leaveth\",\"pretend\",\"wash\",\"unmanageable\",\"differently\",\"entitled\",\"salutes\",\"innocent\",\"Japheth\",\"novels\",\"Author\",\"sundown\",\"pomegranate\",\"Title\",\"Deliver\",\"loomed\",\"avoided\",\"timbrel\",\"secure\",\"Island\",\"tenement\",\"Epistle\",\"carbines\",\"expressed\",\"Flauius\",\"Libni\",\"Boston\",\"wast\",\"professed\",\"fulfill\",\"Forthwith\",\"companies\",\"hawk\",\"bubbles\",\"passed\",\"strayed\",\"Fierce\",\"trophies\",\"exclamations\",\"baking\",\"prompted\",\"wrist\",\"paines\",\"affirmed\",\"gown\",\"Strong\",\"courtesy\",\"limit\",\"aye\",\"cook\",\"fiftieth\",\"entertained\",\"glorying\",\"sort\",\"punished\",\"smiting\",\"piazza\",\"west\",\"breaths\",\"Deep\",\"electioneerer\",\"originated\",\"sense\",\"energy\",\"Cold\",\"heroism\",\",--\",\"trudged\",\"mortifying\",\"reverend\",\"fettered\",\"scall\",\"adapted\",\"Peace\",\"hollows\",\"stork\",\"Ere\",\"wagon\",\"barbarous\",\"lengthwise\",\"sorry\",\"extravagant\",\"infused\",\"unto\",\"twisted\",\"connect\",\"disappoint\",\"Alone\",\"deceitful\",\"Tragedie\",\"Donwell\",\"tempestuous\",\"businesse\",\"speeches\",\"126\",\"letter\",\"unmistakable\",\"orators\",\"MAN\",\"Hitherto\",\"Hart\",\"sadly\",\"vail\",\"assemble\",\"grinned\",\"Eton\",\"farce\",\"rescue\",\"Wherewith\",\"loues\",\"Hung\",\"Grateful\",\"simplest\",\"envelop\",\"Dorsetshire\",\"throbbing\",\"dexterity\",\"applying\",\"relieve\",\"backwards\",\"week\",\"Isaiah\",\"Wrath\",\"Peor\",\"foil\",\"street\",\"Malchiah\",\"padded\",\"Gera\",\"Assyrians\",\"Assemble\",\"devote\",\"spun\",\"primal\",\"communication\",\"meant\",\"girdles\",\"em\",\"boil\",\"Melchisedec\",\"rams\",\"Townsend\",\"mamma\",\"Pagan\",\"treated\",\"porch\",\"contentious\",\"filth\",\"waiter\",\"suffers\",\"done\",\"Michaelmas\",\"Kadeshbarnea\",\"perplexity\",\"unwilling\",\"mania\",\"foundation\",\"Maiestie\",\"hangs\",\"distracted\",\"logs\",\"magnificence\",\"dominions\",\"intermediate\",\"Oakly\",\"strongly\",\"Gerar\",\"appearing\",\"searcheth\",\"Shot\",\"66\",\"although\",\"couldn\",\"patch\",\"Madam\",\"card\",\"enmity\",\"slabs\",\"bosoms\",\"scold\",\"huge\",\"62\",\"considereth\",\"roast\",\"breaketh\",\"defence\",\"MRS\",\"swart\",\"go\",\"scented\",\"cried\",\"Horonaim\",\"Fortune\",\"forked\",\"sooth\",\"consideration\",\"autumn\",\"Jehoshaphat\",\"embark\",\"quest\",\"dusty\",\"solicitude\",\"usurpation\",\"Amaziah\",\"we\",\"Zibeon\",\"tempted\",\"Midianites\",\"91\",\"Star\",\"vintage\",\"hermit\",\"greeted\",\"Gedaliah\",\"insolent\",\"employed\",\"efficient\",\"trust\",\"malice\",\"complexion\",\"phrase\",\"manner\",\"gaze\",\"domestic\",\"dwelling\",\"venturing\",\"Hagar\",\"dismasted\",\"plac\",\"him\",\"Jane\",\"eruption\",\"edge\",\"Gad\",\"propriety\",\"undertake\",\"sometime\",\"affliction\",\"berry\",\"repenting\",\"superficial\",\"bloody\",\"accomplices\",\"heaps\",\"sow\",\"account\",\"guests\",\"Ehud\",\"chiefest\",\"growes\",\"tiller\",\"Fiend\",\"Amos\",\"teats\",\"seriousness\",\"avoiding\",\"unrecorded\",\"Knocke\",\"breadth\",\"chowder\",\"Renard\",\"encouraged\",\"sagacious\",\"considers\",\"Laconia\",\"GOD\",\"theft\",\"loath\",\"lashed\",\"old\",\"dismayed\",\"Avast\",\"Monkford\",\"Haman\",\"Firm\",\"maddened\",\"rap\",\"pendant\",\"Denmark\",\"Legions\",\"wise\",\"instantaneously\",\"reasoning\",\"giant\",\"juice\",\"defraud\",\"indignant\",\"perhaps\",\"reside\",\"exceeded\",\"subjected\",\"significantly\",\"hurting\",\"escaped\",\"irrational\",\"engine\",\"figures\",\"fainter\",\"eaten\",\"Elon\",\"Worm\",\"Omri\",\"impious\",\"reiterated\",\"dishes\",\"encamped\",\"inscrutable\",\"coloured\",\"Zerah\",\"phoo\",\"kissing\",\"coming\",\"hollow\",\"seethe\",\"Rechab\",\"richness\",\"disagreement\",\"Hee\",\"Witches\",\"extend\",\"Elizabethan\",\"blasphemies\",\"inclining\",\"thrift\",\"performers\",\"upward\",\"stages\",\"97\",\"jerked\",\"forgot\",\"Chambermaid\",\"condescend\",\"Eye\",\"Priest\",\"Lost\",\"Nazareth\",\"Such\",\"From\",\"delightfully\",\"red\",\"matrimony\",\"dreams\",\"hav\",\"heat\",\"finishing\",\"straitness\",\"mindes\",\"forgetful\",\"selues\",\"tail\",\"rais\",\"pattern\",\"telling\",\"mason\",\"sitting\",\"alarming\",\"smiteth\",\"eastward\",\"Space\",\"labour\",\"concentration\",\"Birds\",\"freshly\",\"Sad\",\"swiftness\",\"undoubtedly\",\"blank\",\"woollen\",\"pearl\",\"grimly\",\"accurately\",\"choose\",\"hide\",\"preacher\",\"fastidious\",\"corpses\",\"despite\",\"Absalom\",\"airy\",\"water\",\"Macey\",\"bowels\",\"after\",\"masquerade\",\"acts\",\"World\",\"drunk\",\"withdrew\",\"size\",\"Ekron\",\"pacified\",\"swung\",\"Ono\",\"pipe\",\"gasping\",\"Convict\",\"gleaned\",\"precedes\",\"forgiveness\",\"farthest\",\"concluding\",\"pastors\",\"praises\",\"adjure\",\"coiling\",\"apparent\",\"Harvilles\",\"wisedome\",\"RYAN\",\"BE\",\"delivereth\",\"beaming\",\"mystical\",\"restraint\",\"innkeeper\",\"yong\",\"rendered\",\"misery\",\"pirate\",\"section\",\"attendance\",\"marches\",\"alehouse\",\"fainted\",\"awkward\",\"text\",\"chords\",\"Look\",\"fill\",\".\\\"\",\"mightier\",\"strictly\",\"laden\",\"flee\",\"Tree\",\"humped\",\"composite\",\"bruised\",\"demoniac\",\"Pope\",\"cutting\",\"style\",\"silent\",\"plains\",\"grinding\",\"doorway\",\"Dreyfus\",\"torn\",\"kisse\",\"implicit\",\"ponds\",\"more\",\"outwardly\",\"chattering\",\"ambergris\",\"exploring\",\"sets\",\"God\",\"slouched\",\"doubtless\",\"wail\",\"tinged\",\"Emperors\",\"Hezekiah\",\"tell\",\"terraces\",\"recommending\",\"multitude\",\"Wind\",\"Serug\",\"childless\",\"Chief\",\"discontent\",\"accosted\",\"appeased\",\"Samaritans\",\"asked\",\"terrify\",\"guilt\",\"posterity\",\"constrain\",\"dotted\",\"writ\",\"throughout\",\"hither\",\"plaited\",\"congenial\",\"slippers\",\"brown\",\".--\\\"\",\"quite\",\"?\\\"\",\"comprised\",\"rosy\",\"Lory\",\"cutlass\",\"courtesies\",\"machine\",\"Republic\",\"bolted\",\"handling\",\"proposition\",\"aimed\",\"languid\",\"Antony\",\"thereby\",\"Syria\",\"stretches\",\"nephews\",\"Seeing\",\"buffalo\",\"repentance\",\"sicken\",\"recent\",\"Saw\",\"comforteth\",\"divideth\",\"neighbours\",\"discuss\",\"pillar\",\"lazy\",\"larboard\",\"wings\",\"sharply\",\"undecided\",\"marble\",\"Hawker\",\"boyish\",\"equal\",\"habitation\",\"tattered\",\"splendidly\",\"nevertheless\",\"Jove\",\"rooms\",\"commonest\",\"Ephraimites\",\"visible\",\"dung\",\"rippling\",\"Pennsylvania\",\"selfsame\",\"influences\",\"eateth\",\"Abijam\",\"census\",\"floor\",\"endure\",\"abound\",\"friendly\",\"Nile\",\"regular\",\"creditor\",\"spray\",\"thoroughfares\",\"stirred\",\"shape\",\"Achish\",\"wailing\",\"solve\",\"untie\",\"Dewdrop\",\"goal\",\"stupidly\",\"fluttered\",\"starve\",\"sullen\",\"residue\",\"disallowed\",\"theme\",\"nation\",\"madhouse\",\"crying\",\"impudent\",\"tide\",\"whoever\",\"Fleans\",\"freshness\",\"intricacies\",\"wand\",\"dwelled\",\"brush\",\"asketh\",\"women\",\"senses\",\"spouse\",\"offensive\",\"across\",\"Isles\",\"Jediael\",\"travelled\",\"childhood\",\"gratify\",\"maniac\",\"written\",\"scotcher\",\"Always\",\"attempt\",\"rough\",\"tax\",\"Athaliah\",\"speaker\",\"alternately\",\"denies\",\"clapping\",\"thirtieth\",\"poorly\",\"machines\",\"Lobster\",\"heedful\",\"temptation\",\"philosopher\",\"slopes\",\"Remaliah\",\"differences\",\"105\",\"flourish\",\"detective\",\"ahead\",\"Uri\",\"Just\",\"irritation\",\"listening\",\"quickened\",\"Gutenberg\",\"River\",\"firmer\",\"West\",\"screw\",\"bearded\",\"Ramah\",\"messengers\",\"dived\",\"cream\",\"contriving\",\"shekels\",\"stepping\",\"progress\",\"king\",\"bowers\",\"Enemy\",\"crested\",\"Achaia\",\"tenor\",\"secondary\",\"sanctuaries\",\"silence\",\"flakes\",\"viper\",\"deer\",\"Texas\",\"dearer\",\"choking\",\"confidential\",\"graceful\",\"amain\",\"pockets\",\"trampling\",\"mercies\",\";)\",\"Mansion\",\"loveliest\",\"acknowledging\",\"superiority\",\"confusion\",\"eluded\",\"rain\",\"beryl\",\"negligent\",\"admirers\",\"gums\",\"schooling\",\"music\",\"Instead\",\"strengthen\",\"Snow\",\"advice\",\"faulty\",\"soone\",\"Amariah\",\"coasts\",\"silvery\",\"obeisance\",\"heartily\",\"lovely\",\"Pull\",\"monarch\",\"foreigner\",\"obeying\",\"merry\",\"cord\",\"studies\",\"Memory\",\"influenced\",\"testified\",\"sand\",\"Malcolme\",\"Rooke\",\"portion\",\"mar\",\"Turnbull\",\"Shem\",\"nail\",\"nap\",\"Toad\",\"radiating\",\"Indian\",\"nurse\",\"wounding\",\"goodwill\",\"calls\",\"Pul\",\"Willoughby\",\"healthy\",\"Apostle\",\"Jews\",\"shrine\",\"Dante\",\"troop\",\"toys\",\"sojourneth\",\"flash\",\"louder\",\"resembling\",\"proportion\",\"butter\",\"send\",\"detail\",\"perpendicularly\",\"fugitive\",\"plots\",\"elastic\",\"thicket\",\"breach\",\"Mahalaleel\",\"explain\",\"mocking\",\"thorn\",\"Goshen\",\"Sleep\",\"Improvisatore\",\"balls\",\"damages\",\"tournament\",\"24\",\"purifying\",\"allow\",\"resolu\",\"leade\",\"perchance\",\"sparks\",\"gang\",\"literal\",\"owest\",\"inquired\",\"flaring\",\"construction\",\"ascend\",\"rods\",\"slimy\",\"conspirators\",\"dug\",\"Eternity\",\"distinctions\",\"Brandon\",\"pride\",\"Noble\",\"Somersetshire\",\"gulls\",\"Cease\",\"drops\",\"helm\",\"freighted\",\"Over\",\"Russell\",\"witch\",\"hence\",\"as\",\"neighbour\",\"reproached\",\"had\",\"Fifth\",\"afterward\",\"sharpened\",\"library\",\"simply\",\"publicans\",\"methods\",\"voiceless\",\"flexible\",\"Baruch\",\"fig\",\"distributed\",\"liberally\",\"affrighted\",\"ourselves\",\"flanks\",\"disturbing\",\"Whitman\",\"signifies\",\"goddess\",\"admirably\",\"fuller\",\"tree\",\"occult\",\"scrupulous\",\"burglar\",\"resistance\",\"Lightning\",\"augmented\",\"Windsor\",\"impute\",\"exertion\",\"feele\",\"assent\",\"usury\",\"melons\",\"Low\",\"brute\",\"Lower\",\"intolerable\",\"regions\",\"pans\",\"postillion\",\"sobbed\",\"clergyman\",\"bred\",\"Thanes\",\"Prison\",\"berries\",\"disposition\",\"milk\",\"seizure\",\"snowy\",\"As\",\"comparing\",\"faine\",\"whale\",\"found\",\"chant\",\"shown\",\"barb\",\"minde\",\"Hey\",\"Everything\",\"thumb\",\"regardless\",\"Chenaanah\",\"Things\",\"imaginary\",\"hauling\",\"congratulations\",\"playfully\",\"sends\",\"frolic\",\"Alps\",\"hereditary\",\"lucre\",\"regal\",\"weren\",\"Gingerbread\",\"flying\",\"vegetable\",\"creations\",\"story\",\"Monkey\",\"Lucil\",\"high\",\"stony\",\"artless\",\"placidly\",\"divine\",\"indifference\",\"roe\",\"meats\",\"advance\",\"Union\",\"Image\",\"radiance\",\"Sag\",\"volume\",\"rest\",\"nails\",\"poke\",\"Phinehas\",\"Duke\",\"held\",\"Why\",\"luminous\",\"vilde\",\"infatuation\",\"rubbish\",\"Captains\",\"brought\",\"fur\",\"gowns\",\"measur\",\"whet\",\"hen\",\"noticing\",\"unsearchable\",\"sinews\",\"rounded\",\"serve\",\"tiny\",\"Leviathan\",\"82\",\"ran\",\"loved\",\"try\",\"patriarch\",\"understands\",\"Noah\",\"happiness\",\"mode\",\"uncover\",\"Alarum\",\"Ishbosheth\",\"splashed\",\"comer\",\"piles\",\"Betwixt\",\"Stretch\",\"morbidity\",\"ducking\",\"Hazeroth\",\"lead\",\"food\",\"properly\",\"Corinth\",\"surgeon\",\"importance\",\"causes\",\"rebuke\",\"Midian\",\"growne\",\"yawn\",\"subsequent\",\"chanted\",\"sluggish\",\"obedience\",\"sincere\",\"per\",\"athwart\",\"Carmel\",\"higher\",\"adored\",\"crucified\",\"represent\",\"duke\",\"equality\",\"pleaseth\",\"steam\",\"Start\",\"temper\",\"fearing\",\"grasping\",\"boat\",\"noisy\",\"Andes\",\"English\",\"Fortinbras\",\"Wimpey\",\"useful\",\"peg\",\"heated\",\"coolness\",\"Charity\",\"judge\",\"indeed\",\"blesseth\",\"furlongs\",\"contemptible\",\"page\",\"bounding\",\"molten\",\"Eshtaol\",\"perfectly\",\"burne\",\"Friends\",\"Hebrew\",\"fatigued\",\"anointed\",\"tie\",\"Ananias\",\"invaded\",\"blessings\",\"Shishak\",\"Soo\",\"Phrase\",\"complaints\",\"Zerubbabel\",\"interfere\",\"Heaven\",\"shewing\",\"robed\",\"accuse\",\"grass\",\"promoted\",\"wintry\",\"expired\",\"dissimilar\",\"pathetic\",\"steep\",\"beam\",\"teachest\",\"remember\",\"Achbor\",\"visited\",\"afore\",\"extinct\",\"winde\",\"shure\",\"rustic\",\"females\",\"solemnity\",\"term\",\"muskets\",\"S\",\"kindle\",\"graze\",\"populous\",\"outgoings\",\"cogent\",\"drowne\",\"glove\",\"withal\",\"Pedaiah\",\"plates\",\"intoxication\",\"wrote\",\"muffled\",\"condemned\",\"jib\",\"demure\",\"HIS\",\"openings\",\"rocky\",\"sometimes\",\"lunacy\",\"believing\",\"hatch\",\"lick\",\"fleet\",\"Lazy\",\"Commission\",\"_her_\",\"rheumatic\",\"issued\",\"scourge\",\"Pisgah\",\"kneeled\",\"frigid\",\"housetop\",\"avast\",\"millstones\",\"profession\",\"threads\",\"accomplishments\",\"hunters\",\"Cin\",\"unheard\",\"avenger\",\"120\",\"vengeful\",\"godly\",\"winters\",\"resolution\",\"gratefully\",\"endureth\",\"waits\",\"Starbuck\",\"leaky\",\"Abiathar\",\"lacke\",\"droop\",\"Pindarus\",\"banner\",\"Paran\",\"cannon\",\"excel\",\"Lepidus\",\"passe\",\"fishy\",\"assume\",\"punctuality\",\"free\",\"Thinks\",\"cracks\",\"Leaves\",\"collected\",\"Keep\",\"commerce\",\"shipmate\",\"strove\",\"tears\",\"buryingplace\",\"balmy\",\"infirmity\",\"planets\",\"warmth\",\"doctrine\",\"lewdness\",\"crutch\",\"torture\",\"quietness\",\"saveth\",\"sincerely\",\"laborers\",\"unfruitful\",\"Franklin\",\"hurry\",\"Asaiah\",\"empty\",\"Arctic\",\"heel\",\"snuffers\",\"space\",\"panes\",\"supple\",\"thou\",\"noon\",\"Seruants\",\"elegant\",\"quarrelling\",\"unicorn\",\"frontiers\",\"boundless\",\"Bashan\",\"AT\",\"wide\",\"16\",\"wilful\",\"outset\",\"Ethan\",\"toes\",\"carefulness\",\"realm\",\"scrap\",\"compass\",\"pearls\",\"wilderness\",\"invest\",\"sunder\",\"turkey\",\"besought\",\"rites\",\"sober\",\"lodged\",\"devouring\",\"anyrate\",\"threshers\",\"forme\",\"definition\",\"feel\",\"silenced\",\"germs\",\"rifle\",\"coach\",\"brows\",\"Did\",\"warmer\",\"surpassed\",\"deferred\",\"tropic\",\"citizen\",\"Tyrants\",\"slightly\",\"whirling\",\"Pleas\",\"tightened\",\"lacketh\",\"arranged\",\"Abishag\",\"herring\",\"fabulous\",\"torches\",\"foot\",\"Beare\",\"indirections\",\"clinking\",\"stumbling\",\"valiantly\",\"scheme\",\"columns\",\"Cobb\",\"hotels\",\"psalm\",\"Titus\",\"masses\",\"sharpening\",\"batter\",\"hesitating\",\"ape\",\"pilgrimage\",\"heere\",\"forcing\",\"Luc\",\"discoloured\",\"wondering\",\"capricious\",\"timidity\",\"readers\",\"pantry\",\"attraction\",\"shifting\",\"blind\",\"mastering\",\"questioned\",\"immovable\",\"appalling\",\"shoe\",\"Heth\",\"Hazor\",\"handle\",\"frigate\",\"expression\",\"what\",\"Weston\",\"_that_\",\"tragic\",\"fat\",\"poetic\",\"firstlings\",\"obtaining\",\"towers\",\"Breast\",\"shirts\",\"meete\",\"spend\",\"False\",\"exasperated\",\"thinketh\",\"homage\",\"addressing\",\"dog\",\"tally\",\"note\",\"equator\",\"Witness\",\"Green\",\"comming\",\"efforts\",\";--\",\"Dodo\",\"corrupt\",\"magnitude\",\"prevailing\",\"Jeroboam\",\"shattered\",\"sides\",\"gallop\",\"Nantucketer\",\"cries\",\"imputed\",\"fain\",\"westward\",\"sprung\",\"Havilah\",\"lesse\",\"ranges\",\"variations\",\"allies\",\"Cottage\",\"resemble\",\"knees\",\"coachman\",\"sailed\",\"three\",\"overthroweth\",\"knights\",\"quit\",\"shouting\",\"Certain\",\"shady\",\"bedstead\",\"Horses\",\"heaviness\",\"serenity\",\"Rising\",\"ceased\",\"sink\",\"afflictions\",\"multiplied\",\"rewards\",\"dismissed\",\"party\",\"Till\",\"shining\",\"Anne\",\"foibles\",\"Cask\",\"$\",\"lust\",\"warmed\",\"jackets\",\"lightning\",\"lantern\",\"shamed\",\"liking\",\"gentleness\",\"lawful\",\"Bartholomew\",\"animated\",\"wave\",\"grind\",\"Talb\",\"crab\",\"Brethren\",\"Should\",\"gravity\",\"subtly\",\"onely\",\"sided\",\"infinitely\",\"Depart\",\"atmospheres\",\"aboard\",\"shall\",\"deeper\",\"weird\",\"moored\",\"Supreme\",\"useth\",\"dauntless\",\"attendants\",\"comb\",\"odorous\",\"harme\",\"General\",\"bespeak\",\"Central\",\"select\",\"persuasion\",\"fresh\",\"doubtful\",\"tranquillity\",\"drift\",\"tribes\",\"handkerchief\",\"seers\",\"cheese\",\"fretting\",\"7\",\"Return\",\"Obed\",\"displayed\",\"Sussex\",\"piece\",\"path\",\"twas\",\"enjoys\",\"Sounds\",\"answering\",\"Oh\",\"hearer\",\"Perth\",\"flukes\",\"store\",\"trode\",\"believe\",\"bakers\",\"ambrosial\",\"wandereth\",\"Elkanah\",\"Passage\",\"affront\",\"daily\",\"bite\",\"chastise\",\"black\",\"mourning\",\"Dunstable\",\"stretch\",\"gaiety\",\"Consider\",\"grape\",\"magic\",\"enormous\",\"Valognes\",\"Watch\",\"reproachfully\",\"triumphal\",\"yielding\",\"Frode\",\"speed\",\"Angel\",\"complaisance\",\"jubile\",\"poyson\",\"sleep\",\"Othniel\",\"Euroclydon\",\"Pedro\",\"continual\",\"Baalhanan\",\"appropriate\",\"cakes\",\"kisses\",\"salted\",\"burst\",\"1st\",\"mid\",\"stronger\",\"lamb\",\"divorcement\",\"ports\",\"sinners\",\"Prepare\",\"peering\",\"Decius\",\"flute\",\"Armes\",\"presses\",\"Linnaeus\",\"draws\",\"mortification\",\"Countries\",\"lemon\",\"fraught\",\"impressed\",\"proceedeth\",\"Simpson\",\"A\",\"labouring\",\"clang\",\"unintelligible\",\"sketch\",\"guarded\",\"smallest\",\"room\",\"vapor\",\"ounce\",\"obscured\",\"dispositions\",\"job\",\"numbered\",\"title\",\"dealt\",\"Geba\",\"considerably\",\"Nay\",\"hilarity\",\"stray\",\"contrasted\",\"fluke\",\"printer\",\"backe\",\"folly\",\"remembers\",\"liquid\",\"heightened\",\"prosperity\",\"comprehend\",\"flint\",\"Enscombe\",\"Rain\",\"fancying\",\"October\",\"love\",\"convince\",\"LOST\",\"thicker\",\"womanhood\",\"bequeath\",\"Bank\",\"preached\",\"paradox\",\"yoked\",\"delicate\",\"stab\",\"furnished\",\"downe\",\"acquire\",\"hesitated\",\"regain\",\"liked\",\"Hercules\",\"Castle\",\"dews\",\"quake\",\"replaced\",\"investigate\",\"gentility\",\"Whereof\",\"Doeg\",\"whaling\",\"formality\",\"equipped\",\"unjust\",\"Hushathite\",\"Considering\",\"denying\",\"rent\",\"extensive\",\"Naboth\",\"David\",\"poet\",\"spikes\",\"biggest\",\"enabled\",\"hostler\",\"adhere\",\"revenge\",\"revolved\",\"5\",\"retire\",\"invalid\",\"shouldest\",\"usages\",\"doubtfully\",\"penance\",\"cured\",\"Spring\",\"bringest\",\"streets\",\"cabins\",\"decks\",\"navel\",\"inordinate\",\"balk\",\"blasting\",\"determined\",\"top\",\"comparatively\",\"rings\",\"By\",\"bandstand\",\"bucket\",\"opaque\",\"pulled\",\"compliance\",\"learning\",\"amazing\",\"re\",\"bottomless\",\"Somebody\",\"praying\",\"apron\",\"Scotch\",\"prophesying\",\"mourners\",\"doe\",\"drab\",\"Dry\",\"navy\",\"usage\",\"brake\",\"reliable\",\"examine\",\"la\",\"Signor\",\"Adullam\",\"senseless\",\"Valour\",\"_The\",\"fellowship\",\"serpentine\",\"Bedford\",\"eighty\",\"Since\",\"transformed\",\"Family\",\"assiduous\",\"elders\",\"alarmed\",\"holiest\",\"departed\",\"headsman\",\"quitted\",\"/\",\"leak\",\"proceeded\",\"sighs\",\"whaler\",\"Businesse\",\"_him_\",\"loud\",\"adorned\",\"expansive\",\"provide\",\"jets\",\"limpid\",\"tear\",\"ages\",\"reeled\",\"trophy\",\"trousers\",\"Seyward\",\"wonder\",\"important\",\"Speake\",\"jack\",\"livest\",\"bloodshed\",\"beckoning\",\"Abarim\",\"repetition\",\"uniforms\",\"marriages\",\"Davis\",\"amendment\",\"Mizpah\",\"dismal\",\"straits\",\"windows\",\"wholsome\",\"marine\",\"excluded\",\"furiously\",\"heauie\",\"calves\",\"Curious\",\"bones\",\"display\",\"moods\",\"pulpit\",\"Rome\",\"swallowing\",\"outlandish\",\"affected\",\"pollute\",\"stays\",\"slaughter\",\"Wide\",\"proposed\",\"reckon\",\"Dor\",\"dungeon\",\"shutter\",\"persons\",\"crow\",\"respite\",\"defective\",\"formless\",\"courses\",\"insomuch\",\"grieved\",\"Prairie\",\"communicating\",\"excessive\",\"putteth\",\"Jether\",\"reports\",\"western\",\"pernicious\",\"Jazer\",\"blue\",\"Haply\",\"daisies\",\"steward\",\"persisted\",\"gaily\",\"inimitable\",\"Jonas\",\"alteration\",\"sleeper\",\"dough\",\"testify\",\"fascinating\",\"grandeur\",\"Dan\",\"clad\",\"sixty\",\"Comrades\",\"infidel\",\"Abdon\",\"sorceries\",\"keepeth\",\"Ban\",\"affords\",\"Hadad\",\"older\",\"dedication\",\"owner\",\"reflectively\",\"individuals\",\"strode\",\"song\",\"jackanapes\",\"Virtues\",\"anguish\",\"Much\",\"Hum\",\"unprincipled\",\"immortal\",\"Caleb\",\"ROBERT\",\"gasped\",\"final\",\"treasury\",\"unwonted\",\"Brut\",\"flattereth\",\"glared\",\"foremast\",\"improve\",\"Cas\",\"feelingly\",\"mistake\",\"disguised\",\"toss\",\"waiting\",\"swarms\",\"demi\",\"fear\",\"Taurus\",\"vices\",\"dishonest\",\"bliss\",\"hysterics\",\"honest\",\"barns\",\"shiver\",\"Ezza\",\"Past\",\"bowsprit\",\"external\",\"motive\",\"Monsieur\",\"Belial\",\"Abishua\",\"Joy\",\"enquiry\",\"Ahimaaz\",\"wouldst\",\"NO\",\"IX\",\"tottering\",\"tucked\",\"prevail\",\"Weep\",\"Rebekah\",\"mischievous\",\"glistened\",\"mariner\",\"proves\",\"gulf\",\"unnecessary\",\"scorching\",\"mildew\",\"pricked\",\"expiring\",\"conceiving\",\"giants\",\"grandson\",\"guarding\",\"eunuchs\",\"nourish\",\"compassionate\",\"Vnder\",\"Bathsheba\",\"watch\",\"contemned\",\"answers\",\"daylight\",\"Winde\",\"euen\",\"referring\",\"social\",\"call\",\"Price\",\"dross\",\"scrip\",\"centuries\",\"Ye\",\"disposal\",\"cooked\",\"scripture\",\"Jehohanan\",\"GREAT\",\"cherish\",\"knaue\",\"busied\",\"takes\",\"fable\",\"hatches\",\"create\",\"stump\",\"potency\",\"clubs\",\"indulge\",\"dyed\",\"fleeing\",\"suspect\",\"bearer\",\"abase\",\"ah\",\"sentinels\",\"unheeded\",\"softer\",\"courts\",\"helps\",\"VOYAGE\",\"follow\",\"exultation\",\"survivor\",\"requite\",\"premature\",\"Nancy\",\"Wednesday\",\"Sweepstakes\",\"standing\",\"commander\",\"absorb\",\"coarse\",\"Asia\",\"merit\",\"oddity\",\"undulating\",\"expressions\",\"pavement\",\"allowed\",\"Ha\",\"vulgar\",\"shouldered\",\"Esq\",\"End\",\"alive\",\"9\",\"sprinkling\",\"slime\",\"mortally\",\"makest\",\"Amoz\",\"apace\",\"Rosamond\",\"placid\",\"vex\",\"front\",\"fork\",\"Daggoo\",\"excused\",\"hiss\",\"cherished\",\"hireling\",\"footstool\",\"Hebrews\",\"Lady\",\"sleeves\",\"plums\",\"conditions\",\"hauled\",\"agent\",\"tresses\",\"Thessalonica\",\"interpretation\",\"realised\",\"Zobah\",\"dissipation\",\"area\",\"failed\",\"abomination\",\"personally\",\"foursquare\",\"cider\",\"Nethinims\",\"tuned\",\"Croft\",\"owning\",\"outline\",\"giuen\",\"sexes\",\"crabs\",\"Damn\",\"stocks\",\"distinguished\",\"bellowing\",\"dozen\",\"clustering\",\"Dane\",\"admits\",\"dipped\",\"invoked\",\"demon\",\"whirled\",\"Jehoiada\",\"sirs\",\"grotesque\",\"spending\",\"gazing\",\"limb\",\"correspondence\",\"mellow\",\"captains\",\"neither\",\"reading\",\"seek\",\"earth\",\"jacket\",\"preparations\",\"Exit\",\"Ater\",\"clock\",\"Last\",\"fossils\",\"scepticism\",\"Very\",\"ranks\",\"steadfastly\",\"perceptible\",\"Syme\",\"facts\",\"defiance\",\"Talk\",\"heavily\",\"Capernaum\",\"perverted\",\"benevolence\",\"teach\",\"hastened\",\"progeny\",\"Shebna\",\"recovered\",\"Heman\",\"ransom\",\"setting\",\"brightest\",\"se\",\"gigantic\",\"temple\",\"Quohog\",\"cocoa\",\"truly\",\"thief\",\"ANY\",\"summons\",\"press\",\"Tale\",\"wrecked\",\"goest\",\"are\",\"valiant\",\"Japanese\",\"races\",\"seize\",\"indulgence\",\"easy\",\"Pigeon\",\"contrition\",\"flourishing\",\"negative\",\"refer\",\"chamber\",\"shroud\",\"surrounding\",\"monotonous\",\"bomb\",\"flurry\",\"grumbling\",\"whit\",\"amends\",\"Thankes\",\"persuading\",\"boarding\",\"safest\",\"Bombay\",\"emulous\",\"suffice\",\"ruleth\",\"annexed\",\"belief\",\"NEW\",\"destroyeth\",\"ended\",\"indignity\",\"assuring\",\"Main\",\"plantation\",\"bitten\",\"bashful\",\"Cinna\",\"land\",\"liers\",\"perishing\",\"engines\",\"princely\",\"footing\",\"strikes\",\"separate\",\"Fortunately\",\"efficacy\",\"county\",\"period\",\"Cai\",\"watered\",\"mountain\",\"reviled\",\"Mississippi\",\"weaving\",\"copious\",\"Fetch\",\"thine\",\"lewd\",\"verge\",\"overtake\",\"chargeable\",\"counted\",\"harshly\",\"Ziklag\",\"pay\",\"reflected\",\"apple\",\"station\",\"convicts\",\"dey\",\"melody\",\"tumultuous\",\"brains\",\"Sweet\",\"restitution\",\"Coles\",\"add\",\"abode\",\"soundness\",\"hovering\",\"darkly\",\"failures\",\"apologetically\",\"seriously\",\"resist\",\"chance\",\"Nob\",\"testament\",\"unusually\",\"background\",\"uncles\",\"art\",\"Niagara\",\"recovery\",\"disliked\",\"stole\",\"yer\",\"Dr\",\"America\",\"hasten\",\"foolishness\",\"observant\",\"fiercest\",\"handy\",\"Benjamites\",\"stark\",\"en\",\"yourself\",\"thirteenth\",\"respective\",\"baker\",\"nobody\",\"javelin\",\"delays\",\"Lyca\",\"cabman\",\"standeth\",\"dreaming\",\"Shame\",\"asses\",\"smiles\",\"muttered\",\"foreseen\",\"Those\",\"pebbles\",\"comprising\",\"strew\",\"palms\",\"lumps\",\"bayonets\",\"stolidly\",\"traditions\",\"log\",\"faltering\",\"maize\",\"loosed\",\"holden\",\"professor\",\"Antioch\",\"bombs\",\"Assyria\",\"carcase\",\"driver\",\"nether\",\"History\",\"recurred\",\"literary\",\"fir\",\"dejection\",\"contempt\",\"ridge\",\"loaves\",\"burial\",\"virtuous\",\"rushes\",\"thoughtfully\",\"tooth\",\"mustard\",\"triumphant\",\"level\",\"ridden\",\"capacity\",\"cruelty\",\"dogs\",\"Egyptian\",\"diet\",\"forest\",\"Elias\",\"favor\",\"punctually\",\"titles\",\"yards\",\"numerous\",\"unsuitable\",\"plumed\",\"case\",\"Abram\",\"Sound\",\"calmer\",\"duty\",\"shavings\",\"mechanics\",\"wheels\",\"alarms\",\"concrete\",\"sewing\",\"Teman\",\"sigh\",\"gleaning\",\"Praise\",\"settling\",\"points\",\"wafers\",\"oyster\",\"Rosin\",\"table\",\"protected\",\"illustrate\",\"caricature\",\"Mac\",\"gently\",\"One\",\"overthrew\",\"languishing\",\"Harley\",\"suspension\",\"enquire\",\"Tema\",\"dusk\",\"pavilion\",\"either\",\"tyranny\",\"J\",\"scores\",\"cafe\",\"totally\",\"sentence\",\"smoking\",\"spires\",\"gruel\",\"Tut\",\"printed\",\"prey\",\"placed\",\"proofe\",\"disorderly\",\"leper\",\"union\",\"bay\",\"Soon\",\"imprisonment\",\"happened\",\"cruell\",\"T\",\"treat\",\"cedar\",\"cable\",\"livelong\",\"alacrity\",\"sustenance\",\"further\",\"figs\",\"basest\",\"isn\",\"oil\",\"sew\",\"remarkable\",\"beene\",\"untimely\",\"creeps\",\"Instrument\",\"meantime\",\"feverish\",\"reverence\",\"guidance\",\"gallery\",\"breeze\",\"opposite\",\"emperor\",\"Baanah\",\"esteem\",\"hairy\",\"deceased\",\"Kin\",\"champion\",\"Whether\",\"commandments\",\"coupled\",\"20\",\"Welcome\",\"trumpet\",\"Words\",\"fruition\",\"mounted\",\"pained\",\"Santa\",\"Comes\",\"heaviest\",\"Rezin\",\"splendour\",\"Dishon\",\"fourteenth\",\"sanctity\",\"income\",\"fiercely\",\"destroys\",\"undo\",\"pinnacles\",\"shovel\",\"leads\",\"boldly\",\"feebleness\",\"unsafe\",\"greefe\",\"Jungfrau\",\"aloes\",\"Troas\",\"Esau\",\"Christ\",\"Me\",\"Arise\",\"torrent\",\"welcomed\",\"leprosy\",\"diverted\",\"N\",\"Mar\",\"st\",\"foresee\",\"unfold\",\"bond\",\"flatter\",\"salvation\",\"unwittingly\",\"happy\",\"hobbling\",\"foreskin\",\"sufficed\",\"wisest\",\"refusal\",\"Murther\",\"shopkeeper\",\"cunning\",\"slice\",\"dripping\",\"Washington\",\"curseth\",\"householder\",\"preventing\",\"waistcoats\",\"Cyrus\",\"positive\",\"bricks\",\"life\",\"Amasai\",\"believeth\",\"?'\",\"transfer\",\"Manasseh\",\"un\",\"quivering\",\"exhaled\",\"11\",\"allowable\",\"drunkard\",\"attacking\",\"Gothic\",\"den\",\"Taanach\",\"fairy\",\"mines\",\"grateful\",\"stirs\",\"spit\",\"borderland\",\"violent\",\"Porpoise\",\"shipwrecked\",\"trading\",\"added\",\"Hamilton\",\"dedicated\",\"honeycomb\",\"unexceptionable\",\"TWO\",\"Christianity\",\"supplying\",\"jointure\",\"actress\",\"spurned\",\"squalid\",\"danced\",\"Graue\",\"drifts\",\"dissuade\",\"befell\",\"astonied\",\"Break\",\"dispersed\",\"_our_\",\"haggard\",\"occasioned\",\"map\",\"comely\",\"spake\",\"placidity\",\"characters\",\"adversaries\",\"lions\",\"newes\",\"plotting\",\"Deliverer\",\"grasped\",\"split\",\"jaw\",\"veil\",\"rush\",\"fist\",\"hurts\",\"reconciliation\",\"evince\",\"scrape\",\"sledge\",\"murderous\",\"Straight\",\"Confound\",\"refinement\",\"dilated\",\"scarlet\",\"saw\",\"hindered\",\"steers\",\"frenzy\",\"fried\",\"nice\",\"choicest\",\"quench\",\"Toward\",\"confidently\",\"giues\",\"elsewhere\",\"fears\",\"twigs\",\"conceived\",\"prudence\",\"tenderest\",\"discover\",\"lattice\",\"schoolroom\",\"startling\",\"justice\",\"greeue\",\"liue\",\"charged\",\"calamity\",\"Thenceforth\",\"Cornwall\",\"Cocke\",\"excellent\",\"pursuit\",\"theatre\",\"orphans\",\"wonted\",\"menacing\",\"Haggai\",\"overboard\",\"maidens\",\"shuttlecock\",\"swiftest\",\"brakest\",\"themes\",\"chip\",\"proceed\",\"down\",\"ould\",\"stretching\",\"Seems\",\"likened\",\"descended\",\"Returning\",\"prescribed\",\"Carstairs\",\"tipped\",\"millions\",\"battery\",\"casements\",\"Have\",\"disciple\",\"porpoises\",\"untoward\",\"mechanically\",\"tails\",\"clerical\",\"recesses\",\"tendeth\",\"Falconroy\",\"panniers\",\"principle\",\"subtle\",\"unbearable\",\"vowed\",\"Jezreel\",\"IF\",\"landscape\",\"Serpent\",\"offerings\",\"Merry\",\"seeing\",\"Evan\",\"separateth\",\"mates\",\"craft\",\"chuckling\",\"Ruth\",\"smothered\",\"lips\",\"cycles\",\"doubled\",\"swallow\",\"resound\",\"glance\",\"rich\",\"portions\",\"Hilkiah\",\"kingdom\",\"Thither\",\"imaginative\",\"rue\",\"wicker\",\"action\",\"parchment\",\"Exactly\",\"Tubal\",\"\\\"--\",\"admitting\",\"shutteth\",\"histories\",\"labyrinth\",\"Zurishaddai\",\"each\",\"teares\",\"slumber\",\"visitor\",\"'-\",\"unholy\",\"dubious\",\"husky\",\"sportsman\",\"sly\",\"sensual\",\"fulfilled\",\"quieted\",\"soldiers\",\"Ser\",\"inheritance\",\"porter\",\"ceremonious\",\"plot\",\"Kingdome\",\"holiday\",\"cure\",\"fading\",\"stubbornly\",\"breathe\",\"wither\",\"bleed\",\"belong\",\"buoyant\",\"rapidity\",\"Anarchist\",\"shingle\",\"abhorred\",\"wherewith\",\"Tranquo\",\"can\",\"defileth\",\"envy\",\"worry\",\"thronged\",\"feast\",\"granted\",\"perilous\",\"tarry\",\"Shadrach\",\"ain\",\"trunk\",\"dirt\",\"direst\",\"development\",\"goodly\",\"candour\",\"unconcerned\",\"reins\",\"mingled\",\"palsy\",\"excites\",\"Take\",\"disinclination\",\"Messenger\",\"whirr\",\"diplomacy\",\"impudence\",\"symptom\",\"puppy\",\"rat\",\"charges\",\"hemp\",\"hallowed\",\"finale\",\"paint\",\"Makkedah\",\"influence\",\"fury\",\"beholdest\",\"tub\",\"dreadful\",\"nourishment\",\"Hal\",\"Greece\",\"instinct\",\"sware\",\"Seth\",\"collapse\",\"Matter\",\"...\",\"language\",\"manifested\",\"dispel\",\"Salvation\",\"proofs\",\"robbers\",\"varnished\",\"manifold\",\"goeth\",\"horrors\",\"organs\",\"landscapes\",\"43\",\"Gershom\",\"bondmen\",\"Hanun\",\"hides\",\"summit\",\"fulness\",\"pursuits\",\"peaceably\",\"Zaccur\",\"tufted\",\"apathy\",\"pricking\",\"farms\",\"flattery\",\"tireless\",\"respectfully\",\"rounding\",\"apparel\",\"Golgotha\",\"Accordingly\",\"test\",\"walker\",\"sheer\",\"twins\",\"speech\",\"part\",\"Portia\",\"astonishing\",\"side\",\"spiritual\",\"shrubbery\",\"barefoot\",\"Musicke\",\"barred\",\"proclaimed\",\"consecration\",\"uprising\",\"Gibbethon\",\"Typhoon\",\"North\",\"hurrying\",\"Adventures\",\"snug\",\"bounds\",\"murdered\",\"choke\",\"wickedness\",\"Norland\",\"prepare\",\"Tyranny\",\"Radney\",\"Lee\",\"which\",\"in\",\"travailed\",\"Rise\",\"loosen\",\"concealed\",\"November\",\"Hananiah\",\"speaketh\",\"feeble\",\"growth\",\"African\",\"never\",\"determine\",\"Light\",\"haste\",\"Venice\",\"glances\",\"regarded\",\"inspired\",\"Fates\",\"establish\",\"shadowed\",\"adventures\",\"blindly\",\"sudden\",\"kinds\",\"advertise\",\"rod\",\"pisseth\",\"cross\",\"footed\",\"vnderstand\",\"inscription\",\"newest\",\"Donavan\",\"camps\",\"stained\",\"taffrail\",\"horribly\",\"profuse\",\"victual\",\"devoured\",\"types\",\"why\",\"tallest\",\"devoted\",\"Truly\",\"ouches\",\"suppose\",\"according\",\"Pontus\",\"character\",\"Ship\",\"skill\",\"110\",\"upheld\",\":)\",\"sill\",\"Truth\",\"extasie\",\"Whitwell\",\"difficulties\",\"Frogs\",\"vanities\",\"grandmother\",\"student\",\"biting\",\"SONGS\",\"warbling\",\"contracting\",\"lawgiver\",\"hasteth\",\"knew\",\"Johanan\",\"hating\",\"Knightley\",\"vista\",\"babes\",\"Gamaliel\",\"baleen\",\"thing\",\"larks\",\"VI\",\"entrance\",\"Funerall\",\"special\",\"Natural\",\"rewardeth\",\"doted\",\"frowning\",\"southern\",\"inhabit\",\"Brown\",\"similitude\",\"Richard\",\"safely\",\"whither\",\"London\",\"unity\",\"begged\",\"ruling\",\"Zanoah\",\"chancing\",\"election\",\"rejected\",\"Who\",\"affecting\",\"Mark\",\"bud\",\"cuffs\",\"New\",\"abruptness\",\"Jozabad\",\"fashion\",\"report\",\"mourneth\",\"gout\",\"weariness\",\"dry\",\"throng\",\"candlestick\",\"Jordan\",\"counsel\",\"pushes\",\"household\",\"Agag\",\"cling\",\"fourth\",\"hind\",\"evade\",\"flashed\",\"builder\",\"feeds\",\"running\",\"Midnight\",\"Seal\",\"Potomac\",\"Oft\",\"distressed\",\"charmingly\",\"19\",\"excellence\",\"legged\",\"geography\",\"net\",\"scholar\",\"indiscriminately\",\"flood\",\"distressing\",\"ado\",\"36\",\"surety\",\"clinging\",\"queen\",\"Trade\",\"movement\",\"Rosincrance\",\"magnanimous\",\"setteth\",\"Buy\",\"shoots\",\"specimens\",\"thereof\",\"THAT\",\"Moza\",\"ostentatiously\",\"entertaining\",\"stupid\",\"hilarious\",\"cheap\",\"purposed\",\"wet\",\"fishermen\",\"Th\",\"feeder\",\"Long\",\"accidentally\",\"Parkinson\",\"Martha\",\"studied\",\"humbug\",\"rather\",\"Sunne\",\"skin\",\"tapers\",\"Wash\",\"Run\",\"liken\",\"Brothers\",\"Fish\",\"decorum\",\"rock\",\"nineteen\",\"science\",\"admit\",\"happen\",\"aslant\",\"commercial\",\"comical\",\"internal\",\"pent\",\"bearest\",\"Saying\",\"Fourth\",\"comforter\",\"unobserved\",\"93\",\"exact\",\"resident\",\"garrisons\",\"risk\",\"spoilers\",\"wiping\",\"receiving\",\"Manilla\",\"observation\",\"relaxed\",\"unconsciously\",\"deuce\",\"bar\",\"pervading\",\"muddy\",\"Macduff\",\"camest\",\"fasting\",\"basket\",\"tenants\",\"sleepe\",\"lanes\",\"preserver\",\"Gho\",\"violently\",\"leaks\",\"local\",\"snuffed\",\"sized\",\"peace\",\"Lachish\",\"kindest\",\"crash\",\"attractions\",\"detain\",\"Neriah\",\"inform\",\"handmaids\",\"encouragement\",\"leap\",\";\\\"--\",\"shrouds\",\"Bobby\",\"shaketh\",\"ribbon\",\"continued\",\"wing\",\"HERE\",\"caw\",\"Mamre\",\"Isle\",\"locust\",\"putrid\",\"According\",\"weake\",\"execution\",\"dropping\",\"Grupello\",\"Almost\",\"situated\",\"Vnkle\",\"gash\",\"shrieking\",\"during\",\"VII\",\"defined\",\"speakest\",\"nightingale\",\"Ahaziah\",\"Personality\",\"precept\",\"Zeboim\",\"foreknowledge\",\"Dame\",\"straw\",\"forbear\",\"constellations\",\"wot\",\"round\",\"?)\",\"gentlemanlike\",\"acquired\",\"awfully\",\"pleased\",\"decrees\",\"instinctively\",\"died\",\"estate\",\"dwellest\",\"confronting\",\"Gershonites\",\"statute\",\"harpooned\",\"silver\",\"coils\",\"consulted\",\"pitied\",\"saluted\",\"British\",\"attaching\",\"Geshurites\",\"smiled\",\"receiue\",\"Zarhites\",\"lookes\",\"son\",\"Flag\",\"perturbation\",\"acre\",\"shed\",\"carelessly\",\"Berkeley\",\"ruins\",\"euery\",\"unaccountable\",\"lovingkindness\",\"Count\",\"eagerly\",\"ventilator\",\"Rollaround\",\"subsided\",\"dimness\",\"tellest\",\"watering\",\"tens\",\"enlightened\",\"anyone\",\"tones\",\"Dixon\",\"awake\",\"murmurs\",\"Fortunes\",\"reasons\",\"pigeons\",\"gathering\",\"devil\",\"Hutton\",\"hereafter\",\"sting\",\"Noph\",\"stomach\",\"pausing\",\"boarded\",\"gentlemen\",\"sporting\",\"Fellowes\",\"ointment\",\"unfrequently\",\"willingly\",\"present\",\"foul\",\"latter\",\"sings\",\"D\",\"intercession\",\"10\",\"soberly\",\"Kent\",\"ate\",\"assertions\",\"delicious\",\"twentieth\",\"creepeth\",\"locking\",\"Cambridge\",\"mound\",\"cleaned\",\"ornamental\",\"Perhaps\",\"'\",\"covet\",\"Exeter\",\"frequented\",\"center\",\"jet\",\"MacIan\",\"scorner\",\"second\",\"famous\",\"Netophathite\",\"Smite\",\"emotional\",\"shewest\",\"announced\",\"fin\",\"receiv\",\"doctors\",\"Crowne\",\"whatsoever\",\"shoes\",\"Elsa\",\"abhor\",\"employ\",\"Opening\",\"Minde\",\"everything\",\"Pharisee\",\"gladly\",\"Aye\",\"premises\",\"Laadan\",\"2002\",\"pin\",\"stile\",\"hinds\",\"film\",\"bewitching\",\"islet\",\"She\",\"elephants\",\"approved\",\"hemlock\",\"buck\",\"pulse\",\"fund\",\"hover\",\"dazed\",\"liberality\",\"stript\",\"bracelet\",\"Duck\",\"devils\",\"ponderous\",\"literature\",\"Clay\",\"velocity\",\"terrific\",\"63\",\"Zebadiah\",\"careth\",\"prisoners\",\"spectacles\",\"bitterly\",\"strolled\",\"depended\",\"overtaken\",\"box\",\"publish\",\"independence\",\"upside\",\"thoroughfare\",\"weight\",\"crescent\",\"manservant\",\"Ophrah\",\"presence\",\"doomed\",\"visit\",\"ostler\",\"Thence\",\"l\",\"assure\",\"woodland\",\"floats\",\"agreeing\",\"Court\",\"lee\",\"glowed\",\"devise\",\"crept\",\"Morning\",\"outweigh\",\"scattered\",\"scorn\",\"seeth\",\"mouse\",\"crowns\",\"storehouses\",\"shewn\",\"blasts\",\"_had_\",\"tons\",\"warble\",\"Men\",\"shifted\",\"massacre\",\"recess\",\"diuell\",\"Tongue\",\"Ramoth\",\"favourable\",\"smitten\",\"OTTER\",\"homeward\",\"elderly\",\"rude\",\"Nigger\",\"spades\",\"dreamy\",\"founder\",\"packthread\",\"notion\",\"frequent\",\"foe\",\"interior\",\"beginning\",\"honour\",\"Baalah\",\"picturesque\",\"pours\",\"accused\",\"Verily\",\"collecting\",\"Omnipotence\",\"pilgrim\",\"Riblah\",\"December\",\"miraculous\",\"sheltered\",\"cousin\",\"falsely\",\"Strathspey\",\"lapse\",\"exclusive\",\"radish\",\"true\",\"Hope\",\"Lands\",\"compacted\",\"crippled\",\"corners\",\"suffereth\",\"FAMOUS\",\"Whenever\",\"distrustful\",\"rolled\",\"slim\",\"viewed\",\"almighty\",\"world\",\"themselues\",\"banished\",\"sleet\",\"branches\",\"visitors\",\"cheerless\",\"sublime\",\"FROM\",\"accounts\",\"adopted\",\"betook\",\"inquiry\",\"masse\",\"limitless\",\"Bring\",\"lifted\",\"Ages\",\"faded\",\"moreover\",\"memory\",\"peculiarity\",\"Amalekites\",\"Starres\",\"Tychicus\",\"receives\",\"101\",\"vile\",\"crests\",\"65\",\"frankness\",\",'\\\"\",\";--\\\"\",\"convex\",\"Society\",\"destroyer\",\"sleepy\"],\"x\":{\"__ndarray__\":\"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\",\"dtype\":\"float64\",\"shape\":[5000]},\"y\":{\"__ndarray__\":\"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\",\"dtype\":\"float64\",\"shape\":[5000]}},\"selected\":{\"id\":\"1077\",\"type\":\"Selection\"},\"selection_policy\":{\"id\":\"1078\",\"type\":\"UnionRenderers\"}},\"id\":\"1065\",\"type\":\"ColumnDataSource\"},{\"attributes\":{},\"id\":\"1040\",\"type\":\"LinearScale\"},{\"attributes\":{},\"id\":\"1048\",\"type\":\"BasicTicker\"},{\"attributes\":{},\"id\":\"1057\",\"type\":\"HelpTool\"},{\"attributes\":{},\"id\":\"1072\",\"type\":\"BasicTickFormatter\"},{\"attributes\":{},\"id\":\"1038\",\"type\":\"LinearScale\"},{\"attributes\":{\"bottom_units\":\"screen\",\"fill_alpha\":{\"value\":0.5},\"fill_color\":{\"value\":\"lightgrey\"},\"left_units\":\"screen\",\"level\":\"overlay\",\"line_alpha\":{\"value\":1.0},\"line_color\":{\"value\":\"black\"},\"line_dash\":[4,4],\"line_width\":{\"value\":2},\"render_mode\":\"css\",\"right_units\":\"screen\",\"top_units\":\"screen\"},\"id\":\"1076\",\"type\":\"BoxAnnotation\"}],\"root_ids\":[\"1033\"]},\"title\":\"Bokeh Application\",\"version\":\"1.4.0\"}};\n",
              "  var render_items = [{\"docid\":\"2ab750ae-a2e4-4339-bbb0-38d849ff8525\",\"roots\":{\"1033\":\"1a620df4-4453-4525-b682-250ed783ff9e\"}}];\n",
              "  root.Bokeh.embed.embed_items_notebook(docs_json, render_items);\n",
              "\n",
              "  }\n",
              "  if (root.Bokeh !== undefined) {\n",
              "    embed_document(root);\n",
              "  } else {\n",
              "    var attempts = 0;\n",
              "    var timer = setInterval(function(root) {\n",
              "      if (root.Bokeh !== undefined) {\n",
              "        clearInterval(timer);\n",
              "        embed_document(root);\n",
              "      } else {\n",
              "        attempts++;\n",
              "        if (attempts > 100) {\n",
              "          clearInterval(timer);\n",
              "          console.log(\"Bokeh: ERROR: Unable to run BokehJS code because BokehJS library is missing\");\n",
              "        }\n",
              "      }\n",
              "    }, 10, root)\n",
              "  }\n",
              "})(window);"
            ],
            "application/vnd.bokehjs_exec.v0+json": ""
          },
          "metadata": {
            "tags": [],
            "application/vnd.bokehjs_exec.v0+json": {
              "id": "1033"
            }
          }
        }
      ]
    },
    {
      "cell_type": "code",
      "metadata": {
        "id": "j5GKMP76_x1o",
        "colab_type": "code",
        "colab": {}
      },
      "source": [
        ""
      ],
      "execution_count": 0,
      "outputs": []
    }
  ]
}