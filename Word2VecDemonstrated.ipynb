{
  "nbformat": 4,
  "nbformat_minor": 0,
  "metadata": {
    "colab": {
      "name": "Untitled5.ipynb",
      "provenance": [],
      "collapsed_sections": [],
      "authorship_tag": "ABX9TyNukwFCGcOz7BETj7u1SSSY",
      "include_colab_link": true
    },
    "kernelspec": {
      "name": "python3",
      "display_name": "Python 3"
    },
    "accelerator": "GPU"
  },
  "cells": [
    {
      "cell_type": "markdown",
      "metadata": {
        "id": "view-in-github",
        "colab_type": "text"
      },
      "source": [
        "<a href=\"https://colab.research.google.com/github/toyash/Word2Vec_Demo/blob/master/Word2VecDemonstrated.ipynb\" target=\"_parent\"><img src=\"https://colab.research.google.com/assets/colab-badge.svg\" alt=\"Open In Colab\"/></a>"
      ]
    },
    {
      "cell_type": "code",
      "metadata": {
        "id": "uCMm-1zByIQS",
        "colab_type": "code",
        "colab": {}
      },
      "source": [
        ""
      ],
      "execution_count": 0,
      "outputs": []
    },
    {
      "cell_type": "markdown",
      "metadata": {
        "id": "Dnp9TBn1yJ3n",
        "colab_type": "text"
      },
      "source": [
        "# Creating word vectors with **Word2Vec**\n",
        "\n",
        "We are creating word vectors"
      ]
    },
    {
      "cell_type": "markdown",
      "metadata": {
        "id": "4ZaRCDb7zJx2",
        "colab_type": "text"
      },
      "source": [
        "**Load Dependencies**"
      ]
    },
    {
      "cell_type": "code",
      "metadata": {
        "id": "QE3XJYPSySiv",
        "colab_type": "code",
        "colab": {}
      },
      "source": [
        "import nltk\n",
        "from nltk import word_tokenize, sent_tokenize\n",
        "import gensim\n",
        "from gensim.models.word2vec import Word2Vec\n",
        "from sklearn.manifold import TSNE\n",
        "import pandas as pd\n",
        "from bokeh.io import output_notebook\n",
        "from bokeh.plotting import show, figure\n",
        "%matplotlib inline"
      ],
      "execution_count": 0,
      "outputs": []
    },
    {
      "cell_type": "code",
      "metadata": {
        "id": "699UFyZ8yjPi",
        "colab_type": "code",
        "colab": {
          "base_uri": "https://localhost:8080/",
          "height": 68
        },
        "outputId": "b0c036f4-7293-4e0d-ba40-2d761ef2cc24"
      },
      "source": [
        "nltk.download('punkt')"
      ],
      "execution_count": 3,
      "outputs": [
        {
          "output_type": "stream",
          "text": [
            "[nltk_data] Downloading package punkt to /root/nltk_data...\n",
            "[nltk_data]   Unzipping tokenizers/punkt.zip.\n"
          ],
          "name": "stdout"
        },
        {
          "output_type": "execute_result",
          "data": {
            "text/plain": [
              "True"
            ]
          },
          "metadata": {
            "tags": []
          },
          "execution_count": 3
        }
      ]
    },
    {
      "cell_type": "code",
      "metadata": {
        "id": "IrHXTfZTzWQV",
        "colab_type": "code",
        "colab": {
          "base_uri": "https://localhost:8080/",
          "height": 68
        },
        "outputId": "88eb8ed2-92e6-4224-cf70-bdc13aa8aeca"
      },
      "source": [
        "nltk.download('gutenberg')"
      ],
      "execution_count": 4,
      "outputs": [
        {
          "output_type": "stream",
          "text": [
            "[nltk_data] Downloading package gutenberg to /root/nltk_data...\n",
            "[nltk_data]   Unzipping corpora/gutenberg.zip.\n"
          ],
          "name": "stdout"
        },
        {
          "output_type": "execute_result",
          "data": {
            "text/plain": [
              "True"
            ]
          },
          "metadata": {
            "tags": []
          },
          "execution_count": 4
        }
      ]
    },
    {
      "cell_type": "code",
      "metadata": {
        "id": "hhkptaIQzbfy",
        "colab_type": "code",
        "colab": {}
      },
      "source": [
        "from nltk.corpus import gutenberg"
      ],
      "execution_count": 0,
      "outputs": []
    },
    {
      "cell_type": "code",
      "metadata": {
        "id": "0gfIi01dzguT",
        "colab_type": "code",
        "colab": {
          "base_uri": "https://localhost:8080/",
          "height": 323
        },
        "outputId": "51af84c8-6296-420d-a30a-2838f61c2ab9"
      },
      "source": [
        "gutenberg.fileids()"
      ],
      "execution_count": 6,
      "outputs": [
        {
          "output_type": "execute_result",
          "data": {
            "text/plain": [
              "['austen-emma.txt',\n",
              " 'austen-persuasion.txt',\n",
              " 'austen-sense.txt',\n",
              " 'bible-kjv.txt',\n",
              " 'blake-poems.txt',\n",
              " 'bryant-stories.txt',\n",
              " 'burgess-busterbrown.txt',\n",
              " 'carroll-alice.txt',\n",
              " 'chesterton-ball.txt',\n",
              " 'chesterton-brown.txt',\n",
              " 'chesterton-thursday.txt',\n",
              " 'edgeworth-parents.txt',\n",
              " 'melville-moby_dick.txt',\n",
              " 'milton-paradise.txt',\n",
              " 'shakespeare-caesar.txt',\n",
              " 'shakespeare-hamlet.txt',\n",
              " 'shakespeare-macbeth.txt',\n",
              " 'whitman-leaves.txt']"
            ]
          },
          "metadata": {
            "tags": []
          },
          "execution_count": 6
        }
      ]
    },
    {
      "cell_type": "code",
      "metadata": {
        "id": "ar5WWvuPzi6j",
        "colab_type": "code",
        "colab": {
          "base_uri": "https://localhost:8080/",
          "height": 34
        },
        "outputId": "6c1a439b-6681-4c49-fe83-68defd90d4b3"
      },
      "source": [
        "len(gutenberg.fileids())"
      ],
      "execution_count": 7,
      "outputs": [
        {
          "output_type": "execute_result",
          "data": {
            "text/plain": [
              "18"
            ]
          },
          "metadata": {
            "tags": []
          },
          "execution_count": 7
        }
      ]
    },
    {
      "cell_type": "markdown",
      "metadata": {
        "id": "Dsm0dPbfzvtk",
        "colab_type": "text"
      },
      "source": [
        ""
      ]
    },
    {
      "cell_type": "markdown",
      "metadata": {
        "id": "1IJb63ux0BOa",
        "colab_type": "text"
      },
      "source": [
        "### Tokenize Text"
      ]
    },
    {
      "cell_type": "code",
      "metadata": {
        "id": "H8NNN9vD0DDw",
        "colab_type": "code",
        "colab": {}
      },
      "source": [
        "gberg_sent_tokens = sent_tokenize(gutenberg.raw())"
      ],
      "execution_count": 0,
      "outputs": []
    },
    {
      "cell_type": "code",
      "metadata": {
        "id": "4DCgRvX-0M_P",
        "colab_type": "code",
        "colab": {
          "base_uri": "https://localhost:8080/",
          "height": 122
        },
        "outputId": "2b7e3555-fe00-43f6-acbf-10a04efb63c8"
      },
      "source": [
        "gberg_sent_tokens[0:5]"
      ],
      "execution_count": 9,
      "outputs": [
        {
          "output_type": "execute_result",
          "data": {
            "text/plain": [
              "['[Emma by Jane Austen 1816]\\n\\nVOLUME I\\n\\nCHAPTER I\\n\\n\\nEmma Woodhouse, handsome, clever, and rich, with a comfortable home\\nand happy disposition, seemed to unite some of the best blessings\\nof existence; and had lived nearly twenty-one years in the world\\nwith very little to distress or vex her.',\n",
              " \"She was the youngest of the two daughters of a most affectionate,\\nindulgent father; and had, in consequence of her sister's marriage,\\nbeen mistress of his house from a very early period.\",\n",
              " 'Her mother\\nhad died too long ago for her to have more than an indistinct\\nremembrance of her caresses; and her place had been supplied\\nby an excellent woman as governess, who had fallen little short\\nof a mother in affection.',\n",
              " \"Sixteen years had Miss Taylor been in Mr. Woodhouse's family,\\nless as a governess than a friend, very fond of both daughters,\\nbut particularly of Emma.\",\n",
              " 'Between _them_ it was more the intimacy\\nof sisters.']"
            ]
          },
          "metadata": {
            "tags": []
          },
          "execution_count": 9
        }
      ]
    },
    {
      "cell_type": "code",
      "metadata": {
        "id": "JASr32Xf0R7u",
        "colab_type": "code",
        "colab": {
          "base_uri": "https://localhost:8080/",
          "height": 54
        },
        "outputId": "2a76516a-85c2-4773-abf4-7e1055bfb5c4"
      },
      "source": [
        "gberg_sent_tokens[1]"
      ],
      "execution_count": 10,
      "outputs": [
        {
          "output_type": "execute_result",
          "data": {
            "text/plain": [
              "\"She was the youngest of the two daughters of a most affectionate,\\nindulgent father; and had, in consequence of her sister's marriage,\\nbeen mistress of his house from a very early period.\""
            ]
          },
          "metadata": {
            "tags": []
          },
          "execution_count": 10
        }
      ]
    },
    {
      "cell_type": "code",
      "metadata": {
        "id": "78i31xMs0crX",
        "colab_type": "code",
        "colab": {
          "base_uri": "https://localhost:8080/",
          "height": 663
        },
        "outputId": "70b6d33f-aa94-4342-fd73-0d565f14a5aa"
      },
      "source": [
        "word_tokenize(gberg_sent_tokens[1])"
      ],
      "execution_count": 11,
      "outputs": [
        {
          "output_type": "execute_result",
          "data": {
            "text/plain": [
              "['She',\n",
              " 'was',\n",
              " 'the',\n",
              " 'youngest',\n",
              " 'of',\n",
              " 'the',\n",
              " 'two',\n",
              " 'daughters',\n",
              " 'of',\n",
              " 'a',\n",
              " 'most',\n",
              " 'affectionate',\n",
              " ',',\n",
              " 'indulgent',\n",
              " 'father',\n",
              " ';',\n",
              " 'and',\n",
              " 'had',\n",
              " ',',\n",
              " 'in',\n",
              " 'consequence',\n",
              " 'of',\n",
              " 'her',\n",
              " 'sister',\n",
              " \"'s\",\n",
              " 'marriage',\n",
              " ',',\n",
              " 'been',\n",
              " 'mistress',\n",
              " 'of',\n",
              " 'his',\n",
              " 'house',\n",
              " 'from',\n",
              " 'a',\n",
              " 'very',\n",
              " 'early',\n",
              " 'period',\n",
              " '.']"
            ]
          },
          "metadata": {
            "tags": []
          },
          "execution_count": 11
        }
      ]
    },
    {
      "cell_type": "code",
      "metadata": {
        "id": "fkMyUvWO0i1t",
        "colab_type": "code",
        "colab": {
          "base_uri": "https://localhost:8080/",
          "height": 34
        },
        "outputId": "9c85a89f-9c51-4f8b-957a-fd7bdb4b1411"
      },
      "source": [
        "word_tokenize(gberg_sent_tokens[1])[14]"
      ],
      "execution_count": 12,
      "outputs": [
        {
          "output_type": "execute_result",
          "data": {
            "text/plain": [
              "'father'"
            ]
          },
          "metadata": {
            "tags": []
          },
          "execution_count": 12
        }
      ]
    },
    {
      "cell_type": "code",
      "metadata": {
        "id": "Vedao2np0qjU",
        "colab_type": "code",
        "colab": {}
      },
      "source": [
        "gberg_sents = gutenberg.sents()"
      ],
      "execution_count": 0,
      "outputs": []
    },
    {
      "cell_type": "code",
      "metadata": {
        "id": "w2Wi2IMr0_tZ",
        "colab_type": "code",
        "colab": {
          "base_uri": "https://localhost:8080/",
          "height": 1000
        },
        "outputId": "a9f4cbab-7894-4ab7-f4a2-de6772cddd21"
      },
      "source": [
        "gberg_sents[0:5]"
      ],
      "execution_count": 14,
      "outputs": [
        {
          "output_type": "execute_result",
          "data": {
            "text/plain": [
              "[['[', 'Emma', 'by', 'Jane', 'Austen', '1816', ']'],\n",
              " ['VOLUME', 'I'],\n",
              " ['CHAPTER', 'I'],\n",
              " ['Emma',\n",
              "  'Woodhouse',\n",
              "  ',',\n",
              "  'handsome',\n",
              "  ',',\n",
              "  'clever',\n",
              "  ',',\n",
              "  'and',\n",
              "  'rich',\n",
              "  ',',\n",
              "  'with',\n",
              "  'a',\n",
              "  'comfortable',\n",
              "  'home',\n",
              "  'and',\n",
              "  'happy',\n",
              "  'disposition',\n",
              "  ',',\n",
              "  'seemed',\n",
              "  'to',\n",
              "  'unite',\n",
              "  'some',\n",
              "  'of',\n",
              "  'the',\n",
              "  'best',\n",
              "  'blessings',\n",
              "  'of',\n",
              "  'existence',\n",
              "  ';',\n",
              "  'and',\n",
              "  'had',\n",
              "  'lived',\n",
              "  'nearly',\n",
              "  'twenty',\n",
              "  '-',\n",
              "  'one',\n",
              "  'years',\n",
              "  'in',\n",
              "  'the',\n",
              "  'world',\n",
              "  'with',\n",
              "  'very',\n",
              "  'little',\n",
              "  'to',\n",
              "  'distress',\n",
              "  'or',\n",
              "  'vex',\n",
              "  'her',\n",
              "  '.'],\n",
              " ['She',\n",
              "  'was',\n",
              "  'the',\n",
              "  'youngest',\n",
              "  'of',\n",
              "  'the',\n",
              "  'two',\n",
              "  'daughters',\n",
              "  'of',\n",
              "  'a',\n",
              "  'most',\n",
              "  'affectionate',\n",
              "  ',',\n",
              "  'indulgent',\n",
              "  'father',\n",
              "  ';',\n",
              "  'and',\n",
              "  'had',\n",
              "  ',',\n",
              "  'in',\n",
              "  'consequence',\n",
              "  'of',\n",
              "  'her',\n",
              "  'sister',\n",
              "  \"'\",\n",
              "  's',\n",
              "  'marriage',\n",
              "  ',',\n",
              "  'been',\n",
              "  'mistress',\n",
              "  'of',\n",
              "  'his',\n",
              "  'house',\n",
              "  'from',\n",
              "  'a',\n",
              "  'very',\n",
              "  'early',\n",
              "  'period',\n",
              "  '.']]"
            ]
          },
          "metadata": {
            "tags": []
          },
          "execution_count": 14
        }
      ]
    },
    {
      "cell_type": "code",
      "metadata": {
        "id": "BQTzP_Vq1DKJ",
        "colab_type": "code",
        "colab": {
          "base_uri": "https://localhost:8080/",
          "height": 680
        },
        "outputId": "27e322b5-02d8-4df9-d7f2-ab143e4bd67d"
      },
      "source": [
        "gberg_sents[4]"
      ],
      "execution_count": 15,
      "outputs": [
        {
          "output_type": "execute_result",
          "data": {
            "text/plain": [
              "['She',\n",
              " 'was',\n",
              " 'the',\n",
              " 'youngest',\n",
              " 'of',\n",
              " 'the',\n",
              " 'two',\n",
              " 'daughters',\n",
              " 'of',\n",
              " 'a',\n",
              " 'most',\n",
              " 'affectionate',\n",
              " ',',\n",
              " 'indulgent',\n",
              " 'father',\n",
              " ';',\n",
              " 'and',\n",
              " 'had',\n",
              " ',',\n",
              " 'in',\n",
              " 'consequence',\n",
              " 'of',\n",
              " 'her',\n",
              " 'sister',\n",
              " \"'\",\n",
              " 's',\n",
              " 'marriage',\n",
              " ',',\n",
              " 'been',\n",
              " 'mistress',\n",
              " 'of',\n",
              " 'his',\n",
              " 'house',\n",
              " 'from',\n",
              " 'a',\n",
              " 'very',\n",
              " 'early',\n",
              " 'period',\n",
              " '.']"
            ]
          },
          "metadata": {
            "tags": []
          },
          "execution_count": 15
        }
      ]
    },
    {
      "cell_type": "code",
      "metadata": {
        "id": "VK80h6EE1T3f",
        "colab_type": "code",
        "colab": {
          "base_uri": "https://localhost:8080/",
          "height": 34
        },
        "outputId": "d6bc4b7f-3211-4438-d484-6588558269ca"
      },
      "source": [
        "gutenberg.words()"
      ],
      "execution_count": 16,
      "outputs": [
        {
          "output_type": "execute_result",
          "data": {
            "text/plain": [
              "['[', 'Emma', 'by', 'Jane', 'Austen', '1816', ']', ...]"
            ]
          },
          "metadata": {
            "tags": []
          },
          "execution_count": 16
        }
      ]
    },
    {
      "cell_type": "code",
      "metadata": {
        "id": "jEQ5l0D11fZO",
        "colab_type": "code",
        "colab": {
          "base_uri": "https://localhost:8080/",
          "height": 34
        },
        "outputId": "fa89d2c7-37a2-446b-9400-7ce4e4d72bab"
      },
      "source": [
        "len(gutenberg.words())"
      ],
      "execution_count": 17,
      "outputs": [
        {
          "output_type": "execute_result",
          "data": {
            "text/plain": [
              "2621613"
            ]
          },
          "metadata": {
            "tags": []
          },
          "execution_count": 17
        }
      ]
    },
    {
      "cell_type": "code",
      "metadata": {
        "id": "ltdheOKe1maM",
        "colab_type": "code",
        "colab": {}
      },
      "source": [
        "model = Word2Vec(sentences = gberg_sents, size=64, sg=1, window = 10, min_count=5, seed=42, workers=8)"
      ],
      "execution_count": 0,
      "outputs": []
    },
    {
      "cell_type": "code",
      "metadata": {
        "id": "3cUW6h-K2M_Q",
        "colab_type": "code",
        "colab": {
          "base_uri": "https://localhost:8080/",
          "height": 71
        },
        "outputId": "3cd672b5-9e6e-4a4f-ac42-b38175175c4a"
      },
      "source": [
        "model.save(\"raw_gutenberg_model.w2v\")"
      ],
      "execution_count": 19,
      "outputs": [
        {
          "output_type": "stream",
          "text": [
            "/usr/local/lib/python3.6/dist-packages/smart_open/smart_open_lib.py:402: UserWarning: This function is deprecated, use smart_open.open instead. See the migration notes for details: https://github.com/RaRe-Technologies/smart_open/blob/master/README.rst#migrating-to-the-new-open-function\n",
            "  'See the migration notes for details: %s' % _MIGRATION_NOTES_URL\n"
          ],
          "name": "stderr"
        }
      ]
    },
    {
      "cell_type": "markdown",
      "metadata": {
        "id": "sG5KpxfY2pZU",
        "colab_type": "text"
      },
      "source": [
        "## Explore model"
      ]
    },
    {
      "cell_type": "code",
      "metadata": {
        "id": "9bRIg6982rQt",
        "colab_type": "code",
        "colab": {
          "base_uri": "https://localhost:8080/",
          "height": 71
        },
        "outputId": "de4170fb-c05f-46db-e38d-24abd43de57b"
      },
      "source": [
        "model = gensim.models.Word2Vec.load(\"raw_gutenberg_model.w2v\")"
      ],
      "execution_count": 20,
      "outputs": [
        {
          "output_type": "stream",
          "text": [
            "/usr/local/lib/python3.6/dist-packages/smart_open/smart_open_lib.py:402: UserWarning: This function is deprecated, use smart_open.open instead. See the migration notes for details: https://github.com/RaRe-Technologies/smart_open/blob/master/README.rst#migrating-to-the-new-open-function\n",
            "  'See the migration notes for details: %s' % _MIGRATION_NOTES_URL\n"
          ],
          "name": "stderr"
        }
      ]
    },
    {
      "cell_type": "code",
      "metadata": {
        "id": "RMUAHvwK22zG",
        "colab_type": "code",
        "colab": {
          "base_uri": "https://localhost:8080/",
          "height": 292
        },
        "outputId": "379a73a3-71fe-434d-c272-b8efbfe9aa83"
      },
      "source": [
        "model['dog']"
      ],
      "execution_count": 21,
      "outputs": [
        {
          "output_type": "stream",
          "text": [
            "/usr/local/lib/python3.6/dist-packages/ipykernel_launcher.py:1: DeprecationWarning: Call to deprecated `__getitem__` (Method will be removed in 4.0.0, use self.wv.__getitem__() instead).\n",
            "  \"\"\"Entry point for launching an IPython kernel.\n"
          ],
          "name": "stderr"
        },
        {
          "output_type": "execute_result",
          "data": {
            "text/plain": [
              "array([-0.29642972, -0.07936059, -0.1287618 ,  0.21172729, -0.19232777,\n",
              "       -0.18497287,  0.2275823 , -0.2926514 ,  0.5269483 , -0.43820634,\n",
              "       -0.03761466, -0.49549043,  0.31846973, -0.18216667,  0.17878388,\n",
              "       -0.22103451,  0.38121003,  0.26378047,  0.14982732, -0.2780911 ,\n",
              "        0.21388912,  0.01967121,  0.30030048,  0.48910722, -0.20159012,\n",
              "        0.23091213, -0.13946883, -0.19260414,  0.1785338 ,  0.50791794,\n",
              "        0.23347566,  0.48286647, -0.21142827, -0.6997253 ,  0.10607659,\n",
              "        0.06323872, -0.34133247,  0.70448124, -0.0989847 ,  0.20916772,\n",
              "        0.10235769,  0.08658602, -0.11270791,  0.2961648 , -0.3935607 ,\n",
              "       -0.04554257, -0.05740123,  0.12175927,  0.18874593,  0.11106529,\n",
              "       -0.20587072, -0.21976155,  0.23609792, -0.2886361 ,  0.07448921,\n",
              "       -0.35358086, -0.19093193, -0.13343664, -0.29690862, -0.68790627,\n",
              "       -0.16218519,  0.23055716, -0.09225639, -0.40457293], dtype=float32)"
            ]
          },
          "metadata": {
            "tags": []
          },
          "execution_count": 21
        }
      ]
    },
    {
      "cell_type": "code",
      "metadata": {
        "id": "NQmb7NcN26Vl",
        "colab_type": "code",
        "colab": {
          "base_uri": "https://localhost:8080/",
          "height": 88
        },
        "outputId": "62a77332-7c36-42df-ee1a-80c33d90a2bd"
      },
      "source": [
        "len(model['dog'])"
      ],
      "execution_count": 22,
      "outputs": [
        {
          "output_type": "stream",
          "text": [
            "/usr/local/lib/python3.6/dist-packages/ipykernel_launcher.py:1: DeprecationWarning: Call to deprecated `__getitem__` (Method will be removed in 4.0.0, use self.wv.__getitem__() instead).\n",
            "  \"\"\"Entry point for launching an IPython kernel.\n"
          ],
          "name": "stderr"
        },
        {
          "output_type": "execute_result",
          "data": {
            "text/plain": [
              "64"
            ]
          },
          "metadata": {
            "tags": []
          },
          "execution_count": 22
        }
      ]
    },
    {
      "cell_type": "code",
      "metadata": {
        "id": "g_9fctKL2_PU",
        "colab_type": "code",
        "colab": {
          "base_uri": "https://localhost:8080/",
          "height": 275
        },
        "outputId": "23b5d8a8-89e1-4043-91fd-67fdcf2272bb"
      },
      "source": [
        "model.most_similar('dog')"
      ],
      "execution_count": 23,
      "outputs": [
        {
          "output_type": "stream",
          "text": [
            "/usr/local/lib/python3.6/dist-packages/ipykernel_launcher.py:1: DeprecationWarning: Call to deprecated `most_similar` (Method will be removed in 4.0.0, use self.wv.most_similar() instead).\n",
            "  \"\"\"Entry point for launching an IPython kernel.\n",
            "/usr/local/lib/python3.6/dist-packages/gensim/matutils.py:737: FutureWarning: Conversion of the second argument of issubdtype from `int` to `np.signedinteger` is deprecated. In future, it will be treated as `np.int64 == np.dtype(int).type`.\n",
            "  if np.issubdtype(vec.dtype, np.int):\n"
          ],
          "name": "stderr"
        },
        {
          "output_type": "execute_result",
          "data": {
            "text/plain": [
              "[('puppy', 0.826796293258667),\n",
              " ('cage', 0.7722885012626648),\n",
              " ('sweeper', 0.7707191705703735),\n",
              " ('thief', 0.760360836982727),\n",
              " ('pig', 0.7537423968315125),\n",
              " ('pet', 0.7484516501426697),\n",
              " ('cow', 0.7423561215400696),\n",
              " ('broth', 0.7382271885871887),\n",
              " ('shell', 0.7377527952194214),\n",
              " ('string', 0.7375942468643188)]"
            ]
          },
          "metadata": {
            "tags": []
          },
          "execution_count": 23
        }
      ]
    },
    {
      "cell_type": "code",
      "metadata": {
        "id": "V6BUCMjf3DT8",
        "colab_type": "code",
        "colab": {
          "base_uri": "https://localhost:8080/",
          "height": 275
        },
        "outputId": "217b1bd6-d89f-4694-963d-8a7ddd2e1285"
      },
      "source": [
        "model.most_similar('Paris')"
      ],
      "execution_count": 25,
      "outputs": [
        {
          "output_type": "stream",
          "text": [
            "/usr/local/lib/python3.6/dist-packages/ipykernel_launcher.py:1: DeprecationWarning: Call to deprecated `most_similar` (Method will be removed in 4.0.0, use self.wv.most_similar() instead).\n",
            "  \"\"\"Entry point for launching an IPython kernel.\n",
            "/usr/local/lib/python3.6/dist-packages/gensim/matutils.py:737: FutureWarning: Conversion of the second argument of issubdtype from `int` to `np.signedinteger` is deprecated. In future, it will be treated as `np.int64 == np.dtype(int).type`.\n",
            "  if np.issubdtype(vec.dtype, np.int):\n"
          ],
          "name": "stderr"
        },
        {
          "output_type": "execute_result",
          "data": {
            "text/plain": [
              "[('France', 0.8147110342979431),\n",
              " ('station', 0.8071305751800537),\n",
              " ('Downs', 0.7893259525299072),\n",
              " ('Margate', 0.7890139222145081),\n",
              " ('Anarchist', 0.7859553098678589),\n",
              " ('lunatic', 0.7801159620285034),\n",
              " ('statement', 0.779580295085907),\n",
              " ('Malvoli', 0.7786455154418945),\n",
              " ('asylum', 0.7779222726821899),\n",
              " ('thinkers', 0.7748328447341919)]"
            ]
          },
          "metadata": {
            "tags": []
          },
          "execution_count": 25
        }
      ]
    },
    {
      "cell_type": "code",
      "metadata": {
        "id": "g7iZrL503ISr",
        "colab_type": "code",
        "colab": {
          "base_uri": "https://localhost:8080/",
          "height": 275
        },
        "outputId": "41b1848f-029a-4d4f-aa01-9d6daab4da87"
      },
      "source": [
        "model.most_similar('think')"
      ],
      "execution_count": 26,
      "outputs": [
        {
          "output_type": "stream",
          "text": [
            "/usr/local/lib/python3.6/dist-packages/ipykernel_launcher.py:1: DeprecationWarning: Call to deprecated `most_similar` (Method will be removed in 4.0.0, use self.wv.most_similar() instead).\n",
            "  \"\"\"Entry point for launching an IPython kernel.\n",
            "/usr/local/lib/python3.6/dist-packages/gensim/matutils.py:737: FutureWarning: Conversion of the second argument of issubdtype from `int` to `np.signedinteger` is deprecated. In future, it will be treated as `np.int64 == np.dtype(int).type`.\n",
            "  if np.issubdtype(vec.dtype, np.int):\n"
          ],
          "name": "stderr"
        },
        {
          "output_type": "execute_result",
          "data": {
            "text/plain": [
              "[('suppose', 0.8737061023712158),\n",
              " ('manage', 0.843187689781189),\n",
              " ('contradict', 0.8381267786026001),\n",
              " ('know', 0.8288850784301758),\n",
              " ('downright', 0.8215805888175964),\n",
              " ('NOW', 0.8190113306045532),\n",
              " ('_you_', 0.8173509836196899),\n",
              " ('pretend', 0.8130552172660828),\n",
              " ('Mamma', 0.8053466081619263),\n",
              " ('_that_', 0.8015843629837036)]"
            ]
          },
          "metadata": {
            "tags": []
          },
          "execution_count": 26
        }
      ]
    },
    {
      "cell_type": "code",
      "metadata": {
        "id": "yY9quSaf3Rec",
        "colab_type": "code",
        "colab": {
          "base_uri": "https://localhost:8080/",
          "height": 275
        },
        "outputId": "a8623708-599b-4c20-e314-c07d7a16d66b"
      },
      "source": [
        "model.most_similar('father')"
      ],
      "execution_count": 27,
      "outputs": [
        {
          "output_type": "stream",
          "text": [
            "/usr/local/lib/python3.6/dist-packages/ipykernel_launcher.py:1: DeprecationWarning: Call to deprecated `most_similar` (Method will be removed in 4.0.0, use self.wv.most_similar() instead).\n",
            "  \"\"\"Entry point for launching an IPython kernel.\n",
            "/usr/local/lib/python3.6/dist-packages/gensim/matutils.py:737: FutureWarning: Conversion of the second argument of issubdtype from `int` to `np.signedinteger` is deprecated. In future, it will be treated as `np.int64 == np.dtype(int).type`.\n",
            "  if np.issubdtype(vec.dtype, np.int):\n"
          ],
          "name": "stderr"
        },
        {
          "output_type": "execute_result",
          "data": {
            "text/plain": [
              "[('mother', 0.8676742315292358),\n",
              " ('brother', 0.8409769535064697),\n",
              " ('sister', 0.8111708164215088),\n",
              " ('Amnon', 0.7764604091644287),\n",
              " ('daughter', 0.7763310670852661),\n",
              " ('wife', 0.759376049041748),\n",
              " ('uncle', 0.7412054538726807),\n",
              " ('servant', 0.7398891448974609),\n",
              " ('master', 0.7370883226394653),\n",
              " ('bondwoman', 0.7329305410385132)]"
            ]
          },
          "metadata": {
            "tags": []
          },
          "execution_count": 27
        }
      ]
    },
    {
      "cell_type": "code",
      "metadata": {
        "id": "l2Cb-gt23VBB",
        "colab_type": "code",
        "colab": {
          "base_uri": "https://localhost:8080/",
          "height": 156
        },
        "outputId": "f143bbef-6d36-47f6-afff-abedbd8df19d"
      },
      "source": [
        "model.doesnt_match(\"mother father brother lion daughter cat\".split())"
      ],
      "execution_count": 29,
      "outputs": [
        {
          "output_type": "stream",
          "text": [
            "/usr/local/lib/python3.6/dist-packages/ipykernel_launcher.py:1: DeprecationWarning: Call to deprecated `doesnt_match` (Method will be removed in 4.0.0, use self.wv.doesnt_match() instead).\n",
            "  \"\"\"Entry point for launching an IPython kernel.\n",
            "/usr/local/lib/python3.6/dist-packages/gensim/models/keyedvectors.py:895: FutureWarning: arrays to stack must be passed as a \"sequence\" type such as list or tuple. Support for non-sequence iterables such as generators is deprecated as of NumPy 1.16 and will raise an error in the future.\n",
            "  vectors = vstack(self.word_vec(word, use_norm=True) for word in used_words).astype(REAL)\n",
            "/usr/local/lib/python3.6/dist-packages/gensim/matutils.py:737: FutureWarning: Conversion of the second argument of issubdtype from `int` to `np.signedinteger` is deprecated. In future, it will be treated as `np.int64 == np.dtype(int).type`.\n",
            "  if np.issubdtype(vec.dtype, np.int):\n"
          ],
          "name": "stderr"
        },
        {
          "output_type": "execute_result",
          "data": {
            "text/plain": [
              "'cat'"
            ]
          },
          "metadata": {
            "tags": []
          },
          "execution_count": 29
        }
      ]
    },
    {
      "cell_type": "code",
      "metadata": {
        "id": "GU8AU79s3f9g",
        "colab_type": "code",
        "colab": {
          "base_uri": "https://localhost:8080/",
          "height": 275
        },
        "outputId": "180abab9-a8b4-4129-f4b9-159e06139b77"
      },
      "source": [
        "model.most_similar(positive=['father','woman'], negative=['man'])"
      ],
      "execution_count": 31,
      "outputs": [
        {
          "output_type": "stream",
          "text": [
            "/usr/local/lib/python3.6/dist-packages/ipykernel_launcher.py:1: DeprecationWarning: Call to deprecated `most_similar` (Method will be removed in 4.0.0, use self.wv.most_similar() instead).\n",
            "  \"\"\"Entry point for launching an IPython kernel.\n",
            "/usr/local/lib/python3.6/dist-packages/gensim/matutils.py:737: FutureWarning: Conversion of the second argument of issubdtype from `int` to `np.signedinteger` is deprecated. In future, it will be treated as `np.int64 == np.dtype(int).type`.\n",
            "  if np.issubdtype(vec.dtype, np.int):\n"
          ],
          "name": "stderr"
        },
        {
          "output_type": "execute_result",
          "data": {
            "text/plain": [
              "[('sister', 0.7933083772659302),\n",
              " ('mother', 0.7742550373077393),\n",
              " ('daughter', 0.7623262405395508),\n",
              " ('wife', 0.7448264956474304),\n",
              " ('husband', 0.7316716909408569),\n",
              " ('Sarah', 0.7174670696258545),\n",
              " ('brother', 0.7151768803596497),\n",
              " ('Sarai', 0.71296226978302),\n",
              " ('daughters', 0.7027421593666077),\n",
              " ('youngest', 0.6962735652923584)]"
            ]
          },
          "metadata": {
            "tags": []
          },
          "execution_count": 31
        }
      ]
    },
    {
      "cell_type": "code",
      "metadata": {
        "id": "yrCEdp7032wu",
        "colab_type": "code",
        "colab": {
          "base_uri": "https://localhost:8080/",
          "height": 275
        },
        "outputId": "733bb0e1-3f23-4ae8-afbd-848b7b49e234"
      },
      "source": [
        "model.most_similar(positive=['son','woman'], negative=['man'])"
      ],
      "execution_count": 32,
      "outputs": [
        {
          "output_type": "stream",
          "text": [
            "/usr/local/lib/python3.6/dist-packages/ipykernel_launcher.py:1: DeprecationWarning: Call to deprecated `most_similar` (Method will be removed in 4.0.0, use self.wv.most_similar() instead).\n",
            "  \"\"\"Entry point for launching an IPython kernel.\n",
            "/usr/local/lib/python3.6/dist-packages/gensim/matutils.py:737: FutureWarning: Conversion of the second argument of issubdtype from `int` to `np.signedinteger` is deprecated. In future, it will be treated as `np.int64 == np.dtype(int).type`.\n",
            "  if np.issubdtype(vec.dtype, np.int):\n"
          ],
          "name": "stderr"
        },
        {
          "output_type": "execute_result",
          "data": {
            "text/plain": [
              "[('Sarai', 0.7384370565414429),\n",
              " ('Leah', 0.7364017963409424),\n",
              " ('Sarah', 0.7270215749740601),\n",
              " ('Bethuel', 0.7246225476264954),\n",
              " ('conceived', 0.7183775305747986),\n",
              " ('Hagar', 0.7176195383071899),\n",
              " ('daughter', 0.7124007940292358),\n",
              " ('Abram', 0.7023553848266602),\n",
              " ('Rachel', 0.701185941696167),\n",
              " ('Nahor', 0.7002677321434021)]"
            ]
          },
          "metadata": {
            "tags": []
          },
          "execution_count": 32
        }
      ]
    },
    {
      "cell_type": "code",
      "metadata": {
        "id": "3w48iVhO4Exl",
        "colab_type": "code",
        "colab": {
          "base_uri": "https://localhost:8080/",
          "height": 275
        },
        "outputId": "ba5bdfc2-0e78-4157-af78-e62c2dcda8d6"
      },
      "source": [
        "model.most_similar(positive=['husband','woman'], negative=['man'])"
      ],
      "execution_count": 33,
      "outputs": [
        {
          "output_type": "stream",
          "text": [
            "/usr/local/lib/python3.6/dist-packages/ipykernel_launcher.py:1: DeprecationWarning: Call to deprecated `most_similar` (Method will be removed in 4.0.0, use self.wv.most_similar() instead).\n",
            "  \"\"\"Entry point for launching an IPython kernel.\n",
            "/usr/local/lib/python3.6/dist-packages/gensim/matutils.py:737: FutureWarning: Conversion of the second argument of issubdtype from `int` to `np.signedinteger` is deprecated. In future, it will be treated as `np.int64 == np.dtype(int).type`.\n",
            "  if np.issubdtype(vec.dtype, np.int):\n"
          ],
          "name": "stderr"
        },
        {
          "output_type": "execute_result",
          "data": {
            "text/plain": [
              "[('wife', 0.7267780303955078),\n",
              " ('sister', 0.7105981111526489),\n",
              " ('conceived', 0.6915595531463623),\n",
              " ('mother', 0.6650253534317017),\n",
              " ('daughter', 0.6625202894210815),\n",
              " ('child', 0.645909309387207),\n",
              " ('widow', 0.6417427659034729),\n",
              " ('nurse', 0.6325699090957642),\n",
              " ('maid', 0.6325352787971497),\n",
              " ('daughters', 0.6164043545722961)]"
            ]
          },
          "metadata": {
            "tags": []
          },
          "execution_count": 33
        }
      ]
    },
    {
      "cell_type": "code",
      "metadata": {
        "id": "7FyaEfhn4Go9",
        "colab_type": "code",
        "colab": {
          "base_uri": "https://localhost:8080/",
          "height": 615
        },
        "outputId": "5987a027-f116-42f9-a825-643117302f61"
      },
      "source": [
        "model.most_similar(positive=['king','woman'], negative=['man'], topn=30)"
      ],
      "execution_count": 35,
      "outputs": [
        {
          "output_type": "stream",
          "text": [
            "/usr/local/lib/python3.6/dist-packages/ipykernel_launcher.py:1: DeprecationWarning: Call to deprecated `most_similar` (Method will be removed in 4.0.0, use self.wv.most_similar() instead).\n",
            "  \"\"\"Entry point for launching an IPython kernel.\n",
            "/usr/local/lib/python3.6/dist-packages/gensim/matutils.py:737: FutureWarning: Conversion of the second argument of issubdtype from `int` to `np.signedinteger` is deprecated. In future, it will be treated as `np.int64 == np.dtype(int).type`.\n",
            "  if np.issubdtype(vec.dtype, np.int):\n"
          ],
          "name": "stderr"
        },
        {
          "output_type": "execute_result",
          "data": {
            "text/plain": [
              "[('Rachel', 0.7353808879852295),\n",
              " ('Sarah', 0.7352821826934814),\n",
              " ('Laban', 0.7002245187759399),\n",
              " ('Sarai', 0.6984153389930725),\n",
              " ('Pharaoh', 0.6911200284957886),\n",
              " ('Bethuel', 0.6875131130218506),\n",
              " ('Solomon', 0.6872724294662476),\n",
              " ('Leah', 0.6844809055328369),\n",
              " ('Abram', 0.6770251393318176),\n",
              " ('Judah', 0.6732800602912903),\n",
              " ('Hagar', 0.6727722883224487),\n",
              " ('princes', 0.670455813407898),\n",
              " ('Padanaram', 0.6636796593666077),\n",
              " ('daughter', 0.6624693870544434),\n",
              " ('Rebekah', 0.6564892530441284),\n",
              " ('birthright', 0.6555999517440796),\n",
              " ('Ephron', 0.6551341414451599),\n",
              " ('queen', 0.6546604037284851),\n",
              " ('Bilhah', 0.6537714600563049),\n",
              " ('Shechem', 0.6525983810424805),\n",
              " ('Esau', 0.6517279148101807),\n",
              " ('Hamor', 0.6498576402664185),\n",
              " ('Abimelech', 0.6432329416275024),\n",
              " ('David', 0.642397403717041),\n",
              " ('Uriah', 0.6397308707237244),\n",
              " ('tribute', 0.6388210654258728),\n",
              " ('Onan', 0.6377532482147217),\n",
              " ('Heth', 0.6345499753952026),\n",
              " ('Zilpah', 0.6329516172409058),\n",
              " ('Hittite', 0.632408618927002)]"
            ]
          },
          "metadata": {
            "tags": []
          },
          "execution_count": 35
        }
      ]
    },
    {
      "cell_type": "code",
      "metadata": {
        "id": "42qh39lo4PMU",
        "colab_type": "code",
        "colab": {}
      },
      "source": [
        ""
      ],
      "execution_count": 0,
      "outputs": []
    },
    {
      "cell_type": "markdown",
      "metadata": {
        "id": "d3CMiR8O4pb5",
        "colab_type": "text"
      },
      "source": [
        "#### Reduce word vector dimensionality with t-SNE"
      ]
    },
    {
      "cell_type": "code",
      "metadata": {
        "id": "0KXMWHCL4rkQ",
        "colab_type": "code",
        "colab": {
          "base_uri": "https://localhost:8080/",
          "height": 34
        },
        "outputId": "b8f1839e-76ec-4476-d84b-723af5c5e6b8"
      },
      "source": [
        "len(model.wv.vocab)"
      ],
      "execution_count": 37,
      "outputs": [
        {
          "output_type": "execute_result",
          "data": {
            "text/plain": [
              "17011"
            ]
          },
          "metadata": {
            "tags": []
          },
          "execution_count": 37
        }
      ]
    },
    {
      "cell_type": "code",
      "metadata": {
        "id": "ldRAM2Bp44XQ",
        "colab_type": "code",
        "colab": {
          "base_uri": "https://localhost:8080/",
          "height": 71
        },
        "outputId": "7575f1b4-edf7-4725-df57-ef93ad913bfb"
      },
      "source": [
        "X = model[model.wv.vocab]"
      ],
      "execution_count": 39,
      "outputs": [
        {
          "output_type": "stream",
          "text": [
            "/usr/local/lib/python3.6/dist-packages/ipykernel_launcher.py:1: DeprecationWarning: Call to deprecated `__getitem__` (Method will be removed in 4.0.0, use self.wv.__getitem__() instead).\n",
            "  \"\"\"Entry point for launching an IPython kernel.\n"
          ],
          "name": "stderr"
        }
      ]
    },
    {
      "cell_type": "code",
      "metadata": {
        "id": "LsG8urrF4-sn",
        "colab_type": "code",
        "colab": {
          "base_uri": "https://localhost:8080/",
          "height": 238
        },
        "outputId": "519f52bf-112f-4d7a-bc09-0b4bb1c9e855"
      },
      "source": [
        "X"
      ],
      "execution_count": 40,
      "outputs": [
        {
          "output_type": "execute_result",
          "data": {
            "text/plain": [
              "array([[-0.40651512, -0.39976594,  0.03789219, ...,  0.49722236,\n",
              "        -0.43545255,  0.54765373],\n",
              "       [ 0.6002105 ,  0.3990143 , -0.5873531 , ...,  0.52680564,\n",
              "        -0.38564783, -0.1924245 ],\n",
              "       [-0.30730286,  0.01173665,  0.17167199, ...,  0.5054364 ,\n",
              "         0.16251543,  0.04343181],\n",
              "       ...,\n",
              "       [-0.03407511,  0.04648143, -0.16798066, ...,  0.19012408,\n",
              "        -0.04413865, -0.11634219],\n",
              "       [-0.18029097, -0.1206729 , -0.23818523, ...,  0.09178869,\n",
              "         0.06132615,  0.00526786],\n",
              "       [-0.19755861, -0.09179241, -0.02985656, ...,  0.20987262,\n",
              "        -0.1305693 ,  0.05264789]], dtype=float32)"
            ]
          },
          "metadata": {
            "tags": []
          },
          "execution_count": 40
        }
      ]
    },
    {
      "cell_type": "code",
      "metadata": {
        "id": "_5i2Sejs5ELP",
        "colab_type": "code",
        "colab": {
          "base_uri": "https://localhost:8080/",
          "height": 1000
        },
        "outputId": "d5520e53-72d2-473b-d2e7-7c048bdba5be"
      },
      "source": [
        "model.wv.vocab"
      ],
      "execution_count": 41,
      "outputs": [
        {
          "output_type": "execute_result",
          "data": {
            "text/plain": [
              "{'[': <gensim.models.keyedvectors.Vocab at 0x7f1bb005f8d0>,\n",
              " 'Emma': <gensim.models.keyedvectors.Vocab at 0x7f1bb006d748>,\n",
              " 'by': <gensim.models.keyedvectors.Vocab at 0x7f1bb006d860>,\n",
              " 'Jane': <gensim.models.keyedvectors.Vocab at 0x7f1bb006d780>,\n",
              " ']': <gensim.models.keyedvectors.Vocab at 0x7f1bb006d7f0>,\n",
              " 'I': <gensim.models.keyedvectors.Vocab at 0x7f1bb006d7b8>,\n",
              " 'CHAPTER': <gensim.models.keyedvectors.Vocab at 0x7f1bb006d6a0>,\n",
              " 'Woodhouse': <gensim.models.keyedvectors.Vocab at 0x7f1bb006d978>,\n",
              " ',': <gensim.models.keyedvectors.Vocab at 0x7f1bb006db38>,\n",
              " 'handsome': <gensim.models.keyedvectors.Vocab at 0x7f1bb006d9b0>,\n",
              " 'clever': <gensim.models.keyedvectors.Vocab at 0x7f1bb006d8d0>,\n",
              " 'and': <gensim.models.keyedvectors.Vocab at 0x7f1bb006d898>,\n",
              " 'rich': <gensim.models.keyedvectors.Vocab at 0x7f1bb006da90>,\n",
              " 'with': <gensim.models.keyedvectors.Vocab at 0x7f1bb006da58>,\n",
              " 'a': <gensim.models.keyedvectors.Vocab at 0x7f1bb006db70>,\n",
              " 'comfortable': <gensim.models.keyedvectors.Vocab at 0x7f1bb006d9e8>,\n",
              " 'home': <gensim.models.keyedvectors.Vocab at 0x7f1bb006dc50>,\n",
              " 'happy': <gensim.models.keyedvectors.Vocab at 0x7f1bb006dcc0>,\n",
              " 'disposition': <gensim.models.keyedvectors.Vocab at 0x7f1bb006dcf8>,\n",
              " 'seemed': <gensim.models.keyedvectors.Vocab at 0x7f1bb006dd68>,\n",
              " 'to': <gensim.models.keyedvectors.Vocab at 0x7f1bb006dbe0>,\n",
              " 'unite': <gensim.models.keyedvectors.Vocab at 0x7f1bb006dda0>,\n",
              " 'some': <gensim.models.keyedvectors.Vocab at 0x7f1bb006de10>,\n",
              " 'of': <gensim.models.keyedvectors.Vocab at 0x7f1bb006df98>,\n",
              " 'the': <gensim.models.keyedvectors.Vocab at 0x7f1bb006dac8>,\n",
              " 'best': <gensim.models.keyedvectors.Vocab at 0x7f1bb006dfd0>,\n",
              " 'blessings': <gensim.models.keyedvectors.Vocab at 0x7f1bb006de80>,\n",
              " 'existence': <gensim.models.keyedvectors.Vocab at 0x7f1bb006df28>,\n",
              " ';': <gensim.models.keyedvectors.Vocab at 0x7f1bb0a474a8>,\n",
              " 'had': <gensim.models.keyedvectors.Vocab at 0x7f1bb0a479b0>,\n",
              " 'lived': <gensim.models.keyedvectors.Vocab at 0x7f1bb0a47cf8>,\n",
              " 'nearly': <gensim.models.keyedvectors.Vocab at 0x7f1bb0a47b00>,\n",
              " 'twenty': <gensim.models.keyedvectors.Vocab at 0x7f1bb0a47ef0>,\n",
              " '-': <gensim.models.keyedvectors.Vocab at 0x7f1bb0a47cc0>,\n",
              " 'one': <gensim.models.keyedvectors.Vocab at 0x7f1bb0a47e80>,\n",
              " 'years': <gensim.models.keyedvectors.Vocab at 0x7f1bb0a47f28>,\n",
              " 'in': <gensim.models.keyedvectors.Vocab at 0x7f1bb0a47668>,\n",
              " 'world': <gensim.models.keyedvectors.Vocab at 0x7f1bb0a475f8>,\n",
              " 'very': <gensim.models.keyedvectors.Vocab at 0x7f1bb0a47400>,\n",
              " 'little': <gensim.models.keyedvectors.Vocab at 0x7f1bb0a47550>,\n",
              " 'distress': <gensim.models.keyedvectors.Vocab at 0x7f1bb0a470b8>,\n",
              " 'or': <gensim.models.keyedvectors.Vocab at 0x7f1bb0a47940>,\n",
              " 'vex': <gensim.models.keyedvectors.Vocab at 0x7f1bb0a479e8>,\n",
              " 'her': <gensim.models.keyedvectors.Vocab at 0x7f1bb0a47ba8>,\n",
              " '.': <gensim.models.keyedvectors.Vocab at 0x7f1bb0a471d0>,\n",
              " 'She': <gensim.models.keyedvectors.Vocab at 0x7f1bb0a47ac8>,\n",
              " 'was': <gensim.models.keyedvectors.Vocab at 0x7f1bb0a47630>,\n",
              " 'youngest': <gensim.models.keyedvectors.Vocab at 0x7f1bb0a47b38>,\n",
              " 'two': <gensim.models.keyedvectors.Vocab at 0x7f1bb01ec940>,\n",
              " 'daughters': <gensim.models.keyedvectors.Vocab at 0x7f1bb01ec0b8>,\n",
              " 'most': <gensim.models.keyedvectors.Vocab at 0x7f1bb01ec6a0>,\n",
              " 'affectionate': <gensim.models.keyedvectors.Vocab at 0x7f1bb01ec780>,\n",
              " 'indulgent': <gensim.models.keyedvectors.Vocab at 0x7f1bb01ecac8>,\n",
              " 'father': <gensim.models.keyedvectors.Vocab at 0x7f1bb01ec2b0>,\n",
              " 'consequence': <gensim.models.keyedvectors.Vocab at 0x7f1bb01ec898>,\n",
              " 'sister': <gensim.models.keyedvectors.Vocab at 0x7f1bb01ec978>,\n",
              " \"'\": <gensim.models.keyedvectors.Vocab at 0x7f1bb01eca90>,\n",
              " 's': <gensim.models.keyedvectors.Vocab at 0x7f1bb01ec048>,\n",
              " 'marriage': <gensim.models.keyedvectors.Vocab at 0x7f1bb01ec8d0>,\n",
              " 'been': <gensim.models.keyedvectors.Vocab at 0x7f1bb01ec860>,\n",
              " 'mistress': <gensim.models.keyedvectors.Vocab at 0x7f1bb01ec4a8>,\n",
              " 'his': <gensim.models.keyedvectors.Vocab at 0x7f1bb01ecd30>,\n",
              " 'house': <gensim.models.keyedvectors.Vocab at 0x7f1bb01ec160>,\n",
              " 'from': <gensim.models.keyedvectors.Vocab at 0x7f1bb01ec080>,\n",
              " 'early': <gensim.models.keyedvectors.Vocab at 0x7f1bb01ec5c0>,\n",
              " 'period': <gensim.models.keyedvectors.Vocab at 0x7f1bb01ec208>,\n",
              " 'Her': <gensim.models.keyedvectors.Vocab at 0x7f1bb01ecb38>,\n",
              " 'mother': <gensim.models.keyedvectors.Vocab at 0x7f1bb01ec358>,\n",
              " 'died': <gensim.models.keyedvectors.Vocab at 0x7f1bb01ec668>,\n",
              " 'too': <gensim.models.keyedvectors.Vocab at 0x7f1bb01ec390>,\n",
              " 'long': <gensim.models.keyedvectors.Vocab at 0x7f1bb01ecb70>,\n",
              " 'ago': <gensim.models.keyedvectors.Vocab at 0x7f1bb01ec278>,\n",
              " 'for': <gensim.models.keyedvectors.Vocab at 0x7f1bb01ec710>,\n",
              " 'have': <gensim.models.keyedvectors.Vocab at 0x7f1bb01ece48>,\n",
              " 'more': <gensim.models.keyedvectors.Vocab at 0x7f1bb01ec630>,\n",
              " 'than': <gensim.models.keyedvectors.Vocab at 0x7f1bb01ece80>,\n",
              " 'an': <gensim.models.keyedvectors.Vocab at 0x7f1bb0ae70b8>,\n",
              " 'remembrance': <gensim.models.keyedvectors.Vocab at 0x7f1bb0ae7898>,\n",
              " 'caresses': <gensim.models.keyedvectors.Vocab at 0x7f1bb0ae7550>,\n",
              " 'place': <gensim.models.keyedvectors.Vocab at 0x7f1bb0ae7278>,\n",
              " 'supplied': <gensim.models.keyedvectors.Vocab at 0x7f1bb0ae7cc0>,\n",
              " 'excellent': <gensim.models.keyedvectors.Vocab at 0x7f1bb0ae7f28>,\n",
              " 'woman': <gensim.models.keyedvectors.Vocab at 0x7f1bb0ae7ba8>,\n",
              " 'as': <gensim.models.keyedvectors.Vocab at 0x7f1bb0ae7d30>,\n",
              " 'governess': <gensim.models.keyedvectors.Vocab at 0x7f1bb0ae7860>,\n",
              " 'who': <gensim.models.keyedvectors.Vocab at 0x7f1bb0ae72e8>,\n",
              " 'fallen': <gensim.models.keyedvectors.Vocab at 0x7f1bb0ae74e0>,\n",
              " 'short': <gensim.models.keyedvectors.Vocab at 0x7f1bb0ae7dd8>,\n",
              " 'affection': <gensim.models.keyedvectors.Vocab at 0x7f1bb0ae7be0>,\n",
              " 'Sixteen': <gensim.models.keyedvectors.Vocab at 0x7f1bb0ae7c88>,\n",
              " 'Miss': <gensim.models.keyedvectors.Vocab at 0x7f1bb0ae7e10>,\n",
              " 'Taylor': <gensim.models.keyedvectors.Vocab at 0x7f1bb02dd780>,\n",
              " 'Mr': <gensim.models.keyedvectors.Vocab at 0x7f1bb02dddd8>,\n",
              " 'family': <gensim.models.keyedvectors.Vocab at 0x7f1bb02dd240>,\n",
              " 'less': <gensim.models.keyedvectors.Vocab at 0x7f1bb02dd550>,\n",
              " 'friend': <gensim.models.keyedvectors.Vocab at 0x7f1bb02dda58>,\n",
              " 'fond': <gensim.models.keyedvectors.Vocab at 0x7f1bb02dde80>,\n",
              " 'both': <gensim.models.keyedvectors.Vocab at 0x7f1bb02dd668>,\n",
              " 'but': <gensim.models.keyedvectors.Vocab at 0x7f1bb02dda90>,\n",
              " 'particularly': <gensim.models.keyedvectors.Vocab at 0x7f1bb02ddcf8>,\n",
              " 'Between': <gensim.models.keyedvectors.Vocab at 0x7f1bb02ddd68>,\n",
              " 'it': <gensim.models.keyedvectors.Vocab at 0x7f1bb02ddf28>,\n",
              " 'intimacy': <gensim.models.keyedvectors.Vocab at 0x7f1bb02dda20>,\n",
              " 'sisters': <gensim.models.keyedvectors.Vocab at 0x7f1bb0a429b0>,\n",
              " 'Even': <gensim.models.keyedvectors.Vocab at 0x7f1bb0a42358>,\n",
              " 'before': <gensim.models.keyedvectors.Vocab at 0x7f1bb0a42c88>,\n",
              " 'ceased': <gensim.models.keyedvectors.Vocab at 0x7f1bb0a42e80>,\n",
              " 'hold': <gensim.models.keyedvectors.Vocab at 0x7f1bb0a42f98>,\n",
              " 'office': <gensim.models.keyedvectors.Vocab at 0x7f1bb0a42ba8>,\n",
              " 'mildness': <gensim.models.keyedvectors.Vocab at 0x7f1bb0a42ac8>,\n",
              " 'temper': <gensim.models.keyedvectors.Vocab at 0x7f1bb0a42b38>,\n",
              " 'hardly': <gensim.models.keyedvectors.Vocab at 0x7f1bb0a42940>,\n",
              " 'allowed': <gensim.models.keyedvectors.Vocab at 0x7f1bb0a42e48>,\n",
              " 'impose': <gensim.models.keyedvectors.Vocab at 0x7f1bb0a426a0>,\n",
              " 'any': <gensim.models.keyedvectors.Vocab at 0x7f1bb0a42390>,\n",
              " 'restraint': <gensim.models.keyedvectors.Vocab at 0x7f1bb0a42cf8>,\n",
              " 'shadow': <gensim.models.keyedvectors.Vocab at 0x7f1bb0a424e0>,\n",
              " 'authority': <gensim.models.keyedvectors.Vocab at 0x7f1bb0a427b8>,\n",
              " 'being': <gensim.models.keyedvectors.Vocab at 0x7f1bb0a42668>,\n",
              " 'now': <gensim.models.keyedvectors.Vocab at 0x7f1bb0a42b70>,\n",
              " 'passed': <gensim.models.keyedvectors.Vocab at 0x7f1bb0a420f0>,\n",
              " 'away': <gensim.models.keyedvectors.Vocab at 0x7f1bb0a42438>,\n",
              " 'they': <gensim.models.keyedvectors.Vocab at 0x7f1bb0a42a90>,\n",
              " 'living': <gensim.models.keyedvectors.Vocab at 0x7f1bb0a422b0>,\n",
              " 'together': <gensim.models.keyedvectors.Vocab at 0x7f1bb0a428d0>,\n",
              " 'mutually': <gensim.models.keyedvectors.Vocab at 0x7f1bb0a42400>,\n",
              " 'attached': <gensim.models.keyedvectors.Vocab at 0x7f1bb0a42d30>,\n",
              " 'doing': <gensim.models.keyedvectors.Vocab at 0x7f1bb0a42f28>,\n",
              " 'just': <gensim.models.keyedvectors.Vocab at 0x7f1bb0a42908>,\n",
              " 'what': <gensim.models.keyedvectors.Vocab at 0x7f1bb0a42cc0>,\n",
              " 'she': <gensim.models.keyedvectors.Vocab at 0x7f1bb0a426d8>,\n",
              " 'liked': <gensim.models.keyedvectors.Vocab at 0x7f1bb039f828>,\n",
              " 'highly': <gensim.models.keyedvectors.Vocab at 0x7f1bb039f710>,\n",
              " 'judgment': <gensim.models.keyedvectors.Vocab at 0x7f1bb039fc50>,\n",
              " 'directed': <gensim.models.keyedvectors.Vocab at 0x7f1bb039fd30>,\n",
              " 'chiefly': <gensim.models.keyedvectors.Vocab at 0x7f1bb039f2e8>,\n",
              " 'own': <gensim.models.keyedvectors.Vocab at 0x7f1bb039f9e8>,\n",
              " 'The': <gensim.models.keyedvectors.Vocab at 0x7f1bb039ffd0>,\n",
              " 'real': <gensim.models.keyedvectors.Vocab at 0x7f1bb039f080>,\n",
              " 'evils': <gensim.models.keyedvectors.Vocab at 0x7f1bb039f1d0>,\n",
              " 'indeed': <gensim.models.keyedvectors.Vocab at 0x7f1bb039fa58>,\n",
              " 'situation': <gensim.models.keyedvectors.Vocab at 0x7f1bb039fb38>,\n",
              " 'were': <gensim.models.keyedvectors.Vocab at 0x7f1bb039f128>,\n",
              " 'power': <gensim.models.keyedvectors.Vocab at 0x7f1bb039f5f8>,\n",
              " 'having': <gensim.models.keyedvectors.Vocab at 0x7f1bb039f908>,\n",
              " 'rather': <gensim.models.keyedvectors.Vocab at 0x7f1bb039fe10>,\n",
              " 'much': <gensim.models.keyedvectors.Vocab at 0x7f1bb039f278>,\n",
              " 'way': <gensim.models.keyedvectors.Vocab at 0x7f1bb039f7f0>,\n",
              " 'think': <gensim.models.keyedvectors.Vocab at 0x7f1bb039fa20>,\n",
              " 'well': <gensim.models.keyedvectors.Vocab at 0x7f1bb039f6a0>,\n",
              " 'herself': <gensim.models.keyedvectors.Vocab at 0x7f1bb039f588>,\n",
              " 'these': <gensim.models.keyedvectors.Vocab at 0x7f1bb039f668>,\n",
              " 'which': <gensim.models.keyedvectors.Vocab at 0x7f1bb039fc18>,\n",
              " 'threatened': <gensim.models.keyedvectors.Vocab at 0x7f1bb039f8d0>,\n",
              " 'alloy': <gensim.models.keyedvectors.Vocab at 0x7f1bb039f0b8>,\n",
              " 'many': <gensim.models.keyedvectors.Vocab at 0x7f1bb039f320>,\n",
              " 'enjoyments': <gensim.models.keyedvectors.Vocab at 0x7f1bb039f550>,\n",
              " 'danger': <gensim.models.keyedvectors.Vocab at 0x7f1bb039f5c0>,\n",
              " 'however': <gensim.models.keyedvectors.Vocab at 0x7f1bb039f400>,\n",
              " 'at': <gensim.models.keyedvectors.Vocab at 0x7f1bb039f780>,\n",
              " 'present': <gensim.models.keyedvectors.Vocab at 0x7f1bb039f358>,\n",
              " 'so': <gensim.models.keyedvectors.Vocab at 0x7f1bb039f160>,\n",
              " 'unperceived': <gensim.models.keyedvectors.Vocab at 0x7f1bb039f518>,\n",
              " 'that': <gensim.models.keyedvectors.Vocab at 0x7f1bb039f630>,\n",
              " 'did': <gensim.models.keyedvectors.Vocab at 0x7f1bb039f978>,\n",
              " 'not': <gensim.models.keyedvectors.Vocab at 0x7f1bb039f7b8>,\n",
              " 'means': <gensim.models.keyedvectors.Vocab at 0x7f1bb039fe48>,\n",
              " 'rank': <gensim.models.keyedvectors.Vocab at 0x7f1bb039fbe0>,\n",
              " 'misfortunes': <gensim.models.keyedvectors.Vocab at 0x7f1bb039f2b0>,\n",
              " 'Sorrow': <gensim.models.keyedvectors.Vocab at 0x7f1bb039f208>,\n",
              " 'came': <gensim.models.keyedvectors.Vocab at 0x7f1bb04c9080>,\n",
              " '--': <gensim.models.keyedvectors.Vocab at 0x7f1bb04c9278>,\n",
              " 'gentle': <gensim.models.keyedvectors.Vocab at 0x7f1bb04c9ba8>,\n",
              " 'sorrow': <gensim.models.keyedvectors.Vocab at 0x7f1bb04c9240>,\n",
              " 'all': <gensim.models.keyedvectors.Vocab at 0x7f1bb04c92e8>,\n",
              " 'shape': <gensim.models.keyedvectors.Vocab at 0x7f1bb04c9c18>,\n",
              " 'disagreeable': <gensim.models.keyedvectors.Vocab at 0x7f1bb04c9780>,\n",
              " 'consciousness': <gensim.models.keyedvectors.Vocab at 0x7f1bb04c9128>,\n",
              " '.--': <gensim.models.keyedvectors.Vocab at 0x7f1bb04c9e48>,\n",
              " 'married': <gensim.models.keyedvectors.Vocab at 0x7f1bb04c9048>,\n",
              " 'It': <gensim.models.keyedvectors.Vocab at 0x7f1bb04c9e80>,\n",
              " 'loss': <gensim.models.keyedvectors.Vocab at 0x7f1bb04c9c88>,\n",
              " 'first': <gensim.models.keyedvectors.Vocab at 0x7f1bb04c9748>,\n",
              " 'brought': <gensim.models.keyedvectors.Vocab at 0x7f1bb04c9d30>,\n",
              " 'grief': <gensim.models.keyedvectors.Vocab at 0x7f1bb04c91d0>,\n",
              " 'on': <gensim.models.keyedvectors.Vocab at 0x7f1bb04c9b38>,\n",
              " 'wedding': <gensim.models.keyedvectors.Vocab at 0x7f1bb04c9358>,\n",
              " 'day': <gensim.models.keyedvectors.Vocab at 0x7f1bb04c9da0>,\n",
              " 'this': <gensim.models.keyedvectors.Vocab at 0x7f1bb04c9668>,\n",
              " 'beloved': <gensim.models.keyedvectors.Vocab at 0x7f1bb04c9940>,\n",
              " 'sat': <gensim.models.keyedvectors.Vocab at 0x7f1bb04c9cc0>,\n",
              " 'mournful': <gensim.models.keyedvectors.Vocab at 0x7f1bb04c9160>,\n",
              " 'thought': <gensim.models.keyedvectors.Vocab at 0x7f1bb04c9fd0>,\n",
              " 'continuance': <gensim.models.keyedvectors.Vocab at 0x7f1bb04c97b8>,\n",
              " 'over': <gensim.models.keyedvectors.Vocab at 0x7f1bb04c9518>,\n",
              " 'bride': <gensim.models.keyedvectors.Vocab at 0x7f1bb04c9cf8>,\n",
              " 'people': <gensim.models.keyedvectors.Vocab at 0x7f1bb04c9a58>,\n",
              " 'gone': <gensim.models.keyedvectors.Vocab at 0x7f1bb04c9320>,\n",
              " 'left': <gensim.models.keyedvectors.Vocab at 0x7f1bb04c90f0>,\n",
              " 'dine': <gensim.models.keyedvectors.Vocab at 0x7f1bb04c9400>,\n",
              " 'no': <gensim.models.keyedvectors.Vocab at 0x7f1bb04c96a0>,\n",
              " 'prospect': <gensim.models.keyedvectors.Vocab at 0x7f1bb04c99b0>,\n",
              " 'third': <gensim.models.keyedvectors.Vocab at 0x7f1bb04c99e8>,\n",
              " 'cheer': <gensim.models.keyedvectors.Vocab at 0x7f1bb04c9ef0>,\n",
              " 'evening': <gensim.models.keyedvectors.Vocab at 0x7f1bb04c94a8>,\n",
              " 'composed': <gensim.models.keyedvectors.Vocab at 0x7f1bb04c97f0>,\n",
              " 'himself': <gensim.models.keyedvectors.Vocab at 0x7f1bb0216f98>,\n",
              " 'sleep': <gensim.models.keyedvectors.Vocab at 0x7f1bb0216320>,\n",
              " 'after': <gensim.models.keyedvectors.Vocab at 0x7f1bb0216e80>,\n",
              " 'dinner': <gensim.models.keyedvectors.Vocab at 0x7f1bb02163c8>,\n",
              " 'usual': <gensim.models.keyedvectors.Vocab at 0x7f1bb0216c88>,\n",
              " 'then': <gensim.models.keyedvectors.Vocab at 0x7f1bb0216ef0>,\n",
              " 'only': <gensim.models.keyedvectors.Vocab at 0x7f1bb0216860>,\n",
              " 'sit': <gensim.models.keyedvectors.Vocab at 0x7f1bb0216b00>,\n",
              " 'lost': <gensim.models.keyedvectors.Vocab at 0x7f1bb0216518>,\n",
              " 'event': <gensim.models.keyedvectors.Vocab at 0x7f1bb0216b38>,\n",
              " 'every': <gensim.models.keyedvectors.Vocab at 0x7f1bb0216cc0>,\n",
              " 'promise': <gensim.models.keyedvectors.Vocab at 0x7f1bb02169e8>,\n",
              " 'happiness': <gensim.models.keyedvectors.Vocab at 0x7f1bb0216f28>,\n",
              " 'Weston': <gensim.models.keyedvectors.Vocab at 0x7f1bb0216668>,\n",
              " 'man': <gensim.models.keyedvectors.Vocab at 0x7f1bb0216940>,\n",
              " 'unexceptionable': <gensim.models.keyedvectors.Vocab at 0x7f1bb02162e8>,\n",
              " 'character': <gensim.models.keyedvectors.Vocab at 0x7f1bb02168d0>,\n",
              " 'easy': <gensim.models.keyedvectors.Vocab at 0x7f1bb02160b8>,\n",
              " 'fortune': <gensim.models.keyedvectors.Vocab at 0x7f1bb0216208>,\n",
              " 'suitable': <gensim.models.keyedvectors.Vocab at 0x7f1bb02161d0>,\n",
              " 'age': <gensim.models.keyedvectors.Vocab at 0x7f1bb0216390>,\n",
              " 'pleasant': <gensim.models.keyedvectors.Vocab at 0x7f1bb02165c0>,\n",
              " 'manners': <gensim.models.keyedvectors.Vocab at 0x7f1bb0216dd8>,\n",
              " 'there': <gensim.models.keyedvectors.Vocab at 0x7f1bb0216438>,\n",
              " 'satisfaction': <gensim.models.keyedvectors.Vocab at 0x7f1bb0216898>,\n",
              " 'considering': <gensim.models.keyedvectors.Vocab at 0x7f1bb0216be0>,\n",
              " 'self': <gensim.models.keyedvectors.Vocab at 0x7f1bb02162b0>,\n",
              " 'denying': <gensim.models.keyedvectors.Vocab at 0x7f1bb02164e0>,\n",
              " 'generous': <gensim.models.keyedvectors.Vocab at 0x7f1bb0216748>,\n",
              " 'friendship': <gensim.models.keyedvectors.Vocab at 0x7f1bb0216198>,\n",
              " 'always': <gensim.models.keyedvectors.Vocab at 0x7f1bb02169b0>,\n",
              " 'wished': <gensim.models.keyedvectors.Vocab at 0x7f1bb0216470>,\n",
              " 'promoted': <gensim.models.keyedvectors.Vocab at 0x7f1bb0216048>,\n",
              " 'match': <gensim.models.keyedvectors.Vocab at 0x7f1bb0216eb8>,\n",
              " 'black': <gensim.models.keyedvectors.Vocab at 0x7f1bb0216a20>,\n",
              " 'morning': <gensim.models.keyedvectors.Vocab at 0x7f1bb02160f0>,\n",
              " 'work': <gensim.models.keyedvectors.Vocab at 0x7f1bb0216fd0>,\n",
              " 'want': <gensim.models.keyedvectors.Vocab at 0x7f1bb0314160>,\n",
              " 'would': <gensim.models.keyedvectors.Vocab at 0x7f1bb0314d30>,\n",
              " 'be': <gensim.models.keyedvectors.Vocab at 0x7f1bb0314470>,\n",
              " 'felt': <gensim.models.keyedvectors.Vocab at 0x7f1bb03149e8>,\n",
              " 'hour': <gensim.models.keyedvectors.Vocab at 0x7f1bb03148d0>,\n",
              " 'recalled': <gensim.models.keyedvectors.Vocab at 0x7f1bb0314908>,\n",
              " 'past': <gensim.models.keyedvectors.Vocab at 0x7f1bb0314128>,\n",
              " 'kindness': <gensim.models.keyedvectors.Vocab at 0x7f1bb0314048>,\n",
              " 'sixteen': <gensim.models.keyedvectors.Vocab at 0x7f1bb0314828>,\n",
              " 'how': <gensim.models.keyedvectors.Vocab at 0x7f1bb0314a20>,\n",
              " 'taught': <gensim.models.keyedvectors.Vocab at 0x7f1bb03144a8>,\n",
              " 'played': <gensim.models.keyedvectors.Vocab at 0x7f1bb03147b8>,\n",
              " 'five': <gensim.models.keyedvectors.Vocab at 0x7f1bb0314400>,\n",
              " 'old': <gensim.models.keyedvectors.Vocab at 0x7f1bb0314e48>,\n",
              " 'devoted': <gensim.models.keyedvectors.Vocab at 0x7f1bb03142b0>,\n",
              " 'powers': <gensim.models.keyedvectors.Vocab at 0x7f1bb0314c88>,\n",
              " 'attach': <gensim.models.keyedvectors.Vocab at 0x7f1bb0314278>,\n",
              " 'amuse': <gensim.models.keyedvectors.Vocab at 0x7f1bb0314550>,\n",
              " 'health': <gensim.models.keyedvectors.Vocab at 0x7f1bb03145f8>,\n",
              " 'nursed': <gensim.models.keyedvectors.Vocab at 0x7f1bb0314cf8>,\n",
              " 'through': <gensim.models.keyedvectors.Vocab at 0x7f1bb0314b70>,\n",
              " 'various': <gensim.models.keyedvectors.Vocab at 0x7f1bb03144e0>,\n",
              " 'childhood': <gensim.models.keyedvectors.Vocab at 0x7f1bb0314320>,\n",
              " 'A': <gensim.models.keyedvectors.Vocab at 0x7f1bb0314a58>,\n",
              " 'large': <gensim.models.keyedvectors.Vocab at 0x7f1bb0314a90>,\n",
              " 'debt': <gensim.models.keyedvectors.Vocab at 0x7f1bb0314198>,\n",
              " 'gratitude': <gensim.models.keyedvectors.Vocab at 0x7f1bb0314710>,\n",
              " 'owing': <gensim.models.keyedvectors.Vocab at 0x7f1bb03143c8>,\n",
              " 'here': <gensim.models.keyedvectors.Vocab at 0x7f1bb03145c0>,\n",
              " 'intercourse': <gensim.models.keyedvectors.Vocab at 0x7f1bb0314358>,\n",
              " 'last': <gensim.models.keyedvectors.Vocab at 0x7f1bb0314ba8>,\n",
              " 'seven': <gensim.models.keyedvectors.Vocab at 0x7f1bb0314748>,\n",
              " 'equal': <gensim.models.keyedvectors.Vocab at 0x7f1bb03147f0>,\n",
              " 'footing': <gensim.models.keyedvectors.Vocab at 0x7f1bb03142e8>,\n",
              " 'perfect': <gensim.models.keyedvectors.Vocab at 0x7f1bb0314fd0>,\n",
              " 'unreserve': <gensim.models.keyedvectors.Vocab at 0x7f1bb02c9080>,\n",
              " 'soon': <gensim.models.keyedvectors.Vocab at 0x7f1bb02c9278>,\n",
              " 'followed': <gensim.models.keyedvectors.Vocab at 0x7f1bb02c9e48>,\n",
              " 'Isabella': <gensim.models.keyedvectors.Vocab at 0x7f1bb02c9a20>,\n",
              " 'their': <gensim.models.keyedvectors.Vocab at 0x7f1bb02c9668>,\n",
              " 'each': <gensim.models.keyedvectors.Vocab at 0x7f1bb02c9cc0>,\n",
              " 'other': <gensim.models.keyedvectors.Vocab at 0x7f1bb02c9390>,\n",
              " 'yet': <gensim.models.keyedvectors.Vocab at 0x7f1bb02c9518>,\n",
              " 'dearer': <gensim.models.keyedvectors.Vocab at 0x7f1bb02aa1d0>,\n",
              " 'recollection': <gensim.models.keyedvectors.Vocab at 0x7f1bb02aa8d0>,\n",
              " 'companion': <gensim.models.keyedvectors.Vocab at 0x7f1bb02aa160>,\n",
              " 'such': <gensim.models.keyedvectors.Vocab at 0x7f1bb02aaf28>,\n",
              " 'few': <gensim.models.keyedvectors.Vocab at 0x7f1bb02aa7f0>,\n",
              " 'possessed': <gensim.models.keyedvectors.Vocab at 0x7f1bb02aa080>,\n",
              " ':': <gensim.models.keyedvectors.Vocab at 0x7f1bb02aafd0>,\n",
              " 'intelligent': <gensim.models.keyedvectors.Vocab at 0x7f1bb02aadd8>,\n",
              " 'informed': <gensim.models.keyedvectors.Vocab at 0x7f1bb02aa2b0>,\n",
              " 'useful': <gensim.models.keyedvectors.Vocab at 0x7f1bb02aa4e0>,\n",
              " 'knowing': <gensim.models.keyedvectors.Vocab at 0x7f1bb02aa358>,\n",
              " 'ways': <gensim.models.keyedvectors.Vocab at 0x7f1bb02aa198>,\n",
              " 'interested': <gensim.models.keyedvectors.Vocab at 0x7f1bb02aa208>,\n",
              " 'its': <gensim.models.keyedvectors.Vocab at 0x7f1bb02aa0b8>,\n",
              " 'concerns': <gensim.models.keyedvectors.Vocab at 0x7f1baf034c18>,\n",
              " 'peculiarly': <gensim.models.keyedvectors.Vocab at 0x7f1baf034b38>,\n",
              " 'pleasure': <gensim.models.keyedvectors.Vocab at 0x7f1baf034978>,\n",
              " 'scheme': <gensim.models.keyedvectors.Vocab at 0x7f1baf034a20>,\n",
              " 'hers': <gensim.models.keyedvectors.Vocab at 0x7f1baf034908>,\n",
              " 'whom': <gensim.models.keyedvectors.Vocab at 0x7f1baf034748>,\n",
              " 'could': <gensim.models.keyedvectors.Vocab at 0x7f1baf03add8>,\n",
              " 'speak': <gensim.models.keyedvectors.Vocab at 0x7f1baf03a5f8>,\n",
              " 'arose': <gensim.models.keyedvectors.Vocab at 0x7f1baf03a630>,\n",
              " 'never': <gensim.models.keyedvectors.Vocab at 0x7f1baf03aef0>,\n",
              " 'find': <gensim.models.keyedvectors.Vocab at 0x7f1baf03a7b8>,\n",
              " 'fault': <gensim.models.keyedvectors.Vocab at 0x7f1bb02d4278>,\n",
              " 'How': <gensim.models.keyedvectors.Vocab at 0x7f1bb02d46d8>,\n",
              " 'bear': <gensim.models.keyedvectors.Vocab at 0x7f1bb02d4a58>,\n",
              " 'change': <gensim.models.keyedvectors.Vocab at 0x7f1bb02d42e8>,\n",
              " '?--': <gensim.models.keyedvectors.Vocab at 0x7f1bb02d4828>,\n",
              " 'true': <gensim.models.keyedvectors.Vocab at 0x7f1bb02d4ef0>,\n",
              " 'going': <gensim.models.keyedvectors.Vocab at 0x7f1baff6e940>,\n",
              " 'half': <gensim.models.keyedvectors.Vocab at 0x7f1baf01ba20>,\n",
              " 'mile': <gensim.models.keyedvectors.Vocab at 0x7f1baf01b6d8>,\n",
              " 'them': <gensim.models.keyedvectors.Vocab at 0x7f1baf01b908>,\n",
              " 'aware': <gensim.models.keyedvectors.Vocab at 0x7f1bb0ad89e8>,\n",
              " 'great': <gensim.models.keyedvectors.Vocab at 0x7f1bb0ad8e48>,\n",
              " 'must': <gensim.models.keyedvectors.Vocab at 0x7f1bb0ad8ba8>,\n",
              " 'difference': <gensim.models.keyedvectors.Vocab at 0x7f1bb0ad81d0>,\n",
              " 'between': <gensim.models.keyedvectors.Vocab at 0x7f1bb0ad8438>,\n",
              " 'Mrs': <gensim.models.keyedvectors.Vocab at 0x7f1bb0ad89b0>,\n",
              " 'advantages': <gensim.models.keyedvectors.Vocab at 0x7f1bb0ad8d68>,\n",
              " 'natural': <gensim.models.keyedvectors.Vocab at 0x7f1bb0ad8eb8>,\n",
              " 'domestic': <gensim.models.keyedvectors.Vocab at 0x7f1bb0ad8320>,\n",
              " 'suffering': <gensim.models.keyedvectors.Vocab at 0x7f1bb0ad8c50>,\n",
              " 'intellectual': <gensim.models.keyedvectors.Vocab at 0x7f1bb0262080>,\n",
              " 'solitude': <gensim.models.keyedvectors.Vocab at 0x7f1bb0262c50>,\n",
              " 'dearly': <gensim.models.keyedvectors.Vocab at 0x7f1bb0262160>,\n",
              " 'loved': <gensim.models.keyedvectors.Vocab at 0x7f1bb0262588>,\n",
              " 'he': <gensim.models.keyedvectors.Vocab at 0x7f1bb0262128>,\n",
              " 'He': <gensim.models.keyedvectors.Vocab at 0x7f1bb0262f28>,\n",
              " 'meet': <gensim.models.keyedvectors.Vocab at 0x7f1bb02625c0>,\n",
              " 'conversation': <gensim.models.keyedvectors.Vocab at 0x7f1bb0262518>,\n",
              " 'rational': <gensim.models.keyedvectors.Vocab at 0x7f1bb0262208>,\n",
              " 'playful': <gensim.models.keyedvectors.Vocab at 0x7f1bb0262198>,\n",
              " 'evil': <gensim.models.keyedvectors.Vocab at 0x7f1bb0262a90>,\n",
              " 'actual': <gensim.models.keyedvectors.Vocab at 0x7f1bb0262be0>,\n",
              " 'disparity': <gensim.models.keyedvectors.Vocab at 0x7f1bb0262b70>,\n",
              " 'ages': <gensim.models.keyedvectors.Vocab at 0x7f1bb0262898>,\n",
              " '(': <gensim.models.keyedvectors.Vocab at 0x7f1baf02fb00>,\n",
              " ')': <gensim.models.keyedvectors.Vocab at 0x7f1baf02fb70>,\n",
              " 'increased': <gensim.models.keyedvectors.Vocab at 0x7f1baf02fa58>,\n",
              " 'constitution': <gensim.models.keyedvectors.Vocab at 0x7f1baf02fb38>,\n",
              " 'habits': <gensim.models.keyedvectors.Vocab at 0x7f1baf02f8d0>,\n",
              " 'life': <gensim.models.keyedvectors.Vocab at 0x7f1bb04c8828>,\n",
              " 'without': <gensim.models.keyedvectors.Vocab at 0x7f1bb04c8fd0>,\n",
              " 'activity': <gensim.models.keyedvectors.Vocab at 0x7f1bb04c88d0>,\n",
              " 'mind': <gensim.models.keyedvectors.Vocab at 0x7f1bb04c8d68>,\n",
              " 'body': <gensim.models.keyedvectors.Vocab at 0x7f1bb04c8438>,\n",
              " 'older': <gensim.models.keyedvectors.Vocab at 0x7f1bb04c8b38>,\n",
              " 'though': <gensim.models.keyedvectors.Vocab at 0x7f1bb04c82b0>,\n",
              " 'everywhere': <gensim.models.keyedvectors.Vocab at 0x7f1bb04c89b0>,\n",
              " 'friendliness': <gensim.models.keyedvectors.Vocab at 0x7f1bb04c8358>,\n",
              " 'heart': <gensim.models.keyedvectors.Vocab at 0x7f1bb04c8668>,\n",
              " 'amiable': <gensim.models.keyedvectors.Vocab at 0x7f1bb04c8780>,\n",
              " 'talents': <gensim.models.keyedvectors.Vocab at 0x7f1bb04c8ba8>,\n",
              " 'recommended': <gensim.models.keyedvectors.Vocab at 0x7f1bb04c8710>,\n",
              " 'him': <gensim.models.keyedvectors.Vocab at 0x7f1bb04c8ac8>,\n",
              " 'time': <gensim.models.keyedvectors.Vocab at 0x7f1bb04c8320>,\n",
              " 'comparatively': <gensim.models.keyedvectors.Vocab at 0x7f1bb04c8400>,\n",
              " 'removed': <gensim.models.keyedvectors.Vocab at 0x7f1bb04c8b00>,\n",
              " 'matrimony': <gensim.models.keyedvectors.Vocab at 0x7f1bb04c8a58>,\n",
              " 'settled': <gensim.models.keyedvectors.Vocab at 0x7f1bb04c8630>,\n",
              " 'London': <gensim.models.keyedvectors.Vocab at 0x7f1bb04c84e0>,\n",
              " 'miles': <gensim.models.keyedvectors.Vocab at 0x7f1bb04c8940>,\n",
              " 'off': <gensim.models.keyedvectors.Vocab at 0x7f1bb04c8a20>,\n",
              " 'beyond': <gensim.models.keyedvectors.Vocab at 0x7f1bb04c8f28>,\n",
              " 'daily': <gensim.models.keyedvectors.Vocab at 0x7f1bb04c87f0>,\n",
              " 'reach': <gensim.models.keyedvectors.Vocab at 0x7f1bb04c8e80>,\n",
              " 'October': <gensim.models.keyedvectors.Vocab at 0x7f1bb04c8048>,\n",
              " 'November': <gensim.models.keyedvectors.Vocab at 0x7f1bb04c85c0>,\n",
              " 'struggled': <gensim.models.keyedvectors.Vocab at 0x7f1bb04c8748>,\n",
              " 'Hartfield': <gensim.models.keyedvectors.Vocab at 0x7f1bb04c84a8>,\n",
              " 'Christmas': <gensim.models.keyedvectors.Vocab at 0x7f1bb04c8198>,\n",
              " 'next': <gensim.models.keyedvectors.Vocab at 0x7f1bb04c8978>,\n",
              " 'visit': <gensim.models.keyedvectors.Vocab at 0x7f1bb04c80f0>,\n",
              " 'husband': <gensim.models.keyedvectors.Vocab at 0x7f1bb04c8da0>,\n",
              " 'children': <gensim.models.keyedvectors.Vocab at 0x7f1bb04c8080>,\n",
              " 'fill': <gensim.models.keyedvectors.Vocab at 0x7f1bb04c81d0>,\n",
              " 'give': <gensim.models.keyedvectors.Vocab at 0x7f1bb04c8c88>,\n",
              " 'society': <gensim.models.keyedvectors.Vocab at 0x7f1bb04c80b8>,\n",
              " 'again': <gensim.models.keyedvectors.Vocab at 0x7f1bb03380b8>,\n",
              " 'Highbury': <gensim.models.keyedvectors.Vocab at 0x7f1bb0338240>,\n",
              " 'populous': <gensim.models.keyedvectors.Vocab at 0x7f1bb0338828>,\n",
              " 'village': <gensim.models.keyedvectors.Vocab at 0x7f1bb0338c18>,\n",
              " 'almost': <gensim.models.keyedvectors.Vocab at 0x7f1bb0338160>,\n",
              " 'town': <gensim.models.keyedvectors.Vocab at 0x7f1bb03387b8>,\n",
              " 'spite': <gensim.models.keyedvectors.Vocab at 0x7f1bb03382b0>,\n",
              " 'separate': <gensim.models.keyedvectors.Vocab at 0x7f1bb0338438>,\n",
              " 'lawn': <gensim.models.keyedvectors.Vocab at 0x7f1bb0338d30>,\n",
              " 'shrubberies': <gensim.models.keyedvectors.Vocab at 0x7f1bb0338080>,\n",
              " 'name': <gensim.models.keyedvectors.Vocab at 0x7f1bb03383c8>,\n",
              " 'really': <gensim.models.keyedvectors.Vocab at 0x7f1bb03380f0>,\n",
              " 'belong': <gensim.models.keyedvectors.Vocab at 0x7f1bb0338710>,\n",
              " 'afforded': <gensim.models.keyedvectors.Vocab at 0x7f1bb03386d8>,\n",
              " 'equals': <gensim.models.keyedvectors.Vocab at 0x7f1bb0338320>,\n",
              " 'All': <gensim.models.keyedvectors.Vocab at 0x7f1bb03384e0>,\n",
              " 'looked': <gensim.models.keyedvectors.Vocab at 0x7f1bb03382e8>,\n",
              " 'up': <gensim.models.keyedvectors.Vocab at 0x7f1bb0338400>,\n",
              " 'acquaintance': <gensim.models.keyedvectors.Vocab at 0x7f1bb0338898>,\n",
              " 'universally': <gensim.models.keyedvectors.Vocab at 0x7f1bb0338390>,\n",
              " 'civil': <gensim.models.keyedvectors.Vocab at 0x7f1bb0338fd0>,\n",
              " 'among': <gensim.models.keyedvectors.Vocab at 0x7f1bb0338860>,\n",
              " 'accepted': <gensim.models.keyedvectors.Vocab at 0x7f1bb0338e10>,\n",
              " 'even': <gensim.models.keyedvectors.Vocab at 0x7f1bb0338978>,\n",
              " 'melancholy': <gensim.models.keyedvectors.Vocab at 0x7f1bb0338f60>,\n",
              " 'sigh': <gensim.models.keyedvectors.Vocab at 0x7f1bb0338e80>,\n",
              " 'wish': <gensim.models.keyedvectors.Vocab at 0x7f1bb0338668>,\n",
              " 'impossible': <gensim.models.keyedvectors.Vocab at 0x7f1bb0338208>,\n",
              " 'things': <gensim.models.keyedvectors.Vocab at 0x7f1bb03381d0>,\n",
              " 'till': <gensim.models.keyedvectors.Vocab at 0x7f1bb0338a58>,\n",
              " 'awoke': <gensim.models.keyedvectors.Vocab at 0x7f1bb03388d0>,\n",
              " 'made': <gensim.models.keyedvectors.Vocab at 0x7f1bb0338908>,\n",
              " 'necessary': <gensim.models.keyedvectors.Vocab at 0x7f1bb0338c88>,\n",
              " 'cheerful': <gensim.models.keyedvectors.Vocab at 0x7f1bb0338b00>,\n",
              " 'His': <gensim.models.keyedvectors.Vocab at 0x7f1bb0338198>,\n",
              " 'spirits': <gensim.models.keyedvectors.Vocab at 0x7f1bb0338ac8>,\n",
              " 'required': <gensim.models.keyedvectors.Vocab at 0x7f1bb0338b38>,\n",
              " 'support': <gensim.models.keyedvectors.Vocab at 0x7f1bb0338d68>,\n",
              " 'nervous': <gensim.models.keyedvectors.Vocab at 0x7f1bb03386a0>,\n",
              " 'easily': <gensim.models.keyedvectors.Vocab at 0x7f1bb03385c0>,\n",
              " 'depressed': <gensim.models.keyedvectors.Vocab at 0x7f1bb0338f28>,\n",
              " 'used': <gensim.models.keyedvectors.Vocab at 0x7f1bb0338b70>,\n",
              " 'hating': <gensim.models.keyedvectors.Vocab at 0x7f1baf044940>,\n",
              " 'part': <gensim.models.keyedvectors.Vocab at 0x7f1baf0445f8>,\n",
              " 'kind': <gensim.models.keyedvectors.Vocab at 0x7f1baf044ef0>,\n",
              " 'origin': <gensim.models.keyedvectors.Vocab at 0x7f1baf044d30>,\n",
              " 'reconciled': <gensim.models.keyedvectors.Vocab at 0x7f1baf044a90>,\n",
              " 'daughter': <gensim.models.keyedvectors.Vocab at 0x7f1baf044c88>,\n",
              " 'marrying': <gensim.models.keyedvectors.Vocab at 0x7f1baf044e48>,\n",
              " 'nor': <gensim.models.keyedvectors.Vocab at 0x7f1baf044a58>,\n",
              " 'ever': <gensim.models.keyedvectors.Vocab at 0x7f1baf044080>,\n",
              " 'compassion': <gensim.models.keyedvectors.Vocab at 0x7f1bb02edac8>,\n",
              " 'entirely': <gensim.models.keyedvectors.Vocab at 0x7f1bb02ed358>,\n",
              " 'when': <gensim.models.keyedvectors.Vocab at 0x7f1bb02ed780>,\n",
              " 'obliged': <gensim.models.keyedvectors.Vocab at 0x7f1bb02ed9e8>,\n",
              " 'selfishness': <gensim.models.keyedvectors.Vocab at 0x7f1bb02ed9b0>,\n",
              " 'able': <gensim.models.keyedvectors.Vocab at 0x7f1bb02ed208>,\n",
              " 'suppose': <gensim.models.keyedvectors.Vocab at 0x7f1bb02ed2e8>,\n",
              " 'feel': <gensim.models.keyedvectors.Vocab at 0x7f1bb02ed908>,\n",
              " 'differently': <gensim.models.keyedvectors.Vocab at 0x7f1bb02ed3c8>,\n",
              " 'disposed': <gensim.models.keyedvectors.Vocab at 0x7f1bb02ed7f0>,\n",
              " 'done': <gensim.models.keyedvectors.Vocab at 0x7f1bb02ed1d0>,\n",
              " 'sad': <gensim.models.keyedvectors.Vocab at 0x7f1bb0adb2b0>,\n",
              " 'thing': <gensim.models.keyedvectors.Vocab at 0x7f1bb0adbe48>,\n",
              " 'deal': <gensim.models.keyedvectors.Vocab at 0x7f1bb0adbc50>,\n",
              " 'happier': <gensim.models.keyedvectors.Vocab at 0x7f1bb0adb780>,\n",
              " 'if': <gensim.models.keyedvectors.Vocab at 0x7f1bb0adba58>,\n",
              " 'spent': <gensim.models.keyedvectors.Vocab at 0x7f1bb0adb6a0>,\n",
              " 'rest': <gensim.models.keyedvectors.Vocab at 0x7f1bb0adb470>,\n",
              " 'smiled': <gensim.models.keyedvectors.Vocab at 0x7f1bb0adbba8>,\n",
              " 'cheerfully': <gensim.models.keyedvectors.Vocab at 0x7f1bb0adb898>,\n",
              " 'keep': <gensim.models.keyedvectors.Vocab at 0x7f1bb0adb748>,\n",
              " 'thoughts': <gensim.models.keyedvectors.Vocab at 0x7f1bb0adb908>,\n",
              " 'tea': <gensim.models.keyedvectors.Vocab at 0x7f1baf02e7b8>,\n",
              " 'say': <gensim.models.keyedvectors.Vocab at 0x7f1baf02e320>,\n",
              " 'exactly': <gensim.models.keyedvectors.Vocab at 0x7f1baf02e278>,\n",
              " 'said': <gensim.models.keyedvectors.Vocab at 0x7f1baf02ed30>,\n",
              " '\"': <gensim.models.keyedvectors.Vocab at 0x7f1baf02e710>,\n",
              " 'Poor': <gensim.models.keyedvectors.Vocab at 0x7f1baf02ec88>,\n",
              " '!--': <gensim.models.keyedvectors.Vocab at 0x7f1bb0504630>,\n",
              " 'What': <gensim.models.keyedvectors.Vocab at 0x7f1bb05040f0>,\n",
              " 'pity': <gensim.models.keyedvectors.Vocab at 0x7f1bb0504cf8>,\n",
              " 'is': <gensim.models.keyedvectors.Vocab at 0x7f1bb05044e0>,\n",
              " '!\"': <gensim.models.keyedvectors.Vocab at 0x7f1bb0504278>,\n",
              " 'cannot': <gensim.models.keyedvectors.Vocab at 0x7f1bb0504da0>,\n",
              " 'agree': <gensim.models.keyedvectors.Vocab at 0x7f1bb0504128>,\n",
              " 'you': <gensim.models.keyedvectors.Vocab at 0x7f1bb0504fd0>,\n",
              " 'papa': <gensim.models.keyedvectors.Vocab at 0x7f1bb0504c50>,\n",
              " 'know': <gensim.models.keyedvectors.Vocab at 0x7f1bb0504160>,\n",
              " 'good': <gensim.models.keyedvectors.Vocab at 0x7f1bb0504d68>,\n",
              " 'humoured': <gensim.models.keyedvectors.Vocab at 0x7f1bb05045c0>,\n",
              " 'thoroughly': <gensim.models.keyedvectors.Vocab at 0x7f1bb0504f28>,\n",
              " 'deserves': <gensim.models.keyedvectors.Vocab at 0x7f1bb0504c88>,\n",
              " 'wife': <gensim.models.keyedvectors.Vocab at 0x7f1bb0504748>,\n",
              " ';--': <gensim.models.keyedvectors.Vocab at 0x7f1bb05040b8>,\n",
              " 'live': <gensim.models.keyedvectors.Vocab at 0x7f1bb0504c18>,\n",
              " 'us': <gensim.models.keyedvectors.Vocab at 0x7f1bb05049e8>,\n",
              " 'my': <gensim.models.keyedvectors.Vocab at 0x7f1bb0504208>,\n",
              " 'odd': <gensim.models.keyedvectors.Vocab at 0x7f1bb05042b0>,\n",
              " 'humours': <gensim.models.keyedvectors.Vocab at 0x7f1bb0504f60>,\n",
              " 'might': <gensim.models.keyedvectors.Vocab at 0x7f1bb0504e10>,\n",
              " '?\"': <gensim.models.keyedvectors.Vocab at 0x7f1bb0504d30>,\n",
              " 'But': <gensim.models.keyedvectors.Vocab at 0x7f1bb0504b00>,\n",
              " 'where': <gensim.models.keyedvectors.Vocab at 0x7f1bb05046d8>,\n",
              " 'advantage': <gensim.models.keyedvectors.Vocab at 0x7f1bb0504eb8>,\n",
              " '?': <gensim.models.keyedvectors.Vocab at 0x7f1bb0504860>,\n",
              " 'This': <gensim.models.keyedvectors.Vocab at 0x7f1bb0504358>,\n",
              " 'three': <gensim.models.keyedvectors.Vocab at 0x7f1bb0504e80>,\n",
              " 'times': <gensim.models.keyedvectors.Vocab at 0x7f1bb0afee80>,\n",
              " 'And': <gensim.models.keyedvectors.Vocab at 0x7f1bb0afeb38>,\n",
              " 'dear': <gensim.models.keyedvectors.Vocab at 0x7f1bb0afe8d0>,\n",
              " '.\"': <gensim.models.keyedvectors.Vocab at 0x7f1bb0afef60>,\n",
              " 'often': <gensim.models.keyedvectors.Vocab at 0x7f1bb0afe358>,\n",
              " 'we': <gensim.models.keyedvectors.Vocab at 0x7f1bb0afe5f8>,\n",
              " 'shall': <gensim.models.keyedvectors.Vocab at 0x7f1bb0afe898>,\n",
              " 'see': <gensim.models.keyedvectors.Vocab at 0x7f1bb0afe160>,\n",
              " 'coming': <gensim.models.keyedvectors.Vocab at 0x7f1bb0afe9e8>,\n",
              " 'We': <gensim.models.keyedvectors.Vocab at 0x7f1bb02a4780>,\n",
              " 'meeting': <gensim.models.keyedvectors.Vocab at 0x7f1bb02a45f8>,\n",
              " '!': <gensim.models.keyedvectors.Vocab at 0x7f1bb02a4fd0>,\n",
              " 'begin': <gensim.models.keyedvectors.Vocab at 0x7f1bb02a45c0>,\n",
              " 'go': <gensim.models.keyedvectors.Vocab at 0x7f1bb02a4e10>,\n",
              " 'pay': <gensim.models.keyedvectors.Vocab at 0x7f1bb02a4dd8>,\n",
              " 'My': <gensim.models.keyedvectors.Vocab at 0x7f1bb02a4860>,\n",
              " 'am': <gensim.models.keyedvectors.Vocab at 0x7f1bb02a4da0>,\n",
              " 'get': <gensim.models.keyedvectors.Vocab at 0x7f1bb02a4a58>,\n",
              " 'far': <gensim.models.keyedvectors.Vocab at 0x7f1bb02a43c8>,\n",
              " 'Randalls': <gensim.models.keyedvectors.Vocab at 0x7f1bb02a4e80>,\n",
              " 'distance': <gensim.models.keyedvectors.Vocab at 0x7f1bb02a42e8>,\n",
              " 'walk': <gensim.models.keyedvectors.Vocab at 0x7f1bb021c5c0>,\n",
              " 'No': <gensim.models.keyedvectors.Vocab at 0x7f1bb021c320>,\n",
              " 'nobody': <gensim.models.keyedvectors.Vocab at 0x7f1bb021c710>,\n",
              " 'your': <gensim.models.keyedvectors.Vocab at 0x7f1bb021cc50>,\n",
              " 'walking': <gensim.models.keyedvectors.Vocab at 0x7f1bb021c588>,\n",
              " 'carriage': <gensim.models.keyedvectors.Vocab at 0x7f1bb021ce48>,\n",
              " 'sure': <gensim.models.keyedvectors.Vocab at 0x7f1bb021c748>,\n",
              " 'James': <gensim.models.keyedvectors.Vocab at 0x7f1bb021ca90>,\n",
              " 'will': <gensim.models.keyedvectors.Vocab at 0x7f1bb021cf60>,\n",
              " 'like': <gensim.models.keyedvectors.Vocab at 0x7f1bb021cd68>,\n",
              " 'put': <gensim.models.keyedvectors.Vocab at 0x7f1bb021c6d8>,\n",
              " 'horses': <gensim.models.keyedvectors.Vocab at 0x7f1bb021c128>,\n",
              " 'are': <gensim.models.keyedvectors.Vocab at 0x7f1bb022d828>,\n",
              " 'poor': <gensim.models.keyedvectors.Vocab at 0x7f1bb022d438>,\n",
              " 'while': <gensim.models.keyedvectors.Vocab at 0x7f1bb022d0b8>,\n",
              " 'paying': <gensim.models.keyedvectors.Vocab at 0x7f1bb022d7b8>,\n",
              " 'our': <gensim.models.keyedvectors.Vocab at 0x7f1bb022d908>,\n",
              " 'They': <gensim.models.keyedvectors.Vocab at 0x7f1bb022d1d0>,\n",
              " 'into': <gensim.models.keyedvectors.Vocab at 0x7f1bb022d278>,\n",
              " 'stable': <gensim.models.keyedvectors.Vocab at 0x7f1bb022d8d0>,\n",
              " 'You': <gensim.models.keyedvectors.Vocab at 0x7f1bb022d400>,\n",
              " 'already': <gensim.models.keyedvectors.Vocab at 0x7f1bb022dba8>,\n",
              " 'talked': <gensim.models.keyedvectors.Vocab at 0x7f1bb022db70>,\n",
              " 'night': <gensim.models.keyedvectors.Vocab at 0x7f1bb022df60>,\n",
              " 'may': <gensim.models.keyedvectors.Vocab at 0x7f1bb022d9e8>,\n",
              " 'because': <gensim.models.keyedvectors.Vocab at 0x7f1bb022d2b0>,\n",
              " 'doubt': <gensim.models.keyedvectors.Vocab at 0x7f1bb022df98>,\n",
              " 'whether': <gensim.models.keyedvectors.Vocab at 0x7f1bb022d780>,\n",
              " 'take': <gensim.models.keyedvectors.Vocab at 0x7f1bb022dd30>,\n",
              " 'anywhere': <gensim.models.keyedvectors.Vocab at 0x7f1bb022de80>,\n",
              " 'else': <gensim.models.keyedvectors.Vocab at 0x7f1bb022def0>,\n",
              " 'That': <gensim.models.keyedvectors.Vocab at 0x7f1bb022dac8>,\n",
              " 'got': <gensim.models.keyedvectors.Vocab at 0x7f1bb022d6d8>,\n",
              " 'Hannah': <gensim.models.keyedvectors.Vocab at 0x7f1bb022d4a8>,\n",
              " 'Nobody': <gensim.models.keyedvectors.Vocab at 0x7f1bb022dc50>,\n",
              " 'mentioned': <gensim.models.keyedvectors.Vocab at 0x7f1bb022d470>,\n",
              " 'glad': <gensim.models.keyedvectors.Vocab at 0x7f1bb022d320>,\n",
              " 'lucky': <gensim.models.keyedvectors.Vocab at 0x7f1bb022da90>,\n",
              " 'slighted': <gensim.models.keyedvectors.Vocab at 0x7f1bb022db00>,\n",
              " 'upon': <gensim.models.keyedvectors.Vocab at 0x7f1bb022dfd0>,\n",
              " 'account': <gensim.models.keyedvectors.Vocab at 0x7f1bb022da20>,\n",
              " 'make': <gensim.models.keyedvectors.Vocab at 0x7f1bb0adccc0>,\n",
              " 'servant': <gensim.models.keyedvectors.Vocab at 0x7f1bb0adc400>,\n",
              " 'pretty': <gensim.models.keyedvectors.Vocab at 0x7f1bb0adc940>,\n",
              " 'spoken': <gensim.models.keyedvectors.Vocab at 0x7f1bb0adca20>,\n",
              " 'girl': <gensim.models.keyedvectors.Vocab at 0x7f1bb0adc358>,\n",
              " 'opinion': <gensim.models.keyedvectors.Vocab at 0x7f1bb0adc048>,\n",
              " 'Whenever': <gensim.models.keyedvectors.Vocab at 0x7f1bb0adc240>,\n",
              " 'asks': <gensim.models.keyedvectors.Vocab at 0x7f1bb021b748>,\n",
              " 'me': <gensim.models.keyedvectors.Vocab at 0x7f1bb021ba58>,\n",
              " 'do': <gensim.models.keyedvectors.Vocab at 0x7f1bb021ba20>,\n",
              " 'manner': <gensim.models.keyedvectors.Vocab at 0x7f1bb021b908>,\n",
              " 'needlework': <gensim.models.keyedvectors.Vocab at 0x7f1bb021bbe0>,\n",
              " 'observe': <gensim.models.keyedvectors.Vocab at 0x7f1bb021b358>,\n",
              " 'turns': <gensim.models.keyedvectors.Vocab at 0x7f1bb021b7f0>,\n",
              " 'lock': <gensim.models.keyedvectors.Vocab at 0x7f1bb021b0f0>,\n",
              " 'door': <gensim.models.keyedvectors.Vocab at 0x7f1bb021b860>,\n",
              " 'right': <gensim.models.keyedvectors.Vocab at 0x7f1bb0252d68>,\n",
              " 'comfort': <gensim.models.keyedvectors.Vocab at 0x7f1bb0252080>,\n",
              " 'somebody': <gensim.models.keyedvectors.Vocab at 0x7f1bb0252208>,\n",
              " 'about': <gensim.models.keyedvectors.Vocab at 0x7f1bb0252400>,\n",
              " 'goes': <gensim.models.keyedvectors.Vocab at 0x7f1bb0252a90>,\n",
              " 'hearing': <gensim.models.keyedvectors.Vocab at 0x7f1bb0252b38>,\n",
              " 'tell': <gensim.models.keyedvectors.Vocab at 0x7f1bb02525f8>,\n",
              " 'spared': <gensim.models.keyedvectors.Vocab at 0x7f1bb02526a0>,\n",
              " 'exertions': <gensim.models.keyedvectors.Vocab at 0x7f1bb0252d30>,\n",
              " 'maintain': <gensim.models.keyedvectors.Vocab at 0x7f1bb0252198>,\n",
              " 'flow': <gensim.models.keyedvectors.Vocab at 0x7f1bb0252cc0>,\n",
              " 'ideas': <gensim.models.keyedvectors.Vocab at 0x7f1bb0252f98>,\n",
              " 'hoped': <gensim.models.keyedvectors.Vocab at 0x7f1bb0310be0>,\n",
              " 'help': <gensim.models.keyedvectors.Vocab at 0x7f1bb03106d8>,\n",
              " 'tolerably': <gensim.models.keyedvectors.Vocab at 0x7f1bb0310f98>,\n",
              " 'attacked': <gensim.models.keyedvectors.Vocab at 0x7f1bb0310390>,\n",
              " 'regrets': <gensim.models.keyedvectors.Vocab at 0x7f1bb03107f0>,\n",
              " 'table': <gensim.models.keyedvectors.Vocab at 0x7f1bb0310320>,\n",
              " 'placed': <gensim.models.keyedvectors.Vocab at 0x7f1bb0310ac8>,\n",
              " 'visitor': <gensim.models.keyedvectors.Vocab at 0x7f1bb03106a0>,\n",
              " 'immediately': <gensim.models.keyedvectors.Vocab at 0x7f1bb0310eb8>,\n",
              " 'afterwards': <gensim.models.keyedvectors.Vocab at 0x7f1bb0310978>,\n",
              " 'walked': <gensim.models.keyedvectors.Vocab at 0x7f1bb0310e10>,\n",
              " 'unnecessary': <gensim.models.keyedvectors.Vocab at 0x7f1bb0310278>,\n",
              " 'Knightley': <gensim.models.keyedvectors.Vocab at 0x7f1bb03100b8>,\n",
              " 'sensible': <gensim.models.keyedvectors.Vocab at 0x7f1bb0310dd8>,\n",
              " 'eight': <gensim.models.keyedvectors.Vocab at 0x7f1bb0310c50>,\n",
              " 'thirty': <gensim.models.keyedvectors.Vocab at 0x7f1bb03104e0>,\n",
              " 'intimate': <gensim.models.keyedvectors.Vocab at 0x7f1bb0310940>,\n",
              " 'connected': <gensim.models.keyedvectors.Vocab at 0x7f1bb0310780>,\n",
              " 'elder': <gensim.models.keyedvectors.Vocab at 0x7f1bb0310e80>,\n",
              " 'brother': <gensim.models.keyedvectors.Vocab at 0x7f1bb0310c88>,\n",
              " 'frequent': <gensim.models.keyedvectors.Vocab at 0x7f1bb0310710>,\n",
              " 'welcome': <gensim.models.keyedvectors.Vocab at 0x7f1bb0310518>,\n",
              " 'directly': <gensim.models.keyedvectors.Vocab at 0x7f1bb0310048>,\n",
              " 'mutual': <gensim.models.keyedvectors.Vocab at 0x7f1bb0310358>,\n",
              " 'connexions': <gensim.models.keyedvectors.Vocab at 0x7f1bb0310d30>,\n",
              " 'returned': <gensim.models.keyedvectors.Vocab at 0x7f1bb03108d0>,\n",
              " 'late': <gensim.models.keyedvectors.Vocab at 0x7f1bb0310f28>,\n",
              " 'days': <gensim.models.keyedvectors.Vocab at 0x7f1bb0310a58>,\n",
              " 'absence': <gensim.models.keyedvectors.Vocab at 0x7f1bb0310208>,\n",
              " 'Brunswick': <gensim.models.keyedvectors.Vocab at 0x7f1bb0310b00>,\n",
              " 'Square': <gensim.models.keyedvectors.Vocab at 0x7f1bb0310240>,\n",
              " 'circumstance': <gensim.models.keyedvectors.Vocab at 0x7f1bb03104a8>,\n",
              " 'animated': <gensim.models.keyedvectors.Vocab at 0x7f1bb0310668>,\n",
              " 'inquiries': <gensim.models.keyedvectors.Vocab at 0x7f1bb0310b38>,\n",
              " 'answered': <gensim.models.keyedvectors.Vocab at 0x7f1bb0310080>,\n",
              " 'When': <gensim.models.keyedvectors.Vocab at 0x7f1bb0310d68>,\n",
              " 'gratefully': <gensim.models.keyedvectors.Vocab at 0x7f1bb0310128>,\n",
              " 'observed': <gensim.models.keyedvectors.Vocab at 0x7f1bb0310a90>,\n",
              " 'come': <gensim.models.keyedvectors.Vocab at 0x7f1bb0310cc0>,\n",
              " 'out': <gensim.models.keyedvectors.Vocab at 0x7f1bb0310748>,\n",
              " 'call': <gensim.models.keyedvectors.Vocab at 0x7f1bb0310400>,\n",
              " 'afraid': <gensim.models.keyedvectors.Vocab at 0x7f1bb0310908>,\n",
              " 'shocking': <gensim.models.keyedvectors.Vocab at 0x7f1bb02b0ac8>,\n",
              " 'Not': <gensim.models.keyedvectors.Vocab at 0x7f1bb02b0710>,\n",
              " 'sir': <gensim.models.keyedvectors.Vocab at 0x7f1bb02b0f60>,\n",
              " 'beautiful': <gensim.models.keyedvectors.Vocab at 0x7f1bb02b0ef0>,\n",
              " 'moonlight': <gensim.models.keyedvectors.Vocab at 0x7f1bb02b0c50>,\n",
              " 'mild': <gensim.models.keyedvectors.Vocab at 0x7f1bb02b04a8>,\n",
              " 'draw': <gensim.models.keyedvectors.Vocab at 0x7f1bb02b0d68>,\n",
              " 'back': <gensim.models.keyedvectors.Vocab at 0x7f1bb02b0da0>,\n",
              " 'fire': <gensim.models.keyedvectors.Vocab at 0x7f1bb02b03c8>,\n",
              " 'found': <gensim.models.keyedvectors.Vocab at 0x7f1bb02b0898>,\n",
              " 'damp': <gensim.models.keyedvectors.Vocab at 0x7f1bb02b0278>,\n",
              " 'dirty': <gensim.models.keyedvectors.Vocab at 0x7f1bb02b0d30>,\n",
              " 'catch': <gensim.models.keyedvectors.Vocab at 0x7f1bb02b0438>,\n",
              " 'cold': <gensim.models.keyedvectors.Vocab at 0x7f1bb0133ef0>,\n",
              " 'Look': <gensim.models.keyedvectors.Vocab at 0x7f1bb01334a8>,\n",
              " 'shoes': <gensim.models.keyedvectors.Vocab at 0x7f1bb025ca58>,\n",
              " 'Well': <gensim.models.keyedvectors.Vocab at 0x7f1bb025c2e8>,\n",
              " 'quite': <gensim.models.keyedvectors.Vocab at 0x7f1bb025c7b8>,\n",
              " 'surprising': <gensim.models.keyedvectors.Vocab at 0x7f1bb025cc18>,\n",
              " 'vast': <gensim.models.keyedvectors.Vocab at 0x7f1bb025cbe0>,\n",
              " 'rain': <gensim.models.keyedvectors.Vocab at 0x7f1bb025c400>,\n",
              " 'rained': <gensim.models.keyedvectors.Vocab at 0x7f1bb025c4a8>,\n",
              " 'dreadfully': <gensim.models.keyedvectors.Vocab at 0x7f1bb025c438>,\n",
              " 'hard': <gensim.models.keyedvectors.Vocab at 0x7f1bb025c0b8>,\n",
              " 'breakfast': <gensim.models.keyedvectors.Vocab at 0x7f1bb025c828>,\n",
              " 'wanted': <gensim.models.keyedvectors.Vocab at 0x7f1bb025c8d0>,\n",
              " 'By': <gensim.models.keyedvectors.Vocab at 0x7f1bb025c978>,\n",
              " 'bye': <gensim.models.keyedvectors.Vocab at 0x7f1bb0aec2e8>,\n",
              " 'joy': <gensim.models.keyedvectors.Vocab at 0x7f1bb0aec080>,\n",
              " 'Being': <gensim.models.keyedvectors.Vocab at 0x7f1bb0aec1d0>,\n",
              " 'sort': <gensim.models.keyedvectors.Vocab at 0x7f1bb0aec9b0>,\n",
              " 'feeling': <gensim.models.keyedvectors.Vocab at 0x7f1bb0aec400>,\n",
              " 'hurry': <gensim.models.keyedvectors.Vocab at 0x7f1bb0aec358>,\n",
              " 'congratulations': <gensim.models.keyedvectors.Vocab at 0x7f1bb0aece80>,\n",
              " 'hope': <gensim.models.keyedvectors.Vocab at 0x7f1bb0aeca20>,\n",
              " 'went': <gensim.models.keyedvectors.Vocab at 0x7f1bb0aecd30>,\n",
              " 'behave': <gensim.models.keyedvectors.Vocab at 0x7f1bb0aecef0>,\n",
              " 'Who': <gensim.models.keyedvectors.Vocab at 0x7f1bb0aec470>,\n",
              " 'cried': <gensim.models.keyedvectors.Vocab at 0x7f1bb02d97b8>,\n",
              " 'Ah': <gensim.models.keyedvectors.Vocab at 0x7f1bb02d9eb8>,\n",
              " 'Tis': <gensim.models.keyedvectors.Vocab at 0x7f1bb02d9a90>,\n",
              " 'business': <gensim.models.keyedvectors.Vocab at 0x7f1bb02d9860>,\n",
              " 'please': <gensim.models.keyedvectors.Vocab at 0x7f1bb02d9ba8>,\n",
              " 'possibly': <gensim.models.keyedvectors.Vocab at 0x7f1bb02d9048>,\n",
              " '`': <gensim.models.keyedvectors.Vocab at 0x7f1bb02d9438>,\n",
              " \".'\": <gensim.models.keyedvectors.Vocab at 0x7f1bb02d9278>,\n",
              " 'regard': <gensim.models.keyedvectors.Vocab at 0x7f1bb02d93c8>,\n",
              " 'comes': <gensim.models.keyedvectors.Vocab at 0x7f1bb02d9668>,\n",
              " 'question': <gensim.models.keyedvectors.Vocab at 0x7f1bb02d9198>,\n",
              " 'dependence': <gensim.models.keyedvectors.Vocab at 0x7f1bb02d9208>,\n",
              " 'independence': <gensim.models.keyedvectors.Vocab at 0x7f1bb02d9f60>,\n",
              " 'At': <gensim.models.keyedvectors.Vocab at 0x7f1bb02d91d0>,\n",
              " 'rate': <gensim.models.keyedvectors.Vocab at 0x7f1bb02d9a58>,\n",
              " 'better': <gensim.models.keyedvectors.Vocab at 0x7f1bb0303c18>,\n",
              " '_one_': <gensim.models.keyedvectors.Vocab at 0x7f1bb03034a8>,\n",
              " 'those': <gensim.models.keyedvectors.Vocab at 0x7f1bb0303240>,\n",
              " 'fanciful': <gensim.models.keyedvectors.Vocab at 0x7f1bb0303e48>,\n",
              " 'troublesome': <gensim.models.keyedvectors.Vocab at 0x7f1bb0303630>,\n",
              " 'creature': <gensim.models.keyedvectors.Vocab at 0x7f1bb0303588>,\n",
              " 'playfully': <gensim.models.keyedvectors.Vocab at 0x7f1bb03032e8>,\n",
              " 'head': <gensim.models.keyedvectors.Vocab at 0x7f1bb0303320>,\n",
              " 'certainly': <gensim.models.keyedvectors.Vocab at 0x7f1bb0303cf8>,\n",
              " 'believe': <gensim.models.keyedvectors.Vocab at 0x7f1bb0303d30>,\n",
              " ',\"': <gensim.models.keyedvectors.Vocab at 0x7f1bb03030f0>,\n",
              " 'sometimes': <gensim.models.keyedvectors.Vocab at 0x7f1bb0303278>,\n",
              " 'dearest': <gensim.models.keyedvectors.Vocab at 0x7f1bb0303cc0>,\n",
              " 'mean': <gensim.models.keyedvectors.Vocab at 0x7f1bb0303128>,\n",
              " '_you_': <gensim.models.keyedvectors.Vocab at 0x7f1bb0303908>,\n",
              " 'horrible': <gensim.models.keyedvectors.Vocab at 0x7f1bb0303898>,\n",
              " 'idea': <gensim.models.keyedvectors.Vocab at 0x7f1baf0350b8>,\n",
              " 'Oh': <gensim.models.keyedvectors.Vocab at 0x7f1baf035780>,\n",
              " 'meant': <gensim.models.keyedvectors.Vocab at 0x7f1baf0354e0>,\n",
              " 'myself': <gensim.models.keyedvectors.Vocab at 0x7f1baf035208>,\n",
              " 'loves': <gensim.models.keyedvectors.Vocab at 0x7f1baf035da0>,\n",
              " 'joke': <gensim.models.keyedvectors.Vocab at 0x7f1baf035c88>,\n",
              " 'another': <gensim.models.keyedvectors.Vocab at 0x7f1baf035ac8>,\n",
              " 'fact': <gensim.models.keyedvectors.Vocab at 0x7f1baf0352e8>,\n",
              " 'faults': <gensim.models.keyedvectors.Vocab at 0x7f1baf035978>,\n",
              " 'told': <gensim.models.keyedvectors.Vocab at 0x7f1bb02079e8>,\n",
              " 'agreeable': <gensim.models.keyedvectors.Vocab at 0x7f1bb0207160>,\n",
              " 'knew': <gensim.models.keyedvectors.Vocab at 0x7f1bb0207c88>,\n",
              " 'suspect': <gensim.models.keyedvectors.Vocab at 0x7f1bb0207d30>,\n",
              " 'knows': <gensim.models.keyedvectors.Vocab at 0x7f1bb02074e0>,\n",
              " 'flatter': <gensim.models.keyedvectors.Vocab at 0x7f1bb0207550>,\n",
              " 'reflection': <gensim.models.keyedvectors.Vocab at 0x7f1bb02070b8>,\n",
              " 'has': <gensim.models.keyedvectors.Vocab at 0x7f1bb0207668>,\n",
              " 'persons': <gensim.models.keyedvectors.Vocab at 0x7f1bb0207780>,\n",
              " 'chances': <gensim.models.keyedvectors.Vocab at 0x7f1bb0207e80>,\n",
              " 'willing': <gensim.models.keyedvectors.Vocab at 0x7f1bb0207fd0>,\n",
              " 'let': <gensim.models.keyedvectors.Vocab at 0x7f1bb0207b70>,\n",
              " 'pass': <gensim.models.keyedvectors.Vocab at 0x7f1bb0207f60>,\n",
              " '--\"': <gensim.models.keyedvectors.Vocab at 0x7f1bb0207400>,\n",
              " 'hear': <gensim.models.keyedvectors.Vocab at 0x7f1bb02078d0>,\n",
              " 'behaved': <gensim.models.keyedvectors.Vocab at 0x7f1bb0207710>,\n",
              " 'charmingly': <gensim.models.keyedvectors.Vocab at 0x7f1bb02077b8>,\n",
              " 'Every': <gensim.models.keyedvectors.Vocab at 0x7f1bb0207a58>,\n",
              " 'punctual': <gensim.models.keyedvectors.Vocab at 0x7f1bb0207e48>,\n",
              " 'looks': <gensim.models.keyedvectors.Vocab at 0x7f1bb02079b0>,\n",
              " 'tear': <gensim.models.keyedvectors.Vocab at 0x7f1bb0207eb8>,\n",
              " 'face': <gensim.models.keyedvectors.Vocab at 0x7f1bb0207c18>,\n",
              " 'seen': <gensim.models.keyedvectors.Vocab at 0x7f1bb02072b0>,\n",
              " 'apart': <gensim.models.keyedvectors.Vocab at 0x7f1bb0207390>,\n",
              " 'Dear': <gensim.models.keyedvectors.Vocab at 0x7f1bb0207278>,\n",
              " 'bears': <gensim.models.keyedvectors.Vocab at 0x7f1bb0207940>,\n",
              " 'sorry': <gensim.models.keyedvectors.Vocab at 0x7f1bb0207320>,\n",
              " 'lose': <gensim.models.keyedvectors.Vocab at 0x7f1bb0207cf8>,\n",
              " 'miss': <gensim.models.keyedvectors.Vocab at 0x7f1bb0207da0>,\n",
              " 'thinks': <gensim.models.keyedvectors.Vocab at 0x7f1bb0207438>,\n",
              " 'turned': <gensim.models.keyedvectors.Vocab at 0x7f1bb0207080>,\n",
              " 'divided': <gensim.models.keyedvectors.Vocab at 0x7f1bb02075c0>,\n",
              " 'tears': <gensim.models.keyedvectors.Vocab at 0x7f1bb0207f98>,\n",
              " 'smiles': <gensim.models.keyedvectors.Vocab at 0x7f1bb0207048>,\n",
              " 'should': <gensim.models.keyedvectors.Vocab at 0x7f1bb02076d8>,\n",
              " 'acceptable': <gensim.models.keyedvectors.Vocab at 0x7f1bb0207c50>,\n",
              " 'important': <gensim.models.keyedvectors.Vocab at 0x7f1bb0207d68>,\n",
              " 'secure': <gensim.models.keyedvectors.Vocab at 0x7f1bb02075f8>,\n",
              " 'provision': <gensim.models.keyedvectors.Vocab at 0x7f1bb0207470>,\n",
              " 'therefore': <gensim.models.keyedvectors.Vocab at 0x7f1bb0a517f0>,\n",
              " 'allow': <gensim.models.keyedvectors.Vocab at 0x7f1bb0a51940>,\n",
              " 'pain': <gensim.models.keyedvectors.Vocab at 0x7f1bb0a51438>,\n",
              " 'happily': <gensim.models.keyedvectors.Vocab at 0x7f1bb0a51cc0>,\n",
              " 'forgotten': <gensim.models.keyedvectors.Vocab at 0x7f1bb0a51320>,\n",
              " 'matter': <gensim.models.keyedvectors.Vocab at 0x7f1bb0a51b00>,\n",
              " 'considerable': <gensim.models.keyedvectors.Vocab at 0x7f1bb0a51e10>,\n",
              " 'four': <gensim.models.keyedvectors.Vocab at 0x7f1bb0a51a90>,\n",
              " 'proved': <gensim.models.keyedvectors.Vocab at 0x7f1bb0a51470>,\n",
              " 'marry': <gensim.models.keyedvectors.Vocab at 0x7f1bb0a51588>,\n",
              " 'shook': <gensim.models.keyedvectors.Vocab at 0x7f1bb0a51e48>,\n",
              " 'fondly': <gensim.models.keyedvectors.Vocab at 0x7f1bb0a51ba8>,\n",
              " 'replied': <gensim.models.keyedvectors.Vocab at 0x7f1bb0a51908>,\n",
              " 'matches': <gensim.models.keyedvectors.Vocab at 0x7f1bb0a51b70>,\n",
              " 'foretell': <gensim.models.keyedvectors.Vocab at 0x7f1bb0a51358>,\n",
              " 'whatever': <gensim.models.keyedvectors.Vocab at 0x7f1bb0a51128>,\n",
              " 'Pray': <gensim.models.keyedvectors.Vocab at 0x7f1bb0a51ac8>,\n",
              " 'none': <gensim.models.keyedvectors.Vocab at 0x7f1bb0a51518>,\n",
              " 'greatest': <gensim.models.keyedvectors.Vocab at 0x7f1bb0a51dd8>,\n",
              " 'amusement': <gensim.models.keyedvectors.Vocab at 0x7f1bb0a51278>,\n",
              " 'success': <gensim.models.keyedvectors.Vocab at 0x7f1bb0a516d8>,\n",
              " 'widower': <gensim.models.keyedvectors.Vocab at 0x7f1bb0a51da0>,\n",
              " 'perfectly': <gensim.models.keyedvectors.Vocab at 0x7f1bb0a51d68>,\n",
              " 'constantly': <gensim.models.keyedvectors.Vocab at 0x7f1bb0a68e48>,\n",
              " 'occupied': <gensim.models.keyedvectors.Vocab at 0x7f1bb0a68ef0>,\n",
              " 'either': <gensim.models.keyedvectors.Vocab at 0x7f1bb0a68908>,\n",
              " 'friends': <gensim.models.keyedvectors.Vocab at 0x7f1bb0a686d8>,\n",
              " 'wherever': <gensim.models.keyedvectors.Vocab at 0x7f1bb0a68b00>,\n",
              " 'need': <gensim.models.keyedvectors.Vocab at 0x7f1bb0a68518>,\n",
              " 'spend': <gensim.models.keyedvectors.Vocab at 0x7f1bb0a689b0>,\n",
              " 'single': <gensim.models.keyedvectors.Vocab at 0x7f1bb0a68f98>,\n",
              " 'year': <gensim.models.keyedvectors.Vocab at 0x7f1bb0a68eb8>,\n",
              " 'alone': <gensim.models.keyedvectors.Vocab at 0x7f1bb0a68978>,\n",
              " 'Some': <gensim.models.keyedvectors.Vocab at 0x7f1bb0a68668>,\n",
              " 'others': <gensim.models.keyedvectors.Vocab at 0x7f1bb0a68c88>,\n",
              " 'son': <gensim.models.keyedvectors.Vocab at 0x7f1bb0a687f0>,\n",
              " 'uncle': <gensim.models.keyedvectors.Vocab at 0x7f1bb0a68fd0>,\n",
              " 'letting': <gensim.models.keyedvectors.Vocab at 0x7f1bb0a68630>,\n",
              " 'solemn': <gensim.models.keyedvectors.Vocab at 0x7f1bb0a68860>,\n",
              " 'nonsense': <gensim.models.keyedvectors.Vocab at 0x7f1bb0a68f28>,\n",
              " 'subject': <gensim.models.keyedvectors.Vocab at 0x7f1bb0a685f8>,\n",
              " 'believed': <gensim.models.keyedvectors.Vocab at 0x7f1bb0a68240>,\n",
              " 'Ever': <gensim.models.keyedvectors.Vocab at 0x7f1bb0a68780>,\n",
              " 'since': <gensim.models.keyedvectors.Vocab at 0x7f1bb0a68940>,\n",
              " 'met': <gensim.models.keyedvectors.Vocab at 0x7f1bb0a68198>,\n",
              " 'Broadway': <gensim.models.keyedvectors.Vocab at 0x7f1bb0a686a0>,\n",
              " 'Lane': <gensim.models.keyedvectors.Vocab at 0x7f1bb0a68b70>,\n",
              " 'began': <gensim.models.keyedvectors.Vocab at 0x7f1bb032ef98>,\n",
              " 'darted': <gensim.models.keyedvectors.Vocab at 0x7f1bb032e7f0>,\n",
              " 'gallantry': <gensim.models.keyedvectors.Vocab at 0x7f1bb032e898>,\n",
              " 'borrowed': <gensim.models.keyedvectors.Vocab at 0x7f1bb032e400>,\n",
              " 'Farmer': <gensim.models.keyedvectors.Vocab at 0x7f1bb032edd8>,\n",
              " 'planned': <gensim.models.keyedvectors.Vocab at 0x7f1bb032ea20>,\n",
              " 'blessed': <gensim.models.keyedvectors.Vocab at 0x7f1bb032e390>,\n",
              " 'instance': <gensim.models.keyedvectors.Vocab at 0x7f1bb032eda0>,\n",
              " 'leave': <gensim.models.keyedvectors.Vocab at 0x7f1bb032e6a0>,\n",
              " 'making': <gensim.models.keyedvectors.Vocab at 0x7f1bb032ef28>,\n",
              " 'understand': <gensim.models.keyedvectors.Vocab at 0x7f1bb032e128>,\n",
              " ',\\'\"': <gensim.models.keyedvectors.Vocab at 0x7f1bb032e7b8>,\n",
              " 'supposes': <gensim.models.keyedvectors.Vocab at 0x7f1bb032e6d8>,\n",
              " 'endeavour': <gensim.models.keyedvectors.Vocab at 0x7f1bb032eeb8>,\n",
              " 'Your': <gensim.models.keyedvectors.Vocab at 0x7f1bb032e438>,\n",
              " 'properly': <gensim.models.keyedvectors.Vocab at 0x7f1bb032efd0>,\n",
              " 'delicately': <gensim.models.keyedvectors.Vocab at 0x7f1bb032ef60>,\n",
              " 'endeavouring': <gensim.models.keyedvectors.Vocab at 0x7f1bb032e160>,\n",
              " 'bring': <gensim.models.keyedvectors.Vocab at 0x7f1bb032e0b8>,\n",
              " 'worthy': <gensim.models.keyedvectors.Vocab at 0x7f1bb032e518>,\n",
              " 'employment': <gensim.models.keyedvectors.Vocab at 0x7f1bb032ea58>,\n",
              " 'young': <gensim.models.keyedvectors.Vocab at 0x7f1bb032ed68>,\n",
              " 'lady': <gensim.models.keyedvectors.Vocab at 0x7f1bb032e780>,\n",
              " 'imagine': <gensim.models.keyedvectors.Vocab at 0x7f1bb032e320>,\n",
              " 'planning': <gensim.models.keyedvectors.Vocab at 0x7f1bb032eba8>,\n",
              " 'saying': <gensim.models.keyedvectors.Vocab at 0x7f1bb032eb00>,\n",
              " 'yourself': <gensim.models.keyedvectors.Vocab at 0x7f1bb032ee80>,\n",
              " 'idle': <gensim.models.keyedvectors.Vocab at 0x7f1bb032e2e8>,\n",
              " \",'\": <gensim.models.keyedvectors.Vocab at 0x7f1bb032e1d0>,\n",
              " 'why': <gensim.models.keyedvectors.Vocab at 0x7f1bb032e588>,\n",
              " 'talk': <gensim.models.keyedvectors.Vocab at 0x7f1bb032e2b0>,\n",
              " 'Where': <gensim.models.keyedvectors.Vocab at 0x7f1bb032e908>,\n",
              " 'merit': <gensim.models.keyedvectors.Vocab at 0x7f1bb032e860>,\n",
              " 'proud': <gensim.models.keyedvectors.Vocab at 0x7f1bb032eef0>,\n",
              " 'guess': <gensim.models.keyedvectors.Vocab at 0x7f1bb032e278>,\n",
              " '_that_': <gensim.models.keyedvectors.Vocab at 0x7f1bb032e668>,\n",
              " 'can': <gensim.models.keyedvectors.Vocab at 0x7f1bb032ecf8>,\n",
              " 'known': <gensim.models.keyedvectors.Vocab at 0x7f1bb032eb70>,\n",
              " 'triumph': <gensim.models.keyedvectors.Vocab at 0x7f1bb032ea90>,\n",
              " 'cleverer': <gensim.models.keyedvectors.Vocab at 0x7f1bb032ecc0>,\n",
              " 'depend': <gensim.models.keyedvectors.Vocab at 0x7f1bb032e550>,\n",
              " 'merely': <gensim.models.keyedvectors.Vocab at 0x7f1bb034f470>,\n",
              " 'luck': <gensim.models.keyedvectors.Vocab at 0x7f1bb034feb8>,\n",
              " 'There': <gensim.models.keyedvectors.Vocab at 0x7f1bb034f6a0>,\n",
              " 'talent': <gensim.models.keyedvectors.Vocab at 0x7f1bb034f0b8>,\n",
              " 'word': <gensim.models.keyedvectors.Vocab at 0x7f1bb034fcf8>,\n",
              " 'quarrel': <gensim.models.keyedvectors.Vocab at 0x7f1bb034fd68>,\n",
              " 'claim': <gensim.models.keyedvectors.Vocab at 0x7f1bb034fc18>,\n",
              " 'drawn': <gensim.models.keyedvectors.Vocab at 0x7f1bb034fa58>,\n",
              " 'pictures': <gensim.models.keyedvectors.Vocab at 0x7f1bb034fda0>,\n",
              " 'something': <gensim.models.keyedvectors.Vocab at 0x7f1bb034f9e8>,\n",
              " 'nothing': <gensim.models.keyedvectors.Vocab at 0x7f1bb034f5f8>,\n",
              " 'If': <gensim.models.keyedvectors.Vocab at 0x7f1bb034f160>,\n",
              " 'visits': <gensim.models.keyedvectors.Vocab at 0x7f1bb034fd30>,\n",
              " 'given': <gensim.models.keyedvectors.Vocab at 0x7f1bb034f7b8>,\n",
              " 'smoothed': <gensim.models.keyedvectors.Vocab at 0x7f1bb034fcc0>,\n",
              " 'matters': <gensim.models.keyedvectors.Vocab at 0x7f1bb034fbe0>,\n",
              " 'enough': <gensim.models.keyedvectors.Vocab at 0x7f1bb034f7f0>,\n",
              " 'comprehend': <gensim.models.keyedvectors.Vocab at 0x7f1bb034fc50>,\n",
              " 'open': <gensim.models.keyedvectors.Vocab at 0x7f1bb034f208>,\n",
              " 'hearted': <gensim.models.keyedvectors.Vocab at 0x7f1bb034f668>,\n",
              " 'unaffected': <gensim.models.keyedvectors.Vocab at 0x7f1bb034f128>,\n",
              " 'safely': <gensim.models.keyedvectors.Vocab at 0x7f1bb034fe80>,\n",
              " 'manage': <gensim.models.keyedvectors.Vocab at 0x7f1bb034ffd0>,\n",
              " 'likely': <gensim.models.keyedvectors.Vocab at 0x7f1bb034f6d8>,\n",
              " 'harm': <gensim.models.keyedvectors.Vocab at 0x7f1bb034ff60>,\n",
              " 'interference': <gensim.models.keyedvectors.Vocab at 0x7f1bb034f390>,\n",
              " 'rejoined': <gensim.models.keyedvectors.Vocab at 0x7f1bb110de80>,\n",
              " 'understanding': <gensim.models.keyedvectors.Vocab at 0x7f1bb110dda0>,\n",
              " 'pray': <gensim.models.keyedvectors.Vocab at 0x7f1bb110de48>,\n",
              " 'silly': <gensim.models.keyedvectors.Vocab at 0x7f1bb110df60>,\n",
              " 'break': <gensim.models.keyedvectors.Vocab at 0x7f1bb02284e0>,\n",
              " 'circle': <gensim.models.keyedvectors.Vocab at 0x7f1bb0228208>,\n",
              " 'grievously': <gensim.models.keyedvectors.Vocab at 0x7f1bb0228f60>,\n",
              " 'Only': <gensim.models.keyedvectors.Vocab at 0x7f1bb0228ba8>,\n",
              " 'Elton': <gensim.models.keyedvectors.Vocab at 0x7f1bb0228d30>,\n",
              " ',--': <gensim.models.keyedvectors.Vocab at 0x7f1bb02288d0>,\n",
              " 'look': <gensim.models.keyedvectors.Vocab at 0x7f1bb0228c18>,\n",
              " 'whole': <gensim.models.keyedvectors.Vocab at 0x7f1bb0228da0>,\n",
              " 'fitted': <gensim.models.keyedvectors.Vocab at 0x7f1bb0228470>,\n",
              " 'comfortably': <gensim.models.keyedvectors.Vocab at 0x7f1bb02284a8>,\n",
              " 'shame': <gensim.models.keyedvectors.Vocab at 0x7f1bb0228080>,\n",
              " 'longer': <gensim.models.keyedvectors.Vocab at 0x7f1bb02287b8>,\n",
              " 'joining': <gensim.models.keyedvectors.Vocab at 0x7f1bb02280f0>,\n",
              " 'hands': <gensim.models.keyedvectors.Vocab at 0x7f1bb0228a20>,\n",
              " 'same': <gensim.models.keyedvectors.Vocab at 0x7f1bb0228b00>,\n",
              " 'service': <gensim.models.keyedvectors.Vocab at 0x7f1bb0228ef0>,\n",
              " 'shew': <gensim.models.keyedvectors.Vocab at 0x7f1bb0228828>,\n",
              " 'attention': <gensim.models.keyedvectors.Vocab at 0x7f1bb0228f28>,\n",
              " 'ask': <gensim.models.keyedvectors.Vocab at 0x7f1bb0228e80>,\n",
              " 'dare': <gensim.models.keyedvectors.Vocab at 0x7f1bb0228dd8>,\n",
              " 'With': <gensim.models.keyedvectors.Vocab at 0x7f1bb0228eb8>,\n",
              " 'laughing': <gensim.models.keyedvectors.Vocab at 0x7f1bb0228668>,\n",
              " 'fish': <gensim.models.keyedvectors.Vocab at 0x7f1bb0228198>,\n",
              " 'chicken': <gensim.models.keyedvectors.Vocab at 0x7f1bb0228978>,\n",
              " 'chuse': <gensim.models.keyedvectors.Vocab at 0x7f1bb0228cf8>,\n",
              " 'Depend': <gensim.models.keyedvectors.Vocab at 0x7f1bb0228c88>,\n",
              " 'six': <gensim.models.keyedvectors.Vocab at 0x7f1bb0228160>,\n",
              " 'care': <gensim.models.keyedvectors.Vocab at 0x7f1bb0228fd0>,\n",
              " 'II': <gensim.models.keyedvectors.Vocab at 0x7f1bb0228780>,\n",
              " 'native': <gensim.models.keyedvectors.Vocab at 0x7f1bb0a7e4a8>,\n",
              " 'born': <gensim.models.keyedvectors.Vocab at 0x7f1bb0a7e6d8>,\n",
              " 'respectable': <gensim.models.keyedvectors.Vocab at 0x7f1bb0a7e390>,\n",
              " 'generations': <gensim.models.keyedvectors.Vocab at 0x7f1bb0a7ecc0>,\n",
              " 'rising': <gensim.models.keyedvectors.Vocab at 0x7f1bb0a7ee80>,\n",
              " 'gentility': <gensim.models.keyedvectors.Vocab at 0x7f1bb0a7eb00>,\n",
              " 'property': <gensim.models.keyedvectors.Vocab at 0x7f1bb0a7e048>,\n",
              " 'received': <gensim.models.keyedvectors.Vocab at 0x7f1bb0a7e2b0>,\n",
              " 'education': <gensim.models.keyedvectors.Vocab at 0x7f1bb0a7e3c8>,\n",
              " 'succeeding': <gensim.models.keyedvectors.Vocab at 0x7f1bb0a7e710>,\n",
              " 'small': <gensim.models.keyedvectors.Vocab at 0x7f1bb0a7ed30>,\n",
              " 'become': <gensim.models.keyedvectors.Vocab at 0x7f1bb0a7ee10>,\n",
              " 'indisposed': <gensim.models.keyedvectors.Vocab at 0x7f1bb0a7ef28>,\n",
              " 'homely': <gensim.models.keyedvectors.Vocab at 0x7f1bb0a7e128>,\n",
              " 'pursuits': <gensim.models.keyedvectors.Vocab at 0x7f1bb0a7e208>,\n",
              " 'brothers': <gensim.models.keyedvectors.Vocab at 0x7f1bb0a7ef98>,\n",
              " 'engaged': <gensim.models.keyedvectors.Vocab at 0x7f1bb0a7eda0>,\n",
              " 'satisfied': <gensim.models.keyedvectors.Vocab at 0x7f1bb0a7eb70>,\n",
              " 'active': <gensim.models.keyedvectors.Vocab at 0x7f1bb0a7e748>,\n",
              " 'social': <gensim.models.keyedvectors.Vocab at 0x7f1bb0a7e2e8>,\n",
              " 'entering': <gensim.models.keyedvectors.Vocab at 0x7f1bb0a7efd0>,\n",
              " 'militia': <gensim.models.keyedvectors.Vocab at 0x7f1bb0a7ec88>,\n",
              " 'county': <gensim.models.keyedvectors.Vocab at 0x7f1bb0a7e898>,\n",
              " 'embodied': <gensim.models.keyedvectors.Vocab at 0x7f1bb0a7e908>,\n",
              " 'Captain': <gensim.models.keyedvectors.Vocab at 0x7f1bb05af400>,\n",
              " 'general': <gensim.models.keyedvectors.Vocab at 0x7f1bb05afb38>,\n",
              " 'favourite': <gensim.models.keyedvectors.Vocab at 0x7f1bb05afc18>,\n",
              " 'military': <gensim.models.keyedvectors.Vocab at 0x7f1bb05afda0>,\n",
              " 'introduced': <gensim.models.keyedvectors.Vocab at 0x7f1bb05aff60>,\n",
              " 'Churchill': <gensim.models.keyedvectors.Vocab at 0x7f1bb05afc88>,\n",
              " 'Yorkshire': <gensim.models.keyedvectors.Vocab at 0x7f1bb05af198>,\n",
              " 'fell': <gensim.models.keyedvectors.Vocab at 0x7f1bb05afe80>,\n",
              " 'love': <gensim.models.keyedvectors.Vocab at 0x7f1bb05af160>,\n",
              " 'surprized': <gensim.models.keyedvectors.Vocab at 0x7f1bb05af390>,\n",
              " 'except': <gensim.models.keyedvectors.Vocab at 0x7f1bb05af9e8>,\n",
              " 'full': <gensim.models.keyedvectors.Vocab at 0x7f1bb05af588>,\n",
              " 'pride': <gensim.models.keyedvectors.Vocab at 0x7f1bb05af128>,\n",
              " 'importance': <gensim.models.keyedvectors.Vocab at 0x7f1bb05afcf8>,\n",
              " 'connexion': <gensim.models.keyedvectors.Vocab at 0x7f1bb05af710>,\n",
              " 'offend': <gensim.models.keyedvectors.Vocab at 0x7f1bb05af048>,\n",
              " 'command': <gensim.models.keyedvectors.Vocab at 0x7f1bb05af8d0>,\n",
              " 'bore': <gensim.models.keyedvectors.Vocab at 0x7f1bb05af6d8>,\n",
              " 'proportion': <gensim.models.keyedvectors.Vocab at 0x7f1bb05af320>,\n",
              " 'estate': <gensim.models.keyedvectors.Vocab at 0x7f1bb05afc50>,\n",
              " 'took': <gensim.models.keyedvectors.Vocab at 0x7f1bb05afac8>,\n",
              " 'infinite': <gensim.models.keyedvectors.Vocab at 0x7f1bb05af518>,\n",
              " 'mortification': <gensim.models.keyedvectors.Vocab at 0x7f1bb05af4e0>,\n",
              " 'threw': <gensim.models.keyedvectors.Vocab at 0x7f1bb05af5f8>,\n",
              " 'due': <gensim.models.keyedvectors.Vocab at 0x7f1bb05af7b8>,\n",
              " 'decorum': <gensim.models.keyedvectors.Vocab at 0x7f1bb05af940>,\n",
              " 'unsuitable': <gensim.models.keyedvectors.Vocab at 0x7f1bb05afb00>,\n",
              " 'produce': <gensim.models.keyedvectors.Vocab at 0x7f1bb05af898>,\n",
              " 'ought': <gensim.models.keyedvectors.Vocab at 0x7f1bb05af978>,\n",
              " 'whose': <gensim.models.keyedvectors.Vocab at 0x7f1bb05afeb8>,\n",
              " 'warm': <gensim.models.keyedvectors.Vocab at 0x7f1bb05aff28>,\n",
              " 'sweet': <gensim.models.keyedvectors.Vocab at 0x7f1bb05af668>,\n",
              " 'return': <gensim.models.keyedvectors.Vocab at 0x7f1bb05afbe0>,\n",
              " 'goodness': <gensim.models.keyedvectors.Vocab at 0x7f1bb05af780>,\n",
              " 'spirit': <gensim.models.keyedvectors.Vocab at 0x7f1bb05afe48>,\n",
              " 'resolution': <gensim.models.keyedvectors.Vocab at 0x7f1bb05af9b0>,\n",
              " 'pursue': <gensim.models.keyedvectors.Vocab at 0x7f1bb05afa58>,\n",
              " 'refrain': <gensim.models.keyedvectors.Vocab at 0x7f1bb05af2e8>,\n",
              " 'unreasonable': <gensim.models.keyedvectors.Vocab at 0x7f1bb05af1d0>,\n",
              " 'anger': <gensim.models.keyedvectors.Vocab at 0x7f1bb05afb70>,\n",
              " 'missing': <gensim.models.keyedvectors.Vocab at 0x7f1bb05af0f0>,\n",
              " 'former': <gensim.models.keyedvectors.Vocab at 0x7f1bb05afcc0>,\n",
              " 'income': <gensim.models.keyedvectors.Vocab at 0x7f1bb05af6a0>,\n",
              " 'still': <gensim.models.keyedvectors.Vocab at 0x7f1bb03dfe10>,\n",
              " 'comparison': <gensim.models.keyedvectors.Vocab at 0x7f1bb03dffd0>,\n",
              " 'Enscombe': <gensim.models.keyedvectors.Vocab at 0x7f1bb03dfb38>,\n",
              " 'cease': <gensim.models.keyedvectors.Vocab at 0x7f1bb03df630>,\n",
              " 'once': <gensim.models.keyedvectors.Vocab at 0x7f1bb03df550>,\n",
              " 'considered': <gensim.models.keyedvectors.Vocab at 0x7f1bb03df2b0>,\n",
              " 'especially': <gensim.models.keyedvectors.Vocab at 0x7f1bb03dfeb8>,\n",
              " 'Churchills': <gensim.models.keyedvectors.Vocab at 0x7f1bb03dfc18>,\n",
              " 'amazing': <gensim.models.keyedvectors.Vocab at 0x7f1bb03df4e0>,\n",
              " 'worst': <gensim.models.keyedvectors.Vocab at 0x7f1bb03dfa58>,\n",
              " 'bargain': <gensim.models.keyedvectors.Vocab at 0x7f1bb03df780>,\n",
              " 'poorer': <gensim.models.keyedvectors.Vocab at 0x7f1bb03df4a8>,\n",
              " 'child': <gensim.models.keyedvectors.Vocab at 0x7f1bb03df8d0>,\n",
              " 'From': <gensim.models.keyedvectors.Vocab at 0x7f1bb03dfcc0>,\n",
              " 'expense': <gensim.models.keyedvectors.Vocab at 0x7f1bb03dff98>,\n",
              " 'relieved': <gensim.models.keyedvectors.Vocab at 0x7f1bb03dfb70>,\n",
              " 'boy': <gensim.models.keyedvectors.Vocab at 0x7f1bb03df080>,\n",
              " 'additional': <gensim.models.keyedvectors.Vocab at 0x7f1bb03df940>,\n",
              " 'softening': <gensim.models.keyedvectors.Vocab at 0x7f1bb03dfe48>,\n",
              " 'lingering': <gensim.models.keyedvectors.Vocab at 0x7f1bb03dfc50>,\n",
              " 'illness': <gensim.models.keyedvectors.Vocab at 0x7f1bb03df978>,\n",
              " 'reconciliation': <gensim.models.keyedvectors.Vocab at 0x7f1bb03df6a0>,\n",
              " 'kindred': <gensim.models.keyedvectors.Vocab at 0x7f1bb03df470>,\n",
              " 'offered': <gensim.models.keyedvectors.Vocab at 0x7f1bb03df710>,\n",
              " 'charge': <gensim.models.keyedvectors.Vocab at 0x7f1bb03df400>,\n",
              " 'Frank': <gensim.models.keyedvectors.Vocab at 0x7f1bb03df358>,\n",
              " 'decease': <gensim.models.keyedvectors.Vocab at 0x7f1bb03dfba8>,\n",
              " 'scruples': <gensim.models.keyedvectors.Vocab at 0x7f1bb03dfac8>,\n",
              " 'reluctance': <gensim.models.keyedvectors.Vocab at 0x7f1bb03df198>,\n",
              " 'supposed': <gensim.models.keyedvectors.Vocab at 0x7f1bb03dfd30>,\n",
              " 'overcome': <gensim.models.keyedvectors.Vocab at 0x7f1bb03df048>,\n",
              " 'considerations': <gensim.models.keyedvectors.Vocab at 0x7f1bb03df320>,\n",
              " 'wealth': <gensim.models.keyedvectors.Vocab at 0x7f1bb03df5c0>,\n",
              " 'seek': <gensim.models.keyedvectors.Vocab at 0x7f1bb03df908>,\n",
              " 'improve': <gensim.models.keyedvectors.Vocab at 0x7f1bb03df1d0>,\n",
              " 'complete': <gensim.models.keyedvectors.Vocab at 0x7f1bb03dff28>,\n",
              " 'became': <gensim.models.keyedvectors.Vocab at 0x7f1bb03df7b8>,\n",
              " 'desirable': <gensim.models.keyedvectors.Vocab at 0x7f1bb03df6d8>,\n",
              " 'quitted': <gensim.models.keyedvectors.Vocab at 0x7f1bb03dfcf8>,\n",
              " 'trade': <gensim.models.keyedvectors.Vocab at 0x7f1bb0344ac8>,\n",
              " 'established': <gensim.models.keyedvectors.Vocab at 0x7f1bb0344828>,\n",
              " 'favourable': <gensim.models.keyedvectors.Vocab at 0x7f1bb0344c50>,\n",
              " ...}"
            ]
          },
          "metadata": {
            "tags": []
          },
          "execution_count": 41
        }
      ]
    },
    {
      "cell_type": "code",
      "metadata": {
        "id": "2lorKTqi5LM2",
        "colab_type": "code",
        "colab": {}
      },
      "source": [
        "tsne = TSNE(n_components=2, n_iter=1000)"
      ],
      "execution_count": 0,
      "outputs": []
    },
    {
      "cell_type": "code",
      "metadata": {
        "id": "bPr-ES9e5cus",
        "colab_type": "code",
        "colab": {}
      },
      "source": [
        "X_2d = tsne.fit_transform(X)"
      ],
      "execution_count": 0,
      "outputs": []
    },
    {
      "cell_type": "code",
      "metadata": {
        "id": "9qRqkylN5m3j",
        "colab_type": "code",
        "colab": {}
      },
      "source": [
        ""
      ],
      "execution_count": 0,
      "outputs": []
    }
  ]
}